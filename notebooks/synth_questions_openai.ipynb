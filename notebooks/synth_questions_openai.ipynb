{
 "cells": [
  {
   "cell_type": "code",
   "execution_count": null,
   "metadata": {},
   "outputs": [],
   "source": [
    "from openai import OpenAI\n",
    "import pandas as pd\n",
    "import openpyxl\n",
    "import pyarrow as pa\n",
    "import pyarrow.parquet as pq"
   ]
  },
  {
   "cell_type": "code",
   "execution_count": null,
   "metadata": {},
   "outputs": [],
   "source": [
    "file = pd.ExcelFile('data_for_db_corrections.xlsx')  \n",
    "df_excel = pd.read_excel(file, \"Sheet1\")"
   ]
  },
  {
   "cell_type": "code",
   "execution_count": null,
   "metadata": {},
   "outputs": [],
   "source": [
    "df_excel.info()"
   ]
  },
  {
   "cell_type": "code",
   "execution_count": null,
   "metadata": {},
   "outputs": [],
   "source": [
    "answers = df_excel['Ответ из БЗ'].tolist()\n",
    "display(answers[:5])"
   ]
  },
  {
   "cell_type": "code",
   "execution_count": null,
   "metadata": {},
   "outputs": [],
   "source": [
    "prompts = [x + '\\ОТВЕТ: {answer}' for x in ['У тебя есть ответ. Придумай вопрос, для которого этот ответ правильный и адекватный.',\n",
    "'У тебя есть ответ. Придумай вопрос, для которого этот ответ правильный и адекватный, который мог бы задать подросток.',\n",
    "'У тебя есть ответ. Придумай вопрос, для которого этот ответ правильный и адекватный, который мог бы задать сильно занятой человек.',\n",
    "'У тебя есть ответ. Придумай вопрос, для которого этот ответ правильный и адекватный, который мог бы задать начинающий блогер.',\n",
    "'У тебя есть ответ. Придумай вопрос, для которого этот ответ правильный и адекватный, который могла бы задать домохозяйка.']]"
   ]
  },
  {
   "cell_type": "code",
   "execution_count": null,
   "metadata": {},
   "outputs": [],
   "source": [
    "client = OpenAI(api_key = '')\n",
    "def complete(query: str, instruction: str):\n",
    "    completion = client.chat.completions.create(\n",
    "        model=\"gpt-4o-mini\",\n",
    "        temperature=1,\n",
    "        messages=[\n",
    "            {\"role\": \"system\", \"content\": instruction},\n",
    "            {\"role\": \"user\", \"content\": query}\n",
    "        ]\n",
    "    )\n",
    "    return completion.choices[0].message.content"
   ]
  },
  {
   "cell_type": "code",
   "execution_count": null,
   "metadata": {},
   "outputs": [],
   "source": [
    "synth_questions = []"
   ]
  },
  {
   "cell_type": "code",
   "execution_count": null,
   "metadata": {},
   "outputs": [],
   "source": [
    "for answer in answers:\n",
    "    new_questions = []\n",
    "    new_questions.append(answer)\n",
    "    for prompt in prompts:\n",
    "        new_questions.append(complete(answer, prompt))\n",
    "    synth_questions.append(new_questions)"
   ]
  },
  {
   "cell_type": "code",
   "execution_count": null,
   "metadata": {},
   "outputs": [],
   "source": [
    "synth_questions"
   ]
  },
  {
   "cell_type": "code",
   "execution_count": null,
   "metadata": {},
   "outputs": [],
   "source": [
    "custom_columns = ['Ответ из БЗ', 'Синт. вопрос 1', 'Синт. вопрос 2', 'Синт. вопрос 3', 'Синт. вопрос 4', 'Синт. вопрос 5']\n",
    "df = pd.DataFrame(synth_questions, columns = custom_columns)"
   ]
  },
  {
   "cell_type": "code",
   "execution_count": null,
   "metadata": {},
   "outputs": [],
   "source": [
    "df.info()"
   ]
  },
  {
   "cell_type": "code",
   "execution_count": null,
   "metadata": {},
   "outputs": [],
   "source": [
    "df_excel = df_excel.drop(df_excel.columns[[0]], axis=1)\n",
    "df = df.drop(df.columns[[0]], axis=1)"
   ]
  },
  {
   "cell_type": "code",
   "execution_count": null,
   "metadata": {},
   "outputs": [],
   "source": [
    "synth_q_from_a = df_excel.join(df, how='left', sort=False)"
   ]
  },
  {
   "cell_type": "code",
   "execution_count": null,
   "metadata": {},
   "outputs": [],
   "source": [
    "synth_q_from_a.describe()"
   ]
  },
  {
   "cell_type": "code",
   "execution_count": null,
   "metadata": {},
   "outputs": [],
   "source": [
    "table = pa.Table.from_pandas(synth_q_from_a)\n",
    "pq.write_table(table, 'corrections_with_synth_questions_from_answer' + '.parquet')"
   ]
  }
 ],
 "metadata": {
  "kernelspec": {
   "display_name": "Python 3 (ipykernel)",
   "language": "python",
   "name": "python3"
  },
  "language_info": {
   "codemirror_mode": {
    "name": "ipython",
    "version": 3
   },
   "file_extension": ".py",
   "mimetype": "text/x-python",
   "name": "python",
   "nbconvert_exporter": "python",
   "pygments_lexer": "ipython3",
   "version": "3.11.9"
  }
 },
 "nbformat": 4,
 "nbformat_minor": 4
}
