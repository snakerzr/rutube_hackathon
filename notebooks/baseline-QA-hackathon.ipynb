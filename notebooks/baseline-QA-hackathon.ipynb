{
 "cells": [
  {
   "cell_type": "markdown",
   "id": "8661fd5a-7585-4afe-9f0e-2b8cf7235ffa",
   "metadata": {},
   "source": [
    "## Baseline для хакатона Rutube по задаче «Интеллектуальный помощник оператора службы поддержки»\n",
    "\n",
    "В рамках данного ноутбука мы рассмотрим наивный подход к решению поставленной задачи с помощью векторного поиска. Также в конце есть пример того, как поднять REST API для предоставления доступа к работающему сервису."
   ]
  },
  {
   "cell_type": "code",
   "execution_count": 1,
   "id": "b11744a0-706b-4257-b3e3-8b8d3e82f9ad",
   "metadata": {
    "scrolled": true
   },
   "outputs": [],
   "source": [
    "# Для запуска этого Jupyter notebook не забудьте установить необходимые пакеты:\n",
    "\n",
    "# !pip install pandas openpyxl sentence-transformers fastapi uvicorn"
   ]
  },
  {
   "cell_type": "code",
   "execution_count": 2,
   "id": "74c63c6c-5393-4200-b3ae-91b54579819b",
   "metadata": {},
   "outputs": [],
   "source": [
    "import warnings\n",
    "warnings.filterwarnings('ignore')\n",
    "from collections import defaultdict\n",
    "\n",
    "import pandas as pd"
   ]
  },
  {
   "cell_type": "markdown",
   "id": "fa3aad0c-20aa-4ae4-bf74-657625c631b1",
   "metadata": {},
   "source": [
    "## FAQ: Часто задаваемые вопросы RUTUBE"
   ]
  },
  {
   "cell_type": "code",
   "execution_count": 3,
   "id": "4b5425c1-2f2b-465b-81ac-a95a1cf5a165",
   "metadata": {},
   "outputs": [
    {
     "data": {
      "text/html": [
       "<div>\n",
       "<style scoped>\n",
       "    .dataframe tbody tr th:only-of-type {\n",
       "        vertical-align: middle;\n",
       "    }\n",
       "\n",
       "    .dataframe tbody tr th {\n",
       "        vertical-align: top;\n",
       "    }\n",
       "\n",
       "    .dataframe thead th {\n",
       "        text-align: right;\n",
       "    }\n",
       "</style>\n",
       "<table border=\"1\" class=\"dataframe\">\n",
       "  <thead>\n",
       "    <tr style=\"text-align: right;\">\n",
       "      <th></th>\n",
       "      <th>Тема</th>\n",
       "      <th>Вопрос из БЗ</th>\n",
       "      <th>Ответ из БЗ</th>\n",
       "      <th>Классификатор 1 уровня</th>\n",
       "      <th>Классификатор 2 уровня</th>\n",
       "    </tr>\n",
       "  </thead>\n",
       "  <tbody>\n",
       "    <tr>\n",
       "      <th>0</th>\n",
       "      <td>Что нельзя публиковать на RUTUBE</td>\n",
       "      <td>Что нельзя публиковать на RUTUBE?</td>\n",
       "      <td>Чужой контент без разрешения автора или правоо...</td>\n",
       "      <td>МОДЕРАЦИЯ</td>\n",
       "      <td>Отклонение/блокировка видео</td>\n",
       "    </tr>\n",
       "    <tr>\n",
       "      <th>1</th>\n",
       "      <td>Почему могут отключить монетизацию на видео и ...</td>\n",
       "      <td>Почему могут отключить монетизацию из-за автор...</td>\n",
       "      <td>Монетизация может отключиться, если на вашем к...</td>\n",
       "      <td>МОНЕТИЗАЦИЯ</td>\n",
       "      <td>Отключение/подключение монетизации</td>\n",
       "    </tr>\n",
       "    <tr>\n",
       "      <th>2</th>\n",
       "      <td>Почему могут отключить монетизацию на видео и ...</td>\n",
       "      <td>Почему могут отключить монетизацию из-за искус...</td>\n",
       "      <td>Монетизация на RUTUBE зависит в том числе от к...</td>\n",
       "      <td>МОНЕТИЗАЦИЯ</td>\n",
       "      <td>Отключение/подключение монетизации</td>\n",
       "    </tr>\n",
       "    <tr>\n",
       "      <th>3</th>\n",
       "      <td>Почему могут отключить монетизацию на видео и ...</td>\n",
       "      <td>Для каких статусов доступна монетизация, и поч...</td>\n",
       "      <td>Монетизацию на RUTUBE можно подключить, если в...</td>\n",
       "      <td>МОНЕТИЗАЦИЯ</td>\n",
       "      <td>Отключение/подключение монетизации</td>\n",
       "    </tr>\n",
       "    <tr>\n",
       "      <th>4</th>\n",
       "      <td>Авторское право</td>\n",
       "      <td>Какой контент можно использовать для монетизац...</td>\n",
       "      <td>То, что вы создали сами: видео, которое вы сня...</td>\n",
       "      <td>МОНЕТИЗАЦИЯ</td>\n",
       "      <td>Отключение/подключение монетизации</td>\n",
       "    </tr>\n",
       "  </tbody>\n",
       "</table>\n",
       "</div>"
      ],
      "text/plain": [
       "                                                Тема  \\\n",
       "0                   Что нельзя публиковать на RUTUBE   \n",
       "1  Почему могут отключить монетизацию на видео и ...   \n",
       "2  Почему могут отключить монетизацию на видео и ...   \n",
       "3  Почему могут отключить монетизацию на видео и ...   \n",
       "4                                    Авторское право   \n",
       "\n",
       "                                        Вопрос из БЗ  \\\n",
       "0                  Что нельзя публиковать на RUTUBE?   \n",
       "1  Почему могут отключить монетизацию из-за автор...   \n",
       "2  Почему могут отключить монетизацию из-за искус...   \n",
       "3  Для каких статусов доступна монетизация, и поч...   \n",
       "4  Какой контент можно использовать для монетизац...   \n",
       "\n",
       "                                         Ответ из БЗ Классификатор 1 уровня  \\\n",
       "0  Чужой контент без разрешения автора или правоо...              МОДЕРАЦИЯ   \n",
       "1  Монетизация может отключиться, если на вашем к...            МОНЕТИЗАЦИЯ   \n",
       "2  Монетизация на RUTUBE зависит в том числе от к...            МОНЕТИЗАЦИЯ   \n",
       "3  Монетизацию на RUTUBE можно подключить, если в...            МОНЕТИЗАЦИЯ   \n",
       "4  То, что вы создали сами: видео, которое вы сня...            МОНЕТИЗАЦИЯ   \n",
       "\n",
       "               Классификатор 2 уровня  \n",
       "0         Отклонение/блокировка видео  \n",
       "1  Отключение/подключение монетизации  \n",
       "2  Отключение/подключение монетизации  \n",
       "3  Отключение/подключение монетизации  \n",
       "4  Отключение/подключение монетизации  "
      ]
     },
     "execution_count": 3,
     "metadata": {},
     "output_type": "execute_result"
    }
   ],
   "source": [
    "# считаем базу Часто задаваемых вопросов RUTUBE \n",
    "faq = pd.read_excel(\"01_База_знаний.xlsx\")\n",
    "faq.head()"
   ]
  },
  {
   "cell_type": "markdown",
   "id": "be146bcd-9287-4f33-bfb1-5c5021a6a05c",
   "metadata": {},
   "source": [
    "## Подбор ответа из базы FAQ с помощью косинусного сходства"
   ]
  },
  {
   "cell_type": "code",
   "execution_count": 4,
   "id": "3e29cf56-2f51-4dae-aa14-524da7ed4482",
   "metadata": {},
   "outputs": [],
   "source": [
    "from sentence_transformers import SentenceTransformer\n",
    "from sentence_transformers.util import cos_sim\n",
    "\n",
    "# С помощью модели извлечения embbeddings из текста получим embbeddings для всех вопросов из FAQ.\n",
    "# Веса модели можно найти по ссылке: https://huggingface.co/sentence-transformers/all-MiniLM-L6-v2\n",
    "model = SentenceTransformer(\"sentence-transformers/all-MiniLM-L6-v2\")\n",
    "faq_embeddings = model.encode(faq['Вопрос из БЗ'].values)"
   ]
  },
  {
   "cell_type": "code",
   "execution_count": 5,
   "id": "f39f6e1a-1ab1-4ee0-8c06-b366628ac60e",
   "metadata": {},
   "outputs": [
    {
     "data": {
      "text/plain": [
       "{'Тема': 'Общие вопросы',\n",
       " 'Вопрос из БЗ': 'Как сменить пароль?',\n",
       " 'Ответ из БЗ': 'Авторизуйтесь на RUTUBE, перейдите в свой профиль: https://rutube.ru/profile, нажмите «Изменить пароль» и следуйте подсказкам.',\n",
       " 'Классификатор 1 уровня': 'УПРАВЛЕНИЕ АККАУНТОМ',\n",
       " 'Классификатор 2 уровня': 'Персонализация'}"
      ]
     },
     "execution_count": 5,
     "metadata": {},
     "output_type": "execute_result"
    }
   ],
   "source": [
    "# Извлечем embbedding для пользовательского вопроса.\n",
    "question = \"Как поменять пароль?\"\n",
    "question_embedding = model.encode(question)\n",
    "\n",
    "# Вычислим косинусное сходство между пользовательским вопросом и каждым вопросом из FAQ.\n",
    "similarities = cos_sim(question_embedding, faq_embeddings)\n",
    "# Ответом будет вопрос из БЗ с максимальным косинусным сходством.\n",
    "anwer_data = faq.iloc[similarities.argmax().item()]  \n",
    "anwer_data.to_dict()"
   ]
  },
  {
   "cell_type": "markdown",
   "id": "deca3b40-73b5-4af4-8463-aad430c27662",
   "metadata": {},
   "source": [
    "## Подготовка REST API"
   ]
  },
  {
   "cell_type": "markdown",
   "id": "da86390d-d275-44ad-aa6a-b531244720dc",
   "metadata": {},
   "source": [
    "Итоговый сервис будет тестироваться через REST API тестовыми кейсами. Требования к REST API для участников таковы:\n",
    "\n",
    "1. REST API должен принимать данные в виде следующего JSON формата: {\"question\": \"Как изменить пароль?\"}.\n",
    "2. В ответ мы ожидаем данные в JSON формате: {\"answer\": \"Какой-то ответ\", \"class_1\": \"some_class\", \"class_2\": \"some_class\"}."
   ]
  },
  {
   "cell_type": "code",
   "execution_count": 6,
   "id": "5334fd6e-900e-41fe-a661-4aca900fc913",
   "metadata": {},
   "outputs": [],
   "source": [
    "import asyncio\n",
    "from fastapi import FastAPI\n",
    "from pydantic import BaseModel\n",
    "import uvicorn"
   ]
  },
  {
   "cell_type": "code",
   "execution_count": 7,
   "id": "5fd6db6e-ff82-471f-bf8e-1e1640bf7eae",
   "metadata": {},
   "outputs": [
    {
     "name": "stderr",
     "output_type": "stream",
     "text": [
      "INFO:     Started server process [405034]\n",
      "INFO:     Waiting for application startup.\n",
      "INFO:     Application startup complete.\n",
      "INFO:     Uvicorn running on http://0.0.0.0:8000 (Press CTRL+C to quit)\n"
     ]
    }
   ],
   "source": [
    "class Request(BaseModel):\n",
    "    question: str\n",
    "\n",
    "\n",
    "class Response(BaseModel):\n",
    "    answer: str\n",
    "    class_1: str\n",
    "    class_2: str\n",
    "\n",
    "app = FastAPI()\n",
    "\n",
    "\n",
    "@app.get(\"/\")\n",
    "def index():\n",
    "    return {\"text\": \"Интеллектуальный помощник оператора службы поддержки.\"}\n",
    "\n",
    "    \n",
    "@app.post(\"/predict\")\n",
    "async def predict_sentiment(request: Request):\n",
    "    question_embedding = model.encode(request.question)\n",
    "    similarities = cos_sim(question_embedding, faq_embeddings)\n",
    "    anwer_data = faq.iloc[similarities.argmax().item()]\n",
    "    response = Response(\n",
    "        answer=anwer_data['Ответ из БЗ'],\n",
    "        class_1=anwer_data['Классификатор 1 уровня'], # Классификатор оценивается опционально; при отсутствии можно задать константное значение.\n",
    "        class_2=anwer_data['Классификатор 2 уровня'], # Классификатор оценивается опционально; при отсутствии можно задать константное значение.\n",
    "    )\n",
    "    return response\n",
    "\n",
    "if __name__ == \"__main__\":\n",
    "    host = \"0.0.0.0\" # Сконфигурируйте host согласно настройкам вашего сервера.\n",
    "    config = uvicorn.Config(app, host=host, port=8000)\n",
    "    server = uvicorn.Server(config)\n",
    "    loop = asyncio.get_running_loop()\n",
    "    loop.create_task(server.serve())\n"
   ]
  },
  {
   "cell_type": "markdown",
   "id": "a732306e-d730-4c92-a610-bc5dd243866e",
   "metadata": {},
   "source": [
    "# Для проверки того, что REST API отвечает корректно, запустите данный код в отдельном ноутбуке или Python-скрипте."
   ]
  },
  {
   "cell_type": "raw",
   "id": "92d65b0c-e324-4b0c-9f6c-9dbc16f69015",
   "metadata": {},
   "source": [
    "import requests\n",
    "\n",
    "def check_api(url: str, data_json: dict = None) -> None:\n",
    "    \"\"\"\n",
    "    Checks that response is in the correct JSON format.\n",
    "    Args:\n",
    "        url (str): The URL of the service to check.\n",
    "        data_json (Optional[dict]): Data to post. Optional.\n",
    "    \"\"\"\n",
    "    if data_json is None:\n",
    "        data_json = {\"question\": \"Как сменить пароль?\"}\n",
    "    elif not isinstance(data_json, dict):\n",
    "        raise ValueError(\"The ``data_json`` must be in dict format.\")\n",
    "    elif not data_json.get(\"question\", None):\n",
    "        raise KeyError(\"The ``data_json'' must contain a ``question`` key.\")\n",
    "    resp = requests.post(url, json=data_json)\n",
    "    resp.raise_for_status()\n",
    "    answer_json = resp.json()\n",
    "    if all(name in answer_json for name in [\"answer\", \"class_1\", \"class_2\"]):\n",
    "        print(\"SUCCESSFUL. The service answer correctly.\")\n",
    "        print(\"Question: \", data_json['question'])\n",
    "        print(\"Answer: \", answer_json['answer'])\n",
    "        print(\"class_1: \", answer_json['class_1'])\n",
    "        print(\"class_2: \", answer_json['class_2'])\n",
    "    else:\n",
    "        raise ValueError('The answer is not in the correct format. The expected format is '\n",
    "                         '{\"answer\": \"...\", \"class_1\": \"...\", \"class_2\": \"...\"}.')\n",
    "\n",
    "check_api(\"http://0.0.0.0:8000/predict\")"
   ]
  },
  {
   "cell_type": "code",
   "execution_count": null,
   "id": "444404b6-5df1-43b2-85d6-ba30e4092937",
   "metadata": {},
   "outputs": [],
   "source": []
  }
 ],
 "metadata": {
  "kernelspec": {
   "display_name": "Python 3 (ipykernel)",
   "language": "python",
   "name": "python3"
  },
  "language_info": {
   "codemirror_mode": {
    "name": "ipython",
    "version": 3
   },
   "file_extension": ".py",
   "mimetype": "text/x-python",
   "name": "python",
   "nbconvert_exporter": "python",
   "pygments_lexer": "ipython3",
   "version": "3.10.12"
  }
 },
 "nbformat": 4,
 "nbformat_minor": 5
}
