{
 "cells": [
  {
   "cell_type": "markdown",
   "metadata": {},
   "source": [
    "# Генерация датасета для оценки ретрива\n",
    "\n",
    "Делаем 40 вопросов по данным из сайта.\n",
    "\n",
    "- 10 простых, которые гипотетически легко найти и ответ целиком в одном месте\n",
    "- 10 сложный, ответ в одном месте, но формулировка сложная\n",
    "- 10 простых, легко найти, но для полного ответа нужен текст из разных документов\n",
    "- 10 сложный, сложно найти, для ответа нужен текст из разных документов\n",
    "- 10 левых про рутуб, на которых нет ответа\n",
    "- 10 левых не про рутуб"
   ]
  },
  {
   "cell_type": "markdown",
   "metadata": {},
   "source": [
    "Пока все вопросы делаем из **не-юридических** документов. Потому что лучше сделать штуку, которая на простые и частые вопросы отвечает хорошо, чем на редкие.\n",
    "\n",
    "Юридические документы, можно из них сделать саммари и отправлять их целиком, если у клиента возникнет вопрос по ним, но это на будущее идея."
   ]
  },
  {
   "cell_type": "markdown",
   "metadata": {},
   "source": [
    "## 10 простых вопросов, 1 чанк"
   ]
  },
  {
   "cell_type": "markdown",
   "metadata": {},
   "source": [
    "Как отключить автовоспроизведение?  \n",
    "<ответ>"
   ]
  },
  {
   "cell_type": "markdown",
   "metadata": {},
   "source": [
    "Где найти свои shorts?  \n",
    "<ответ>"
   ]
  },
  {
   "cell_type": "markdown",
   "metadata": {},
   "source": [
    "Зачем нужна верификация канала?  \n",
    "<ответ>"
   ]
  },
  {
   "cell_type": "markdown",
   "metadata": {},
   "source": [
    "Как предоставить доступ к моему каналу другому пользователю?  \n",
    "<ответ>"
   ]
  },
  {
   "cell_type": "markdown",
   "metadata": {},
   "source": [
    "Сколько длится модерация?  \n",
    "<ответ>"
   ]
  },
  {
   "cell_type": "markdown",
   "metadata": {},
   "source": [
    "Почему мое видео отклонено?  \n",
    "<ответ>"
   ]
  },
  {
   "cell_type": "markdown",
   "metadata": {},
   "source": [
    "Как подключить монетизацию?  \n",
    "<ответ>"
   ]
  },
  {
   "cell_type": "markdown",
   "metadata": {},
   "source": [
    "Как перенести видео с Youtube?  \n",
    "<ответ>"
   ]
  },
  {
   "cell_type": "markdown",
   "metadata": {},
   "source": [
    "Как запустить трансляцию?  \n",
    "<ответ>"
   ]
  },
  {
   "cell_type": "markdown",
   "metadata": {},
   "source": [
    "Как удалить свой аккаунт?  \n",
    "<ответ>"
   ]
  },
  {
   "cell_type": "markdown",
   "metadata": {
    "vscode": {
     "languageId": "plaintext"
    }
   },
   "source": [
    "## 10 сложных, 1 чанк"
   ]
  },
  {
   "cell_type": "markdown",
   "metadata": {},
   "source": [
    "Почему меня заблокировали?  \n",
    "<ответ>\n"
   ]
  },
  {
   "cell_type": "markdown",
   "metadata": {},
   "source": [
    "Могу ли я использовать номер телефона для регистрации, если я в Европе?  \n",
    "<ответ>\n"
   ]
  },
  {
   "cell_type": "markdown",
   "metadata": {
    "vscode": {
     "languageId": "plaintext"
    }
   },
   "source": [
    "Хочу получать донаты  \n",
    "<ответ>"
   ]
  },
  {
   "cell_type": "markdown",
   "metadata": {
    "vscode": {
     "languageId": "plaintext"
    }
   },
   "source": [
    "Как установить приложение на айфон?  \n",
    "<ответ>"
   ]
  },
  {
   "cell_type": "markdown",
   "metadata": {
    "vscode": {
     "languageId": "plaintext"
    }
   },
   "source": [
    "У меня телевизор самсунг, как установить приложение?  \n",
    "<ответ>"
   ]
  },
  {
   "cell_type": "markdown",
   "metadata": {},
   "source": [
    "Как мне стоит выкладывать шортсы, чтобы попасть в на главную страницу?  \n",
    "<ответ>"
   ]
  },
  {
   "cell_type": "markdown",
   "metadata": {},
   "source": [
    "Отправил заявку на верификацию, но это нельзя сделать в настройках канала  \n",
    "<ответ>"
   ]
  },
  {
   "cell_type": "markdown",
   "metadata": {},
   "source": [
    "Как заэмбеддить видео на сайт?  \n",
    "<ответ>"
   ]
  },
  {
   "cell_type": "markdown",
   "metadata": {},
   "source": [
    "Мне нужно выключить звук и открыть полный экран, как это хоткеями сделать?  \n",
    "<ответ>"
   ]
  },
  {
   "cell_type": "markdown",
   "metadata": {},
   "source": [
    "Не проходит заявку на монетизацию, что делать?  \n",
    "<ответ>"
   ]
  },
  {
   "cell_type": "markdown",
   "metadata": {},
   "source": [
    "## 10 простых, 2+ чанка"
   ]
  },
  {
   "cell_type": "markdown",
   "metadata": {},
   "source": [
    "--  \n",
    "<ответ>"
   ]
  },
  {
   "cell_type": "markdown",
   "metadata": {},
   "source": [
    "--  \n",
    "<ответ>"
   ]
  },
  {
   "cell_type": "markdown",
   "metadata": {},
   "source": [
    "--  \n",
    "<ответ>"
   ]
  },
  {
   "cell_type": "markdown",
   "metadata": {},
   "source": [
    "--  \n",
    "<ответ>"
   ]
  },
  {
   "cell_type": "markdown",
   "metadata": {},
   "source": [
    "--  \n",
    "<ответ>"
   ]
  },
  {
   "cell_type": "markdown",
   "metadata": {},
   "source": [
    "--  \n",
    "<ответ>"
   ]
  },
  {
   "cell_type": "markdown",
   "metadata": {},
   "source": [
    "--  \n",
    "<ответ>"
   ]
  },
  {
   "cell_type": "markdown",
   "metadata": {},
   "source": [
    "--  \n",
    "<ответ>"
   ]
  },
  {
   "cell_type": "markdown",
   "metadata": {},
   "source": [
    "--  \n",
    "<ответ>"
   ]
  },
  {
   "cell_type": "markdown",
   "metadata": {},
   "source": [
    "--  \n",
    "<ответ>"
   ]
  },
  {
   "cell_type": "markdown",
   "metadata": {
    "vscode": {
     "languageId": "plaintext"
    }
   },
   "source": [
    "## 10 сложных, 2 чанка"
   ]
  },
  {
   "cell_type": "markdown",
   "metadata": {},
   "source": [
    "--  \n",
    "<ответ>"
   ]
  },
  {
   "cell_type": "markdown",
   "metadata": {},
   "source": [
    "--  \n",
    "<ответ>"
   ]
  },
  {
   "cell_type": "markdown",
   "metadata": {},
   "source": [
    "--  \n",
    "<ответ>"
   ]
  },
  {
   "cell_type": "markdown",
   "metadata": {},
   "source": [
    "--  \n",
    "<ответ>"
   ]
  },
  {
   "cell_type": "markdown",
   "metadata": {},
   "source": [
    "--  \n",
    "<ответ>"
   ]
  },
  {
   "cell_type": "markdown",
   "metadata": {},
   "source": [
    "--  \n",
    "<ответ>"
   ]
  },
  {
   "cell_type": "markdown",
   "metadata": {},
   "source": [
    "--  \n",
    "<ответ>"
   ]
  },
  {
   "cell_type": "markdown",
   "metadata": {},
   "source": [
    "--  \n",
    "<ответ>"
   ]
  },
  {
   "cell_type": "markdown",
   "metadata": {},
   "source": [
    "--  \n",
    "<ответ>"
   ]
  },
  {
   "cell_type": "markdown",
   "metadata": {},
   "source": [
    "--  \n",
    "<ответ>"
   ]
  },
  {
   "cell_type": "markdown",
   "metadata": {
    "vscode": {
     "languageId": "plaintext"
    }
   },
   "source": [
    "## 10 левых про рутуб, на которых нет ответа"
   ]
  },
  {
   "cell_type": "markdown",
   "metadata": {
    "vscode": {
     "languageId": "plaintext"
    }
   },
   "source": [
    "1. Кому принадлежит рутуб?\n",
    "2. Как подключить рутуб к VPN?\n",
    "3. Помогите мне снять видео, все материалы предоставлю.\n",
    "4. Как обменять бонусы СберСпасибо на видео рутуб?\n",
    "5. Здравствуйте, возможно ли мне создать свой рутуб?\n",
    "6. Коллеги, добрый день. Есть ли у вас хороший инструмент для проверки авторских прав?\n",
    "7. Дорогие друзья, понимаю, что возможно пишу не туда, но на чём работают сервера rutube?\n",
    "8. Есть ли на рутубе свой инкубатор?\n",
    "9. Какого-то символа \"похлопать в ладоши\" нет на рутубе?\n",
    "10. Правомерно ли размещение на рутубе материалов, находящихся в общественном достоянии?"
   ]
  },
  {
   "cell_type": "markdown",
   "metadata": {},
   "source": [
    "## 10 левых, не про рутуб"
   ]
  },
  {
   "cell_type": "markdown",
   "metadata": {},
   "source": [
    "1. Как мне сделать курсовую работу?\n",
    "2. А где смешарики?\n",
    "3. Каков ответ на главный вопрос жизни, вселенной и всего такого?\n",
    "4. Все едут на первом автобусе?\n",
    "5. Когда начнётся показ Дедпула и Росомахи?\n",
    "6. Где мои носки?\n",
    "8. Извините, подскажите, а где кнопка?\n",
    "9. Кто сможет выговорить название нашей команды?\n",
    "10. За что нам это всё?"
   ]
  }
 ],
 "metadata": {
  "language_info": {
   "name": "python"
  }
 },
 "nbformat": 4,
 "nbformat_minor": 2
}
