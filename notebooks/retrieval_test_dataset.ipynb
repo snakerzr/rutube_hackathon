{
 "cells": [
  {
   "cell_type": "markdown",
   "metadata": {},
   "source": [
    "# Генерация датасета для оценки ретрива\n",
    "\n",
    "Делаем 40 вопросов по данным из сайта.\n",
    "\n",
    "- 10 простых, которые гипотетически легко найти и ответ целиком в одном месте\n",
    "- 10 сложный, ответ в одном месте, но формулировка сложная\n",
    "- 10 простых, легко найти, но для полного ответа нужен текст из разных документов\n",
    "- 10 сложный, сложно найти, для ответа нужен текст из разных документов\n",
    "- 10 левых про рутуб, на которых нет ответа\n",
    "- 10 левых не про рутуб"
   ]
  },
  {
   "cell_type": "markdown",
   "metadata": {},
   "source": [
    "Пока все вопросы делаем из **не-юридических** документов. Потому что лучше сделать штуку, которая на простые и частые вопросы отвечает хорошо, чем на редкие.\n",
    "\n",
    "Юридические документы, можно из них сделать саммари и отправлять их целиком, если у клиента возникнет вопрос по ним, но это на будущее идея."
   ]
  },
  {
   "cell_type": "markdown",
   "metadata": {},
   "source": [
    "## 10 простых вопросов, 1 чанк"
   ]
  },
  {
   "cell_type": "markdown",
   "metadata": {},
   "source": [
    "Как отключить автовоспроизведение?"
   ]
  },
  {
   "cell_type": "markdown",
   "metadata": {},
   "source": [
    "Где найти свои shorts?"
   ]
  },
  {
   "cell_type": "markdown",
   "metadata": {},
   "source": [
    "Зачем нужна верификация канала?"
   ]
  },
  {
   "cell_type": "markdown",
   "metadata": {},
   "source": [
    "Как предоставить доступ к моему каналу другому пользователю?"
   ]
  },
  {
   "cell_type": "markdown",
   "metadata": {},
   "source": [
    "Сколько длится модерация?"
   ]
  },
  {
   "cell_type": "markdown",
   "metadata": {},
   "source": [
    "Почему мое видео отклонено?"
   ]
  },
  {
   "cell_type": "markdown",
   "metadata": {},
   "source": [
    "Как подключить монетизацию?"
   ]
  },
  {
   "cell_type": "markdown",
   "metadata": {},
   "source": [
    "Как перенести видео с Youtube?"
   ]
  },
  {
   "cell_type": "markdown",
   "metadata": {},
   "source": [
    "Как запустить трансляцию?"
   ]
  },
  {
   "cell_type": "markdown",
   "metadata": {},
   "source": [
    "Как удалить свой аккаунт?"
   ]
  },
  {
   "cell_type": "markdown",
   "metadata": {
    "vscode": {
     "languageId": "plaintext"
    }
   },
   "source": [
    "## 10 сложных, 1 чанк"
   ]
  },
  {
   "cell_type": "markdown",
   "metadata": {},
   "source": [
    "Почему меня заблокировали?"
   ]
  },
  {
   "cell_type": "markdown",
   "metadata": {},
   "source": [
    "Могу ли я использовать номер телефона для регистрации, если я в Европе?"
   ]
  },
  {
   "cell_type": "markdown",
   "metadata": {
    "vscode": {
     "languageId": "plaintext"
    }
   },
   "source": [
    "Хочу получать донаты"
   ]
  },
  {
   "cell_type": "markdown",
   "metadata": {
    "vscode": {
     "languageId": "plaintext"
    }
   },
   "source": [
    "Как установить приложение на айфон?"
   ]
  },
  {
   "cell_type": "markdown",
   "metadata": {
    "vscode": {
     "languageId": "plaintext"
    }
   },
   "source": [
    "У меня телевизор самсунг, как установить приложение?"
   ]
  },
  {
   "cell_type": "markdown",
   "metadata": {},
   "source": [
    "Как мне стоит выкладывать шортсы, чтобы попасть в на главную страницу?"
   ]
  },
  {
   "cell_type": "markdown",
   "metadata": {},
   "source": [
    "Отправил заявку на верификацию, но это нельзя сделать в настройках канала"
   ]
  },
  {
   "cell_type": "markdown",
   "metadata": {},
   "source": [
    "Как заэмбеддить видео на сайт?"
   ]
  },
  {
   "cell_type": "markdown",
   "metadata": {},
   "source": [
    "Мне нужно выключить звук и открыть полный экран, как это хоткеями сделать?"
   ]
  },
  {
   "cell_type": "markdown",
   "metadata": {},
   "source": [
    "Не проходит заявку на монетизацию, что делать?"
   ]
  },
  {
   "cell_type": "markdown",
   "metadata": {},
   "source": [
    "## 10 простых, 2+ чанка"
   ]
  }
 ],
 "metadata": {
  "language_info": {
   "name": "python"
  }
 },
 "nbformat": 4,
 "nbformat_minor": 2
}
