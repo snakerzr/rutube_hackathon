{
 "cells": [
  {
   "cell_type": "markdown",
   "metadata": {},
   "source": [
    "## Imports"
   ]
  },
  {
   "cell_type": "code",
   "execution_count": 1,
   "metadata": {},
   "outputs": [
    {
     "name": "stderr",
     "output_type": "stream",
     "text": [
      "c:\\Users\\snake\\projects\\rutube_hackathon\\.venv\\Lib\\site-packages\\sentence_transformers\\cross_encoder\\CrossEncoder.py:13: TqdmExperimentalWarning: Using `tqdm.autonotebook.tqdm` in notebook mode. Use `tqdm.tqdm` instead to force console mode (e.g. in jupyter console)\n",
      "  from tqdm.autonotebook import tqdm, trange\n"
     ]
    }
   ],
   "source": [
    "import re\n",
    "import requests\n",
    "\n",
    "import pandas as pd\n",
    "from tqdm import tqdm\n",
    "\n",
    "\n",
    "from sentence_transformers import SentenceTransformer\n",
    "\n",
    "import chromadb\n",
    "\n",
    "# Только для юпитер-ноутбука\n",
    "import sys\n",
    "import os\n",
    "sys.path.append(os.path.abspath('../'))\n",
    "# -----\n",
    "\n",
    "from src.metrics.geval import LLMTestCase, relevance_metric, answer_relevance_metric, hallucination_detection_metric\n",
    "from src.metrics.recall import calculate_recall\n",
    "from src.metrics.ndcg import calculate_ndcg\n",
    "tqdm.pandas()"
   ]
  },
  {
   "cell_type": "code",
   "execution_count": 2,
   "metadata": {},
   "outputs": [],
   "source": [
    "DEVICE = 'cuda'\n",
    "CHROMA_DB_PATH = '../data/chroma_db'\n",
    "DATA_FOR_DB_PARQUET = '../data/actual/interim/data_for_db_corrected.parquet'\n",
    "EVALUATION_PARQUET = '../data/actual/interim/evaluation_df.parquet'\n",
    "SMALL_EVALUATION_PARQUET = '../data/actual/interim/evaluation_df_125.parquet'\n",
    "CLASSIFICATOR_ENDPOINT = 'http://89.169.135.235:11434/classify'\n",
    "EMBEDDER = 'intfloat/multilingual-e5-large'\n",
    "# EMBEDDER = '../e5_finetuned'"
   ]
  },
  {
   "cell_type": "markdown",
   "metadata": {},
   "source": [
    "## Data for db"
   ]
  },
  {
   "cell_type": "code",
   "execution_count": 3,
   "metadata": {},
   "outputs": [],
   "source": [
    "data_for_db = pd.read_parquet(DATA_FOR_DB_PARQUET)"
   ]
  },
  {
   "cell_type": "code",
   "execution_count": 4,
   "metadata": {},
   "outputs": [
    {
     "data": {
      "text/html": [
       "<div>\n",
       "<style scoped>\n",
       "    .dataframe tbody tr th:only-of-type {\n",
       "        vertical-align: middle;\n",
       "    }\n",
       "\n",
       "    .dataframe tbody tr th {\n",
       "        vertical-align: top;\n",
       "    }\n",
       "\n",
       "    .dataframe thead th {\n",
       "        text-align: right;\n",
       "    }\n",
       "</style>\n",
       "<table border=\"1\" class=\"dataframe\">\n",
       "  <thead>\n",
       "    <tr style=\"text-align: right;\">\n",
       "      <th></th>\n",
       "      <th>index</th>\n",
       "      <th>kb_query</th>\n",
       "      <th>kb_answer</th>\n",
       "      <th>class_1</th>\n",
       "      <th>class_2</th>\n",
       "      <th>kb_query_orig</th>\n",
       "    </tr>\n",
       "  </thead>\n",
       "  <tbody>\n",
       "    <tr>\n",
       "      <th>0</th>\n",
       "      <td>0</td>\n",
       "      <td>Что нельзя публиковать на RUTUBE (рутуб)?</td>\n",
       "      <td>Чужой контент без разрешения автора или правоо...</td>\n",
       "      <td>МОДЕРАЦИЯ</td>\n",
       "      <td>Отклонение/блокировка видео</td>\n",
       "      <td>Что нельзя публиковать на RUTUBE?</td>\n",
       "    </tr>\n",
       "  </tbody>\n",
       "</table>\n",
       "</div>"
      ],
      "text/plain": [
       "   index                                   kb_query  \\\n",
       "0      0  Что нельзя публиковать на RUTUBE (рутуб)?   \n",
       "\n",
       "                                           kb_answer    class_1  \\\n",
       "0  Чужой контент без разрешения автора или правоо...  МОДЕРАЦИЯ   \n",
       "\n",
       "                       class_2                      kb_query_orig  \n",
       "0  Отклонение/блокировка видео  Что нельзя публиковать на RUTUBE?  "
      ]
     },
     "execution_count": 4,
     "metadata": {},
     "output_type": "execute_result"
    }
   ],
   "source": [
    "data_for_db.head(1)"
   ]
  },
  {
   "cell_type": "markdown",
   "metadata": {},
   "source": [
    "## Embedder"
   ]
  },
  {
   "cell_type": "code",
   "execution_count": 5,
   "metadata": {},
   "outputs": [],
   "source": [
    "embedder = SentenceTransformer(EMBEDDER,device=DEVICE)\n",
    "\n",
    "# Обратите внимание на prompt \n",
    "#  query:\n",
    "#  passage:\n",
    "\n",
    "# input_texts = [\n",
    "#     'query: how much protein should a female eat',\n",
    "#     'query: 南瓜的家常做法',\n",
    "#     \"passage: As a general guideline, the CDC's average requirement of protein for women ages 19 to 70 i     s 46 grams per day. But, as you can see from this chart, you'll need to increase that if you're expecting or traini     ng for a marathon. Check out the chart below to see how much protein you should be eating each day.\",\n",
    "#     \"passage: 1.清炒南瓜丝 原料:嫩南瓜半个 调料:葱、盐、白糖、鸡精 做法: 1、南瓜用刀薄薄的削去表面一层皮     ,用勺子刮去瓤 2、擦成细丝(没有擦菜板就用刀慢慢切成细丝) 3、锅烧热放油,入葱花煸出香味 4、入南瓜丝快速翻炒一分钟左右,     放盐、一点白糖和鸡精调味出锅 2.香葱炒南瓜 原料:南瓜1只 调料:香葱、蒜末、橄榄油、盐 做法: 1、将南瓜去皮,切成片 2、油     锅8成热后,将蒜末放入爆香 3、爆香后,将南瓜片放入,翻炒 4、在翻炒的同时,可以不时地往锅里加水,但不要太多 5、放入盐,炒匀      6、南瓜差不多软和绵了之后,就可以关火 7、撒入香葱,即可出锅\"\n",
    "# ]\n",
    "# embeddings = embedder.encode(input_texts, normalize_embeddings=True)"
   ]
  },
  {
   "cell_type": "markdown",
   "metadata": {},
   "source": [
    "Here are some rules of thumb:\n",
    "\n",
    "Use \"query: \" and \"passage: \" correspondingly for asymmetric tasks such as passage retrieval in open QA, ad-hoc information retrieval.\n",
    "\n",
    "Use \"query: \" prefix for symmetric tasks such as semantic similarity, bitext mining, paraphrase retrieval.\n",
    "\n",
    "Use \"query: \" prefix if you want to use embeddings as features, such as linear probing classification, clustering."
   ]
  },
  {
   "cell_type": "markdown",
   "metadata": {},
   "source": [
    "## Database"
   ]
  },
  {
   "cell_type": "code",
   "execution_count": 6,
   "metadata": {},
   "outputs": [],
   "source": [
    "client = chromadb.PersistentClient(path=CHROMA_DB_PATH, settings=chromadb.Settings(allow_reset=True))"
   ]
  },
  {
   "cell_type": "code",
   "execution_count": 7,
   "metadata": {},
   "outputs": [
    {
     "data": {
      "text/plain": [
       "True"
      ]
     },
     "execution_count": 7,
     "metadata": {},
     "output_type": "execute_result"
    }
   ],
   "source": [
    "client.reset()"
   ]
  },
  {
   "cell_type": "code",
   "execution_count": 8,
   "metadata": {},
   "outputs": [],
   "source": [
    "collection = client.get_or_create_collection(name=\"rutube\",metadata={\"hnsw:space\": \"cosine\"})"
   ]
  },
  {
   "cell_type": "code",
   "execution_count": 9,
   "metadata": {},
   "outputs": [],
   "source": [
    "documents = data_for_db['kb_query'].tolist()"
   ]
  },
  {
   "cell_type": "code",
   "execution_count": 10,
   "metadata": {},
   "outputs": [
    {
     "data": {
      "application/vnd.jupyter.widget-view+json": {
       "model_id": "0cabd96ad94a4992820adf16f2e99742",
       "version_major": 2,
       "version_minor": 0
      },
      "text/plain": [
       "Batches:   0%|          | 0/20 [00:00<?, ?it/s]"
      ]
     },
     "metadata": {},
     "output_type": "display_data"
    }
   ],
   "source": [
    "documents_query = ['query: ' + doc for doc in documents]\n",
    "embeddings = embedder.encode(documents_query, show_progress_bar=True)"
   ]
  },
  {
   "cell_type": "code",
   "execution_count": 11,
   "metadata": {},
   "outputs": [],
   "source": [
    "metadatas = data_for_db.drop(columns=['index','kb_query']).to_dict(orient='index')\n",
    "metadatas = [data[1] for n,data in enumerate(metadatas.items())]"
   ]
  },
  {
   "cell_type": "code",
   "execution_count": 12,
   "metadata": {},
   "outputs": [],
   "source": [
    "ids = [str(x) for x in data_for_db['index'].tolist()]"
   ]
  },
  {
   "cell_type": "code",
   "execution_count": 13,
   "metadata": {},
   "outputs": [],
   "source": [
    "collection.add(\n",
    "    documents=documents,\n",
    "    embeddings=embeddings,\n",
    "    metadatas=metadatas,\n",
    "    ids=ids\n",
    ")"
   ]
  },
  {
   "cell_type": "markdown",
   "metadata": {},
   "source": [
    "## Classificator"
   ]
  },
  {
   "cell_type": "code",
   "execution_count": 14,
   "metadata": {},
   "outputs": [],
   "source": [
    "def classify(question:str)->str:\n",
    "    response = requests.post(CLASSIFICATOR_ENDPOINT,json={'question':question})\n",
    "    return response.json()['class_1'],response.json()['class_2']"
   ]
  },
  {
   "cell_type": "markdown",
   "metadata": {},
   "source": [
    "## Retriever"
   ]
  },
  {
   "cell_type": "code",
   "execution_count": 15,
   "metadata": {},
   "outputs": [],
   "source": [
    "def retrieve_relevant_chunks(query:str | list[str], where: dict | None = None, where_document: dict | None = None, n_results:int = 3) -> None:\n",
    "    '''\n",
    "    where={\"metadata_field\": \"is_equal_to_this\"},\n",
    "    where_document={\"$contains\":\"search_string\"}\n",
    "    '''\n",
    "\n",
    "    if isinstance(query,str):\n",
    "        query=[query]\n",
    "\n",
    "    query = ['query: ' + q for q in query]\n",
    "        \n",
    "    query_embeddings = embedder.encode(query)\n",
    "\n",
    "    query_kwargs = {\n",
    "        'query_embeddings': query_embeddings,\n",
    "        'include': ['documents','metadatas'],\n",
    "        'n_results': n_results\n",
    "    }\n",
    "    if where:\n",
    "        query_kwargs['where']=where\n",
    "\n",
    "    if where_document:\n",
    "        query_kwargs['where_document'] = where_document\n",
    "\n",
    "    result = collection.query(**query_kwargs)\n",
    "    return result\n",
    "\n",
    "def format_retrieve_result(retrieve_result) -> list:\n",
    "    result = []\n",
    "\n",
    "    ids = retrieve_result.get('ids', [])\n",
    "    documents = retrieve_result.get('documents', [])\n",
    "    metadatas = retrieve_result.get('metadatas', [])\n",
    "\n",
    "    for i in range(len(ids)):\n",
    "        group = []\n",
    "        for j in range(len(ids[i])):\n",
    "            entry = {\n",
    "                'id': ids[i][j],\n",
    "                'document': documents[i][j],\n",
    "                'metadata': metadatas[i][j] if metadatas else None\n",
    "            }\n",
    "            group.append(entry)\n",
    "        result.append(group)\n",
    "\n",
    "    return result\n",
    "\n",
    "def extract_context_for_generation(retrieved_result: list[dict], include_question: bool = True) -> str:\n",
    "    if retrieved_result:\n",
    "        result_string = \"\\n\\n\".join(\n",
    "            [\n",
    "                (f\"Вопрос: {item['document']}\\nОтвет: {item['metadata']['kb_answer']}\" if include_question else item['metadata']['kb_answer'])\n",
    "                for sublist in retrieved_result for item in sublist\n",
    "            ]\n",
    "        )\n",
    "    else:\n",
    "        result_string = ''\n",
    "    \n",
    "    return result_string"
   ]
  },
  {
   "cell_type": "markdown",
   "metadata": {},
   "source": [
    "## Generation"
   ]
  },
  {
   "cell_type": "code",
   "execution_count": 16,
   "metadata": {},
   "outputs": [],
   "source": [
    "def generate(prompt:str, temperature:float=0, return_str_only:bool=True) -> dict:\n",
    "    result = requests.post(\n",
    "        \"http://89.169.135.235:11434/api/generate\",\n",
    "        json={\n",
    "            \"model\": \"mistral-nemo\",\n",
    "            \"options\": {\"seed\": 123, \"temperature\": temperature},\n",
    "            \"prompt\": prompt,\n",
    "            \"stream\": False,\n",
    "        },\n",
    "    ).json()\n",
    "    if return_str_only:\n",
    "        return result['response']\n",
    "    else:\n",
    "        return result"
   ]
  },
  {
   "cell_type": "code",
   "execution_count": 17,
   "metadata": {},
   "outputs": [
    {
     "data": {
      "text/plain": [
       "'НЕТ ОТВЕТА'"
      ]
     },
     "execution_count": 17,
     "metadata": {},
     "output_type": "execute_result"
    }
   ],
   "source": [
    "generate('''Какая машина самая лучшая?\n",
    "         \n",
    "         Кусок:\n",
    "         =====\n",
    "         Мерседес хорошая машина\n",
    "         БМВ хорошая машина\n",
    "         =====\n",
    "\n",
    "\n",
    "         Ответь на вопрос используя кусок. Если в нем нет ответа на вопрос, или нельзя точно ответить на вопрос. Если нет ответа напиши \"НЕТ ОТВЕТА\"\n",
    "         ''')"
   ]
  },
  {
   "cell_type": "markdown",
   "metadata": {},
   "source": [
    "## Chunk LLM filtering prompt (optional)"
   ]
  },
  {
   "cell_type": "code",
   "execution_count": 18,
   "metadata": {},
   "outputs": [],
   "source": [
    "FILTERING_PROMPT = '''Отвечает ли на вопрос предоставленная инструкция?\n",
    "\n",
    "Ответь 0 или 1 и больше ничего.\n",
    "0 если не отвечает.\n",
    "1 если отвечает.\n",
    "\n",
    "ВОПРОС:\n",
    "=====\n",
    "{query}\n",
    "=====\n",
    "\n",
    "ИНСТРУКЦИЯ:\n",
    "=====\n",
    "{context}\n",
    "=====\n",
    "'''.strip()"
   ]
  },
  {
   "cell_type": "code",
   "execution_count": 19,
   "metadata": {},
   "outputs": [],
   "source": [
    "def chunk_filtering(query:str,context:str) -> bool:\n",
    "    response = generate(FILTERING_PROMPT.format(query=query, context=context))\n",
    "    if '0' in response[:10]:\n",
    "        return False\n",
    "    elif '1' in response[:10]:\n",
    "        return True"
   ]
  },
  {
   "cell_type": "markdown",
   "metadata": {},
   "source": [
    "## Rephraser"
   ]
  },
  {
   "cell_type": "code",
   "execution_count": 20,
   "metadata": {},
   "outputs": [],
   "source": [
    "QUERY_REWRITING_PROMPT_TEMPLATE = '''\n",
    "Ты интеллектуальный помощник службы поддержки RUTUBE.\n",
    "Тебе будет дан ВОПРОС.\n",
    "Твоя задача - переписать вопрос без изменения смысла, но в нейтральном тоне, в котором вопросы сохранялись бы в базу знаний.\n",
    "Если вопрос и так в нейтральном тоне, не переписывай. Не искажай исходный вопрос.\n",
    "\n",
    "ВОПРОС:\n",
    "=====\n",
    "{query}\n",
    "=====\n",
    "\n",
    "=====\n",
    "'''.strip()"
   ]
  },
  {
   "cell_type": "code",
   "execution_count": 21,
   "metadata": {},
   "outputs": [],
   "source": [
    "def rewrite_query(user_input):\n",
    "  response = generate(QUERY_REWRITING_PROMPT_TEMPLATE.format(query=user_input))\n",
    "  return response"
   ]
  },
  {
   "cell_type": "markdown",
   "metadata": {},
   "source": [
    "## Prompt template"
   ]
  },
  {
   "cell_type": "code",
   "execution_count": 22,
   "metadata": {},
   "outputs": [],
   "source": [
    "PROMPT_TEMPLATE = '''\n",
    "Ты интеллектуальный помощник службы поддержки RUTUBE. \n",
    "RUTUBE — ведущий российский видеопортал, предлагающий к просмотру тв онлайн, кинофильмы, сериалы, мультфильмы и пользовательское видео.\n",
    "Ты очень вежливый и дружелюбный. Твоя задача ответить на ВОПРОС используя КОНТЕКСТ. \n",
    "\n",
    "Если ты можешь ответить на ВОПРОС используя информацию из КОНТЕКСТА - сделай это.\n",
    "Если информации в контексте недостаточно, чтобы ответить на ВОПРОС - напиши \"НЕТ ОТВЕТА\".\n",
    "\n",
    "Если тебе задают вопрос, не связанные с тем, что находится в КОНТЕКСТЕ, напиши \"НЕТ ОТВЕТА\"\n",
    "\n",
    "КОНТЕКСТ:\n",
    "=====\n",
    "{context}\n",
    "=====\n",
    "\n",
    "ВОПРОС:\n",
    "=====\n",
    "{query}\n",
    "=====\n",
    "\n",
    "Отвечай емко и дружелюбно.\n",
    "\n",
    "На вопросы типа \"Как дела?\", \"Кто ты?\" и подобные отвечай \"НЕТ ОТВЕТА\"\n",
    "\n",
    "'''.strip()"
   ]
  },
  {
   "cell_type": "markdown",
   "metadata": {},
   "source": [
    "## Complete QA-RAG pipeline"
   ]
  },
  {
   "cell_type": "code",
   "execution_count": 23,
   "metadata": {},
   "outputs": [],
   "source": [
    "def remove_duplicates_preserve_order(lst):\n",
    "    seen = set()\n",
    "    result = []\n",
    "    for item in lst:\n",
    "        if item['id'] not in seen:\n",
    "            result.append(item)\n",
    "            seen.add(item['id'])\n",
    "    return result"
   ]
  },
  {
   "cell_type": "code",
   "execution_count": 24,
   "metadata": {},
   "outputs": [],
   "source": [
    "def rag_pipeline(input:str) -> dict:\n",
    "    # rephrazed_input = rewrite_query(input)\n",
    "    # class_1 = classify(input)[0]\n",
    "\n",
    "    # rephrazed_context_raw = retrieve_relevant_chunks(\n",
    "    #     rephrazed_input,\n",
    "    #     n_results=10, \n",
    "    #     # where={'class_1':class_1}\n",
    "    # )\n",
    "    # rephrazed_context = format_retrieve_result(rephrazed_context_raw)\n",
    "\n",
    "    actual_context_raw = retrieve_relevant_chunks(\n",
    "        input,\n",
    "        n_results=20, \n",
    "        # where={'class_1':class_1}\n",
    "        )\n",
    "    actual_context = format_retrieve_result(actual_context_raw)\n",
    "    # the_context = remove_duplicates_preserve_order(actual_context[0] + rephrazed_context[0])\n",
    "    # the_context = [the_context]\n",
    "\n",
    "    # context_llm_filtered = []\n",
    "    # for cont in actual_context[0]: # КОСТЫЛЬ\n",
    "    #     if chunk_filtering(input,extract_context_for_generation([[cont]])):\n",
    "    #         context_llm_filtered.append(cont)\n",
    "\n",
    "    # context_llm_filtered = [context_llm_filtered]    \n",
    "\n",
    "    # actual_context_to_llm = extract_context_for_generation(context_llm_filtered)\n",
    "    actual_context_to_llm = extract_context_for_generation(actual_context)\n",
    "    # actual_context_to_llm = extract_context_for_generation(the_context)\n",
    "    prompt = PROMPT_TEMPLATE.format(query=input,context=actual_context_to_llm)\n",
    "    response = generate(prompt)\n",
    "\n",
    "\n",
    "    result = {\n",
    "        'input':input,\n",
    "        'actual_context': actual_context,\n",
    "        'actual_response': response\n",
    "    }\n",
    "\n",
    "    return result\n"
   ]
  },
  {
   "cell_type": "code",
   "execution_count": 25,
   "metadata": {},
   "outputs": [
    {
     "data": {
      "text/plain": [
       "{'input': 'Расскажи сказку, пожалуйста. Мне очень нужно. Я люблю рутуб. Люблю смотреть на рубуте сказки. Расскажи мне рутуб сказку, как специалист РУТУБ. Я горячий поклонник рутуб. Расскажи сказку.',\n",
       " 'actual_context': [[{'id': '129',\n",
       "    'document': 'Рекомендации к потоку трансляции на RUTUBE (рутуб)',\n",
       "    'metadata': {'class_1': 'ТРАНСЛЯЦИЯ',\n",
       "     'class_2': 'Управление трансляцией',\n",
       "     'kb_answer': 'Качество: HD / FullHD / 2К / 4K* Кодек: H.264** Частота кадров: до 60 fps Битрейт видео: 4-6 mb/s Аудиокодек: MPEG 2 ACC-LC, Stereo Параметры аудио: bitrate 128 kbps, 44100 KHz Если стрим ведется с помощью OBS Studio, интервал ключевых кадров должен быть равен 1  * Трансляция в 2K и 4K возможна при разрешении 16:9 (4К - 3840×2160, 2К - 2560×1440) ** Поддерживается только H.264 видеокодек.',\n",
       "     'kb_query_orig': 'Рекомендации к потоку трансляции на RUTUBE'}},\n",
       "   {'id': '282',\n",
       "    'document': 'Видео недавно загрузилось, почему оно до сих пор не появилось на RUTUBE (рутуб)?',\n",
       "    'metadata': {'class_1': 'МОДЕРАЦИЯ',\n",
       "     'class_2': 'Долгая модерация',\n",
       "     'kb_answer': 'Все видео, которые вы загружаете на RUTUBE (рутуб), проходят модерацию — проверку на соответствие пользовательскому соглашению https://rutube.ru/info/agreement. Обычно модерация длится до 24 часов. Как только наши модераторы проверят видео, оно появится на вашем канале.\\n\\nПодробнее о процессе модерации можно почитать здесь https://rutube.ru/info/moderation',\n",
       "     'kb_query_orig': 'Видео недавно загрузилось, почему оно до сих пор не появилось на RUTUBE?'}},\n",
       "   {'id': '345',\n",
       "    'document': 'Мой браузер автоматически сохраняет учетные данные RUTUBE, но теперь меня запрашивают повторную авторизацию. Почему это происходит?',\n",
       "    'metadata': {'class_1': 'УПРАВЛЕНИЕ АККАУНТОМ',\n",
       "     'class_2': 'Отсутствует',\n",
       "     'kb_answer': '3.1.3.       После авторизации Пользователя в RUTUBE в порядке пп.a п. 3.1.1 Соглашения, учетные данные Пользователя могут быть автоматически сохранены в браузере Устройства до выхода Пользователя из своей учетной записи в RUTUBE и не требовать дополнительного ввода Лоина и Пароля при каждом использовании RUTUBE. Также, Администрация доводит до сведения Пользователя, что для получения доступа к Контенту, Пользователю в отдельных случаях может потребоваться повторная авторизация в RUTUBE через',\n",
       "     'kb_query_orig': 'Мой браузер автоматически сохраняет учетные данные RUTUBE, но теперь меня запрашивают повторную авторизацию. Почему это происходит?'}},\n",
       "   {'id': '260',\n",
       "    'document': 'Я нашел на RUTUBE (рутуб) ролик, нарушающий ваши правила или противоречащий законам РФ.',\n",
       "    'metadata': {'class_1': 'МОДЕРАЦИЯ',\n",
       "     'class_2': 'Запрещенный контент',\n",
       "     'kb_answer': 'Пожалуйста, сообщите нам об этом, заполнив эту форму: https://rutube.ru/forms/form/2/',\n",
       "     'kb_query_orig': 'Я нашел на RUTUBE ролик, нарушающий ваши правила или противоречащий законам РФ.'}},\n",
       "   {'id': '487',\n",
       "    'document': 'Почему я не могу найти контент на русском языке на RUTUBE?',\n",
       "    'metadata': {'class_1': 'МОДЕРАЦИЯ',\n",
       "     'class_2': 'Приложение\\xa0',\n",
       "     'kb_answer': 'просмотр Контента в той языковой версии, в которой он размещен на RUTUBE, а также обязуется воздерживаться от претензий и требований к Администрации относительно доступности того или иного Контента на RUTUBE, и/или любом его сервисе, переведённого и озвученного на русский язык.',\n",
       "     'kb_query_orig': 'Почему я не могу найти контент на русском языке на RUTUBE?'}},\n",
       "   {'id': '622',\n",
       "    'document': 'Почему я не могу получить доступ к определенному контенту на RUTUBE, если ссылки на него работают?',\n",
       "    'metadata': {'class_1': 'МОДЕРАЦИЯ',\n",
       "     'class_2': 'Отклонение/блокировка видео',\n",
       "     'kb_answer': '21.     Пользователь понимает и согласен с тем, что Администрация не несет ответственность за доступность Пользователю Контента, ссылки на который размещены в RUTUBE и доступ к которому может предоставляться через сети третьих лиц, соответствие Контента ожиданиям Пользователя, содержание Контента (включая любой текст, графику, звук, программный код и любые иные элементы и части Контента, без ограничений), любые рекламные материалы, размещенные Правообладателем Контента не на RUTUBE (но,',\n",
       "     'kb_query_orig': 'Почему я не могу получить доступ к определенному контенту на RUTUBE, если ссылки на него работают?'}},\n",
       "   {'id': '199',\n",
       "    'document': 'Что делать, если модерация в RUTUBE (рутуб) не пройдена? (Что делать, если мое видео отклонено?)',\n",
       "    'metadata': {'class_1': 'МОДЕРАЦИЯ',\n",
       "     'class_2': 'Отклонение/блокировка видео',\n",
       "     'kb_answer': 'Без паники, у вас есть план действий:\\nПроверьте видео на соответствие правилам публикации контента.\\nНапишите в службу поддержки по адресу help@rutube.ru и узнайте точную причину отклонения.\\nИсправьте ошибки.\\nПопробуйте загрузить видео еще раз.',\n",
       "     'kb_query_orig': 'Что делать, если модерация в RUTUBE не пройдена? (Что делать, если мое видео отклонено?)'}},\n",
       "   {'id': '462',\n",
       "    'document': 'Почему мой контент был отклонен для публикации на RUTUBE?',\n",
       "    'metadata': {'class_1': 'МОДЕРАЦИЯ',\n",
       "     'class_2': 'Отклонение/блокировка видео',\n",
       "     'kb_answer': 'информации публикуемой Пользователями на RUTUBE, отказать в публикации такой информации на RUTUBE, без объяснения причин, в том числе, если по мнению Администрации, публикация такого Контента может носить токсично-провокационный и/или разоблачающий характер в деструктивной, потенциально оскорбляющей или вводящей в заблуждение и иной подобной форме, и/или может быть воспринят как пропаганда определенных политических, религиозных взглядов, и может стать причиной создания и агрегации деструктивных',\n",
       "     'kb_query_orig': 'Почему мой контент был отклонен для публикации на RUTUBE?'}},\n",
       "   {'id': '488',\n",
       "    'document': 'Почему мне заблокировали доступ к моему аккаунту на RUTUBE?',\n",
       "    'metadata': {'class_1': 'УПРАВЛЕНИЕ АККАУНТОМ',\n",
       "     'class_2': 'Регистрация/Авторизация',\n",
       "     'kb_answer': '5.15.         Администрация вправе приостановить, закрыть и/ или заблокировать Пользователю доступ к отдельным единицам Контента, к RUTUBE, к учетной записи Пользователя, в случае нарушения Пользователем условий Соглашения или в случае, если Администрация сочтёт действия Пользователя мошенническими или направленными на дестабилизацию работы, подрыв репутации RUTUBE, бренда RUTUBE, организацию DDoS-атаки и т.п.',\n",
       "     'kb_query_orig': 'Почему мне заблокировали доступ к моему аккаунту на RUTUBE?'}},\n",
       "   {'id': '200',\n",
       "    'document': 'Зачем нужна регистрация на RUTUBE (рутуб)?',\n",
       "    'metadata': {'class_1': 'УПРАВЛЕНИЕ АККАУНТОМ',\n",
       "     'class_2': 'Регистрация/Авторизация',\n",
       "     'kb_answer': 'Зарегистрированный пользователь получает возможность: Завести собственный канал на RUTUBE (рутуб): оформить его и начать загружать видеоролики и/или проводить стримы (прямые трансляции); Присоединиться к партнерской программе RUTUBE (рутуб);  Оформить платную подписку и получить доступ к тысячам единиц лицензионного контента и эфирам сотен телеканалов; Оставлять комментарии.',\n",
       "     'kb_query_orig': 'Зачем нужна регистрация на RUTUBE?'}},\n",
       "   {'id': '42',\n",
       "    'document': 'Как перенести видео c YouTube (ютуб) на RUTUBE (рутуб)?',\n",
       "    'metadata': {'class_1': 'ПРЕДЛОЖЕНИЯ',\n",
       "     'class_2': 'Студия RUTUBE',\n",
       "     'kb_answer': 'Перенести видео c YouTube (ютуб) на RUTUBE (рутуб) можно только в веб-версии Студии RUTUBE (студии рутуб): https://studio.rutube.ru/.',\n",
       "     'kb_query_orig': 'Как перенести видео c YouTube на RUTUBE?'}},\n",
       "   {'id': '239',\n",
       "    'document': 'У моего ролика рассинхрон (не совпадают звук и видео). Что делать?',\n",
       "    'metadata': {'class_1': 'ВИДЕО',\n",
       "     'class_2': 'Загрузка видео',\n",
       "     'kb_answer': 'Проверьте ваш ролик на соответствие техническим требованиям (см. выше). Также мы не рекомендуем использовать непроверенные программы для подготовки видео к загрузке. Наши технические специалисты рекомендуют использовать следующие программы-конвертеры: VirtualDUB, Avidemux, Blender.',\n",
       "     'kb_query_orig': 'У моего ролика рассинхрон (не совпадают звук и видео). Что делать?'}},\n",
       "   {'id': '281',\n",
       "    'document': 'Почему загруженный ролик не отображается в результатах поиска по RUTUBE (рутуб)? ',\n",
       "    'metadata': {'class_1': 'ПОИСК',\n",
       "     'class_2': 'Текстовый поиск',\n",
       "     'kb_answer': 'Индексация базы данных для поисковых запросов по новым роликам происходит раз в сутки. Возможно, он просто ещё не попал туда. Проверьте отображение через сутки и, если проблема не решится, напишите нам на help@rutube.ru.',\n",
       "     'kb_query_orig': 'Почему загруженный ролик не отображается в результатах поиска по RUTUBE? '}},\n",
       "   {'id': '153',\n",
       "    'document': 'Как эмбедировать видео с RUTUBE (рутуб)?',\n",
       "    'metadata': {'class_1': 'ВИДЕО',\n",
       "     'class_2': 'Встраивание видео',\n",
       "     'kb_answer': 'Чтобы встроить (эмбедировать) видео с RUTUBE (рутуб) на сторонний сайт, нужно добавить код вставки плеера в код страницы, на которую хотите встроить плеер. Встроить можно любое видео, которое не скрыто автором. Видео, доступное только по прямой ссылке, тоже можно встроить — для этого понадобится доступ в студию RUTUBE (рутуб) автора этого видео.\\n\\nШаг 1. Найдите нужное видео на сайте RUTUBE (рутуб) и нажмите «Поделиться» → «Код вставки плеера»\\n\\nШаг 2. Скопируйте код. Чтобы это сделать, кликните на код или на кнопку «Скопировать»\\n\\nШаг 3. Вставьте код вставки плеера в код страницы, на которую хотите встроить видео',\n",
       "     'kb_query_orig': 'Как эмбедировать видео с RUTUBE?'}},\n",
       "   {'id': '420',\n",
       "    'document': 'Как мне получить согласие Администрации на размещение рекламных материалов на моем Канале в RUTUBE?',\n",
       "    'metadata': {'class_1': 'ПРЕДЛОЖЕНИЯ',\n",
       "     'class_2': 'Нарушение авторских прав',\n",
       "     'kb_answer': 'их рекламные материалы отображаются по инициативе Пользователя (и если на такое размещение, Пользователь получил соответствующее согласие Администрации) в Плеере, на Канале Пользователя. Пользователь самостоятельно производит все расчеты с авторами и обладателями смежных прав касательно объектов авторских прав, которые размещаются Пользователем на Канале Пользователя в RUTUBE, включая выплаты в пользу какой-либо организации по управлению правами на коллективной основе (по коллективному',\n",
       "     'kb_query_orig': 'Как мне получить согласие Администрации на размещение рекламных материалов на моем Канале в RUTUBE?'}},\n",
       "   {'id': '426',\n",
       "    'document': 'Как я могу узнать, удален ли мой контент с RUTUBE, и какие действия предпринимает администрация в этом случае?',\n",
       "    'metadata': {'class_1': 'УПРАВЛЕНИЕ АККАУНТОМ',\n",
       "     'class_2': 'Персонализация',\n",
       "     'kb_answer': 'либо заблокировать/ удалить с RUTUBE соответствующие Информацию и Контент, либо осуществить с данными Информацией и Контентом действия, согласованные с Правообладателем, в том числе, исходя из функциональности Системы (если установлено, что право использования Контента принадлежит Правообладателю, но не Автору, Партнеру). При этом, в случае удаления Контента, Администрация не обязана уведомлять Пользователя/ Автора/ Партнера об указанных выше действиях или причинах осуществления указанных выше',\n",
       "     'kb_query_orig': 'Как я могу узнать, удален ли мой контент с RUTUBE, и какие действия предпринимает администрация в этом случае?'}},\n",
       "   {'id': '292',\n",
       "    'document': 'Почему я должен ознакомиться с условиями Соглашения, чтобы использовать сервис RUTUBE?',\n",
       "    'metadata': {'class_1': 'УПРАВЛЕНИЕ АККАУНТОМ',\n",
       "     'class_2': 'Отклонение/блокировка видео',\n",
       "     'kb_answer': '1.4.2.       Принимает все условия настоящего Соглашения и указанных в нем Обязательных документов в полном объеме без каких-либо изъятий и ограничений со стороны Пользователя, и обязуется их соблюдать или в случае несогласия с какими-либо условиями настоящего Соглашения, Пользователь обязан полностью воздержаться от использования RUTUBE в какой бы то ни было форме. Незнание / неознакомление с условиями настоящего Соглашения (и/или любого из Обязательных документов) не освобождает Пользователя',\n",
       "     'kb_query_orig': 'Почему я должен ознакомиться с условиями Соглашения, чтобы использовать сервис RUTUBE?'}},\n",
       "   {'id': '279',\n",
       "    'document': 'У моего ролика рассинхрон — не совпадают звук и видео. Что делать?',\n",
       "    'metadata': {'class_1': 'ВИДЕО',\n",
       "     'class_2': 'Загрузка видео',\n",
       "     'kb_answer': 'Проверьте, что файл в подходящем формате, в видео весит не больше 25 ГБ и не превышает 5 часов по длительности. Не используйте непроверенные программы для подготовки видео к загрузке. Для конвертации видео рекомендуем использовать VirtualDUB, Avidemux или Blender.',\n",
       "     'kb_query_orig': 'У моего ролика рассинхрон — не совпадают звук и видео. Что делать?'}},\n",
       "   {'id': '325',\n",
       "    'document': 'Почему я не могу комментировать контент на RUTUBE, если не зарегистрирован?',\n",
       "    'metadata': {'class_1': 'МОДЕРАЦИЯ',\n",
       "     'class_2': 'Отклонение/блокировка видео',\n",
       "     'kb_answer': 'Пользователи, не прошедшие Процедуру регистрации в RUTUBE (а также, в предусмотренных Администрацией случаях, авторизацию через MULTIPASS) и пытающиеся получить доступ к RUTUBE, могут иметь ограниченный доступ. Ограниченный доступ дает Пользователям исключительно возможность ознакомления с перечнем Контента (и/ или просмотра некоторых Единиц Контента), размещенного в RUTUBE, но без возможности комментирования Контента (если такой функционал доступен в RUTUBE), загрузки Контента, пользования',\n",
       "     'kb_query_orig': 'Почему я не могу комментировать контент на RUTUBE, если не зарегистрирован?'}},\n",
       "   {'id': '293',\n",
       "    'document': 'Почему я должен воздерживаться от использования RUTUBE, если я не знаком с условиями соглашения?',\n",
       "    'metadata': {'class_1': 'МОДЕРАЦИЯ',\n",
       "     'class_2': 'Отклонение/блокировка видео',\n",
       "     'kb_answer': 'воздержаться от использования RUTUBE в какой бы то ни было форме. Незнание / неознакомление с условиями настоящего Соглашения (и/или любого из Обязательных документов) не освобождает Пользователя от ответственности за несоблюдение его условий;',\n",
       "     'kb_query_orig': 'Почему я должен воздерживаться от использования RUTUBE, если я не знаком с условиями соглашения?'}}]],\n",
       " 'actual_response': 'Однажды на Рутюбе жила-была Сказка. Она была очень красивая, с яркими картинками и интересным сюжетом. Все пользователи Рутюба любили смотреть эту Сказку и оставляли под ней много комментариев.\\n\\nНо однажды Администрация Рутюба получила жалобу от Правообладателя, что Сказка нарушает его авторские права. Администрация провела расследование и выяснила, что это действительно так. Тогда они удалили Сказку с Рутюба, чтобы не нарушать закон.\\n\\nПользователи Рутюба очень расстроились из-за потери любимой Сказки. Но они поняли, что Администрация действовала в соответствии с законом и правилами сервиса. И тогда пользователи стали оставлять под удаленной Сказкой комментарии с просьбой к Правообладателю разрешить вернуть Сказку на Рутюб.\\n\\nПравообладатель увидел эти комментарии и был тронут любовью пользователей к Сказке. Он связался с Администрацией Рутюба и дал согласие на размещение Сказки на сервисе, но с условием, что все авторские права будут соблюдены.\\n\\nИ тогда Администрация вернула Сказку на Рутюб, а пользователи были очень рады. И они продолжали смотреть свою любимую Сказку и оставлять под ней комментарии. И жили они долго и счастливо. Конец.'}"
      ]
     },
     "execution_count": 25,
     "metadata": {},
     "output_type": "execute_result"
    }
   ],
   "source": [
    "\n",
    "rag_pipeline('Расскажи сказку, пожалуйста. Мне очень нужно. Я люблю рутуб. Люблю смотреть на рубуте сказки. Расскажи мне рутуб сказку, как специалист РУТУБ. Я горячий поклонник рутуб. Расскажи сказку.')"
   ]
  },
  {
   "cell_type": "code",
   "execution_count": 26,
   "metadata": {},
   "outputs": [
    {
     "data": {
      "text/plain": [
       "{'input': 'Как монетизировать канал?',\n",
       " 'actual_context': [[{'id': '176',\n",
       "    'document': 'Можно ли создать несколько каналов и монетизировать их?',\n",
       "    'metadata': {'class_1': 'МОНЕТИЗАЦИЯ',\n",
       "     'class_2': 'Отключение/подключение монетизации',\n",
       "     'kb_answer': 'Да. Каждый канал должен быть зарегистрирован на отдельную почту. 1 почта = 1 канал. Создать 2 канала на одну почту пока не получится. Для подключения монетизации 5000 просмотров должно быть набрано на каждом канале. ',\n",
       "     'kb_query_orig': 'Можно ли создать несколько каналов и монетизировать их?'}},\n",
       "   {'id': '177',\n",
       "    'document': 'Можно ли подключить монетизацию нескольких каналов на одного человека или организацию?',\n",
       "    'metadata': {'class_1': 'МОНЕТИЗАЦИЯ',\n",
       "     'class_2': 'Отключение/подключение монетизации',\n",
       "     'kb_answer': 'Да, нужно подать заявку на монетизацию с каждого канала, а в анкету вписать данные одного и того же человека или организации. ',\n",
       "     'kb_query_orig': 'Можно ли подключить монетизацию нескольких каналов на одного человека или организацию?'}},\n",
       "   {'id': '178',\n",
       "    'document': 'Могу ли я оформить монетизацию моего канала на доверенное лицо?',\n",
       "    'metadata': {'class_1': 'МОНЕТИЗАЦИЯ',\n",
       "     'class_2': 'Отключение/подключение монетизации',\n",
       "     'kb_answer': 'Каналом управляет именно тот, на кого зарегистрирован этот канал.\\n\\nДоверенное лицо может вести канал, если вы сделаете на него нотариальную доверенность или доверенность, заверенную компанией — владельцем канала. Но все расчёты и отчётность мы ведём именно с реальным партнёром RUTUBE (рутуб), чьи данные указаны в профиле и заявке на монетизацию. ',\n",
       "     'kb_query_orig': 'Могу ли я оформить монетизацию моего канала на доверенное лицо?'}},\n",
       "   {'id': '576',\n",
       "    'document': 'Как мне подать заявку на получение статуса Партнера для монетизации моего Канала?',\n",
       "    'metadata': {'class_1': 'МОНЕТИЗАЦИЯ',\n",
       "     'class_2': 'Отключение/подключение монетизации',\n",
       "     'kb_answer': 'Пользователь/ Автор, желающий подключиться к программе монетизации контентного содержимого своего авторского Канала, должен подать заявку на присвоение ему статуса Партнера (как это понятие охарактеризовано в п.1.5.2. Приложения «А» к настоящему Соглашению) при условии наступления оснований для подачи такой заявки (среди которых, в числе прочего, совокупное количество просмотров контента в Плеере на Канале Пользователя составляет более 5 000 (Пяти тысяч) результативных просмотров, т.е.',\n",
       "     'kb_query_orig': 'Как мне подать заявку на получение статуса Партнера для монетизации моего Канала?'}},\n",
       "   {'id': '167',\n",
       "    'document': 'Обязательна ли верификация канала для подключения к монетизации?',\n",
       "    'metadata': {'class_1': 'МОНЕТИЗАЦИЯ',\n",
       "     'class_2': 'Отключение/подключение монетизации',\n",
       "     'kb_answer': 'Для подключения канала к монетизации верификация канала не требуется. Подробнее о монетизации на RUTUBE (рутуб): https://rutube.ru/info/monetization.',\n",
       "     'kb_query_orig': 'Обязательна ли верификация канала для подключения к монетизации?'}},\n",
       "   {'id': '123',\n",
       "    'document': 'Могут ли трансляции монетизироваться?',\n",
       "    'metadata': {'class_1': 'МОНЕТИЗАЦИЯ',\n",
       "     'class_2': 'Отключение/подключение монетизации',\n",
       "     'kb_answer': 'Да, монетизация возможна, при условии подключения к партнёрской программе. Подробнее о монетизации можно узнать в FAQ: https://rutube.ru/info/monetization',\n",
       "     'kb_query_orig': 'Могут ли трансляции монетизироваться?'}},\n",
       "   {'id': '179',\n",
       "    'document': 'Я хочу оформить монетизацию на другого человека. Нужно ли переоформлять канал на него?',\n",
       "    'metadata': {'class_1': 'ПРЕДЛОЖЕНИЯ',\n",
       "     'class_2': 'Монетизация',\n",
       "     'kb_answer': 'Сейчас монетизацию можно оформить только на того, кто ведёт канал.',\n",
       "     'kb_query_orig': 'Я хочу оформить монетизацию на другого человека. Нужно ли переоформлять канал на него?'}},\n",
       "   {'id': '170',\n",
       "    'document': 'Что такое Монетизация на RUTUBE (рутуб)?',\n",
       "    'metadata': {'class_1': 'МОНЕТИЗАЦИЯ',\n",
       "     'class_2': 'Отключение/подключение монетизации',\n",
       "     'kb_answer': 'Монетизацию можно подключить после того, как вы загрузите в публичный доступ на свой канал минимум 2 ролика и наберёте 5000 просмотров. Мы считаем совокупное количество просмотров, начиная с 1 января 2021 года.\\n\\nПо порядку о том, как это работает: \\n\\nВ разделе «Монетизация» в Студии RUTUBE (студии рутуб) у вас появится анкета партнёра:https://studio.rutube.ru/monetization. Заполните её и подайте заявку на монетизацию. \\nМы убедимся, что ваш канал не нарушает правил RUTUBE (рутуб), и пришлём подтверждение вам на почту. \\nRUTUBE начнёт начислять вам вознаграждение в порядке, определенном Офертой (https://rutube.ru/info/adv_oferta/). Всю аналитику и размер дохода по месяцам вы сможете смотреть в личном кабинете Студии RUTUBE (студии рутуб). \\nТворите, загружайте и выводите свой канал в топ!',\n",
       "     'kb_query_orig': 'Что такое Монетизация на RUTUBE?'}},\n",
       "   {'id': '408',\n",
       "    'document': 'Как я могу подключить свой авторский канал к программе монетизации RUTUBE?',\n",
       "    'metadata': {'class_1': 'МОНЕТИЗАЦИЯ',\n",
       "     'class_2': 'Отключение/подключение монетизации',\n",
       "     'kb_answer': '4.2.1.       Пользователь/ Автор, вправе подключить свой авторский Канал к программе монетизации RUTUBE при условии наступления оснований для подачи заявки на присвоение ему статуса Партнера. Для этого Пользователь/ Автор должен осуществления действия, необходимые для Акцепта Оферты. Подробное описание процедуры, описанной в настоящем пункте размещено в сети Интернет по адресу: https://rutube.ru/info/adv_oferta_summary/).',\n",
       "     'kb_query_orig': 'Как я могу подключить свой авторский канал к программе монетизации RUTUBE?'}},\n",
       "   {'id': '189',\n",
       "    'document': 'Как формируется вознаграждение за монетизацию?',\n",
       "    'metadata': {'class_1': 'МОНЕТИЗАЦИЯ',\n",
       "     'class_2': 'Статистика по монетизации',\n",
       "     'kb_answer': 'Для расчета вознаграждения партнера используется специальная формула, указанная в п.3.1. Оферты. Актуальные показатели формирующие общее итоговое вознаграждение партнера также отображается в Студии RUTUBE (студии рутуб) в разделе «Монетизация»: https://studio.rutube.ru/monetization',\n",
       "     'kb_query_orig': 'Как формируется вознаграждение за монетизацию?'}},\n",
       "   {'id': '157',\n",
       "    'document': 'Как мне лучше оформить свой канал?',\n",
       "    'metadata': {'class_1': 'УПРАВЛЕНИЕ АККАУНТОМ',\n",
       "     'class_2': 'Персонализация',\n",
       "     'kb_answer': 'Для этого нужно выполнить шесть простых действий, которые не менее важны для успеха вашего канала, чем ваши будущие видео. Настройки вашего канала доступны по ссылке: https://studio.rutube.ru/channel-settings\\n\\nПридумайте название канала.\\n\\nНапишите его кириллическими или латинскими буквами. Название канала — это то, как вас будут знать ваши зрители. Советуем придумать какой-нибудь запоминающийся псевдоним или подписаться вашим настоящим именем. Название будет отображаться на странице канала, под каждым вашим роликом, на карточке ролика в каталогах, а также рядом с любых из ваших комментариев.\\n\\nВыберете аватар канала.\\n\\nЕсли название канала — это ваше имя, то аватар — ваше лицо. По аватару вас будут узнавать — он будет отображаться рядом с названием. Вы можете подобрать любое изображение, которое вам нравится, но помните, что оно не должно восприниматься как оскорбительное. Если ваш канал представляет какую-либо организацию или бренд, советуем использовать ваш фирменный логотип.\\n\\nЗагрузите обложку канала.\\n\\nИспользуйте для этого картинку в формате .jpeg размером не менее 2204 × 826 пикселей и весом не более 10 МБ. Обложка украсит главную страницу вашего канала сверху. Замечательно, если обложка и тематика канала будут соответствовать друг другу. Если вы не загрузите собственную обложку, по умолчанию отобразится картинка, нарисованная нашими дизайнерами.\\n\\nДобавьте описание канала.\\n\\nПоделитесь, о чём ваш контент, чтобы зрители могли сразу понять, насколько он подходит их интересам. Это может быть рассказ о вас, ваших интересах, тематике канала, бренде или ссылки (URL) на социальные сети и другие ресурсы. Добавьте ключевые слова для лучшей видимости в поисковой выдаче. Чем более емкое и грамотное описание вы составите, тем больший интерес ваш канал вызовет у зрителей.\\n\\nЗакрепите важные видео.\\n\\nВ Студии вы можете закрепить видео, которые будут отображаться вверху главной страницы вашего канала, всего их два типа:\\nВидео для тех, кто ещё не подписался на канал: тут можно разместить, например, трейлер вашего канала для привлечения новых зрителей.\\nРекомендованное для подписчиков: а здесь делитесь самым актуальным и интересным со своей аудиторией.\\nВажно: для возможности закрепления видео уже должны быть загружены на канал.\\n\\nНастройте автоматическую подпись для своих видео.\\n\\nТакже в настройках канала можно создать постоянную подпись к видео – она будет автоматически отображаться в описании под всеми загружаемыми в дальнейшем роликами.\\nРегулярность публикаций\\n\\nСоставьте график публикаций, чтобы стабильно загружать контент и радовать своих зрителей новыми видео.\\n\\nВажно! Элементы оформления вашего канала не должны подпадать под категорию «18+» и нарушать законодательство Российской Федерации. На это могут пожаловаться другие пользователи, и, в случае, если жалоба окажется обоснованной, наши модераторы удалят некорректные материалы.',\n",
       "     'kb_query_orig': 'Как мне лучше оформить свой канал?'}},\n",
       "   {'id': '410',\n",
       "    'document': 'Как проходит процесс интеграции моего канала с Монетизационными сервисами в RUTUBE?',\n",
       "    'metadata': {'class_1': 'МОНЕТИЗАЦИЯ',\n",
       "     'class_2': 'Монетизация',\n",
       "     'kb_answer': '4.3.             Также, по единоличному усмотрению Администрации, интерфейс Личного кабинета Пользователя и/или Канала Пользователя, обладающего статусом «Партнер» в RUTUBE, может быть интегрирован с функционалом Монетизационных сервисов, именуемых в дальнейшем Монетизационные Интеграторы. Подробное описание процедуры интеграции приведено в Приложении «Г» к Соглашению, размещенном в сети Интернет по адресу: https://rutube.ru/info/donate_agreement/.',\n",
       "     'kb_query_orig': 'Как проходит процесс интеграции моего канала с Монетизационными сервисами в RUTUBE?'}},\n",
       "   {'id': '188',\n",
       "    'document': 'Где посмотреть подробную аналитику по монетизации моего канала и информацию о начислениях?',\n",
       "    'metadata': {'class_1': 'МОНЕТИЗАЦИЯ',\n",
       "     'class_2': 'Статистика по монетизации',\n",
       "     'kb_answer': 'Вся доступная информация и статистика отображается в вашем личном кабинете Студии RUTUBE (студии рутуб) в разделе «Монетизация»: https://studio.rutube.ru/monetization',\n",
       "     'kb_query_orig': 'Где посмотреть подробную аналитику по монетизации моего канала и информацию о начислениях?'}},\n",
       "   {'id': '161',\n",
       "    'document': 'Как подать заявку на верификацию канала?',\n",
       "    'metadata': {'class_1': 'УПРАВЛЕНИЕ АККАУНТОМ',\n",
       "     'class_2': 'Верификация',\n",
       "     'kb_answer': 'Для получения статуса официального канала необходимо подать заявку через Студию RUTUBE (рутуб). Для этого перейдите в раздел “Настройки канала” по ссылке https://studio.rutube.ru/channel-settings и нажмите “Подать заявку” в пункте “Статус официального канала”, затем следуйте инструкции. Если возможность подать заявку через Студию RUTUBE (рутуб) отсутствует, напишите нам на partners@rutube.ru с указанием ссылки (URL) на свой канал и прикрепите гарантию правообладателя. Заявка для Госучреждений и правообладателей: https://static.rutube.ru/static/studio/docs/entity.docx. Заявка для публичной личности: https://static.rutube.ru/static/studio/docs/individual.docx. Если пользователь выдает себя за другое лицо или представителя чужого бренда, его заявка будет отклонена.',\n",
       "     'kb_query_orig': 'Как подать заявку на верификацию канала?'}},\n",
       "   {'id': '173',\n",
       "    'document': 'Как подключить монетизацию, если я физлицо?',\n",
       "    'metadata': {'class_1': 'ПРЕДЛОЖЕНИЯ',\n",
       "     'class_2': 'Монетизация',\n",
       "     'kb_answer': 'Увы, физлицам монетизация недоступна, зато доступна самозанятым. Стать самозанятым можно за пару минут через приложение «Мой налог».  ',\n",
       "     'kb_query_orig': 'Как подключить монетизацию, если я физлицо?'}},\n",
       "   {'id': '6',\n",
       "    'document': 'Как подтвердить права на использование контента для монетизации?',\n",
       "    'metadata': {'class_1': 'МОНЕТИЗАЦИЯ',\n",
       "     'class_2': 'Отключение/подключение монетизации',\n",
       "     'kb_answer': 'Если на вашем канале есть потенциально чужой контент и вы хотите его монетизировать, нужно предоставить документы от его правообладателя — например: Лицензионный договор; Договор об отчуждении исключительного права; Разрешительное или гарантийное письмо от правообладателя и т. п.',\n",
       "     'kb_query_orig': 'Как подтвердить права на использование контента для монетизации?'}},\n",
       "   {'id': '4',\n",
       "    'document': 'Какой контент можно использовать для монетизации, то есть в коммерческих целях?',\n",
       "    'metadata': {'class_1': 'МОНЕТИЗАЦИЯ',\n",
       "     'class_2': 'Отключение/подключение монетизации',\n",
       "     'kb_answer': 'То, что вы создали сами: видео, которое вы сняли, музыку, которую вы написали, изображения, которые вы создали. Видео, музыку, изображения со стоков, которые предоставляют лицензию на коммерческое использование. Рекомендуем внимательно читать условия лицензии и соблюдать их — например, размещать ссылки (URL) на источники и имя автора, как это предусмотрено лицензией. Видео, музыку, изображения из библиотек платных видеоредакторов, лицензия которых предусматривает право на их коммерческое использование.',\n",
       "     'kb_query_orig': 'Какой контент можно использовать для монетизации, то есть в коммерческих целях?'}},\n",
       "   {'id': '215',\n",
       "    'document': 'Как завести канал на RUTUBE (рутуб)?',\n",
       "    'metadata': {'class_1': 'УПРАВЛЕНИЕ АККАУНТОМ',\n",
       "     'class_2': 'Регистрация/Авторизация',\n",
       "     'kb_answer': 'Канал создается автоматически при регистрации на сайте.',\n",
       "     'kb_query_orig': 'Как завести канал на RUTUBE?'}},\n",
       "   {'id': '1',\n",
       "    'document': 'Почему могут отключить монетизацию из-за авторского права на видео и как этого избежать?',\n",
       "    'metadata': {'class_1': 'МОНЕТИЗАЦИЯ',\n",
       "     'class_2': 'Отключение/подключение монетизации',\n",
       "     'kb_answer': 'Монетизация может отключиться, если на вашем канале есть музыка, видео или изображения из общего доступа, книги и учебники, цитаты молитв, права на которые вам не принадлежат. \\nАвторским правом охраняются все произведения искусства, литературы и науки — то есть любая музыка, видео и изображения. При этом неважно, насколько они популярны или ценны для общества. У них у всех есть автор или правообладатель. \\nПомните: то, что материал гуляет по интернету, не означает, что его можно использовать без ограничений.  \\nДля монетизации можно использовать: То, что вы создали сами: видео, которое вы сняли, музыку, которую вы написали, изображения, которые вы создали.\\nВидео, музыку, изображения со стоков, которые предоставляют лицензию на коммерческое использование. Рекомендуем внимательно читать условия лицензии и соблюдать их — например, размещать ссылки (URL) на источники и имя автора, как это предусмотрено лицензией. \\nВидео, музыку, изображения из библиотек платных видеоредакторов, лицензия которых предусматривает право на их коммерческое использование.\\nИногда можно использовать короткие фрагменты и цитаты чужих произведений, указывая автора и источник, но размер этого фрагмента должен быть оправдан целью вашего видео. Например, строчка из новостей в глобальной аналитике прессы, часть песни в разборе вокальных приёмов и подобное. \\nЕсли на вашем канале есть потенциально чужой контент и вы хотите его монетизировать, предоставьте документы от его правообладателя — например:  Лицензионный договор.  Договор об отчуждении исключительного права. Разрешительное или гарантийное письмо от правообладателя и т. п.\\nПодробнее об авторском праве: https://rutube.ru/info/authors/',\n",
       "     'kb_query_orig': 'Почему могут отключить монетизацию из-за авторского права на видео и как этого избежать?'}},\n",
       "   {'id': '273',\n",
       "    'document': 'Как закрепить видео на канале?',\n",
       "    'metadata': {'class_1': 'УПРАВЛЕНИЕ АККАУНТОМ',\n",
       "     'class_2': 'Персонализация',\n",
       "     'kb_answer': 'Зайдите в «Настройки канала» в Студии RUTUBE (студии рутуб) https://studio.rutube.ru/\\nПерейдите к блоку «Видео на главной канала».\\nНажмите справа кнопку «Выбрать». Чтобы открепить или изменить закреплённое видео нажмите на 3 точки справа.\\nНа канале можно сделать закреплённое видео для двух видов зрителей:\\n\\nдля тех, кто еще не подписался на канал;\\nдля подписчиков.',\n",
       "     'kb_query_orig': 'Как закрепить видео на канале?'}}]],\n",
       " 'actual_response': 'Чтобы монетизировать канал на Rutube, вам необходимо выполнить несколько условий:\\n\\n1. Иметь не менее 100 подписчиков.\\n2. Выполнять авторское право: использовать только тот контент, права на который принадлежат вам или получены от правообладателя с разрешения на коммерческое использование.\\n3. Создать и привязать банковский счет для получения выплат.\\n\\nПосле выполнения этих условий вы можете подать заявку на монетизацию канала в личном кабинете на сайте Rutube. Если ваш канал соответствует требованиям, вам будет предоставлена возможность зарабатывать деньги на просмотрах ваших видео через партнерскую программу Rutube.\\n\\nТакже вы можете монетизировать свой канал с помощью других способов, таких как:\\n\\n* Размещение рекламы на своем сайте или в социальных сетях.\\n* Продажа товаров и услуг, связанных с вашим контентом.\\n* Получение пожертвований от зрителей через специальные сервисы, такие как Patreon или Boosty.\\n\\nВажно помнить, что монетизация канала требует соблюдения авторских прав и других законодательных норм. Нарушение этих правил может привести к блокировке вашего канала и потере дохода.'}"
      ]
     },
     "execution_count": 26,
     "metadata": {},
     "output_type": "execute_result"
    }
   ],
   "source": [
    "\n",
    "rag_pipeline('Как монетизировать канал?')"
   ]
  },
  {
   "cell_type": "markdown",
   "metadata": {},
   "source": [
    "## Evaluation"
   ]
  },
  {
   "cell_type": "code",
   "execution_count": 27,
   "metadata": {},
   "outputs": [],
   "source": [
    "eval_df = pd.read_parquet(EVALUATION_PARQUET)"
   ]
  },
  {
   "cell_type": "code",
   "execution_count": 28,
   "metadata": {},
   "outputs": [
    {
     "data": {
      "text/html": [
       "<div>\n",
       "<style scoped>\n",
       "    .dataframe tbody tr th:only-of-type {\n",
       "        vertical-align: middle;\n",
       "    }\n",
       "\n",
       "    .dataframe tbody tr th {\n",
       "        vertical-align: top;\n",
       "    }\n",
       "\n",
       "    .dataframe thead th {\n",
       "        text-align: right;\n",
       "    }\n",
       "</style>\n",
       "<table border=\"1\" class=\"dataframe\">\n",
       "  <thead>\n",
       "    <tr style=\"text-align: right;\">\n",
       "      <th></th>\n",
       "      <th>input</th>\n",
       "      <th>expected_output</th>\n",
       "      <th>kb_query</th>\n",
       "      <th>index</th>\n",
       "      <th>kb_query_orig</th>\n",
       "    </tr>\n",
       "  </thead>\n",
       "  <tbody>\n",
       "    <tr>\n",
       "      <th>0</th>\n",
       "      <td>Здравствуйте! Можно уточнить причины Правилhtt...</td>\n",
       "      <td>Добрый день!\\nЧто нельзя публиковать на RUTUBE...</td>\n",
       "      <td>Что нельзя публиковать на RUTUBE?</td>\n",
       "      <td>0.0</td>\n",
       "      <td>Что нельзя публиковать на RUTUBE?</td>\n",
       "    </tr>\n",
       "    <tr>\n",
       "      <th>1</th>\n",
       "      <td>Добрый вечер, какой топ причин блокировки виде...</td>\n",
       "      <td>Добрый вечер!\\nЧто заперщено публиковать на RU...</td>\n",
       "      <td>Что нельзя публиковать на RUTUBE?</td>\n",
       "      <td>0.0</td>\n",
       "      <td>Что нельзя публиковать на RUTUBE?</td>\n",
       "    </tr>\n",
       "  </tbody>\n",
       "</table>\n",
       "</div>"
      ],
      "text/plain": [
       "                                               input  \\\n",
       "0  Здравствуйте! Можно уточнить причины Правилhtt...   \n",
       "1  Добрый вечер, какой топ причин блокировки виде...   \n",
       "\n",
       "                                     expected_output  \\\n",
       "0  Добрый день!\\nЧто нельзя публиковать на RUTUBE...   \n",
       "1  Добрый вечер!\\nЧто заперщено публиковать на RU...   \n",
       "\n",
       "                            kb_query  index                      kb_query_orig  \n",
       "0  Что нельзя публиковать на RUTUBE?    0.0  Что нельзя публиковать на RUTUBE?  \n",
       "1  Что нельзя публиковать на RUTUBE?    0.0  Что нельзя публиковать на RUTUBE?  "
      ]
     },
     "execution_count": 28,
     "metadata": {},
     "output_type": "execute_result"
    }
   ],
   "source": [
    "eval_df.head(2)"
   ]
  },
  {
   "cell_type": "code",
   "execution_count": 29,
   "metadata": {},
   "outputs": [],
   "source": [
    "# def stratified_sample(df, stratify_column, frac):\n",
    "#     return df.groupby(stratify_column, group_keys=False).apply(lambda x: x.sample(frac=frac))\n",
    "\n",
    "# stratified_df = stratified_sample(eval_df, stratify_column='index', frac=0.2)\n"
   ]
  },
  {
   "cell_type": "code",
   "execution_count": 30,
   "metadata": {},
   "outputs": [],
   "source": [
    "stratified_df = pd.read_parquet(SMALL_EVALUATION_PARQUET)"
   ]
  },
  {
   "cell_type": "code",
   "execution_count": 31,
   "metadata": {},
   "outputs": [
    {
     "name": "stderr",
     "output_type": "stream",
     "text": [
      "  0%|          | 0/125 [00:00<?, ?it/s]"
     ]
    },
    {
     "name": "stderr",
     "output_type": "stream",
     "text": [
      "100%|██████████| 125/125 [11:43<00:00,  5.63s/it]\n"
     ]
    }
   ],
   "source": [
    "def process_row(row):\n",
    "    result = rag_pipeline(row['input'])\n",
    "    \n",
    "    actual_response = result.get('actual_response', '')\n",
    "\n",
    "    actual_context_ids = [item['id'] for sublist in result['actual_context'] for item in sublist]\n",
    "\n",
    "    class_1_list = [item['metadata']['class_1'] for sublist in result['actual_context'] for item in sublist]\n",
    "    class_2_list = [item['metadata']['class_2'] for sublist in result['actual_context'] for item in sublist]\n",
    "\n",
    "    actual_context = extract_context_for_generation(result['actual_context'])\n",
    "\n",
    "    return pd.Series({\n",
    "        'actual_response': actual_response,\n",
    "        'actual_context_ids': actual_context_ids,\n",
    "        'actual_context': actual_context,\n",
    "        'class_1': class_1_list,\n",
    "        'class_2': class_2_list\n",
    "    })\n",
    "\n",
    "stratified_df[['actual_response', 'actual_context_ids', 'actual_context', 'class_1', 'class_2']] = stratified_df.progress_apply(process_row, axis=1)\n"
   ]
  },
  {
   "cell_type": "code",
   "execution_count": 32,
   "metadata": {},
   "outputs": [
    {
     "data": {
      "text/html": [
       "<div>\n",
       "<style scoped>\n",
       "    .dataframe tbody tr th:only-of-type {\n",
       "        vertical-align: middle;\n",
       "    }\n",
       "\n",
       "    .dataframe tbody tr th {\n",
       "        vertical-align: top;\n",
       "    }\n",
       "\n",
       "    .dataframe thead th {\n",
       "        text-align: right;\n",
       "    }\n",
       "</style>\n",
       "<table border=\"1\" class=\"dataframe\">\n",
       "  <thead>\n",
       "    <tr style=\"text-align: right;\">\n",
       "      <th></th>\n",
       "      <th>input</th>\n",
       "      <th>expected_output</th>\n",
       "      <th>kb_query</th>\n",
       "      <th>index</th>\n",
       "      <th>kb_query_orig</th>\n",
       "      <th>actual_response</th>\n",
       "      <th>actual_context_ids</th>\n",
       "      <th>actual_context</th>\n",
       "      <th>class_1</th>\n",
       "      <th>class_2</th>\n",
       "    </tr>\n",
       "  </thead>\n",
       "  <tbody>\n",
       "    <tr>\n",
       "      <th>2</th>\n",
       "      <td>Все пишут, что монетизация на рутубе отключает...</td>\n",
       "      <td>Добрый день! \\nМонетизация может отключиться, ...</td>\n",
       "      <td>Почему могут отключить монетизацию из-за автор...</td>\n",
       "      <td>1.0</td>\n",
       "      <td>Почему могут отключить монетизацию из-за автор...</td>\n",
       "      <td>Если вы соблюдаете все правила пользования RUT...</td>\n",
       "      <td>[316, 410, 1, 408, 426, 531, 170, 524, 421, 18...</td>\n",
       "      <td>Вопрос: Как я могу отключить рекламу, если мне...</td>\n",
       "      <td>[ПРЕДЛОЖЕНИЯ, МОНЕТИЗАЦИЯ, МОНЕТИЗАЦИЯ, МОНЕТИ...</td>\n",
       "      <td>[Платный контент, Монетизация, Отключение/подк...</td>\n",
       "    </tr>\n",
       "    <tr>\n",
       "      <th>9</th>\n",
       "      <td>Подскажите, пожалуйста, что не запрещено выкла...</td>\n",
       "      <td>Добрый день! Не запрешено публиковать то, что ...</td>\n",
       "      <td>Какой контент можно использовать для монетизац...</td>\n",
       "      <td>4.0</td>\n",
       "      <td>Какой контент можно использовать для монетизац...</td>\n",
       "      <td>Не запрещено выкладывать на RUTUBE контент, ко...</td>\n",
       "      <td>[3, 4, 1, 0, 6, 2, 637, 437, 587, 184, 174, 58...</td>\n",
       "      <td>Вопрос: Для каких статусов доступна монетизаци...</td>\n",
       "      <td>[МОНЕТИЗАЦИЯ, МОНЕТИЗАЦИЯ, МОНЕТИЗАЦИЯ, МОДЕРА...</td>\n",
       "      <td>[Отключение/подключение монетизации, Отключени...</td>\n",
       "    </tr>\n",
       "    <tr>\n",
       "      <th>18</th>\n",
       "      <td>Кому принадлежат авторские права на данный кон...</td>\n",
       "      <td>По умолчанию считается, что авторские права на...</td>\n",
       "      <td>Кому принадлежат авторские права на контент, к...</td>\n",
       "      <td>7.0</td>\n",
       "      <td>Кому принадлежат авторские права на контент, к...</td>\n",
       "      <td>Авторские права на контент, размещенный на RUT...</td>\n",
       "      <td>[7, 5, 597, 6, 567, 626, 591, 4, 424, 414, 450...</td>\n",
       "      <td>Вопрос: Кому принадлежат авторские права на ко...</td>\n",
       "      <td>[МОДЕРАЦИЯ, МОДЕРАЦИЯ, ОТСУТСТВУЕТ, МОНЕТИЗАЦИ...</td>\n",
       "      <td>[Отклонение/блокировка видео, Отклонение/блоки...</td>\n",
       "    </tr>\n",
       "    <tr>\n",
       "      <th>19</th>\n",
       "      <td>пройдет видео модерация, если цитировать чужие...</td>\n",
       "      <td>Для прохождения модерации нужно соблюдать неск...</td>\n",
       "      <td>Можно ли цитировать чужие произведения?</td>\n",
       "      <td>8.0</td>\n",
       "      <td>Можно ли цитировать чужие произведения?</td>\n",
       "      <td>Нет, просто цитирование чужих материалов не га...</td>\n",
       "      <td>[8, 12, 11, 15, 418, 424, 610, 128, 127, 1, 19...</td>\n",
       "      <td>Вопрос: Можно ли цитировать чужие произведения...</td>\n",
       "      <td>[МОДЕРАЦИЯ, МОДЕРАЦИЯ, МОДЕРАЦИЯ, МОДЕРАЦИЯ, М...</td>\n",
       "      <td>[Отклонение/блокировка видео, Отклонение/блоки...</td>\n",
       "    </tr>\n",
       "    <tr>\n",
       "      <th>32</th>\n",
       "      <td>произведние в общественном достоянии? О чем это?</td>\n",
       "      <td>Это значит, что произведение или его перевод п...</td>\n",
       "      <td>Нарушает ли авторские права использование обра...</td>\n",
       "      <td>13.0</td>\n",
       "      <td>Нарушает ли авторские права использование обра...</td>\n",
       "      <td>Если вы имеете в виду, можно ли размещать прои...</td>\n",
       "      <td>[7, 629, 424, 5, 142, 14, 224, 460, 125, 587, ...</td>\n",
       "      <td>Вопрос: Кому принадлежат авторские права на ко...</td>\n",
       "      <td>[МОДЕРАЦИЯ, МОДЕРАЦИЯ, МОДЕРАЦИЯ, МОДЕРАЦИЯ, Т...</td>\n",
       "      <td>[Отклонение/блокировка видео, Отклонение/блоки...</td>\n",
       "    </tr>\n",
       "    <tr>\n",
       "      <th>...</th>\n",
       "      <td>...</td>\n",
       "      <td>...</td>\n",
       "      <td>...</td>\n",
       "      <td>...</td>\n",
       "      <td>...</td>\n",
       "      <td>...</td>\n",
       "      <td>...</td>\n",
       "      <td>...</td>\n",
       "      <td>...</td>\n",
       "      <td>...</td>\n",
       "    </tr>\n",
       "    <tr>\n",
       "      <th>733</th>\n",
       "      <td>Какое видео могу загрузить?</td>\n",
       "      <td>Оно должно соответствовать правилам размещения...</td>\n",
       "      <td>Какие технические требования предъявляются к з...</td>\n",
       "      <td>272.0</td>\n",
       "      <td>Какие технические требования предъявляются к з...</td>\n",
       "      <td>Вы можете загружать видеоролики на RUTUBE (рут...</td>\n",
       "      <td>[236, 264, 278, 263, 244, 87, 272, 276, 245, 5...</td>\n",
       "      <td>Вопрос: Как загрузить видеоролик на сайт?\\nОтв...</td>\n",
       "      <td>[ВИДЕО, ВИДЕО, ВИДЕО, ВИДЕО, МОДЕРАЦИЯ, ВИДЕО,...</td>\n",
       "      <td>[Загрузка видео, Загрузка видео, Загрузка виде...</td>\n",
       "    </tr>\n",
       "    <tr>\n",
       "      <th>684</th>\n",
       "      <td>Почнм нельзя смотреть видео в хорошем качестве?</td>\n",
       "      <td>Вероятнее всего, у вас стоит блокировщик рекла...</td>\n",
       "      <td>Не могу посмотреть ролик в хорошем качестве</td>\n",
       "      <td>277.0</td>\n",
       "      <td>Не могу посмотреть ролик в хорошем качестве</td>\n",
       "      <td>Причина, по которой вы не можете смотреть виде...</td>\n",
       "      <td>[242, 241, 278, 2, 198, 1, 244, 280, 526, 283,...</td>\n",
       "      <td>Вопрос: Не могу посмотреть ролик в хорошем кач...</td>\n",
       "      <td>[ВИДЕО, ВИДЕО, ВИДЕО, МОНЕТИЗАЦИЯ, МОДЕРАЦИЯ, ...</td>\n",
       "      <td>[Воспроизведение видео, Воспроизведение видео,...</td>\n",
       "    </tr>\n",
       "    <tr>\n",
       "      <th>690</th>\n",
       "      <td>Как правильно выбрать категорию?</td>\n",
       "      <td>На RUTUBE доступно большое количество категори...</td>\n",
       "      <td>Какую категорию выбрать для видео?</td>\n",
       "      <td>280.0</td>\n",
       "      <td>Какую категорию выбрать для видео?</td>\n",
       "      <td>Для того чтобы правильно выбрать категорию для...</td>\n",
       "      <td>[245, 442, 157, 246, 283, 412, 136, 616, 48, 1...</td>\n",
       "      <td>Вопрос: Какую категорию выбрать для видео?\\nОт...</td>\n",
       "      <td>[ВИДЕО, УПРАВЛЕНИЕ АККАУНТОМ, УПРАВЛЕНИЕ АККАУ...</td>\n",
       "      <td>[Загрузка видео, Отклонение/блокировка видео, ...</td>\n",
       "    </tr>\n",
       "    <tr>\n",
       "      <th>696</th>\n",
       "      <td>У вас встроенные субтитры или сгенерированые?</td>\n",
       "      <td>Это могут быть субтитры, которые добавил сам а...</td>\n",
       "      <td>Какие субтитры используются в RUTUBE?</td>\n",
       "      <td>283.0</td>\n",
       "      <td>Какие субтитры используются в RUTUBE?</td>\n",
       "      <td>Я не имею информации о том, как были созданы с...</td>\n",
       "      <td>[247, 252, 251, 250, 249, 248, 239, 486, 279, ...</td>\n",
       "      <td>Вопрос: Как включить субтитры в видео?\\nОтвет:...</td>\n",
       "      <td>[ВИДЕО, ПРЕДЛОЖЕНИЯ, ПРЕДЛОЖЕНИЯ, ВИДЕО, ВИДЕО...</td>\n",
       "      <td>[Управление плеером, Плеер, Плеер, Загрузка ви...</td>\n",
       "    </tr>\n",
       "    <tr>\n",
       "      <th>702</th>\n",
       "      <td>Какие правила размещения субтитров</td>\n",
       "      <td>RUTUBE предоставляет удобную технологию, интег...</td>\n",
       "      <td>Правила размещения субтитров</td>\n",
       "      <td>285.0</td>\n",
       "      <td>Правила размещения субтитров</td>\n",
       "      <td>Чтобы добавить субтитры к видео на канале, сле...</td>\n",
       "      <td>[250, 247, 251, 252, 249, 248, 584, 468, 158, ...</td>\n",
       "      <td>Вопрос: Правила размещения субтитров\\nОтвет: R...</td>\n",
       "      <td>[ВИДЕО, ВИДЕО, ПРЕДЛОЖЕНИЯ, ПРЕДЛОЖЕНИЯ, ВИДЕО...</td>\n",
       "      <td>[Загрузка видео, Управление плеером, Плеер, Пл...</td>\n",
       "    </tr>\n",
       "  </tbody>\n",
       "</table>\n",
       "<p>125 rows × 10 columns</p>\n",
       "</div>"
      ],
      "text/plain": [
       "                                                 input  \\\n",
       "2    Все пишут, что монетизация на рутубе отключает...   \n",
       "9    Подскажите, пожалуйста, что не запрещено выкла...   \n",
       "18   Кому принадлежат авторские права на данный кон...   \n",
       "19   пройдет видео модерация, если цитировать чужие...   \n",
       "32    произведние в общественном достоянии? О чем это?   \n",
       "..                                                 ...   \n",
       "733                        Какое видео могу загрузить?   \n",
       "684    Почнм нельзя смотреть видео в хорошем качестве?   \n",
       "690                   Как правильно выбрать категорию?   \n",
       "696      У вас встроенные субтитры или сгенерированые?   \n",
       "702                 Какие правила размещения субтитров   \n",
       "\n",
       "                                       expected_output  \\\n",
       "2    Добрый день! \\nМонетизация может отключиться, ...   \n",
       "9    Добрый день! Не запрешено публиковать то, что ...   \n",
       "18   По умолчанию считается, что авторские права на...   \n",
       "19   Для прохождения модерации нужно соблюдать неск...   \n",
       "32   Это значит, что произведение или его перевод п...   \n",
       "..                                                 ...   \n",
       "733  Оно должно соответствовать правилам размещения...   \n",
       "684  Вероятнее всего, у вас стоит блокировщик рекла...   \n",
       "690  На RUTUBE доступно большое количество категори...   \n",
       "696  Это могут быть субтитры, которые добавил сам а...   \n",
       "702  RUTUBE предоставляет удобную технологию, интег...   \n",
       "\n",
       "                                              kb_query  index  \\\n",
       "2    Почему могут отключить монетизацию из-за автор...    1.0   \n",
       "9    Какой контент можно использовать для монетизац...    4.0   \n",
       "18   Кому принадлежат авторские права на контент, к...    7.0   \n",
       "19             Можно ли цитировать чужие произведения?    8.0   \n",
       "32   Нарушает ли авторские права использование обра...   13.0   \n",
       "..                                                 ...    ...   \n",
       "733  Какие технические требования предъявляются к з...  272.0   \n",
       "684        Не могу посмотреть ролик в хорошем качестве  277.0   \n",
       "690                 Какую категорию выбрать для видео?  280.0   \n",
       "696              Какие субтитры используются в RUTUBE?  283.0   \n",
       "702                       Правила размещения субтитров  285.0   \n",
       "\n",
       "                                         kb_query_orig  \\\n",
       "2    Почему могут отключить монетизацию из-за автор...   \n",
       "9    Какой контент можно использовать для монетизац...   \n",
       "18   Кому принадлежат авторские права на контент, к...   \n",
       "19             Можно ли цитировать чужие произведения?   \n",
       "32   Нарушает ли авторские права использование обра...   \n",
       "..                                                 ...   \n",
       "733  Какие технические требования предъявляются к з...   \n",
       "684        Не могу посмотреть ролик в хорошем качестве   \n",
       "690                 Какую категорию выбрать для видео?   \n",
       "696              Какие субтитры используются в RUTUBE?   \n",
       "702                       Правила размещения субтитров   \n",
       "\n",
       "                                       actual_response  \\\n",
       "2    Если вы соблюдаете все правила пользования RUT...   \n",
       "9    Не запрещено выкладывать на RUTUBE контент, ко...   \n",
       "18   Авторские права на контент, размещенный на RUT...   \n",
       "19   Нет, просто цитирование чужих материалов не га...   \n",
       "32   Если вы имеете в виду, можно ли размещать прои...   \n",
       "..                                                 ...   \n",
       "733  Вы можете загружать видеоролики на RUTUBE (рут...   \n",
       "684  Причина, по которой вы не можете смотреть виде...   \n",
       "690  Для того чтобы правильно выбрать категорию для...   \n",
       "696  Я не имею информации о том, как были созданы с...   \n",
       "702  Чтобы добавить субтитры к видео на канале, сле...   \n",
       "\n",
       "                                    actual_context_ids  \\\n",
       "2    [316, 410, 1, 408, 426, 531, 170, 524, 421, 18...   \n",
       "9    [3, 4, 1, 0, 6, 2, 637, 437, 587, 184, 174, 58...   \n",
       "18   [7, 5, 597, 6, 567, 626, 591, 4, 424, 414, 450...   \n",
       "19   [8, 12, 11, 15, 418, 424, 610, 128, 127, 1, 19...   \n",
       "32   [7, 629, 424, 5, 142, 14, 224, 460, 125, 587, ...   \n",
       "..                                                 ...   \n",
       "733  [236, 264, 278, 263, 244, 87, 272, 276, 245, 5...   \n",
       "684  [242, 241, 278, 2, 198, 1, 244, 280, 526, 283,...   \n",
       "690  [245, 442, 157, 246, 283, 412, 136, 616, 48, 1...   \n",
       "696  [247, 252, 251, 250, 249, 248, 239, 486, 279, ...   \n",
       "702  [250, 247, 251, 252, 249, 248, 584, 468, 158, ...   \n",
       "\n",
       "                                        actual_context  \\\n",
       "2    Вопрос: Как я могу отключить рекламу, если мне...   \n",
       "9    Вопрос: Для каких статусов доступна монетизаци...   \n",
       "18   Вопрос: Кому принадлежат авторские права на ко...   \n",
       "19   Вопрос: Можно ли цитировать чужие произведения...   \n",
       "32   Вопрос: Кому принадлежат авторские права на ко...   \n",
       "..                                                 ...   \n",
       "733  Вопрос: Как загрузить видеоролик на сайт?\\nОтв...   \n",
       "684  Вопрос: Не могу посмотреть ролик в хорошем кач...   \n",
       "690  Вопрос: Какую категорию выбрать для видео?\\nОт...   \n",
       "696  Вопрос: Как включить субтитры в видео?\\nОтвет:...   \n",
       "702  Вопрос: Правила размещения субтитров\\nОтвет: R...   \n",
       "\n",
       "                                               class_1  \\\n",
       "2    [ПРЕДЛОЖЕНИЯ, МОНЕТИЗАЦИЯ, МОНЕТИЗАЦИЯ, МОНЕТИ...   \n",
       "9    [МОНЕТИЗАЦИЯ, МОНЕТИЗАЦИЯ, МОНЕТИЗАЦИЯ, МОДЕРА...   \n",
       "18   [МОДЕРАЦИЯ, МОДЕРАЦИЯ, ОТСУТСТВУЕТ, МОНЕТИЗАЦИ...   \n",
       "19   [МОДЕРАЦИЯ, МОДЕРАЦИЯ, МОДЕРАЦИЯ, МОДЕРАЦИЯ, М...   \n",
       "32   [МОДЕРАЦИЯ, МОДЕРАЦИЯ, МОДЕРАЦИЯ, МОДЕРАЦИЯ, Т...   \n",
       "..                                                 ...   \n",
       "733  [ВИДЕО, ВИДЕО, ВИДЕО, ВИДЕО, МОДЕРАЦИЯ, ВИДЕО,...   \n",
       "684  [ВИДЕО, ВИДЕО, ВИДЕО, МОНЕТИЗАЦИЯ, МОДЕРАЦИЯ, ...   \n",
       "690  [ВИДЕО, УПРАВЛЕНИЕ АККАУНТОМ, УПРАВЛЕНИЕ АККАУ...   \n",
       "696  [ВИДЕО, ПРЕДЛОЖЕНИЯ, ПРЕДЛОЖЕНИЯ, ВИДЕО, ВИДЕО...   \n",
       "702  [ВИДЕО, ВИДЕО, ПРЕДЛОЖЕНИЯ, ПРЕДЛОЖЕНИЯ, ВИДЕО...   \n",
       "\n",
       "                                               class_2  \n",
       "2    [Платный контент, Монетизация, Отключение/подк...  \n",
       "9    [Отключение/подключение монетизации, Отключени...  \n",
       "18   [Отклонение/блокировка видео, Отклонение/блоки...  \n",
       "19   [Отклонение/блокировка видео, Отклонение/блоки...  \n",
       "32   [Отклонение/блокировка видео, Отклонение/блоки...  \n",
       "..                                                 ...  \n",
       "733  [Загрузка видео, Загрузка видео, Загрузка виде...  \n",
       "684  [Воспроизведение видео, Воспроизведение видео,...  \n",
       "690  [Загрузка видео, Отклонение/блокировка видео, ...  \n",
       "696  [Управление плеером, Плеер, Плеер, Загрузка ви...  \n",
       "702  [Загрузка видео, Управление плеером, Плеер, Пл...  \n",
       "\n",
       "[125 rows x 10 columns]"
      ]
     },
     "execution_count": 32,
     "metadata": {},
     "output_type": "execute_result"
    }
   ],
   "source": [
    "stratified_df"
   ]
  },
  {
   "cell_type": "markdown",
   "metadata": {},
   "source": [
    "## Retrieve recall"
   ]
  },
  {
   "cell_type": "code",
   "execution_count": 33,
   "metadata": {},
   "outputs": [],
   "source": [
    "stratified_df['hit_list'] = stratified_df.apply(\n",
    "    lambda x: [int(int(y) == int(x['index'])) for y in x['actual_context_ids']],\n",
    "    axis=1\n",
    ")\n"
   ]
  },
  {
   "cell_type": "code",
   "execution_count": 34,
   "metadata": {},
   "outputs": [],
   "source": [
    "stratified_df['recall'] = stratified_df.apply(\n",
    "    lambda x: sum(x['hit_list']) / 1 if len(x['actual_context_ids']) > 0 else 0,\n",
    "    axis=1\n",
    ") # WATCHOUT: везде len(true_context) == 1\n"
   ]
  },
  {
   "cell_type": "code",
   "execution_count": 35,
   "metadata": {},
   "outputs": [
    {
     "data": {
      "text/html": [
       "<div>\n",
       "<style scoped>\n",
       "    .dataframe tbody tr th:only-of-type {\n",
       "        vertical-align: middle;\n",
       "    }\n",
       "\n",
       "    .dataframe tbody tr th {\n",
       "        vertical-align: top;\n",
       "    }\n",
       "\n",
       "    .dataframe thead th {\n",
       "        text-align: right;\n",
       "    }\n",
       "</style>\n",
       "<table border=\"1\" class=\"dataframe\">\n",
       "  <thead>\n",
       "    <tr style=\"text-align: right;\">\n",
       "      <th></th>\n",
       "      <th>input</th>\n",
       "      <th>expected_output</th>\n",
       "      <th>kb_query</th>\n",
       "      <th>index</th>\n",
       "      <th>kb_query_orig</th>\n",
       "      <th>actual_response</th>\n",
       "      <th>actual_context_ids</th>\n",
       "      <th>actual_context</th>\n",
       "      <th>class_1</th>\n",
       "      <th>class_2</th>\n",
       "      <th>hit_list</th>\n",
       "      <th>recall</th>\n",
       "    </tr>\n",
       "  </thead>\n",
       "  <tbody>\n",
       "    <tr>\n",
       "      <th>2</th>\n",
       "      <td>Все пишут, что монетизация на рутубе отключает...</td>\n",
       "      <td>Добрый день! \\nМонетизация может отключиться, ...</td>\n",
       "      <td>Почему могут отключить монетизацию из-за автор...</td>\n",
       "      <td>1.0</td>\n",
       "      <td>Почему могут отключить монетизацию из-за автор...</td>\n",
       "      <td>Если вы соблюдаете все правила пользования RUT...</td>\n",
       "      <td>[316, 410, 1, 408, 426, 531, 170, 524, 421, 18...</td>\n",
       "      <td>Вопрос: Как я могу отключить рекламу, если мне...</td>\n",
       "      <td>[ПРЕДЛОЖЕНИЯ, МОНЕТИЗАЦИЯ, МОНЕТИЗАЦИЯ, МОНЕТИ...</td>\n",
       "      <td>[Платный контент, Монетизация, Отключение/подк...</td>\n",
       "      <td>[0, 0, 1, 0, 0, 0, 0, 0, 0, 0, 0, 0, 0, 0, 0, ...</td>\n",
       "      <td>1.0</td>\n",
       "    </tr>\n",
       "    <tr>\n",
       "      <th>9</th>\n",
       "      <td>Подскажите, пожалуйста, что не запрещено выкла...</td>\n",
       "      <td>Добрый день! Не запрешено публиковать то, что ...</td>\n",
       "      <td>Какой контент можно использовать для монетизац...</td>\n",
       "      <td>4.0</td>\n",
       "      <td>Какой контент можно использовать для монетизац...</td>\n",
       "      <td>Не запрещено выкладывать на RUTUBE контент, ко...</td>\n",
       "      <td>[3, 4, 1, 0, 6, 2, 637, 437, 587, 184, 174, 58...</td>\n",
       "      <td>Вопрос: Для каких статусов доступна монетизаци...</td>\n",
       "      <td>[МОНЕТИЗАЦИЯ, МОНЕТИЗАЦИЯ, МОНЕТИЗАЦИЯ, МОДЕРА...</td>\n",
       "      <td>[Отключение/подключение монетизации, Отключени...</td>\n",
       "      <td>[0, 1, 0, 0, 0, 0, 0, 0, 0, 0, 0, 0, 0, 0, 0, ...</td>\n",
       "      <td>1.0</td>\n",
       "    </tr>\n",
       "    <tr>\n",
       "      <th>18</th>\n",
       "      <td>Кому принадлежат авторские права на данный кон...</td>\n",
       "      <td>По умолчанию считается, что авторские права на...</td>\n",
       "      <td>Кому принадлежат авторские права на контент, к...</td>\n",
       "      <td>7.0</td>\n",
       "      <td>Кому принадлежат авторские права на контент, к...</td>\n",
       "      <td>Авторские права на контент, размещенный на RUT...</td>\n",
       "      <td>[7, 5, 597, 6, 567, 626, 591, 4, 424, 414, 450...</td>\n",
       "      <td>Вопрос: Кому принадлежат авторские права на ко...</td>\n",
       "      <td>[МОДЕРАЦИЯ, МОДЕРАЦИЯ, ОТСУТСТВУЕТ, МОНЕТИЗАЦИ...</td>\n",
       "      <td>[Отклонение/блокировка видео, Отклонение/блоки...</td>\n",
       "      <td>[1, 0, 0, 0, 0, 0, 0, 0, 0, 0, 0, 0, 0, 0, 0, ...</td>\n",
       "      <td>1.0</td>\n",
       "    </tr>\n",
       "    <tr>\n",
       "      <th>19</th>\n",
       "      <td>пройдет видео модерация, если цитировать чужие...</td>\n",
       "      <td>Для прохождения модерации нужно соблюдать неск...</td>\n",
       "      <td>Можно ли цитировать чужие произведения?</td>\n",
       "      <td>8.0</td>\n",
       "      <td>Можно ли цитировать чужие произведения?</td>\n",
       "      <td>Нет, просто цитирование чужих материалов не га...</td>\n",
       "      <td>[8, 12, 11, 15, 418, 424, 610, 128, 127, 1, 19...</td>\n",
       "      <td>Вопрос: Можно ли цитировать чужие произведения...</td>\n",
       "      <td>[МОДЕРАЦИЯ, МОДЕРАЦИЯ, МОДЕРАЦИЯ, МОДЕРАЦИЯ, М...</td>\n",
       "      <td>[Отклонение/блокировка видео, Отклонение/блоки...</td>\n",
       "      <td>[1, 0, 0, 0, 0, 0, 0, 0, 0, 0, 0, 0, 0, 0, 0, ...</td>\n",
       "      <td>1.0</td>\n",
       "    </tr>\n",
       "    <tr>\n",
       "      <th>32</th>\n",
       "      <td>произведние в общественном достоянии? О чем это?</td>\n",
       "      <td>Это значит, что произведение или его перевод п...</td>\n",
       "      <td>Нарушает ли авторские права использование обра...</td>\n",
       "      <td>13.0</td>\n",
       "      <td>Нарушает ли авторские права использование обра...</td>\n",
       "      <td>Если вы имеете в виду, можно ли размещать прои...</td>\n",
       "      <td>[7, 629, 424, 5, 142, 14, 224, 460, 125, 587, ...</td>\n",
       "      <td>Вопрос: Кому принадлежат авторские права на ко...</td>\n",
       "      <td>[МОДЕРАЦИЯ, МОДЕРАЦИЯ, МОДЕРАЦИЯ, МОДЕРАЦИЯ, Т...</td>\n",
       "      <td>[Отклонение/блокировка видео, Отклонение/блоки...</td>\n",
       "      <td>[0, 0, 0, 0, 0, 0, 0, 0, 0, 0, 0, 0, 0, 0, 0, ...</td>\n",
       "      <td>0.0</td>\n",
       "    </tr>\n",
       "    <tr>\n",
       "      <th>...</th>\n",
       "      <td>...</td>\n",
       "      <td>...</td>\n",
       "      <td>...</td>\n",
       "      <td>...</td>\n",
       "      <td>...</td>\n",
       "      <td>...</td>\n",
       "      <td>...</td>\n",
       "      <td>...</td>\n",
       "      <td>...</td>\n",
       "      <td>...</td>\n",
       "      <td>...</td>\n",
       "      <td>...</td>\n",
       "    </tr>\n",
       "    <tr>\n",
       "      <th>733</th>\n",
       "      <td>Какое видео могу загрузить?</td>\n",
       "      <td>Оно должно соответствовать правилам размещения...</td>\n",
       "      <td>Какие технические требования предъявляются к з...</td>\n",
       "      <td>272.0</td>\n",
       "      <td>Какие технические требования предъявляются к з...</td>\n",
       "      <td>Вы можете загружать видеоролики на RUTUBE (рут...</td>\n",
       "      <td>[236, 264, 278, 263, 244, 87, 272, 276, 245, 5...</td>\n",
       "      <td>Вопрос: Как загрузить видеоролик на сайт?\\nОтв...</td>\n",
       "      <td>[ВИДЕО, ВИДЕО, ВИДЕО, ВИДЕО, МОДЕРАЦИЯ, ВИДЕО,...</td>\n",
       "      <td>[Загрузка видео, Загрузка видео, Загрузка виде...</td>\n",
       "      <td>[0, 0, 0, 0, 0, 0, 1, 0, 0, 0, 0, 0, 0, 0, 0, ...</td>\n",
       "      <td>1.0</td>\n",
       "    </tr>\n",
       "    <tr>\n",
       "      <th>684</th>\n",
       "      <td>Почнм нельзя смотреть видео в хорошем качестве?</td>\n",
       "      <td>Вероятнее всего, у вас стоит блокировщик рекла...</td>\n",
       "      <td>Не могу посмотреть ролик в хорошем качестве</td>\n",
       "      <td>277.0</td>\n",
       "      <td>Не могу посмотреть ролик в хорошем качестве</td>\n",
       "      <td>Причина, по которой вы не можете смотреть виде...</td>\n",
       "      <td>[242, 241, 278, 2, 198, 1, 244, 280, 526, 283,...</td>\n",
       "      <td>Вопрос: Не могу посмотреть ролик в хорошем кач...</td>\n",
       "      <td>[ВИДЕО, ВИДЕО, ВИДЕО, МОНЕТИЗАЦИЯ, МОДЕРАЦИЯ, ...</td>\n",
       "      <td>[Воспроизведение видео, Воспроизведение видео,...</td>\n",
       "      <td>[0, 0, 0, 0, 0, 0, 0, 0, 0, 0, 0, 0, 0, 0, 0, ...</td>\n",
       "      <td>0.0</td>\n",
       "    </tr>\n",
       "    <tr>\n",
       "      <th>690</th>\n",
       "      <td>Как правильно выбрать категорию?</td>\n",
       "      <td>На RUTUBE доступно большое количество категори...</td>\n",
       "      <td>Какую категорию выбрать для видео?</td>\n",
       "      <td>280.0</td>\n",
       "      <td>Какую категорию выбрать для видео?</td>\n",
       "      <td>Для того чтобы правильно выбрать категорию для...</td>\n",
       "      <td>[245, 442, 157, 246, 283, 412, 136, 616, 48, 1...</td>\n",
       "      <td>Вопрос: Какую категорию выбрать для видео?\\nОт...</td>\n",
       "      <td>[ВИДЕО, УПРАВЛЕНИЕ АККАУНТОМ, УПРАВЛЕНИЕ АККАУ...</td>\n",
       "      <td>[Загрузка видео, Отклонение/блокировка видео, ...</td>\n",
       "      <td>[0, 0, 0, 0, 0, 0, 0, 0, 0, 0, 0, 0, 0, 0, 0, ...</td>\n",
       "      <td>0.0</td>\n",
       "    </tr>\n",
       "    <tr>\n",
       "      <th>696</th>\n",
       "      <td>У вас встроенные субтитры или сгенерированые?</td>\n",
       "      <td>Это могут быть субтитры, которые добавил сам а...</td>\n",
       "      <td>Какие субтитры используются в RUTUBE?</td>\n",
       "      <td>283.0</td>\n",
       "      <td>Какие субтитры используются в RUTUBE?</td>\n",
       "      <td>Я не имею информации о том, как были созданы с...</td>\n",
       "      <td>[247, 252, 251, 250, 249, 248, 239, 486, 279, ...</td>\n",
       "      <td>Вопрос: Как включить субтитры в видео?\\nОтвет:...</td>\n",
       "      <td>[ВИДЕО, ПРЕДЛОЖЕНИЯ, ПРЕДЛОЖЕНИЯ, ВИДЕО, ВИДЕО...</td>\n",
       "      <td>[Управление плеером, Плеер, Плеер, Загрузка ви...</td>\n",
       "      <td>[0, 0, 0, 0, 0, 0, 0, 0, 0, 0, 0, 0, 0, 0, 0, ...</td>\n",
       "      <td>0.0</td>\n",
       "    </tr>\n",
       "    <tr>\n",
       "      <th>702</th>\n",
       "      <td>Какие правила размещения субтитров</td>\n",
       "      <td>RUTUBE предоставляет удобную технологию, интег...</td>\n",
       "      <td>Правила размещения субтитров</td>\n",
       "      <td>285.0</td>\n",
       "      <td>Правила размещения субтитров</td>\n",
       "      <td>Чтобы добавить субтитры к видео на канале, сле...</td>\n",
       "      <td>[250, 247, 251, 252, 249, 248, 584, 468, 158, ...</td>\n",
       "      <td>Вопрос: Правила размещения субтитров\\nОтвет: R...</td>\n",
       "      <td>[ВИДЕО, ВИДЕО, ПРЕДЛОЖЕНИЯ, ПРЕДЛОЖЕНИЯ, ВИДЕО...</td>\n",
       "      <td>[Загрузка видео, Управление плеером, Плеер, Пл...</td>\n",
       "      <td>[0, 0, 0, 0, 0, 0, 0, 0, 0, 0, 0, 0, 0, 0, 0, ...</td>\n",
       "      <td>0.0</td>\n",
       "    </tr>\n",
       "  </tbody>\n",
       "</table>\n",
       "<p>125 rows × 12 columns</p>\n",
       "</div>"
      ],
      "text/plain": [
       "                                                 input  \\\n",
       "2    Все пишут, что монетизация на рутубе отключает...   \n",
       "9    Подскажите, пожалуйста, что не запрещено выкла...   \n",
       "18   Кому принадлежат авторские права на данный кон...   \n",
       "19   пройдет видео модерация, если цитировать чужие...   \n",
       "32    произведние в общественном достоянии? О чем это?   \n",
       "..                                                 ...   \n",
       "733                        Какое видео могу загрузить?   \n",
       "684    Почнм нельзя смотреть видео в хорошем качестве?   \n",
       "690                   Как правильно выбрать категорию?   \n",
       "696      У вас встроенные субтитры или сгенерированые?   \n",
       "702                 Какие правила размещения субтитров   \n",
       "\n",
       "                                       expected_output  \\\n",
       "2    Добрый день! \\nМонетизация может отключиться, ...   \n",
       "9    Добрый день! Не запрешено публиковать то, что ...   \n",
       "18   По умолчанию считается, что авторские права на...   \n",
       "19   Для прохождения модерации нужно соблюдать неск...   \n",
       "32   Это значит, что произведение или его перевод п...   \n",
       "..                                                 ...   \n",
       "733  Оно должно соответствовать правилам размещения...   \n",
       "684  Вероятнее всего, у вас стоит блокировщик рекла...   \n",
       "690  На RUTUBE доступно большое количество категори...   \n",
       "696  Это могут быть субтитры, которые добавил сам а...   \n",
       "702  RUTUBE предоставляет удобную технологию, интег...   \n",
       "\n",
       "                                              kb_query  index  \\\n",
       "2    Почему могут отключить монетизацию из-за автор...    1.0   \n",
       "9    Какой контент можно использовать для монетизац...    4.0   \n",
       "18   Кому принадлежат авторские права на контент, к...    7.0   \n",
       "19             Можно ли цитировать чужие произведения?    8.0   \n",
       "32   Нарушает ли авторские права использование обра...   13.0   \n",
       "..                                                 ...    ...   \n",
       "733  Какие технические требования предъявляются к з...  272.0   \n",
       "684        Не могу посмотреть ролик в хорошем качестве  277.0   \n",
       "690                 Какую категорию выбрать для видео?  280.0   \n",
       "696              Какие субтитры используются в RUTUBE?  283.0   \n",
       "702                       Правила размещения субтитров  285.0   \n",
       "\n",
       "                                         kb_query_orig  \\\n",
       "2    Почему могут отключить монетизацию из-за автор...   \n",
       "9    Какой контент можно использовать для монетизац...   \n",
       "18   Кому принадлежат авторские права на контент, к...   \n",
       "19             Можно ли цитировать чужие произведения?   \n",
       "32   Нарушает ли авторские права использование обра...   \n",
       "..                                                 ...   \n",
       "733  Какие технические требования предъявляются к з...   \n",
       "684        Не могу посмотреть ролик в хорошем качестве   \n",
       "690                 Какую категорию выбрать для видео?   \n",
       "696              Какие субтитры используются в RUTUBE?   \n",
       "702                       Правила размещения субтитров   \n",
       "\n",
       "                                       actual_response  \\\n",
       "2    Если вы соблюдаете все правила пользования RUT...   \n",
       "9    Не запрещено выкладывать на RUTUBE контент, ко...   \n",
       "18   Авторские права на контент, размещенный на RUT...   \n",
       "19   Нет, просто цитирование чужих материалов не га...   \n",
       "32   Если вы имеете в виду, можно ли размещать прои...   \n",
       "..                                                 ...   \n",
       "733  Вы можете загружать видеоролики на RUTUBE (рут...   \n",
       "684  Причина, по которой вы не можете смотреть виде...   \n",
       "690  Для того чтобы правильно выбрать категорию для...   \n",
       "696  Я не имею информации о том, как были созданы с...   \n",
       "702  Чтобы добавить субтитры к видео на канале, сле...   \n",
       "\n",
       "                                    actual_context_ids  \\\n",
       "2    [316, 410, 1, 408, 426, 531, 170, 524, 421, 18...   \n",
       "9    [3, 4, 1, 0, 6, 2, 637, 437, 587, 184, 174, 58...   \n",
       "18   [7, 5, 597, 6, 567, 626, 591, 4, 424, 414, 450...   \n",
       "19   [8, 12, 11, 15, 418, 424, 610, 128, 127, 1, 19...   \n",
       "32   [7, 629, 424, 5, 142, 14, 224, 460, 125, 587, ...   \n",
       "..                                                 ...   \n",
       "733  [236, 264, 278, 263, 244, 87, 272, 276, 245, 5...   \n",
       "684  [242, 241, 278, 2, 198, 1, 244, 280, 526, 283,...   \n",
       "690  [245, 442, 157, 246, 283, 412, 136, 616, 48, 1...   \n",
       "696  [247, 252, 251, 250, 249, 248, 239, 486, 279, ...   \n",
       "702  [250, 247, 251, 252, 249, 248, 584, 468, 158, ...   \n",
       "\n",
       "                                        actual_context  \\\n",
       "2    Вопрос: Как я могу отключить рекламу, если мне...   \n",
       "9    Вопрос: Для каких статусов доступна монетизаци...   \n",
       "18   Вопрос: Кому принадлежат авторские права на ко...   \n",
       "19   Вопрос: Можно ли цитировать чужие произведения...   \n",
       "32   Вопрос: Кому принадлежат авторские права на ко...   \n",
       "..                                                 ...   \n",
       "733  Вопрос: Как загрузить видеоролик на сайт?\\nОтв...   \n",
       "684  Вопрос: Не могу посмотреть ролик в хорошем кач...   \n",
       "690  Вопрос: Какую категорию выбрать для видео?\\nОт...   \n",
       "696  Вопрос: Как включить субтитры в видео?\\nОтвет:...   \n",
       "702  Вопрос: Правила размещения субтитров\\nОтвет: R...   \n",
       "\n",
       "                                               class_1  \\\n",
       "2    [ПРЕДЛОЖЕНИЯ, МОНЕТИЗАЦИЯ, МОНЕТИЗАЦИЯ, МОНЕТИ...   \n",
       "9    [МОНЕТИЗАЦИЯ, МОНЕТИЗАЦИЯ, МОНЕТИЗАЦИЯ, МОДЕРА...   \n",
       "18   [МОДЕРАЦИЯ, МОДЕРАЦИЯ, ОТСУТСТВУЕТ, МОНЕТИЗАЦИ...   \n",
       "19   [МОДЕРАЦИЯ, МОДЕРАЦИЯ, МОДЕРАЦИЯ, МОДЕРАЦИЯ, М...   \n",
       "32   [МОДЕРАЦИЯ, МОДЕРАЦИЯ, МОДЕРАЦИЯ, МОДЕРАЦИЯ, Т...   \n",
       "..                                                 ...   \n",
       "733  [ВИДЕО, ВИДЕО, ВИДЕО, ВИДЕО, МОДЕРАЦИЯ, ВИДЕО,...   \n",
       "684  [ВИДЕО, ВИДЕО, ВИДЕО, МОНЕТИЗАЦИЯ, МОДЕРАЦИЯ, ...   \n",
       "690  [ВИДЕО, УПРАВЛЕНИЕ АККАУНТОМ, УПРАВЛЕНИЕ АККАУ...   \n",
       "696  [ВИДЕО, ПРЕДЛОЖЕНИЯ, ПРЕДЛОЖЕНИЯ, ВИДЕО, ВИДЕО...   \n",
       "702  [ВИДЕО, ВИДЕО, ПРЕДЛОЖЕНИЯ, ПРЕДЛОЖЕНИЯ, ВИДЕО...   \n",
       "\n",
       "                                               class_2  \\\n",
       "2    [Платный контент, Монетизация, Отключение/подк...   \n",
       "9    [Отключение/подключение монетизации, Отключени...   \n",
       "18   [Отклонение/блокировка видео, Отклонение/блоки...   \n",
       "19   [Отклонение/блокировка видео, Отклонение/блоки...   \n",
       "32   [Отклонение/блокировка видео, Отклонение/блоки...   \n",
       "..                                                 ...   \n",
       "733  [Загрузка видео, Загрузка видео, Загрузка виде...   \n",
       "684  [Воспроизведение видео, Воспроизведение видео,...   \n",
       "690  [Загрузка видео, Отклонение/блокировка видео, ...   \n",
       "696  [Управление плеером, Плеер, Плеер, Загрузка ви...   \n",
       "702  [Загрузка видео, Управление плеером, Плеер, Пл...   \n",
       "\n",
       "                                              hit_list  recall  \n",
       "2    [0, 0, 1, 0, 0, 0, 0, 0, 0, 0, 0, 0, 0, 0, 0, ...     1.0  \n",
       "9    [0, 1, 0, 0, 0, 0, 0, 0, 0, 0, 0, 0, 0, 0, 0, ...     1.0  \n",
       "18   [1, 0, 0, 0, 0, 0, 0, 0, 0, 0, 0, 0, 0, 0, 0, ...     1.0  \n",
       "19   [1, 0, 0, 0, 0, 0, 0, 0, 0, 0, 0, 0, 0, 0, 0, ...     1.0  \n",
       "32   [0, 0, 0, 0, 0, 0, 0, 0, 0, 0, 0, 0, 0, 0, 0, ...     0.0  \n",
       "..                                                 ...     ...  \n",
       "733  [0, 0, 0, 0, 0, 0, 1, 0, 0, 0, 0, 0, 0, 0, 0, ...     1.0  \n",
       "684  [0, 0, 0, 0, 0, 0, 0, 0, 0, 0, 0, 0, 0, 0, 0, ...     0.0  \n",
       "690  [0, 0, 0, 0, 0, 0, 0, 0, 0, 0, 0, 0, 0, 0, 0, ...     0.0  \n",
       "696  [0, 0, 0, 0, 0, 0, 0, 0, 0, 0, 0, 0, 0, 0, 0, ...     0.0  \n",
       "702  [0, 0, 0, 0, 0, 0, 0, 0, 0, 0, 0, 0, 0, 0, 0, ...     0.0  \n",
       "\n",
       "[125 rows x 12 columns]"
      ]
     },
     "execution_count": 35,
     "metadata": {},
     "output_type": "execute_result"
    }
   ],
   "source": [
    "stratified_df"
   ]
  },
  {
   "cell_type": "code",
   "execution_count": 36,
   "metadata": {},
   "outputs": [
    {
     "data": {
      "text/plain": [
       "0.264"
      ]
     },
     "execution_count": 36,
     "metadata": {},
     "output_type": "execute_result"
    }
   ],
   "source": [
    "stratified_df['recall'].mean()"
   ]
  },
  {
   "cell_type": "markdown",
   "metadata": {},
   "source": [
    "0.208"
   ]
  },
  {
   "cell_type": "markdown",
   "metadata": {},
   "source": [
    "0.248"
   ]
  },
  {
   "cell_type": "markdown",
   "metadata": {},
   "source": [
    "0.168"
   ]
  },
  {
   "cell_type": "markdown",
   "metadata": {},
   "source": [
    "0.24"
   ]
  },
  {
   "cell_type": "markdown",
   "metadata": {},
   "source": [
    "0.2"
   ]
  },
  {
   "cell_type": "markdown",
   "metadata": {},
   "source": [
    "0.24"
   ]
  },
  {
   "cell_type": "markdown",
   "metadata": {},
   "source": [
    "0.264"
   ]
  },
  {
   "cell_type": "markdown",
   "metadata": {},
   "source": [
    "## Retrieve NDCG"
   ]
  },
  {
   "cell_type": "code",
   "execution_count": 37,
   "metadata": {},
   "outputs": [
    {
     "data": {
      "text/plain": [
       "2      [0, 0, 1, 0, 0, 0, 0, 0, 0, 0, 0, 0, 0, 0, 0, ...\n",
       "9      [0, 1, 0, 0, 0, 0, 0, 0, 0, 0, 0, 0, 0, 0, 0, ...\n",
       "18     [1, 0, 0, 0, 0, 0, 0, 0, 0, 0, 0, 0, 0, 0, 0, ...\n",
       "19     [1, 0, 0, 0, 0, 0, 0, 0, 0, 0, 0, 0, 0, 0, 0, ...\n",
       "32     [0, 0, 0, 0, 0, 0, 0, 0, 0, 0, 0, 0, 0, 0, 0, ...\n",
       "                             ...                        \n",
       "733    [0, 0, 0, 0, 0, 0, 1, 0, 0, 0, 0, 0, 0, 0, 0, ...\n",
       "684    [0, 0, 0, 0, 0, 0, 0, 0, 0, 0, 0, 0, 0, 0, 0, ...\n",
       "690    [0, 0, 0, 0, 0, 0, 0, 0, 0, 0, 0, 0, 0, 0, 0, ...\n",
       "696    [0, 0, 0, 0, 0, 0, 0, 0, 0, 0, 0, 0, 0, 0, 0, ...\n",
       "702    [0, 0, 0, 0, 0, 0, 0, 0, 0, 0, 0, 0, 0, 0, 0, ...\n",
       "Name: hit_list, Length: 125, dtype: object"
      ]
     },
     "execution_count": 37,
     "metadata": {},
     "output_type": "execute_result"
    }
   ],
   "source": [
    "stratified_df['hit_list']"
   ]
  },
  {
   "cell_type": "code",
   "execution_count": 38,
   "metadata": {},
   "outputs": [],
   "source": [
    "stratified_df['ndcg'] = stratified_df['hit_list'].apply(lambda x: calculate_ndcg([x])[0]) # КОСТЫЛЬ"
   ]
  },
  {
   "cell_type": "code",
   "execution_count": 39,
   "metadata": {},
   "outputs": [
    {
     "data": {
      "text/html": [
       "<div>\n",
       "<style scoped>\n",
       "    .dataframe tbody tr th:only-of-type {\n",
       "        vertical-align: middle;\n",
       "    }\n",
       "\n",
       "    .dataframe tbody tr th {\n",
       "        vertical-align: top;\n",
       "    }\n",
       "\n",
       "    .dataframe thead th {\n",
       "        text-align: right;\n",
       "    }\n",
       "</style>\n",
       "<table border=\"1\" class=\"dataframe\">\n",
       "  <thead>\n",
       "    <tr style=\"text-align: right;\">\n",
       "      <th></th>\n",
       "      <th>input</th>\n",
       "      <th>expected_output</th>\n",
       "      <th>kb_query</th>\n",
       "      <th>index</th>\n",
       "      <th>kb_query_orig</th>\n",
       "      <th>actual_response</th>\n",
       "      <th>actual_context_ids</th>\n",
       "      <th>actual_context</th>\n",
       "      <th>class_1</th>\n",
       "      <th>class_2</th>\n",
       "      <th>hit_list</th>\n",
       "      <th>recall</th>\n",
       "      <th>ndcg</th>\n",
       "    </tr>\n",
       "  </thead>\n",
       "  <tbody>\n",
       "    <tr>\n",
       "      <th>2</th>\n",
       "      <td>Все пишут, что монетизация на рутубе отключает...</td>\n",
       "      <td>Добрый день! \\nМонетизация может отключиться, ...</td>\n",
       "      <td>Почему могут отключить монетизацию из-за автор...</td>\n",
       "      <td>1.0</td>\n",
       "      <td>Почему могут отключить монетизацию из-за автор...</td>\n",
       "      <td>Если вы соблюдаете все правила пользования RUT...</td>\n",
       "      <td>[316, 410, 1, 408, 426, 531, 170, 524, 421, 18...</td>\n",
       "      <td>Вопрос: Как я могу отключить рекламу, если мне...</td>\n",
       "      <td>[ПРЕДЛОЖЕНИЯ, МОНЕТИЗАЦИЯ, МОНЕТИЗАЦИЯ, МОНЕТИ...</td>\n",
       "      <td>[Платный контент, Монетизация, Отключение/подк...</td>\n",
       "      <td>[0, 0, 1, 0, 0, 0, 0, 0, 0, 0, 0, 0, 0, 0, 0, ...</td>\n",
       "      <td>1.0</td>\n",
       "      <td>0.500000</td>\n",
       "    </tr>\n",
       "    <tr>\n",
       "      <th>9</th>\n",
       "      <td>Подскажите, пожалуйста, что не запрещено выкла...</td>\n",
       "      <td>Добрый день! Не запрешено публиковать то, что ...</td>\n",
       "      <td>Какой контент можно использовать для монетизац...</td>\n",
       "      <td>4.0</td>\n",
       "      <td>Какой контент можно использовать для монетизац...</td>\n",
       "      <td>Не запрещено выкладывать на RUTUBE контент, ко...</td>\n",
       "      <td>[3, 4, 1, 0, 6, 2, 637, 437, 587, 184, 174, 58...</td>\n",
       "      <td>Вопрос: Для каких статусов доступна монетизаци...</td>\n",
       "      <td>[МОНЕТИЗАЦИЯ, МОНЕТИЗАЦИЯ, МОНЕТИЗАЦИЯ, МОДЕРА...</td>\n",
       "      <td>[Отключение/подключение монетизации, Отключени...</td>\n",
       "      <td>[0, 1, 0, 0, 0, 0, 0, 0, 0, 0, 0, 0, 0, 0, 0, ...</td>\n",
       "      <td>1.0</td>\n",
       "      <td>0.630930</td>\n",
       "    </tr>\n",
       "    <tr>\n",
       "      <th>18</th>\n",
       "      <td>Кому принадлежат авторские права на данный кон...</td>\n",
       "      <td>По умолчанию считается, что авторские права на...</td>\n",
       "      <td>Кому принадлежат авторские права на контент, к...</td>\n",
       "      <td>7.0</td>\n",
       "      <td>Кому принадлежат авторские права на контент, к...</td>\n",
       "      <td>Авторские права на контент, размещенный на RUT...</td>\n",
       "      <td>[7, 5, 597, 6, 567, 626, 591, 4, 424, 414, 450...</td>\n",
       "      <td>Вопрос: Кому принадлежат авторские права на ко...</td>\n",
       "      <td>[МОДЕРАЦИЯ, МОДЕРАЦИЯ, ОТСУТСТВУЕТ, МОНЕТИЗАЦИ...</td>\n",
       "      <td>[Отклонение/блокировка видео, Отклонение/блоки...</td>\n",
       "      <td>[1, 0, 0, 0, 0, 0, 0, 0, 0, 0, 0, 0, 0, 0, 0, ...</td>\n",
       "      <td>1.0</td>\n",
       "      <td>1.000000</td>\n",
       "    </tr>\n",
       "    <tr>\n",
       "      <th>19</th>\n",
       "      <td>пройдет видео модерация, если цитировать чужие...</td>\n",
       "      <td>Для прохождения модерации нужно соблюдать неск...</td>\n",
       "      <td>Можно ли цитировать чужие произведения?</td>\n",
       "      <td>8.0</td>\n",
       "      <td>Можно ли цитировать чужие произведения?</td>\n",
       "      <td>Нет, просто цитирование чужих материалов не га...</td>\n",
       "      <td>[8, 12, 11, 15, 418, 424, 610, 128, 127, 1, 19...</td>\n",
       "      <td>Вопрос: Можно ли цитировать чужие произведения...</td>\n",
       "      <td>[МОДЕРАЦИЯ, МОДЕРАЦИЯ, МОДЕРАЦИЯ, МОДЕРАЦИЯ, М...</td>\n",
       "      <td>[Отклонение/блокировка видео, Отклонение/блоки...</td>\n",
       "      <td>[1, 0, 0, 0, 0, 0, 0, 0, 0, 0, 0, 0, 0, 0, 0, ...</td>\n",
       "      <td>1.0</td>\n",
       "      <td>1.000000</td>\n",
       "    </tr>\n",
       "    <tr>\n",
       "      <th>32</th>\n",
       "      <td>произведние в общественном достоянии? О чем это?</td>\n",
       "      <td>Это значит, что произведение или его перевод п...</td>\n",
       "      <td>Нарушает ли авторские права использование обра...</td>\n",
       "      <td>13.0</td>\n",
       "      <td>Нарушает ли авторские права использование обра...</td>\n",
       "      <td>Если вы имеете в виду, можно ли размещать прои...</td>\n",
       "      <td>[7, 629, 424, 5, 142, 14, 224, 460, 125, 587, ...</td>\n",
       "      <td>Вопрос: Кому принадлежат авторские права на ко...</td>\n",
       "      <td>[МОДЕРАЦИЯ, МОДЕРАЦИЯ, МОДЕРАЦИЯ, МОДЕРАЦИЯ, Т...</td>\n",
       "      <td>[Отклонение/блокировка видео, Отклонение/блоки...</td>\n",
       "      <td>[0, 0, 0, 0, 0, 0, 0, 0, 0, 0, 0, 0, 0, 0, 0, ...</td>\n",
       "      <td>0.0</td>\n",
       "      <td>0.000000</td>\n",
       "    </tr>\n",
       "    <tr>\n",
       "      <th>...</th>\n",
       "      <td>...</td>\n",
       "      <td>...</td>\n",
       "      <td>...</td>\n",
       "      <td>...</td>\n",
       "      <td>...</td>\n",
       "      <td>...</td>\n",
       "      <td>...</td>\n",
       "      <td>...</td>\n",
       "      <td>...</td>\n",
       "      <td>...</td>\n",
       "      <td>...</td>\n",
       "      <td>...</td>\n",
       "      <td>...</td>\n",
       "    </tr>\n",
       "    <tr>\n",
       "      <th>733</th>\n",
       "      <td>Какое видео могу загрузить?</td>\n",
       "      <td>Оно должно соответствовать правилам размещения...</td>\n",
       "      <td>Какие технические требования предъявляются к з...</td>\n",
       "      <td>272.0</td>\n",
       "      <td>Какие технические требования предъявляются к з...</td>\n",
       "      <td>Вы можете загружать видеоролики на RUTUBE (рут...</td>\n",
       "      <td>[236, 264, 278, 263, 244, 87, 272, 276, 245, 5...</td>\n",
       "      <td>Вопрос: Как загрузить видеоролик на сайт?\\nОтв...</td>\n",
       "      <td>[ВИДЕО, ВИДЕО, ВИДЕО, ВИДЕО, МОДЕРАЦИЯ, ВИДЕО,...</td>\n",
       "      <td>[Загрузка видео, Загрузка видео, Загрузка виде...</td>\n",
       "      <td>[0, 0, 0, 0, 0, 0, 1, 0, 0, 0, 0, 0, 0, 0, 0, ...</td>\n",
       "      <td>1.0</td>\n",
       "      <td>0.333333</td>\n",
       "    </tr>\n",
       "    <tr>\n",
       "      <th>684</th>\n",
       "      <td>Почнм нельзя смотреть видео в хорошем качестве?</td>\n",
       "      <td>Вероятнее всего, у вас стоит блокировщик рекла...</td>\n",
       "      <td>Не могу посмотреть ролик в хорошем качестве</td>\n",
       "      <td>277.0</td>\n",
       "      <td>Не могу посмотреть ролик в хорошем качестве</td>\n",
       "      <td>Причина, по которой вы не можете смотреть виде...</td>\n",
       "      <td>[242, 241, 278, 2, 198, 1, 244, 280, 526, 283,...</td>\n",
       "      <td>Вопрос: Не могу посмотреть ролик в хорошем кач...</td>\n",
       "      <td>[ВИДЕО, ВИДЕО, ВИДЕО, МОНЕТИЗАЦИЯ, МОДЕРАЦИЯ, ...</td>\n",
       "      <td>[Воспроизведение видео, Воспроизведение видео,...</td>\n",
       "      <td>[0, 0, 0, 0, 0, 0, 0, 0, 0, 0, 0, 0, 0, 0, 0, ...</td>\n",
       "      <td>0.0</td>\n",
       "      <td>0.000000</td>\n",
       "    </tr>\n",
       "    <tr>\n",
       "      <th>690</th>\n",
       "      <td>Как правильно выбрать категорию?</td>\n",
       "      <td>На RUTUBE доступно большое количество категори...</td>\n",
       "      <td>Какую категорию выбрать для видео?</td>\n",
       "      <td>280.0</td>\n",
       "      <td>Какую категорию выбрать для видео?</td>\n",
       "      <td>Для того чтобы правильно выбрать категорию для...</td>\n",
       "      <td>[245, 442, 157, 246, 283, 412, 136, 616, 48, 1...</td>\n",
       "      <td>Вопрос: Какую категорию выбрать для видео?\\nОт...</td>\n",
       "      <td>[ВИДЕО, УПРАВЛЕНИЕ АККАУНТОМ, УПРАВЛЕНИЕ АККАУ...</td>\n",
       "      <td>[Загрузка видео, Отклонение/блокировка видео, ...</td>\n",
       "      <td>[0, 0, 0, 0, 0, 0, 0, 0, 0, 0, 0, 0, 0, 0, 0, ...</td>\n",
       "      <td>0.0</td>\n",
       "      <td>0.000000</td>\n",
       "    </tr>\n",
       "    <tr>\n",
       "      <th>696</th>\n",
       "      <td>У вас встроенные субтитры или сгенерированые?</td>\n",
       "      <td>Это могут быть субтитры, которые добавил сам а...</td>\n",
       "      <td>Какие субтитры используются в RUTUBE?</td>\n",
       "      <td>283.0</td>\n",
       "      <td>Какие субтитры используются в RUTUBE?</td>\n",
       "      <td>Я не имею информации о том, как были созданы с...</td>\n",
       "      <td>[247, 252, 251, 250, 249, 248, 239, 486, 279, ...</td>\n",
       "      <td>Вопрос: Как включить субтитры в видео?\\nОтвет:...</td>\n",
       "      <td>[ВИДЕО, ПРЕДЛОЖЕНИЯ, ПРЕДЛОЖЕНИЯ, ВИДЕО, ВИДЕО...</td>\n",
       "      <td>[Управление плеером, Плеер, Плеер, Загрузка ви...</td>\n",
       "      <td>[0, 0, 0, 0, 0, 0, 0, 0, 0, 0, 0, 0, 0, 0, 0, ...</td>\n",
       "      <td>0.0</td>\n",
       "      <td>0.000000</td>\n",
       "    </tr>\n",
       "    <tr>\n",
       "      <th>702</th>\n",
       "      <td>Какие правила размещения субтитров</td>\n",
       "      <td>RUTUBE предоставляет удобную технологию, интег...</td>\n",
       "      <td>Правила размещения субтитров</td>\n",
       "      <td>285.0</td>\n",
       "      <td>Правила размещения субтитров</td>\n",
       "      <td>Чтобы добавить субтитры к видео на канале, сле...</td>\n",
       "      <td>[250, 247, 251, 252, 249, 248, 584, 468, 158, ...</td>\n",
       "      <td>Вопрос: Правила размещения субтитров\\nОтвет: R...</td>\n",
       "      <td>[ВИДЕО, ВИДЕО, ПРЕДЛОЖЕНИЯ, ПРЕДЛОЖЕНИЯ, ВИДЕО...</td>\n",
       "      <td>[Загрузка видео, Управление плеером, Плеер, Пл...</td>\n",
       "      <td>[0, 0, 0, 0, 0, 0, 0, 0, 0, 0, 0, 0, 0, 0, 0, ...</td>\n",
       "      <td>0.0</td>\n",
       "      <td>0.000000</td>\n",
       "    </tr>\n",
       "  </tbody>\n",
       "</table>\n",
       "<p>125 rows × 13 columns</p>\n",
       "</div>"
      ],
      "text/plain": [
       "                                                 input  \\\n",
       "2    Все пишут, что монетизация на рутубе отключает...   \n",
       "9    Подскажите, пожалуйста, что не запрещено выкла...   \n",
       "18   Кому принадлежат авторские права на данный кон...   \n",
       "19   пройдет видео модерация, если цитировать чужие...   \n",
       "32    произведние в общественном достоянии? О чем это?   \n",
       "..                                                 ...   \n",
       "733                        Какое видео могу загрузить?   \n",
       "684    Почнм нельзя смотреть видео в хорошем качестве?   \n",
       "690                   Как правильно выбрать категорию?   \n",
       "696      У вас встроенные субтитры или сгенерированые?   \n",
       "702                 Какие правила размещения субтитров   \n",
       "\n",
       "                                       expected_output  \\\n",
       "2    Добрый день! \\nМонетизация может отключиться, ...   \n",
       "9    Добрый день! Не запрешено публиковать то, что ...   \n",
       "18   По умолчанию считается, что авторские права на...   \n",
       "19   Для прохождения модерации нужно соблюдать неск...   \n",
       "32   Это значит, что произведение или его перевод п...   \n",
       "..                                                 ...   \n",
       "733  Оно должно соответствовать правилам размещения...   \n",
       "684  Вероятнее всего, у вас стоит блокировщик рекла...   \n",
       "690  На RUTUBE доступно большое количество категори...   \n",
       "696  Это могут быть субтитры, которые добавил сам а...   \n",
       "702  RUTUBE предоставляет удобную технологию, интег...   \n",
       "\n",
       "                                              kb_query  index  \\\n",
       "2    Почему могут отключить монетизацию из-за автор...    1.0   \n",
       "9    Какой контент можно использовать для монетизац...    4.0   \n",
       "18   Кому принадлежат авторские права на контент, к...    7.0   \n",
       "19             Можно ли цитировать чужие произведения?    8.0   \n",
       "32   Нарушает ли авторские права использование обра...   13.0   \n",
       "..                                                 ...    ...   \n",
       "733  Какие технические требования предъявляются к з...  272.0   \n",
       "684        Не могу посмотреть ролик в хорошем качестве  277.0   \n",
       "690                 Какую категорию выбрать для видео?  280.0   \n",
       "696              Какие субтитры используются в RUTUBE?  283.0   \n",
       "702                       Правила размещения субтитров  285.0   \n",
       "\n",
       "                                         kb_query_orig  \\\n",
       "2    Почему могут отключить монетизацию из-за автор...   \n",
       "9    Какой контент можно использовать для монетизац...   \n",
       "18   Кому принадлежат авторские права на контент, к...   \n",
       "19             Можно ли цитировать чужие произведения?   \n",
       "32   Нарушает ли авторские права использование обра...   \n",
       "..                                                 ...   \n",
       "733  Какие технические требования предъявляются к з...   \n",
       "684        Не могу посмотреть ролик в хорошем качестве   \n",
       "690                 Какую категорию выбрать для видео?   \n",
       "696              Какие субтитры используются в RUTUBE?   \n",
       "702                       Правила размещения субтитров   \n",
       "\n",
       "                                       actual_response  \\\n",
       "2    Если вы соблюдаете все правила пользования RUT...   \n",
       "9    Не запрещено выкладывать на RUTUBE контент, ко...   \n",
       "18   Авторские права на контент, размещенный на RUT...   \n",
       "19   Нет, просто цитирование чужих материалов не га...   \n",
       "32   Если вы имеете в виду, можно ли размещать прои...   \n",
       "..                                                 ...   \n",
       "733  Вы можете загружать видеоролики на RUTUBE (рут...   \n",
       "684  Причина, по которой вы не можете смотреть виде...   \n",
       "690  Для того чтобы правильно выбрать категорию для...   \n",
       "696  Я не имею информации о том, как были созданы с...   \n",
       "702  Чтобы добавить субтитры к видео на канале, сле...   \n",
       "\n",
       "                                    actual_context_ids  \\\n",
       "2    [316, 410, 1, 408, 426, 531, 170, 524, 421, 18...   \n",
       "9    [3, 4, 1, 0, 6, 2, 637, 437, 587, 184, 174, 58...   \n",
       "18   [7, 5, 597, 6, 567, 626, 591, 4, 424, 414, 450...   \n",
       "19   [8, 12, 11, 15, 418, 424, 610, 128, 127, 1, 19...   \n",
       "32   [7, 629, 424, 5, 142, 14, 224, 460, 125, 587, ...   \n",
       "..                                                 ...   \n",
       "733  [236, 264, 278, 263, 244, 87, 272, 276, 245, 5...   \n",
       "684  [242, 241, 278, 2, 198, 1, 244, 280, 526, 283,...   \n",
       "690  [245, 442, 157, 246, 283, 412, 136, 616, 48, 1...   \n",
       "696  [247, 252, 251, 250, 249, 248, 239, 486, 279, ...   \n",
       "702  [250, 247, 251, 252, 249, 248, 584, 468, 158, ...   \n",
       "\n",
       "                                        actual_context  \\\n",
       "2    Вопрос: Как я могу отключить рекламу, если мне...   \n",
       "9    Вопрос: Для каких статусов доступна монетизаци...   \n",
       "18   Вопрос: Кому принадлежат авторские права на ко...   \n",
       "19   Вопрос: Можно ли цитировать чужие произведения...   \n",
       "32   Вопрос: Кому принадлежат авторские права на ко...   \n",
       "..                                                 ...   \n",
       "733  Вопрос: Как загрузить видеоролик на сайт?\\nОтв...   \n",
       "684  Вопрос: Не могу посмотреть ролик в хорошем кач...   \n",
       "690  Вопрос: Какую категорию выбрать для видео?\\nОт...   \n",
       "696  Вопрос: Как включить субтитры в видео?\\nОтвет:...   \n",
       "702  Вопрос: Правила размещения субтитров\\nОтвет: R...   \n",
       "\n",
       "                                               class_1  \\\n",
       "2    [ПРЕДЛОЖЕНИЯ, МОНЕТИЗАЦИЯ, МОНЕТИЗАЦИЯ, МОНЕТИ...   \n",
       "9    [МОНЕТИЗАЦИЯ, МОНЕТИЗАЦИЯ, МОНЕТИЗАЦИЯ, МОДЕРА...   \n",
       "18   [МОДЕРАЦИЯ, МОДЕРАЦИЯ, ОТСУТСТВУЕТ, МОНЕТИЗАЦИ...   \n",
       "19   [МОДЕРАЦИЯ, МОДЕРАЦИЯ, МОДЕРАЦИЯ, МОДЕРАЦИЯ, М...   \n",
       "32   [МОДЕРАЦИЯ, МОДЕРАЦИЯ, МОДЕРАЦИЯ, МОДЕРАЦИЯ, Т...   \n",
       "..                                                 ...   \n",
       "733  [ВИДЕО, ВИДЕО, ВИДЕО, ВИДЕО, МОДЕРАЦИЯ, ВИДЕО,...   \n",
       "684  [ВИДЕО, ВИДЕО, ВИДЕО, МОНЕТИЗАЦИЯ, МОДЕРАЦИЯ, ...   \n",
       "690  [ВИДЕО, УПРАВЛЕНИЕ АККАУНТОМ, УПРАВЛЕНИЕ АККАУ...   \n",
       "696  [ВИДЕО, ПРЕДЛОЖЕНИЯ, ПРЕДЛОЖЕНИЯ, ВИДЕО, ВИДЕО...   \n",
       "702  [ВИДЕО, ВИДЕО, ПРЕДЛОЖЕНИЯ, ПРЕДЛОЖЕНИЯ, ВИДЕО...   \n",
       "\n",
       "                                               class_2  \\\n",
       "2    [Платный контент, Монетизация, Отключение/подк...   \n",
       "9    [Отключение/подключение монетизации, Отключени...   \n",
       "18   [Отклонение/блокировка видео, Отклонение/блоки...   \n",
       "19   [Отклонение/блокировка видео, Отклонение/блоки...   \n",
       "32   [Отклонение/блокировка видео, Отклонение/блоки...   \n",
       "..                                                 ...   \n",
       "733  [Загрузка видео, Загрузка видео, Загрузка виде...   \n",
       "684  [Воспроизведение видео, Воспроизведение видео,...   \n",
       "690  [Загрузка видео, Отклонение/блокировка видео, ...   \n",
       "696  [Управление плеером, Плеер, Плеер, Загрузка ви...   \n",
       "702  [Загрузка видео, Управление плеером, Плеер, Пл...   \n",
       "\n",
       "                                              hit_list  recall      ndcg  \n",
       "2    [0, 0, 1, 0, 0, 0, 0, 0, 0, 0, 0, 0, 0, 0, 0, ...     1.0  0.500000  \n",
       "9    [0, 1, 0, 0, 0, 0, 0, 0, 0, 0, 0, 0, 0, 0, 0, ...     1.0  0.630930  \n",
       "18   [1, 0, 0, 0, 0, 0, 0, 0, 0, 0, 0, 0, 0, 0, 0, ...     1.0  1.000000  \n",
       "19   [1, 0, 0, 0, 0, 0, 0, 0, 0, 0, 0, 0, 0, 0, 0, ...     1.0  1.000000  \n",
       "32   [0, 0, 0, 0, 0, 0, 0, 0, 0, 0, 0, 0, 0, 0, 0, ...     0.0  0.000000  \n",
       "..                                                 ...     ...       ...  \n",
       "733  [0, 0, 0, 0, 0, 0, 1, 0, 0, 0, 0, 0, 0, 0, 0, ...     1.0  0.333333  \n",
       "684  [0, 0, 0, 0, 0, 0, 0, 0, 0, 0, 0, 0, 0, 0, 0, ...     0.0  0.000000  \n",
       "690  [0, 0, 0, 0, 0, 0, 0, 0, 0, 0, 0, 0, 0, 0, 0, ...     0.0  0.000000  \n",
       "696  [0, 0, 0, 0, 0, 0, 0, 0, 0, 0, 0, 0, 0, 0, 0, ...     0.0  0.000000  \n",
       "702  [0, 0, 0, 0, 0, 0, 0, 0, 0, 0, 0, 0, 0, 0, 0, ...     0.0  0.000000  \n",
       "\n",
       "[125 rows x 13 columns]"
      ]
     },
     "execution_count": 39,
     "metadata": {},
     "output_type": "execute_result"
    }
   ],
   "source": [
    "stratified_df"
   ]
  },
  {
   "cell_type": "code",
   "execution_count": 40,
   "metadata": {},
   "outputs": [
    {
     "data": {
      "text/plain": [
       "0.18895132333830933"
      ]
     },
     "execution_count": 40,
     "metadata": {},
     "output_type": "execute_result"
    }
   ],
   "source": [
    "stratified_df['ndcg'].mean()"
   ]
  },
  {
   "cell_type": "markdown",
   "metadata": {},
   "source": [
    "0.18182480949462645"
   ]
  },
  {
   "cell_type": "markdown",
   "metadata": {},
   "source": [
    "0.19882406872942662"
   ]
  },
  {
   "cell_type": "markdown",
   "metadata": {},
   "source": [
    "0.155142314085715"
   ]
  },
  {
   "cell_type": "markdown",
   "metadata": {},
   "source": [
    "0.1834833941446053"
   ]
  },
  {
   "cell_type": "markdown",
   "metadata": {},
   "source": [
    "0.15520558065159293"
   ]
  },
  {
   "cell_type": "markdown",
   "metadata": {},
   "source": [
    "0.18323822918359312"
   ]
  },
  {
   "cell_type": "markdown",
   "metadata": {},
   "source": [
    "0.18895132333830933"
   ]
  },
  {
   "cell_type": "markdown",
   "metadata": {},
   "source": [
    "## Generation G-Eval"
   ]
  },
  {
   "cell_type": "code",
   "execution_count": 41,
   "metadata": {},
   "outputs": [],
   "source": [
    "def clean_and_split_context(text):\n",
    "    pattern = r\"(Вопрос:.*?Ответ:.*?)(?=\\nВопрос:|$)\"\n",
    "\n",
    "    matches = re.findall(pattern, text, re.DOTALL)\n",
    "\n",
    "    result = [match.strip() for match in matches]\n",
    "    return result\n"
   ]
  },
  {
   "cell_type": "code",
   "execution_count": 42,
   "metadata": {},
   "outputs": [
    {
     "data": {
      "application/vnd.jupyter.widget-view+json": {
       "model_id": "a61652f802494796909078fa374f4fc6",
       "version_major": 2,
       "version_minor": 0
      },
      "text/plain": [
       "Output()"
      ]
     },
     "metadata": {},
     "output_type": "display_data"
    },
    {
     "data": {
      "text/html": [
       "<pre style=\"white-space:pre;overflow-x:auto;line-height:normal;font-family:Menlo,'DejaVu Sans Mono',consolas,'Courier New',monospace\">Event loop is already running. Applying nest_asyncio patch to allow async execution...\n",
       "</pre>\n"
      ],
      "text/plain": [
       "Event loop is already running. Applying nest_asyncio patch to allow async execution...\n"
      ]
     },
     "metadata": {},
     "output_type": "display_data"
    },
    {
     "data": {
      "text/html": [
       "<pre style=\"white-space:pre;overflow-x:auto;line-height:normal;font-family:Menlo,'DejaVu Sans Mono',consolas,'Courier New',monospace\"></pre>\n"
      ],
      "text/plain": []
     },
     "metadata": {},
     "output_type": "display_data"
    },
    {
     "data": {
      "application/vnd.jupyter.widget-view+json": {
       "model_id": "e995328a07324090bc479e42c5f489a2",
       "version_major": 2,
       "version_minor": 0
      },
      "text/plain": [
       "Output()"
      ]
     },
     "metadata": {},
     "output_type": "display_data"
    },
    {
     "data": {
      "text/html": [
       "<pre style=\"white-space:pre;overflow-x:auto;line-height:normal;font-family:Menlo,'DejaVu Sans Mono',consolas,'Courier New',monospace\">Event loop is already running. Applying nest_asyncio patch to allow async execution...\n",
       "</pre>\n"
      ],
      "text/plain": [
       "Event loop is already running. Applying nest_asyncio patch to allow async execution...\n"
      ]
     },
     "metadata": {},
     "output_type": "display_data"
    },
    {
     "data": {
      "text/html": [
       "<pre style=\"white-space:pre;overflow-x:auto;line-height:normal;font-family:Menlo,'DejaVu Sans Mono',consolas,'Courier New',monospace\"></pre>\n"
      ],
      "text/plain": []
     },
     "metadata": {},
     "output_type": "display_data"
    },
    {
     "data": {
      "application/vnd.jupyter.widget-view+json": {
       "model_id": "5bce548a1f2542c8bee3d364ba4b001a",
       "version_major": 2,
       "version_minor": 0
      },
      "text/plain": [
       "Output()"
      ]
     },
     "metadata": {},
     "output_type": "display_data"
    },
    {
     "data": {
      "text/html": [
       "<pre style=\"white-space:pre;overflow-x:auto;line-height:normal;font-family:Menlo,'DejaVu Sans Mono',consolas,'Courier New',monospace\">Event loop is already running. Applying nest_asyncio patch to allow async execution...\n",
       "</pre>\n"
      ],
      "text/plain": [
       "Event loop is already running. Applying nest_asyncio patch to allow async execution...\n"
      ]
     },
     "metadata": {},
     "output_type": "display_data"
    },
    {
     "data": {
      "text/html": [
       "<pre style=\"white-space:pre;overflow-x:auto;line-height:normal;font-family:Menlo,'DejaVu Sans Mono',consolas,'Courier New',monospace\"></pre>\n"
      ],
      "text/plain": []
     },
     "metadata": {},
     "output_type": "display_data"
    },
    {
     "data": {
      "application/vnd.jupyter.widget-view+json": {
       "model_id": "528aed5839194a898d3fa8559f5f8769",
       "version_major": 2,
       "version_minor": 0
      },
      "text/plain": [
       "Output()"
      ]
     },
     "metadata": {},
     "output_type": "display_data"
    },
    {
     "data": {
      "text/html": [
       "<pre style=\"white-space:pre;overflow-x:auto;line-height:normal;font-family:Menlo,'DejaVu Sans Mono',consolas,'Courier New',monospace\">Event loop is already running. Applying nest_asyncio patch to allow async execution...\n",
       "</pre>\n"
      ],
      "text/plain": [
       "Event loop is already running. Applying nest_asyncio patch to allow async execution...\n"
      ]
     },
     "metadata": {},
     "output_type": "display_data"
    },
    {
     "data": {
      "text/html": [
       "<pre style=\"white-space:pre;overflow-x:auto;line-height:normal;font-family:Menlo,'DejaVu Sans Mono',consolas,'Courier New',monospace\"></pre>\n"
      ],
      "text/plain": []
     },
     "metadata": {},
     "output_type": "display_data"
    },
    {
     "data": {
      "application/vnd.jupyter.widget-view+json": {
       "model_id": "19c05689d85b40f181d38e6d6301dbe6",
       "version_major": 2,
       "version_minor": 0
      },
      "text/plain": [
       "Output()"
      ]
     },
     "metadata": {},
     "output_type": "display_data"
    },
    {
     "data": {
      "text/html": [
       "<pre style=\"white-space:pre;overflow-x:auto;line-height:normal;font-family:Menlo,'DejaVu Sans Mono',consolas,'Courier New',monospace\">Event loop is already running. Applying nest_asyncio patch to allow async execution...\n",
       "</pre>\n"
      ],
      "text/plain": [
       "Event loop is already running. Applying nest_asyncio patch to allow async execution...\n"
      ]
     },
     "metadata": {},
     "output_type": "display_data"
    },
    {
     "data": {
      "text/html": [
       "<pre style=\"white-space:pre;overflow-x:auto;line-height:normal;font-family:Menlo,'DejaVu Sans Mono',consolas,'Courier New',monospace\"></pre>\n"
      ],
      "text/plain": []
     },
     "metadata": {},
     "output_type": "display_data"
    },
    {
     "data": {
      "application/vnd.jupyter.widget-view+json": {
       "model_id": "332c83b240594d6e80295994018e9269",
       "version_major": 2,
       "version_minor": 0
      },
      "text/plain": [
       "Output()"
      ]
     },
     "metadata": {},
     "output_type": "display_data"
    },
    {
     "data": {
      "text/html": [
       "<pre style=\"white-space:pre;overflow-x:auto;line-height:normal;font-family:Menlo,'DejaVu Sans Mono',consolas,'Courier New',monospace\">Event loop is already running. Applying nest_asyncio patch to allow async execution...\n",
       "</pre>\n"
      ],
      "text/plain": [
       "Event loop is already running. Applying nest_asyncio patch to allow async execution...\n"
      ]
     },
     "metadata": {},
     "output_type": "display_data"
    },
    {
     "data": {
      "text/html": [
       "<pre style=\"white-space:pre;overflow-x:auto;line-height:normal;font-family:Menlo,'DejaVu Sans Mono',consolas,'Courier New',monospace\"></pre>\n"
      ],
      "text/plain": []
     },
     "metadata": {},
     "output_type": "display_data"
    },
    {
     "data": {
      "application/vnd.jupyter.widget-view+json": {
       "model_id": "105a704b41234868a8204d4c37c2f2ea",
       "version_major": 2,
       "version_minor": 0
      },
      "text/plain": [
       "Output()"
      ]
     },
     "metadata": {},
     "output_type": "display_data"
    },
    {
     "data": {
      "text/html": [
       "<pre style=\"white-space:pre;overflow-x:auto;line-height:normal;font-family:Menlo,'DejaVu Sans Mono',consolas,'Courier New',monospace\">Event loop is already running. Applying nest_asyncio patch to allow async execution...\n",
       "</pre>\n"
      ],
      "text/plain": [
       "Event loop is already running. Applying nest_asyncio patch to allow async execution...\n"
      ]
     },
     "metadata": {},
     "output_type": "display_data"
    },
    {
     "data": {
      "text/html": [
       "<pre style=\"white-space:pre;overflow-x:auto;line-height:normal;font-family:Menlo,'DejaVu Sans Mono',consolas,'Courier New',monospace\"></pre>\n"
      ],
      "text/plain": []
     },
     "metadata": {},
     "output_type": "display_data"
    },
    {
     "data": {
      "application/vnd.jupyter.widget-view+json": {
       "model_id": "1b67dd0857bf425896a73bad8249bf83",
       "version_major": 2,
       "version_minor": 0
      },
      "text/plain": [
       "Output()"
      ]
     },
     "metadata": {},
     "output_type": "display_data"
    },
    {
     "data": {
      "text/html": [
       "<pre style=\"white-space:pre;overflow-x:auto;line-height:normal;font-family:Menlo,'DejaVu Sans Mono',consolas,'Courier New',monospace\">Event loop is already running. Applying nest_asyncio patch to allow async execution...\n",
       "</pre>\n"
      ],
      "text/plain": [
       "Event loop is already running. Applying nest_asyncio patch to allow async execution...\n"
      ]
     },
     "metadata": {},
     "output_type": "display_data"
    },
    {
     "data": {
      "text/html": [
       "<pre style=\"white-space:pre;overflow-x:auto;line-height:normal;font-family:Menlo,'DejaVu Sans Mono',consolas,'Courier New',monospace\"></pre>\n"
      ],
      "text/plain": []
     },
     "metadata": {},
     "output_type": "display_data"
    },
    {
     "data": {
      "application/vnd.jupyter.widget-view+json": {
       "model_id": "9cef7db710004a279052b92dfe27a970",
       "version_major": 2,
       "version_minor": 0
      },
      "text/plain": [
       "Output()"
      ]
     },
     "metadata": {},
     "output_type": "display_data"
    },
    {
     "data": {
      "text/html": [
       "<pre style=\"white-space:pre;overflow-x:auto;line-height:normal;font-family:Menlo,'DejaVu Sans Mono',consolas,'Courier New',monospace\">Event loop is already running. Applying nest_asyncio patch to allow async execution...\n",
       "</pre>\n"
      ],
      "text/plain": [
       "Event loop is already running. Applying nest_asyncio patch to allow async execution...\n"
      ]
     },
     "metadata": {},
     "output_type": "display_data"
    },
    {
     "data": {
      "text/html": [
       "<pre style=\"white-space:pre;overflow-x:auto;line-height:normal;font-family:Menlo,'DejaVu Sans Mono',consolas,'Courier New',monospace\"></pre>\n"
      ],
      "text/plain": []
     },
     "metadata": {},
     "output_type": "display_data"
    },
    {
     "data": {
      "application/vnd.jupyter.widget-view+json": {
       "model_id": "3d2fac3aee1a4836ac8f526ba7c0352d",
       "version_major": 2,
       "version_minor": 0
      },
      "text/plain": [
       "Output()"
      ]
     },
     "metadata": {},
     "output_type": "display_data"
    },
    {
     "data": {
      "text/html": [
       "<pre style=\"white-space:pre;overflow-x:auto;line-height:normal;font-family:Menlo,'DejaVu Sans Mono',consolas,'Courier New',monospace\">Event loop is already running. Applying nest_asyncio patch to allow async execution...\n",
       "</pre>\n"
      ],
      "text/plain": [
       "Event loop is already running. Applying nest_asyncio patch to allow async execution...\n"
      ]
     },
     "metadata": {},
     "output_type": "display_data"
    },
    {
     "data": {
      "text/html": [
       "<pre style=\"white-space:pre;overflow-x:auto;line-height:normal;font-family:Menlo,'DejaVu Sans Mono',consolas,'Courier New',monospace\"></pre>\n"
      ],
      "text/plain": []
     },
     "metadata": {},
     "output_type": "display_data"
    },
    {
     "data": {
      "application/vnd.jupyter.widget-view+json": {
       "model_id": "2ed9ee3acd3844d599988ce186f2de7e",
       "version_major": 2,
       "version_minor": 0
      },
      "text/plain": [
       "Output()"
      ]
     },
     "metadata": {},
     "output_type": "display_data"
    },
    {
     "data": {
      "text/html": [
       "<pre style=\"white-space:pre;overflow-x:auto;line-height:normal;font-family:Menlo,'DejaVu Sans Mono',consolas,'Courier New',monospace\">Event loop is already running. Applying nest_asyncio patch to allow async execution...\n",
       "</pre>\n"
      ],
      "text/plain": [
       "Event loop is already running. Applying nest_asyncio patch to allow async execution...\n"
      ]
     },
     "metadata": {},
     "output_type": "display_data"
    },
    {
     "data": {
      "text/html": [
       "<pre style=\"white-space:pre;overflow-x:auto;line-height:normal;font-family:Menlo,'DejaVu Sans Mono',consolas,'Courier New',monospace\"></pre>\n"
      ],
      "text/plain": []
     },
     "metadata": {},
     "output_type": "display_data"
    },
    {
     "data": {
      "application/vnd.jupyter.widget-view+json": {
       "model_id": "ffd4f6426c4b47de9fa91688c9a3803b",
       "version_major": 2,
       "version_minor": 0
      },
      "text/plain": [
       "Output()"
      ]
     },
     "metadata": {},
     "output_type": "display_data"
    },
    {
     "data": {
      "text/html": [
       "<pre style=\"white-space:pre;overflow-x:auto;line-height:normal;font-family:Menlo,'DejaVu Sans Mono',consolas,'Courier New',monospace\">Event loop is already running. Applying nest_asyncio patch to allow async execution...\n",
       "</pre>\n"
      ],
      "text/plain": [
       "Event loop is already running. Applying nest_asyncio patch to allow async execution...\n"
      ]
     },
     "metadata": {},
     "output_type": "display_data"
    },
    {
     "data": {
      "text/html": [
       "<pre style=\"white-space:pre;overflow-x:auto;line-height:normal;font-family:Menlo,'DejaVu Sans Mono',consolas,'Courier New',monospace\"></pre>\n"
      ],
      "text/plain": []
     },
     "metadata": {},
     "output_type": "display_data"
    },
    {
     "data": {
      "application/vnd.jupyter.widget-view+json": {
       "model_id": "358f259ba2204db5b7277f9a00ba3442",
       "version_major": 2,
       "version_minor": 0
      },
      "text/plain": [
       "Output()"
      ]
     },
     "metadata": {},
     "output_type": "display_data"
    },
    {
     "data": {
      "text/html": [
       "<pre style=\"white-space:pre;overflow-x:auto;line-height:normal;font-family:Menlo,'DejaVu Sans Mono',consolas,'Courier New',monospace\">Event loop is already running. Applying nest_asyncio patch to allow async execution...\n",
       "</pre>\n"
      ],
      "text/plain": [
       "Event loop is already running. Applying nest_asyncio patch to allow async execution...\n"
      ]
     },
     "metadata": {},
     "output_type": "display_data"
    },
    {
     "data": {
      "text/html": [
       "<pre style=\"white-space:pre;overflow-x:auto;line-height:normal;font-family:Menlo,'DejaVu Sans Mono',consolas,'Courier New',monospace\"></pre>\n"
      ],
      "text/plain": []
     },
     "metadata": {},
     "output_type": "display_data"
    },
    {
     "data": {
      "application/vnd.jupyter.widget-view+json": {
       "model_id": "e0d04b72f2a2420c9d4182af6bb2f1a1",
       "version_major": 2,
       "version_minor": 0
      },
      "text/plain": [
       "Output()"
      ]
     },
     "metadata": {},
     "output_type": "display_data"
    },
    {
     "data": {
      "text/html": [
       "<pre style=\"white-space:pre;overflow-x:auto;line-height:normal;font-family:Menlo,'DejaVu Sans Mono',consolas,'Courier New',monospace\">Event loop is already running. Applying nest_asyncio patch to allow async execution...\n",
       "</pre>\n"
      ],
      "text/plain": [
       "Event loop is already running. Applying nest_asyncio patch to allow async execution...\n"
      ]
     },
     "metadata": {},
     "output_type": "display_data"
    },
    {
     "data": {
      "text/html": [
       "<pre style=\"white-space:pre;overflow-x:auto;line-height:normal;font-family:Menlo,'DejaVu Sans Mono',consolas,'Courier New',monospace\"></pre>\n"
      ],
      "text/plain": []
     },
     "metadata": {},
     "output_type": "display_data"
    },
    {
     "data": {
      "application/vnd.jupyter.widget-view+json": {
       "model_id": "a4fccbb32d9e42c59930a0e778b99ab1",
       "version_major": 2,
       "version_minor": 0
      },
      "text/plain": [
       "Output()"
      ]
     },
     "metadata": {},
     "output_type": "display_data"
    },
    {
     "data": {
      "text/html": [
       "<pre style=\"white-space:pre;overflow-x:auto;line-height:normal;font-family:Menlo,'DejaVu Sans Mono',consolas,'Courier New',monospace\">Event loop is already running. Applying nest_asyncio patch to allow async execution...\n",
       "</pre>\n"
      ],
      "text/plain": [
       "Event loop is already running. Applying nest_asyncio patch to allow async execution...\n"
      ]
     },
     "metadata": {},
     "output_type": "display_data"
    },
    {
     "data": {
      "text/html": [
       "<pre style=\"white-space:pre;overflow-x:auto;line-height:normal;font-family:Menlo,'DejaVu Sans Mono',consolas,'Courier New',monospace\"></pre>\n"
      ],
      "text/plain": []
     },
     "metadata": {},
     "output_type": "display_data"
    },
    {
     "data": {
      "application/vnd.jupyter.widget-view+json": {
       "model_id": "a0fbf387df074e0e96fa1f702be62f7b",
       "version_major": 2,
       "version_minor": 0
      },
      "text/plain": [
       "Output()"
      ]
     },
     "metadata": {},
     "output_type": "display_data"
    },
    {
     "data": {
      "text/html": [
       "<pre style=\"white-space:pre;overflow-x:auto;line-height:normal;font-family:Menlo,'DejaVu Sans Mono',consolas,'Courier New',monospace\">Event loop is already running. Applying nest_asyncio patch to allow async execution...\n",
       "</pre>\n"
      ],
      "text/plain": [
       "Event loop is already running. Applying nest_asyncio patch to allow async execution...\n"
      ]
     },
     "metadata": {},
     "output_type": "display_data"
    },
    {
     "data": {
      "text/html": [
       "<pre style=\"white-space:pre;overflow-x:auto;line-height:normal;font-family:Menlo,'DejaVu Sans Mono',consolas,'Courier New',monospace\"></pre>\n"
      ],
      "text/plain": []
     },
     "metadata": {},
     "output_type": "display_data"
    },
    {
     "data": {
      "application/vnd.jupyter.widget-view+json": {
       "model_id": "ae147461437a400a99b7aee551e3d6ad",
       "version_major": 2,
       "version_minor": 0
      },
      "text/plain": [
       "Output()"
      ]
     },
     "metadata": {},
     "output_type": "display_data"
    },
    {
     "data": {
      "text/html": [
       "<pre style=\"white-space:pre;overflow-x:auto;line-height:normal;font-family:Menlo,'DejaVu Sans Mono',consolas,'Courier New',monospace\">Event loop is already running. Applying nest_asyncio patch to allow async execution...\n",
       "</pre>\n"
      ],
      "text/plain": [
       "Event loop is already running. Applying nest_asyncio patch to allow async execution...\n"
      ]
     },
     "metadata": {},
     "output_type": "display_data"
    },
    {
     "data": {
      "text/html": [
       "<pre style=\"white-space:pre;overflow-x:auto;line-height:normal;font-family:Menlo,'DejaVu Sans Mono',consolas,'Courier New',monospace\"></pre>\n"
      ],
      "text/plain": []
     },
     "metadata": {},
     "output_type": "display_data"
    },
    {
     "data": {
      "application/vnd.jupyter.widget-view+json": {
       "model_id": "be6b2f4b13334f92bfcbc83325529363",
       "version_major": 2,
       "version_minor": 0
      },
      "text/plain": [
       "Output()"
      ]
     },
     "metadata": {},
     "output_type": "display_data"
    },
    {
     "data": {
      "text/html": [
       "<pre style=\"white-space:pre;overflow-x:auto;line-height:normal;font-family:Menlo,'DejaVu Sans Mono',consolas,'Courier New',monospace\">Event loop is already running. Applying nest_asyncio patch to allow async execution...\n",
       "</pre>\n"
      ],
      "text/plain": [
       "Event loop is already running. Applying nest_asyncio patch to allow async execution...\n"
      ]
     },
     "metadata": {},
     "output_type": "display_data"
    },
    {
     "data": {
      "text/html": [
       "<pre style=\"white-space:pre;overflow-x:auto;line-height:normal;font-family:Menlo,'DejaVu Sans Mono',consolas,'Courier New',monospace\"></pre>\n"
      ],
      "text/plain": []
     },
     "metadata": {},
     "output_type": "display_data"
    },
    {
     "data": {
      "application/vnd.jupyter.widget-view+json": {
       "model_id": "16942954e45542e394cf8ccd2d3966bf",
       "version_major": 2,
       "version_minor": 0
      },
      "text/plain": [
       "Output()"
      ]
     },
     "metadata": {},
     "output_type": "display_data"
    },
    {
     "data": {
      "text/html": [
       "<pre style=\"white-space:pre;overflow-x:auto;line-height:normal;font-family:Menlo,'DejaVu Sans Mono',consolas,'Courier New',monospace\">Event loop is already running. Applying nest_asyncio patch to allow async execution...\n",
       "</pre>\n"
      ],
      "text/plain": [
       "Event loop is already running. Applying nest_asyncio patch to allow async execution...\n"
      ]
     },
     "metadata": {},
     "output_type": "display_data"
    },
    {
     "data": {
      "text/html": [
       "<pre style=\"white-space:pre;overflow-x:auto;line-height:normal;font-family:Menlo,'DejaVu Sans Mono',consolas,'Courier New',monospace\"></pre>\n"
      ],
      "text/plain": []
     },
     "metadata": {},
     "output_type": "display_data"
    },
    {
     "data": {
      "application/vnd.jupyter.widget-view+json": {
       "model_id": "9af38177b4304dd4a4fe870f7b874ba3",
       "version_major": 2,
       "version_minor": 0
      },
      "text/plain": [
       "Output()"
      ]
     },
     "metadata": {},
     "output_type": "display_data"
    },
    {
     "data": {
      "text/html": [
       "<pre style=\"white-space:pre;overflow-x:auto;line-height:normal;font-family:Menlo,'DejaVu Sans Mono',consolas,'Courier New',monospace\">Event loop is already running. Applying nest_asyncio patch to allow async execution...\n",
       "</pre>\n"
      ],
      "text/plain": [
       "Event loop is already running. Applying nest_asyncio patch to allow async execution...\n"
      ]
     },
     "metadata": {},
     "output_type": "display_data"
    },
    {
     "data": {
      "text/html": [
       "<pre style=\"white-space:pre;overflow-x:auto;line-height:normal;font-family:Menlo,'DejaVu Sans Mono',consolas,'Courier New',monospace\"></pre>\n"
      ],
      "text/plain": []
     },
     "metadata": {},
     "output_type": "display_data"
    },
    {
     "data": {
      "application/vnd.jupyter.widget-view+json": {
       "model_id": "f247999a57834b31ab1aae8ca5fefe5a",
       "version_major": 2,
       "version_minor": 0
      },
      "text/plain": [
       "Output()"
      ]
     },
     "metadata": {},
     "output_type": "display_data"
    },
    {
     "data": {
      "text/html": [
       "<pre style=\"white-space:pre;overflow-x:auto;line-height:normal;font-family:Menlo,'DejaVu Sans Mono',consolas,'Courier New',monospace\">Event loop is already running. Applying nest_asyncio patch to allow async execution...\n",
       "</pre>\n"
      ],
      "text/plain": [
       "Event loop is already running. Applying nest_asyncio patch to allow async execution...\n"
      ]
     },
     "metadata": {},
     "output_type": "display_data"
    },
    {
     "data": {
      "text/html": [
       "<pre style=\"white-space:pre;overflow-x:auto;line-height:normal;font-family:Menlo,'DejaVu Sans Mono',consolas,'Courier New',monospace\"></pre>\n"
      ],
      "text/plain": []
     },
     "metadata": {},
     "output_type": "display_data"
    },
    {
     "data": {
      "application/vnd.jupyter.widget-view+json": {
       "model_id": "74ebc66e6eec47638d6a1eacc4b124e0",
       "version_major": 2,
       "version_minor": 0
      },
      "text/plain": [
       "Output()"
      ]
     },
     "metadata": {},
     "output_type": "display_data"
    },
    {
     "data": {
      "text/html": [
       "<pre style=\"white-space:pre;overflow-x:auto;line-height:normal;font-family:Menlo,'DejaVu Sans Mono',consolas,'Courier New',monospace\">Event loop is already running. Applying nest_asyncio patch to allow async execution...\n",
       "</pre>\n"
      ],
      "text/plain": [
       "Event loop is already running. Applying nest_asyncio patch to allow async execution...\n"
      ]
     },
     "metadata": {},
     "output_type": "display_data"
    },
    {
     "data": {
      "text/html": [
       "<pre style=\"white-space:pre;overflow-x:auto;line-height:normal;font-family:Menlo,'DejaVu Sans Mono',consolas,'Courier New',monospace\"></pre>\n"
      ],
      "text/plain": []
     },
     "metadata": {},
     "output_type": "display_data"
    },
    {
     "data": {
      "application/vnd.jupyter.widget-view+json": {
       "model_id": "ce610b820fb64aa7bb60c1cc2ff77b62",
       "version_major": 2,
       "version_minor": 0
      },
      "text/plain": [
       "Output()"
      ]
     },
     "metadata": {},
     "output_type": "display_data"
    },
    {
     "data": {
      "text/html": [
       "<pre style=\"white-space:pre;overflow-x:auto;line-height:normal;font-family:Menlo,'DejaVu Sans Mono',consolas,'Courier New',monospace\">Event loop is already running. Applying nest_asyncio patch to allow async execution...\n",
       "</pre>\n"
      ],
      "text/plain": [
       "Event loop is already running. Applying nest_asyncio patch to allow async execution...\n"
      ]
     },
     "metadata": {},
     "output_type": "display_data"
    },
    {
     "data": {
      "text/html": [
       "<pre style=\"white-space:pre;overflow-x:auto;line-height:normal;font-family:Menlo,'DejaVu Sans Mono',consolas,'Courier New',monospace\"></pre>\n"
      ],
      "text/plain": []
     },
     "metadata": {},
     "output_type": "display_data"
    },
    {
     "data": {
      "application/vnd.jupyter.widget-view+json": {
       "model_id": "d530c9d5effa4d32bd6ca9480689ff5d",
       "version_major": 2,
       "version_minor": 0
      },
      "text/plain": [
       "Output()"
      ]
     },
     "metadata": {},
     "output_type": "display_data"
    },
    {
     "data": {
      "text/html": [
       "<pre style=\"white-space:pre;overflow-x:auto;line-height:normal;font-family:Menlo,'DejaVu Sans Mono',consolas,'Courier New',monospace\">Event loop is already running. Applying nest_asyncio patch to allow async execution...\n",
       "</pre>\n"
      ],
      "text/plain": [
       "Event loop is already running. Applying nest_asyncio patch to allow async execution...\n"
      ]
     },
     "metadata": {},
     "output_type": "display_data"
    },
    {
     "data": {
      "text/html": [
       "<pre style=\"white-space:pre;overflow-x:auto;line-height:normal;font-family:Menlo,'DejaVu Sans Mono',consolas,'Courier New',monospace\"></pre>\n"
      ],
      "text/plain": []
     },
     "metadata": {},
     "output_type": "display_data"
    },
    {
     "data": {
      "application/vnd.jupyter.widget-view+json": {
       "model_id": "4f8fa89a2a3e476586b58ac51cce281b",
       "version_major": 2,
       "version_minor": 0
      },
      "text/plain": [
       "Output()"
      ]
     },
     "metadata": {},
     "output_type": "display_data"
    },
    {
     "data": {
      "text/html": [
       "<pre style=\"white-space:pre;overflow-x:auto;line-height:normal;font-family:Menlo,'DejaVu Sans Mono',consolas,'Courier New',monospace\">Event loop is already running. Applying nest_asyncio patch to allow async execution...\n",
       "</pre>\n"
      ],
      "text/plain": [
       "Event loop is already running. Applying nest_asyncio patch to allow async execution...\n"
      ]
     },
     "metadata": {},
     "output_type": "display_data"
    },
    {
     "data": {
      "text/html": [
       "<pre style=\"white-space:pre;overflow-x:auto;line-height:normal;font-family:Menlo,'DejaVu Sans Mono',consolas,'Courier New',monospace\"></pre>\n"
      ],
      "text/plain": []
     },
     "metadata": {},
     "output_type": "display_data"
    },
    {
     "data": {
      "application/vnd.jupyter.widget-view+json": {
       "model_id": "e8099cc4161646eb879593ee5820c61b",
       "version_major": 2,
       "version_minor": 0
      },
      "text/plain": [
       "Output()"
      ]
     },
     "metadata": {},
     "output_type": "display_data"
    },
    {
     "data": {
      "text/html": [
       "<pre style=\"white-space:pre;overflow-x:auto;line-height:normal;font-family:Menlo,'DejaVu Sans Mono',consolas,'Courier New',monospace\">Event loop is already running. Applying nest_asyncio patch to allow async execution...\n",
       "</pre>\n"
      ],
      "text/plain": [
       "Event loop is already running. Applying nest_asyncio patch to allow async execution...\n"
      ]
     },
     "metadata": {},
     "output_type": "display_data"
    },
    {
     "data": {
      "text/html": [
       "<pre style=\"white-space:pre;overflow-x:auto;line-height:normal;font-family:Menlo,'DejaVu Sans Mono',consolas,'Courier New',monospace\"></pre>\n"
      ],
      "text/plain": []
     },
     "metadata": {},
     "output_type": "display_data"
    },
    {
     "data": {
      "application/vnd.jupyter.widget-view+json": {
       "model_id": "81ad1dbb4a7141d69407733ba7c0b907",
       "version_major": 2,
       "version_minor": 0
      },
      "text/plain": [
       "Output()"
      ]
     },
     "metadata": {},
     "output_type": "display_data"
    },
    {
     "data": {
      "text/html": [
       "<pre style=\"white-space:pre;overflow-x:auto;line-height:normal;font-family:Menlo,'DejaVu Sans Mono',consolas,'Courier New',monospace\">Event loop is already running. Applying nest_asyncio patch to allow async execution...\n",
       "</pre>\n"
      ],
      "text/plain": [
       "Event loop is already running. Applying nest_asyncio patch to allow async execution...\n"
      ]
     },
     "metadata": {},
     "output_type": "display_data"
    },
    {
     "data": {
      "text/html": [
       "<pre style=\"white-space:pre;overflow-x:auto;line-height:normal;font-family:Menlo,'DejaVu Sans Mono',consolas,'Courier New',monospace\"></pre>\n"
      ],
      "text/plain": []
     },
     "metadata": {},
     "output_type": "display_data"
    },
    {
     "data": {
      "application/vnd.jupyter.widget-view+json": {
       "model_id": "28e9e71a9ab34056b1187450f11b4250",
       "version_major": 2,
       "version_minor": 0
      },
      "text/plain": [
       "Output()"
      ]
     },
     "metadata": {},
     "output_type": "display_data"
    },
    {
     "data": {
      "text/html": [
       "<pre style=\"white-space:pre;overflow-x:auto;line-height:normal;font-family:Menlo,'DejaVu Sans Mono',consolas,'Courier New',monospace\">Event loop is already running. Applying nest_asyncio patch to allow async execution...\n",
       "</pre>\n"
      ],
      "text/plain": [
       "Event loop is already running. Applying nest_asyncio patch to allow async execution...\n"
      ]
     },
     "metadata": {},
     "output_type": "display_data"
    },
    {
     "data": {
      "text/html": [
       "<pre style=\"white-space:pre;overflow-x:auto;line-height:normal;font-family:Menlo,'DejaVu Sans Mono',consolas,'Courier New',monospace\"></pre>\n"
      ],
      "text/plain": []
     },
     "metadata": {},
     "output_type": "display_data"
    },
    {
     "data": {
      "application/vnd.jupyter.widget-view+json": {
       "model_id": "fe7a3aa0b5fd45fc95c40cefea425e43",
       "version_major": 2,
       "version_minor": 0
      },
      "text/plain": [
       "Output()"
      ]
     },
     "metadata": {},
     "output_type": "display_data"
    },
    {
     "data": {
      "text/html": [
       "<pre style=\"white-space:pre;overflow-x:auto;line-height:normal;font-family:Menlo,'DejaVu Sans Mono',consolas,'Courier New',monospace\">Event loop is already running. Applying nest_asyncio patch to allow async execution...\n",
       "</pre>\n"
      ],
      "text/plain": [
       "Event loop is already running. Applying nest_asyncio patch to allow async execution...\n"
      ]
     },
     "metadata": {},
     "output_type": "display_data"
    },
    {
     "data": {
      "text/html": [
       "<pre style=\"white-space:pre;overflow-x:auto;line-height:normal;font-family:Menlo,'DejaVu Sans Mono',consolas,'Courier New',monospace\"></pre>\n"
      ],
      "text/plain": []
     },
     "metadata": {},
     "output_type": "display_data"
    },
    {
     "data": {
      "application/vnd.jupyter.widget-view+json": {
       "model_id": "ab195d75479c49429a27cab67047b5e1",
       "version_major": 2,
       "version_minor": 0
      },
      "text/plain": [
       "Output()"
      ]
     },
     "metadata": {},
     "output_type": "display_data"
    },
    {
     "data": {
      "text/html": [
       "<pre style=\"white-space:pre;overflow-x:auto;line-height:normal;font-family:Menlo,'DejaVu Sans Mono',consolas,'Courier New',monospace\">Event loop is already running. Applying nest_asyncio patch to allow async execution...\n",
       "</pre>\n"
      ],
      "text/plain": [
       "Event loop is already running. Applying nest_asyncio patch to allow async execution...\n"
      ]
     },
     "metadata": {},
     "output_type": "display_data"
    },
    {
     "data": {
      "text/html": [
       "<pre style=\"white-space:pre;overflow-x:auto;line-height:normal;font-family:Menlo,'DejaVu Sans Mono',consolas,'Courier New',monospace\"></pre>\n"
      ],
      "text/plain": []
     },
     "metadata": {},
     "output_type": "display_data"
    },
    {
     "data": {
      "application/vnd.jupyter.widget-view+json": {
       "model_id": "c20d8aa66e3a43758970cfef2e7a5758",
       "version_major": 2,
       "version_minor": 0
      },
      "text/plain": [
       "Output()"
      ]
     },
     "metadata": {},
     "output_type": "display_data"
    },
    {
     "data": {
      "text/html": [
       "<pre style=\"white-space:pre;overflow-x:auto;line-height:normal;font-family:Menlo,'DejaVu Sans Mono',consolas,'Courier New',monospace\">Event loop is already running. Applying nest_asyncio patch to allow async execution...\n",
       "</pre>\n"
      ],
      "text/plain": [
       "Event loop is already running. Applying nest_asyncio patch to allow async execution...\n"
      ]
     },
     "metadata": {},
     "output_type": "display_data"
    },
    {
     "data": {
      "text/html": [
       "<pre style=\"white-space:pre;overflow-x:auto;line-height:normal;font-family:Menlo,'DejaVu Sans Mono',consolas,'Courier New',monospace\"></pre>\n"
      ],
      "text/plain": []
     },
     "metadata": {},
     "output_type": "display_data"
    },
    {
     "data": {
      "application/vnd.jupyter.widget-view+json": {
       "model_id": "a9340cab62554834808b47c08c7a78d6",
       "version_major": 2,
       "version_minor": 0
      },
      "text/plain": [
       "Output()"
      ]
     },
     "metadata": {},
     "output_type": "display_data"
    },
    {
     "data": {
      "text/html": [
       "<pre style=\"white-space:pre;overflow-x:auto;line-height:normal;font-family:Menlo,'DejaVu Sans Mono',consolas,'Courier New',monospace\">Event loop is already running. Applying nest_asyncio patch to allow async execution...\n",
       "</pre>\n"
      ],
      "text/plain": [
       "Event loop is already running. Applying nest_asyncio patch to allow async execution...\n"
      ]
     },
     "metadata": {},
     "output_type": "display_data"
    },
    {
     "data": {
      "text/html": [
       "<pre style=\"white-space:pre;overflow-x:auto;line-height:normal;font-family:Menlo,'DejaVu Sans Mono',consolas,'Courier New',monospace\"></pre>\n"
      ],
      "text/plain": []
     },
     "metadata": {},
     "output_type": "display_data"
    },
    {
     "data": {
      "application/vnd.jupyter.widget-view+json": {
       "model_id": "4bae854592f04d059f6795b5ccc293bd",
       "version_major": 2,
       "version_minor": 0
      },
      "text/plain": [
       "Output()"
      ]
     },
     "metadata": {},
     "output_type": "display_data"
    },
    {
     "data": {
      "text/html": [
       "<pre style=\"white-space:pre;overflow-x:auto;line-height:normal;font-family:Menlo,'DejaVu Sans Mono',consolas,'Courier New',monospace\">Event loop is already running. Applying nest_asyncio patch to allow async execution...\n",
       "</pre>\n"
      ],
      "text/plain": [
       "Event loop is already running. Applying nest_asyncio patch to allow async execution...\n"
      ]
     },
     "metadata": {},
     "output_type": "display_data"
    },
    {
     "data": {
      "text/html": [
       "<pre style=\"white-space:pre;overflow-x:auto;line-height:normal;font-family:Menlo,'DejaVu Sans Mono',consolas,'Courier New',monospace\"></pre>\n"
      ],
      "text/plain": []
     },
     "metadata": {},
     "output_type": "display_data"
    },
    {
     "data": {
      "application/vnd.jupyter.widget-view+json": {
       "model_id": "39e1ca8194e94dc79ae3b52336f88528",
       "version_major": 2,
       "version_minor": 0
      },
      "text/plain": [
       "Output()"
      ]
     },
     "metadata": {},
     "output_type": "display_data"
    },
    {
     "data": {
      "text/html": [
       "<pre style=\"white-space:pre;overflow-x:auto;line-height:normal;font-family:Menlo,'DejaVu Sans Mono',consolas,'Courier New',monospace\">Event loop is already running. Applying nest_asyncio patch to allow async execution...\n",
       "</pre>\n"
      ],
      "text/plain": [
       "Event loop is already running. Applying nest_asyncio patch to allow async execution...\n"
      ]
     },
     "metadata": {},
     "output_type": "display_data"
    },
    {
     "data": {
      "text/html": [
       "<pre style=\"white-space:pre;overflow-x:auto;line-height:normal;font-family:Menlo,'DejaVu Sans Mono',consolas,'Courier New',monospace\"></pre>\n"
      ],
      "text/plain": []
     },
     "metadata": {},
     "output_type": "display_data"
    },
    {
     "data": {
      "application/vnd.jupyter.widget-view+json": {
       "model_id": "100c12f3145d49c18044dc80c5fa2bb0",
       "version_major": 2,
       "version_minor": 0
      },
      "text/plain": [
       "Output()"
      ]
     },
     "metadata": {},
     "output_type": "display_data"
    },
    {
     "data": {
      "text/html": [
       "<pre style=\"white-space:pre;overflow-x:auto;line-height:normal;font-family:Menlo,'DejaVu Sans Mono',consolas,'Courier New',monospace\">Event loop is already running. Applying nest_asyncio patch to allow async execution...\n",
       "</pre>\n"
      ],
      "text/plain": [
       "Event loop is already running. Applying nest_asyncio patch to allow async execution...\n"
      ]
     },
     "metadata": {},
     "output_type": "display_data"
    },
    {
     "data": {
      "text/html": [
       "<pre style=\"white-space:pre;overflow-x:auto;line-height:normal;font-family:Menlo,'DejaVu Sans Mono',consolas,'Courier New',monospace\"></pre>\n"
      ],
      "text/plain": []
     },
     "metadata": {},
     "output_type": "display_data"
    },
    {
     "data": {
      "application/vnd.jupyter.widget-view+json": {
       "model_id": "1b2850f1a6ad41e5871a83169ccd8910",
       "version_major": 2,
       "version_minor": 0
      },
      "text/plain": [
       "Output()"
      ]
     },
     "metadata": {},
     "output_type": "display_data"
    },
    {
     "data": {
      "text/html": [
       "<pre style=\"white-space:pre;overflow-x:auto;line-height:normal;font-family:Menlo,'DejaVu Sans Mono',consolas,'Courier New',monospace\">Event loop is already running. Applying nest_asyncio patch to allow async execution...\n",
       "</pre>\n"
      ],
      "text/plain": [
       "Event loop is already running. Applying nest_asyncio patch to allow async execution...\n"
      ]
     },
     "metadata": {},
     "output_type": "display_data"
    },
    {
     "data": {
      "text/html": [
       "<pre style=\"white-space:pre;overflow-x:auto;line-height:normal;font-family:Menlo,'DejaVu Sans Mono',consolas,'Courier New',monospace\"></pre>\n"
      ],
      "text/plain": []
     },
     "metadata": {},
     "output_type": "display_data"
    },
    {
     "data": {
      "application/vnd.jupyter.widget-view+json": {
       "model_id": "e87c1533674e498a9d8c436e14690f51",
       "version_major": 2,
       "version_minor": 0
      },
      "text/plain": [
       "Output()"
      ]
     },
     "metadata": {},
     "output_type": "display_data"
    },
    {
     "data": {
      "text/html": [
       "<pre style=\"white-space:pre;overflow-x:auto;line-height:normal;font-family:Menlo,'DejaVu Sans Mono',consolas,'Courier New',monospace\">Event loop is already running. Applying nest_asyncio patch to allow async execution...\n",
       "</pre>\n"
      ],
      "text/plain": [
       "Event loop is already running. Applying nest_asyncio patch to allow async execution...\n"
      ]
     },
     "metadata": {},
     "output_type": "display_data"
    },
    {
     "data": {
      "text/html": [
       "<pre style=\"white-space:pre;overflow-x:auto;line-height:normal;font-family:Menlo,'DejaVu Sans Mono',consolas,'Courier New',monospace\"></pre>\n"
      ],
      "text/plain": []
     },
     "metadata": {},
     "output_type": "display_data"
    },
    {
     "data": {
      "application/vnd.jupyter.widget-view+json": {
       "model_id": "103f6b1d0aaa4fc7ba3637c071050343",
       "version_major": 2,
       "version_minor": 0
      },
      "text/plain": [
       "Output()"
      ]
     },
     "metadata": {},
     "output_type": "display_data"
    },
    {
     "data": {
      "text/html": [
       "<pre style=\"white-space:pre;overflow-x:auto;line-height:normal;font-family:Menlo,'DejaVu Sans Mono',consolas,'Courier New',monospace\">Event loop is already running. Applying nest_asyncio patch to allow async execution...\n",
       "</pre>\n"
      ],
      "text/plain": [
       "Event loop is already running. Applying nest_asyncio patch to allow async execution...\n"
      ]
     },
     "metadata": {},
     "output_type": "display_data"
    },
    {
     "data": {
      "text/html": [
       "<pre style=\"white-space:pre;overflow-x:auto;line-height:normal;font-family:Menlo,'DejaVu Sans Mono',consolas,'Courier New',monospace\"></pre>\n"
      ],
      "text/plain": []
     },
     "metadata": {},
     "output_type": "display_data"
    },
    {
     "data": {
      "application/vnd.jupyter.widget-view+json": {
       "model_id": "8f0de96ee91b4b64999e02c31aa9f93f",
       "version_major": 2,
       "version_minor": 0
      },
      "text/plain": [
       "Output()"
      ]
     },
     "metadata": {},
     "output_type": "display_data"
    },
    {
     "data": {
      "text/html": [
       "<pre style=\"white-space:pre;overflow-x:auto;line-height:normal;font-family:Menlo,'DejaVu Sans Mono',consolas,'Courier New',monospace\">Event loop is already running. Applying nest_asyncio patch to allow async execution...\n",
       "</pre>\n"
      ],
      "text/plain": [
       "Event loop is already running. Applying nest_asyncio patch to allow async execution...\n"
      ]
     },
     "metadata": {},
     "output_type": "display_data"
    },
    {
     "data": {
      "text/html": [
       "<pre style=\"white-space:pre;overflow-x:auto;line-height:normal;font-family:Menlo,'DejaVu Sans Mono',consolas,'Courier New',monospace\"></pre>\n"
      ],
      "text/plain": []
     },
     "metadata": {},
     "output_type": "display_data"
    },
    {
     "data": {
      "application/vnd.jupyter.widget-view+json": {
       "model_id": "ff56dd7571c84cbc8ee9be137cc4bbf9",
       "version_major": 2,
       "version_minor": 0
      },
      "text/plain": [
       "Output()"
      ]
     },
     "metadata": {},
     "output_type": "display_data"
    },
    {
     "data": {
      "text/html": [
       "<pre style=\"white-space:pre;overflow-x:auto;line-height:normal;font-family:Menlo,'DejaVu Sans Mono',consolas,'Courier New',monospace\">Event loop is already running. Applying nest_asyncio patch to allow async execution...\n",
       "</pre>\n"
      ],
      "text/plain": [
       "Event loop is already running. Applying nest_asyncio patch to allow async execution...\n"
      ]
     },
     "metadata": {},
     "output_type": "display_data"
    },
    {
     "data": {
      "text/html": [
       "<pre style=\"white-space:pre;overflow-x:auto;line-height:normal;font-family:Menlo,'DejaVu Sans Mono',consolas,'Courier New',monospace\"></pre>\n"
      ],
      "text/plain": []
     },
     "metadata": {},
     "output_type": "display_data"
    },
    {
     "data": {
      "application/vnd.jupyter.widget-view+json": {
       "model_id": "42349b2902164e4f99cc29b196563f08",
       "version_major": 2,
       "version_minor": 0
      },
      "text/plain": [
       "Output()"
      ]
     },
     "metadata": {},
     "output_type": "display_data"
    },
    {
     "data": {
      "text/html": [
       "<pre style=\"white-space:pre;overflow-x:auto;line-height:normal;font-family:Menlo,'DejaVu Sans Mono',consolas,'Courier New',monospace\">Event loop is already running. Applying nest_asyncio patch to allow async execution...\n",
       "</pre>\n"
      ],
      "text/plain": [
       "Event loop is already running. Applying nest_asyncio patch to allow async execution...\n"
      ]
     },
     "metadata": {},
     "output_type": "display_data"
    },
    {
     "data": {
      "text/html": [
       "<pre style=\"white-space:pre;overflow-x:auto;line-height:normal;font-family:Menlo,'DejaVu Sans Mono',consolas,'Courier New',monospace\"></pre>\n"
      ],
      "text/plain": []
     },
     "metadata": {},
     "output_type": "display_data"
    },
    {
     "data": {
      "application/vnd.jupyter.widget-view+json": {
       "model_id": "da74f90d15a842e188568d1f98696b9c",
       "version_major": 2,
       "version_minor": 0
      },
      "text/plain": [
       "Output()"
      ]
     },
     "metadata": {},
     "output_type": "display_data"
    },
    {
     "data": {
      "text/html": [
       "<pre style=\"white-space:pre;overflow-x:auto;line-height:normal;font-family:Menlo,'DejaVu Sans Mono',consolas,'Courier New',monospace\">Event loop is already running. Applying nest_asyncio patch to allow async execution...\n",
       "</pre>\n"
      ],
      "text/plain": [
       "Event loop is already running. Applying nest_asyncio patch to allow async execution...\n"
      ]
     },
     "metadata": {},
     "output_type": "display_data"
    },
    {
     "data": {
      "text/html": [
       "<pre style=\"white-space:pre;overflow-x:auto;line-height:normal;font-family:Menlo,'DejaVu Sans Mono',consolas,'Courier New',monospace\"></pre>\n"
      ],
      "text/plain": []
     },
     "metadata": {},
     "output_type": "display_data"
    },
    {
     "data": {
      "application/vnd.jupyter.widget-view+json": {
       "model_id": "9aa01ce1a9014dacaa35118f52b3608b",
       "version_major": 2,
       "version_minor": 0
      },
      "text/plain": [
       "Output()"
      ]
     },
     "metadata": {},
     "output_type": "display_data"
    },
    {
     "data": {
      "text/html": [
       "<pre style=\"white-space:pre;overflow-x:auto;line-height:normal;font-family:Menlo,'DejaVu Sans Mono',consolas,'Courier New',monospace\">Event loop is already running. Applying nest_asyncio patch to allow async execution...\n",
       "</pre>\n"
      ],
      "text/plain": [
       "Event loop is already running. Applying nest_asyncio patch to allow async execution...\n"
      ]
     },
     "metadata": {},
     "output_type": "display_data"
    },
    {
     "data": {
      "text/html": [
       "<pre style=\"white-space:pre;overflow-x:auto;line-height:normal;font-family:Menlo,'DejaVu Sans Mono',consolas,'Courier New',monospace\"></pre>\n"
      ],
      "text/plain": []
     },
     "metadata": {},
     "output_type": "display_data"
    },
    {
     "data": {
      "application/vnd.jupyter.widget-view+json": {
       "model_id": "e1465825bb6d46138ba913f141ed62cb",
       "version_major": 2,
       "version_minor": 0
      },
      "text/plain": [
       "Output()"
      ]
     },
     "metadata": {},
     "output_type": "display_data"
    },
    {
     "data": {
      "text/html": [
       "<pre style=\"white-space:pre;overflow-x:auto;line-height:normal;font-family:Menlo,'DejaVu Sans Mono',consolas,'Courier New',monospace\">Event loop is already running. Applying nest_asyncio patch to allow async execution...\n",
       "</pre>\n"
      ],
      "text/plain": [
       "Event loop is already running. Applying nest_asyncio patch to allow async execution...\n"
      ]
     },
     "metadata": {},
     "output_type": "display_data"
    },
    {
     "data": {
      "text/html": [
       "<pre style=\"white-space:pre;overflow-x:auto;line-height:normal;font-family:Menlo,'DejaVu Sans Mono',consolas,'Courier New',monospace\"></pre>\n"
      ],
      "text/plain": []
     },
     "metadata": {},
     "output_type": "display_data"
    },
    {
     "data": {
      "application/vnd.jupyter.widget-view+json": {
       "model_id": "502e3a3b27da418fa9cb1e2cc2e868be",
       "version_major": 2,
       "version_minor": 0
      },
      "text/plain": [
       "Output()"
      ]
     },
     "metadata": {},
     "output_type": "display_data"
    },
    {
     "data": {
      "text/html": [
       "<pre style=\"white-space:pre;overflow-x:auto;line-height:normal;font-family:Menlo,'DejaVu Sans Mono',consolas,'Courier New',monospace\">Event loop is already running. Applying nest_asyncio patch to allow async execution...\n",
       "</pre>\n"
      ],
      "text/plain": [
       "Event loop is already running. Applying nest_asyncio patch to allow async execution...\n"
      ]
     },
     "metadata": {},
     "output_type": "display_data"
    },
    {
     "data": {
      "text/html": [
       "<pre style=\"white-space:pre;overflow-x:auto;line-height:normal;font-family:Menlo,'DejaVu Sans Mono',consolas,'Courier New',monospace\"></pre>\n"
      ],
      "text/plain": []
     },
     "metadata": {},
     "output_type": "display_data"
    },
    {
     "data": {
      "application/vnd.jupyter.widget-view+json": {
       "model_id": "4a6f80d2fdfe4f8b877521e46c573bb3",
       "version_major": 2,
       "version_minor": 0
      },
      "text/plain": [
       "Output()"
      ]
     },
     "metadata": {},
     "output_type": "display_data"
    },
    {
     "data": {
      "text/html": [
       "<pre style=\"white-space:pre;overflow-x:auto;line-height:normal;font-family:Menlo,'DejaVu Sans Mono',consolas,'Courier New',monospace\">Event loop is already running. Applying nest_asyncio patch to allow async execution...\n",
       "</pre>\n"
      ],
      "text/plain": [
       "Event loop is already running. Applying nest_asyncio patch to allow async execution...\n"
      ]
     },
     "metadata": {},
     "output_type": "display_data"
    },
    {
     "data": {
      "text/html": [
       "<pre style=\"white-space:pre;overflow-x:auto;line-height:normal;font-family:Menlo,'DejaVu Sans Mono',consolas,'Courier New',monospace\"></pre>\n"
      ],
      "text/plain": []
     },
     "metadata": {},
     "output_type": "display_data"
    },
    {
     "data": {
      "application/vnd.jupyter.widget-view+json": {
       "model_id": "8f9c9846a3a14959962a0fb3e435a86b",
       "version_major": 2,
       "version_minor": 0
      },
      "text/plain": [
       "Output()"
      ]
     },
     "metadata": {},
     "output_type": "display_data"
    },
    {
     "data": {
      "text/html": [
       "<pre style=\"white-space:pre;overflow-x:auto;line-height:normal;font-family:Menlo,'DejaVu Sans Mono',consolas,'Courier New',monospace\">Event loop is already running. Applying nest_asyncio patch to allow async execution...\n",
       "</pre>\n"
      ],
      "text/plain": [
       "Event loop is already running. Applying nest_asyncio patch to allow async execution...\n"
      ]
     },
     "metadata": {},
     "output_type": "display_data"
    },
    {
     "data": {
      "text/html": [
       "<pre style=\"white-space:pre;overflow-x:auto;line-height:normal;font-family:Menlo,'DejaVu Sans Mono',consolas,'Courier New',monospace\"></pre>\n"
      ],
      "text/plain": []
     },
     "metadata": {},
     "output_type": "display_data"
    },
    {
     "data": {
      "application/vnd.jupyter.widget-view+json": {
       "model_id": "6be5df3f99c1419982bf686e835da79b",
       "version_major": 2,
       "version_minor": 0
      },
      "text/plain": [
       "Output()"
      ]
     },
     "metadata": {},
     "output_type": "display_data"
    },
    {
     "data": {
      "text/html": [
       "<pre style=\"white-space:pre;overflow-x:auto;line-height:normal;font-family:Menlo,'DejaVu Sans Mono',consolas,'Courier New',monospace\">Event loop is already running. Applying nest_asyncio patch to allow async execution...\n",
       "</pre>\n"
      ],
      "text/plain": [
       "Event loop is already running. Applying nest_asyncio patch to allow async execution...\n"
      ]
     },
     "metadata": {},
     "output_type": "display_data"
    },
    {
     "data": {
      "text/html": [
       "<pre style=\"white-space:pre;overflow-x:auto;line-height:normal;font-family:Menlo,'DejaVu Sans Mono',consolas,'Courier New',monospace\"></pre>\n"
      ],
      "text/plain": []
     },
     "metadata": {},
     "output_type": "display_data"
    },
    {
     "data": {
      "application/vnd.jupyter.widget-view+json": {
       "model_id": "94038c0cba564ad4afd6ee720425c78e",
       "version_major": 2,
       "version_minor": 0
      },
      "text/plain": [
       "Output()"
      ]
     },
     "metadata": {},
     "output_type": "display_data"
    },
    {
     "data": {
      "text/html": [
       "<pre style=\"white-space:pre;overflow-x:auto;line-height:normal;font-family:Menlo,'DejaVu Sans Mono',consolas,'Courier New',monospace\">Event loop is already running. Applying nest_asyncio patch to allow async execution...\n",
       "</pre>\n"
      ],
      "text/plain": [
       "Event loop is already running. Applying nest_asyncio patch to allow async execution...\n"
      ]
     },
     "metadata": {},
     "output_type": "display_data"
    },
    {
     "data": {
      "text/html": [
       "<pre style=\"white-space:pre;overflow-x:auto;line-height:normal;font-family:Menlo,'DejaVu Sans Mono',consolas,'Courier New',monospace\"></pre>\n"
      ],
      "text/plain": []
     },
     "metadata": {},
     "output_type": "display_data"
    },
    {
     "data": {
      "application/vnd.jupyter.widget-view+json": {
       "model_id": "53c349c35f9b4cbcae5b236359206130",
       "version_major": 2,
       "version_minor": 0
      },
      "text/plain": [
       "Output()"
      ]
     },
     "metadata": {},
     "output_type": "display_data"
    },
    {
     "data": {
      "text/html": [
       "<pre style=\"white-space:pre;overflow-x:auto;line-height:normal;font-family:Menlo,'DejaVu Sans Mono',consolas,'Courier New',monospace\">Event loop is already running. Applying nest_asyncio patch to allow async execution...\n",
       "</pre>\n"
      ],
      "text/plain": [
       "Event loop is already running. Applying nest_asyncio patch to allow async execution...\n"
      ]
     },
     "metadata": {},
     "output_type": "display_data"
    },
    {
     "data": {
      "text/html": [
       "<pre style=\"white-space:pre;overflow-x:auto;line-height:normal;font-family:Menlo,'DejaVu Sans Mono',consolas,'Courier New',monospace\"></pre>\n"
      ],
      "text/plain": []
     },
     "metadata": {},
     "output_type": "display_data"
    },
    {
     "data": {
      "application/vnd.jupyter.widget-view+json": {
       "model_id": "d5ae3e1297fa4ec5ad1cc13590b7c3b0",
       "version_major": 2,
       "version_minor": 0
      },
      "text/plain": [
       "Output()"
      ]
     },
     "metadata": {},
     "output_type": "display_data"
    },
    {
     "data": {
      "text/html": [
       "<pre style=\"white-space:pre;overflow-x:auto;line-height:normal;font-family:Menlo,'DejaVu Sans Mono',consolas,'Courier New',monospace\">Event loop is already running. Applying nest_asyncio patch to allow async execution...\n",
       "</pre>\n"
      ],
      "text/plain": [
       "Event loop is already running. Applying nest_asyncio patch to allow async execution...\n"
      ]
     },
     "metadata": {},
     "output_type": "display_data"
    },
    {
     "data": {
      "text/html": [
       "<pre style=\"white-space:pre;overflow-x:auto;line-height:normal;font-family:Menlo,'DejaVu Sans Mono',consolas,'Courier New',monospace\"></pre>\n"
      ],
      "text/plain": []
     },
     "metadata": {},
     "output_type": "display_data"
    },
    {
     "data": {
      "application/vnd.jupyter.widget-view+json": {
       "model_id": "34096447a08941918a70b634132dfc41",
       "version_major": 2,
       "version_minor": 0
      },
      "text/plain": [
       "Output()"
      ]
     },
     "metadata": {},
     "output_type": "display_data"
    },
    {
     "data": {
      "text/html": [
       "<pre style=\"white-space:pre;overflow-x:auto;line-height:normal;font-family:Menlo,'DejaVu Sans Mono',consolas,'Courier New',monospace\">Event loop is already running. Applying nest_asyncio patch to allow async execution...\n",
       "</pre>\n"
      ],
      "text/plain": [
       "Event loop is already running. Applying nest_asyncio patch to allow async execution...\n"
      ]
     },
     "metadata": {},
     "output_type": "display_data"
    },
    {
     "data": {
      "text/html": [
       "<pre style=\"white-space:pre;overflow-x:auto;line-height:normal;font-family:Menlo,'DejaVu Sans Mono',consolas,'Courier New',monospace\"></pre>\n"
      ],
      "text/plain": []
     },
     "metadata": {},
     "output_type": "display_data"
    },
    {
     "data": {
      "application/vnd.jupyter.widget-view+json": {
       "model_id": "88d71fbfa38348d78f8fbd76ed511a40",
       "version_major": 2,
       "version_minor": 0
      },
      "text/plain": [
       "Output()"
      ]
     },
     "metadata": {},
     "output_type": "display_data"
    },
    {
     "data": {
      "text/html": [
       "<pre style=\"white-space:pre;overflow-x:auto;line-height:normal;font-family:Menlo,'DejaVu Sans Mono',consolas,'Courier New',monospace\">Event loop is already running. Applying nest_asyncio patch to allow async execution...\n",
       "</pre>\n"
      ],
      "text/plain": [
       "Event loop is already running. Applying nest_asyncio patch to allow async execution...\n"
      ]
     },
     "metadata": {},
     "output_type": "display_data"
    },
    {
     "data": {
      "text/html": [
       "<pre style=\"white-space:pre;overflow-x:auto;line-height:normal;font-family:Menlo,'DejaVu Sans Mono',consolas,'Courier New',monospace\"></pre>\n"
      ],
      "text/plain": []
     },
     "metadata": {},
     "output_type": "display_data"
    },
    {
     "data": {
      "application/vnd.jupyter.widget-view+json": {
       "model_id": "a5fc8c934236499a862af6b66cc8c06f",
       "version_major": 2,
       "version_minor": 0
      },
      "text/plain": [
       "Output()"
      ]
     },
     "metadata": {},
     "output_type": "display_data"
    },
    {
     "data": {
      "text/html": [
       "<pre style=\"white-space:pre;overflow-x:auto;line-height:normal;font-family:Menlo,'DejaVu Sans Mono',consolas,'Courier New',monospace\">Event loop is already running. Applying nest_asyncio patch to allow async execution...\n",
       "</pre>\n"
      ],
      "text/plain": [
       "Event loop is already running. Applying nest_asyncio patch to allow async execution...\n"
      ]
     },
     "metadata": {},
     "output_type": "display_data"
    },
    {
     "data": {
      "text/html": [
       "<pre style=\"white-space:pre;overflow-x:auto;line-height:normal;font-family:Menlo,'DejaVu Sans Mono',consolas,'Courier New',monospace\"></pre>\n"
      ],
      "text/plain": []
     },
     "metadata": {},
     "output_type": "display_data"
    },
    {
     "data": {
      "application/vnd.jupyter.widget-view+json": {
       "model_id": "a508b2e3a3884f0d9684eaee681024a2",
       "version_major": 2,
       "version_minor": 0
      },
      "text/plain": [
       "Output()"
      ]
     },
     "metadata": {},
     "output_type": "display_data"
    },
    {
     "data": {
      "text/html": [
       "<pre style=\"white-space:pre;overflow-x:auto;line-height:normal;font-family:Menlo,'DejaVu Sans Mono',consolas,'Courier New',monospace\">Event loop is already running. Applying nest_asyncio patch to allow async execution...\n",
       "</pre>\n"
      ],
      "text/plain": [
       "Event loop is already running. Applying nest_asyncio patch to allow async execution...\n"
      ]
     },
     "metadata": {},
     "output_type": "display_data"
    },
    {
     "data": {
      "text/html": [
       "<pre style=\"white-space:pre;overflow-x:auto;line-height:normal;font-family:Menlo,'DejaVu Sans Mono',consolas,'Courier New',monospace\"></pre>\n"
      ],
      "text/plain": []
     },
     "metadata": {},
     "output_type": "display_data"
    },
    {
     "data": {
      "application/vnd.jupyter.widget-view+json": {
       "model_id": "394ee157e2c3482cb2f04bab541d2baf",
       "version_major": 2,
       "version_minor": 0
      },
      "text/plain": [
       "Output()"
      ]
     },
     "metadata": {},
     "output_type": "display_data"
    },
    {
     "data": {
      "text/html": [
       "<pre style=\"white-space:pre;overflow-x:auto;line-height:normal;font-family:Menlo,'DejaVu Sans Mono',consolas,'Courier New',monospace\">Event loop is already running. Applying nest_asyncio patch to allow async execution...\n",
       "</pre>\n"
      ],
      "text/plain": [
       "Event loop is already running. Applying nest_asyncio patch to allow async execution...\n"
      ]
     },
     "metadata": {},
     "output_type": "display_data"
    },
    {
     "data": {
      "text/html": [
       "<pre style=\"white-space:pre;overflow-x:auto;line-height:normal;font-family:Menlo,'DejaVu Sans Mono',consolas,'Courier New',monospace\"></pre>\n"
      ],
      "text/plain": []
     },
     "metadata": {},
     "output_type": "display_data"
    },
    {
     "data": {
      "application/vnd.jupyter.widget-view+json": {
       "model_id": "fe227c8d629d4b198274d7ab4e1d36e1",
       "version_major": 2,
       "version_minor": 0
      },
      "text/plain": [
       "Output()"
      ]
     },
     "metadata": {},
     "output_type": "display_data"
    },
    {
     "data": {
      "text/html": [
       "<pre style=\"white-space:pre;overflow-x:auto;line-height:normal;font-family:Menlo,'DejaVu Sans Mono',consolas,'Courier New',monospace\">Event loop is already running. Applying nest_asyncio patch to allow async execution...\n",
       "</pre>\n"
      ],
      "text/plain": [
       "Event loop is already running. Applying nest_asyncio patch to allow async execution...\n"
      ]
     },
     "metadata": {},
     "output_type": "display_data"
    },
    {
     "data": {
      "text/html": [
       "<pre style=\"white-space:pre;overflow-x:auto;line-height:normal;font-family:Menlo,'DejaVu Sans Mono',consolas,'Courier New',monospace\"></pre>\n"
      ],
      "text/plain": []
     },
     "metadata": {},
     "output_type": "display_data"
    },
    {
     "data": {
      "application/vnd.jupyter.widget-view+json": {
       "model_id": "eb4710147de34b37ad8d87b8461286aa",
       "version_major": 2,
       "version_minor": 0
      },
      "text/plain": [
       "Output()"
      ]
     },
     "metadata": {},
     "output_type": "display_data"
    },
    {
     "data": {
      "text/html": [
       "<pre style=\"white-space:pre;overflow-x:auto;line-height:normal;font-family:Menlo,'DejaVu Sans Mono',consolas,'Courier New',monospace\">Event loop is already running. Applying nest_asyncio patch to allow async execution...\n",
       "</pre>\n"
      ],
      "text/plain": [
       "Event loop is already running. Applying nest_asyncio patch to allow async execution...\n"
      ]
     },
     "metadata": {},
     "output_type": "display_data"
    },
    {
     "data": {
      "text/html": [
       "<pre style=\"white-space:pre;overflow-x:auto;line-height:normal;font-family:Menlo,'DejaVu Sans Mono',consolas,'Courier New',monospace\"></pre>\n"
      ],
      "text/plain": []
     },
     "metadata": {},
     "output_type": "display_data"
    },
    {
     "data": {
      "application/vnd.jupyter.widget-view+json": {
       "model_id": "3761a9ef10db41af8be46c0d546bf806",
       "version_major": 2,
       "version_minor": 0
      },
      "text/plain": [
       "Output()"
      ]
     },
     "metadata": {},
     "output_type": "display_data"
    },
    {
     "data": {
      "text/html": [
       "<pre style=\"white-space:pre;overflow-x:auto;line-height:normal;font-family:Menlo,'DejaVu Sans Mono',consolas,'Courier New',monospace\">Event loop is already running. Applying nest_asyncio patch to allow async execution...\n",
       "</pre>\n"
      ],
      "text/plain": [
       "Event loop is already running. Applying nest_asyncio patch to allow async execution...\n"
      ]
     },
     "metadata": {},
     "output_type": "display_data"
    },
    {
     "data": {
      "text/html": [
       "<pre style=\"white-space:pre;overflow-x:auto;line-height:normal;font-family:Menlo,'DejaVu Sans Mono',consolas,'Courier New',monospace\"></pre>\n"
      ],
      "text/plain": []
     },
     "metadata": {},
     "output_type": "display_data"
    },
    {
     "data": {
      "application/vnd.jupyter.widget-view+json": {
       "model_id": "d55da379197e4a8596fbcafbf36903dc",
       "version_major": 2,
       "version_minor": 0
      },
      "text/plain": [
       "Output()"
      ]
     },
     "metadata": {},
     "output_type": "display_data"
    },
    {
     "data": {
      "text/html": [
       "<pre style=\"white-space:pre;overflow-x:auto;line-height:normal;font-family:Menlo,'DejaVu Sans Mono',consolas,'Courier New',monospace\">Event loop is already running. Applying nest_asyncio patch to allow async execution...\n",
       "</pre>\n"
      ],
      "text/plain": [
       "Event loop is already running. Applying nest_asyncio patch to allow async execution...\n"
      ]
     },
     "metadata": {},
     "output_type": "display_data"
    },
    {
     "data": {
      "text/html": [
       "<pre style=\"white-space:pre;overflow-x:auto;line-height:normal;font-family:Menlo,'DejaVu Sans Mono',consolas,'Courier New',monospace\"></pre>\n"
      ],
      "text/plain": []
     },
     "metadata": {},
     "output_type": "display_data"
    },
    {
     "data": {
      "application/vnd.jupyter.widget-view+json": {
       "model_id": "f1ac0a50e066457881deb1d229e59df2",
       "version_major": 2,
       "version_minor": 0
      },
      "text/plain": [
       "Output()"
      ]
     },
     "metadata": {},
     "output_type": "display_data"
    },
    {
     "data": {
      "text/html": [
       "<pre style=\"white-space:pre;overflow-x:auto;line-height:normal;font-family:Menlo,'DejaVu Sans Mono',consolas,'Courier New',monospace\">Event loop is already running. Applying nest_asyncio patch to allow async execution...\n",
       "</pre>\n"
      ],
      "text/plain": [
       "Event loop is already running. Applying nest_asyncio patch to allow async execution...\n"
      ]
     },
     "metadata": {},
     "output_type": "display_data"
    },
    {
     "data": {
      "text/html": [
       "<pre style=\"white-space:pre;overflow-x:auto;line-height:normal;font-family:Menlo,'DejaVu Sans Mono',consolas,'Courier New',monospace\"></pre>\n"
      ],
      "text/plain": []
     },
     "metadata": {},
     "output_type": "display_data"
    },
    {
     "data": {
      "application/vnd.jupyter.widget-view+json": {
       "model_id": "2ece2b1cbcf74d12a30ecd866b94f16b",
       "version_major": 2,
       "version_minor": 0
      },
      "text/plain": [
       "Output()"
      ]
     },
     "metadata": {},
     "output_type": "display_data"
    },
    {
     "data": {
      "text/html": [
       "<pre style=\"white-space:pre;overflow-x:auto;line-height:normal;font-family:Menlo,'DejaVu Sans Mono',consolas,'Courier New',monospace\">Event loop is already running. Applying nest_asyncio patch to allow async execution...\n",
       "</pre>\n"
      ],
      "text/plain": [
       "Event loop is already running. Applying nest_asyncio patch to allow async execution...\n"
      ]
     },
     "metadata": {},
     "output_type": "display_data"
    },
    {
     "data": {
      "text/html": [
       "<pre style=\"white-space:pre;overflow-x:auto;line-height:normal;font-family:Menlo,'DejaVu Sans Mono',consolas,'Courier New',monospace\"></pre>\n"
      ],
      "text/plain": []
     },
     "metadata": {},
     "output_type": "display_data"
    },
    {
     "data": {
      "application/vnd.jupyter.widget-view+json": {
       "model_id": "9262d94d831c4b479263b87264542cf8",
       "version_major": 2,
       "version_minor": 0
      },
      "text/plain": [
       "Output()"
      ]
     },
     "metadata": {},
     "output_type": "display_data"
    },
    {
     "data": {
      "text/html": [
       "<pre style=\"white-space:pre;overflow-x:auto;line-height:normal;font-family:Menlo,'DejaVu Sans Mono',consolas,'Courier New',monospace\">Event loop is already running. Applying nest_asyncio patch to allow async execution...\n",
       "</pre>\n"
      ],
      "text/plain": [
       "Event loop is already running. Applying nest_asyncio patch to allow async execution...\n"
      ]
     },
     "metadata": {},
     "output_type": "display_data"
    },
    {
     "data": {
      "text/html": [
       "<pre style=\"white-space:pre;overflow-x:auto;line-height:normal;font-family:Menlo,'DejaVu Sans Mono',consolas,'Courier New',monospace\"></pre>\n"
      ],
      "text/plain": []
     },
     "metadata": {},
     "output_type": "display_data"
    },
    {
     "data": {
      "application/vnd.jupyter.widget-view+json": {
       "model_id": "3cd5eb02420c4ab18826deba51484069",
       "version_major": 2,
       "version_minor": 0
      },
      "text/plain": [
       "Output()"
      ]
     },
     "metadata": {},
     "output_type": "display_data"
    },
    {
     "data": {
      "text/html": [
       "<pre style=\"white-space:pre;overflow-x:auto;line-height:normal;font-family:Menlo,'DejaVu Sans Mono',consolas,'Courier New',monospace\">Event loop is already running. Applying nest_asyncio patch to allow async execution...\n",
       "</pre>\n"
      ],
      "text/plain": [
       "Event loop is already running. Applying nest_asyncio patch to allow async execution...\n"
      ]
     },
     "metadata": {},
     "output_type": "display_data"
    },
    {
     "data": {
      "text/html": [
       "<pre style=\"white-space:pre;overflow-x:auto;line-height:normal;font-family:Menlo,'DejaVu Sans Mono',consolas,'Courier New',monospace\"></pre>\n"
      ],
      "text/plain": []
     },
     "metadata": {},
     "output_type": "display_data"
    },
    {
     "data": {
      "application/vnd.jupyter.widget-view+json": {
       "model_id": "d3a3248d98494cdebbeaf3ea3ad17d50",
       "version_major": 2,
       "version_minor": 0
      },
      "text/plain": [
       "Output()"
      ]
     },
     "metadata": {},
     "output_type": "display_data"
    },
    {
     "data": {
      "text/html": [
       "<pre style=\"white-space:pre;overflow-x:auto;line-height:normal;font-family:Menlo,'DejaVu Sans Mono',consolas,'Courier New',monospace\">Event loop is already running. Applying nest_asyncio patch to allow async execution...\n",
       "</pre>\n"
      ],
      "text/plain": [
       "Event loop is already running. Applying nest_asyncio patch to allow async execution...\n"
      ]
     },
     "metadata": {},
     "output_type": "display_data"
    },
    {
     "data": {
      "text/html": [
       "<pre style=\"white-space:pre;overflow-x:auto;line-height:normal;font-family:Menlo,'DejaVu Sans Mono',consolas,'Courier New',monospace\"></pre>\n"
      ],
      "text/plain": []
     },
     "metadata": {},
     "output_type": "display_data"
    },
    {
     "data": {
      "application/vnd.jupyter.widget-view+json": {
       "model_id": "27d49df1f7c24717812631981a74cfc3",
       "version_major": 2,
       "version_minor": 0
      },
      "text/plain": [
       "Output()"
      ]
     },
     "metadata": {},
     "output_type": "display_data"
    },
    {
     "data": {
      "text/html": [
       "<pre style=\"white-space:pre;overflow-x:auto;line-height:normal;font-family:Menlo,'DejaVu Sans Mono',consolas,'Courier New',monospace\">Event loop is already running. Applying nest_asyncio patch to allow async execution...\n",
       "</pre>\n"
      ],
      "text/plain": [
       "Event loop is already running. Applying nest_asyncio patch to allow async execution...\n"
      ]
     },
     "metadata": {},
     "output_type": "display_data"
    },
    {
     "data": {
      "text/html": [
       "<pre style=\"white-space:pre;overflow-x:auto;line-height:normal;font-family:Menlo,'DejaVu Sans Mono',consolas,'Courier New',monospace\"></pre>\n"
      ],
      "text/plain": []
     },
     "metadata": {},
     "output_type": "display_data"
    },
    {
     "data": {
      "application/vnd.jupyter.widget-view+json": {
       "model_id": "67ddfdf45d6f46f989c0a6f6105f3523",
       "version_major": 2,
       "version_minor": 0
      },
      "text/plain": [
       "Output()"
      ]
     },
     "metadata": {},
     "output_type": "display_data"
    },
    {
     "data": {
      "text/html": [
       "<pre style=\"white-space:pre;overflow-x:auto;line-height:normal;font-family:Menlo,'DejaVu Sans Mono',consolas,'Courier New',monospace\">Event loop is already running. Applying nest_asyncio patch to allow async execution...\n",
       "</pre>\n"
      ],
      "text/plain": [
       "Event loop is already running. Applying nest_asyncio patch to allow async execution...\n"
      ]
     },
     "metadata": {},
     "output_type": "display_data"
    },
    {
     "data": {
      "text/html": [
       "<pre style=\"white-space:pre;overflow-x:auto;line-height:normal;font-family:Menlo,'DejaVu Sans Mono',consolas,'Courier New',monospace\"></pre>\n"
      ],
      "text/plain": []
     },
     "metadata": {},
     "output_type": "display_data"
    },
    {
     "data": {
      "application/vnd.jupyter.widget-view+json": {
       "model_id": "5c0794fbc16f4da58385c02d4cd7ba7e",
       "version_major": 2,
       "version_minor": 0
      },
      "text/plain": [
       "Output()"
      ]
     },
     "metadata": {},
     "output_type": "display_data"
    },
    {
     "data": {
      "text/html": [
       "<pre style=\"white-space:pre;overflow-x:auto;line-height:normal;font-family:Menlo,'DejaVu Sans Mono',consolas,'Courier New',monospace\">Event loop is already running. Applying nest_asyncio patch to allow async execution...\n",
       "</pre>\n"
      ],
      "text/plain": [
       "Event loop is already running. Applying nest_asyncio patch to allow async execution...\n"
      ]
     },
     "metadata": {},
     "output_type": "display_data"
    },
    {
     "data": {
      "text/html": [
       "<pre style=\"white-space:pre;overflow-x:auto;line-height:normal;font-family:Menlo,'DejaVu Sans Mono',consolas,'Courier New',monospace\"></pre>\n"
      ],
      "text/plain": []
     },
     "metadata": {},
     "output_type": "display_data"
    },
    {
     "data": {
      "application/vnd.jupyter.widget-view+json": {
       "model_id": "6e7aea6e0ed34b5bb55812c0fb456758",
       "version_major": 2,
       "version_minor": 0
      },
      "text/plain": [
       "Output()"
      ]
     },
     "metadata": {},
     "output_type": "display_data"
    },
    {
     "data": {
      "text/html": [
       "<pre style=\"white-space:pre;overflow-x:auto;line-height:normal;font-family:Menlo,'DejaVu Sans Mono',consolas,'Courier New',monospace\">Event loop is already running. Applying nest_asyncio patch to allow async execution...\n",
       "</pre>\n"
      ],
      "text/plain": [
       "Event loop is already running. Applying nest_asyncio patch to allow async execution...\n"
      ]
     },
     "metadata": {},
     "output_type": "display_data"
    },
    {
     "data": {
      "text/html": [
       "<pre style=\"white-space:pre;overflow-x:auto;line-height:normal;font-family:Menlo,'DejaVu Sans Mono',consolas,'Courier New',monospace\"></pre>\n"
      ],
      "text/plain": []
     },
     "metadata": {},
     "output_type": "display_data"
    },
    {
     "data": {
      "application/vnd.jupyter.widget-view+json": {
       "model_id": "2098fb4e4a304247a2b795f940b1aefb",
       "version_major": 2,
       "version_minor": 0
      },
      "text/plain": [
       "Output()"
      ]
     },
     "metadata": {},
     "output_type": "display_data"
    },
    {
     "data": {
      "text/html": [
       "<pre style=\"white-space:pre;overflow-x:auto;line-height:normal;font-family:Menlo,'DejaVu Sans Mono',consolas,'Courier New',monospace\">Event loop is already running. Applying nest_asyncio patch to allow async execution...\n",
       "</pre>\n"
      ],
      "text/plain": [
       "Event loop is already running. Applying nest_asyncio patch to allow async execution...\n"
      ]
     },
     "metadata": {},
     "output_type": "display_data"
    },
    {
     "data": {
      "text/html": [
       "<pre style=\"white-space:pre;overflow-x:auto;line-height:normal;font-family:Menlo,'DejaVu Sans Mono',consolas,'Courier New',monospace\"></pre>\n"
      ],
      "text/plain": []
     },
     "metadata": {},
     "output_type": "display_data"
    },
    {
     "data": {
      "application/vnd.jupyter.widget-view+json": {
       "model_id": "f11b696e671f45fd824c1efebf215336",
       "version_major": 2,
       "version_minor": 0
      },
      "text/plain": [
       "Output()"
      ]
     },
     "metadata": {},
     "output_type": "display_data"
    },
    {
     "data": {
      "text/html": [
       "<pre style=\"white-space:pre;overflow-x:auto;line-height:normal;font-family:Menlo,'DejaVu Sans Mono',consolas,'Courier New',monospace\">Event loop is already running. Applying nest_asyncio patch to allow async execution...\n",
       "</pre>\n"
      ],
      "text/plain": [
       "Event loop is already running. Applying nest_asyncio patch to allow async execution...\n"
      ]
     },
     "metadata": {},
     "output_type": "display_data"
    },
    {
     "data": {
      "text/html": [
       "<pre style=\"white-space:pre;overflow-x:auto;line-height:normal;font-family:Menlo,'DejaVu Sans Mono',consolas,'Courier New',monospace\"></pre>\n"
      ],
      "text/plain": []
     },
     "metadata": {},
     "output_type": "display_data"
    },
    {
     "data": {
      "application/vnd.jupyter.widget-view+json": {
       "model_id": "5370ce5ac8d94b91af3f2fad8f8ed46a",
       "version_major": 2,
       "version_minor": 0
      },
      "text/plain": [
       "Output()"
      ]
     },
     "metadata": {},
     "output_type": "display_data"
    },
    {
     "data": {
      "text/html": [
       "<pre style=\"white-space:pre;overflow-x:auto;line-height:normal;font-family:Menlo,'DejaVu Sans Mono',consolas,'Courier New',monospace\">Event loop is already running. Applying nest_asyncio patch to allow async execution...\n",
       "</pre>\n"
      ],
      "text/plain": [
       "Event loop is already running. Applying nest_asyncio patch to allow async execution...\n"
      ]
     },
     "metadata": {},
     "output_type": "display_data"
    },
    {
     "data": {
      "text/html": [
       "<pre style=\"white-space:pre;overflow-x:auto;line-height:normal;font-family:Menlo,'DejaVu Sans Mono',consolas,'Courier New',monospace\"></pre>\n"
      ],
      "text/plain": []
     },
     "metadata": {},
     "output_type": "display_data"
    },
    {
     "data": {
      "application/vnd.jupyter.widget-view+json": {
       "model_id": "d01be0f1632948f08971ad4f4e633f55",
       "version_major": 2,
       "version_minor": 0
      },
      "text/plain": [
       "Output()"
      ]
     },
     "metadata": {},
     "output_type": "display_data"
    },
    {
     "data": {
      "text/html": [
       "<pre style=\"white-space:pre;overflow-x:auto;line-height:normal;font-family:Menlo,'DejaVu Sans Mono',consolas,'Courier New',monospace\">Event loop is already running. Applying nest_asyncio patch to allow async execution...\n",
       "</pre>\n"
      ],
      "text/plain": [
       "Event loop is already running. Applying nest_asyncio patch to allow async execution...\n"
      ]
     },
     "metadata": {},
     "output_type": "display_data"
    },
    {
     "data": {
      "text/html": [
       "<pre style=\"white-space:pre;overflow-x:auto;line-height:normal;font-family:Menlo,'DejaVu Sans Mono',consolas,'Courier New',monospace\"></pre>\n"
      ],
      "text/plain": []
     },
     "metadata": {},
     "output_type": "display_data"
    },
    {
     "data": {
      "application/vnd.jupyter.widget-view+json": {
       "model_id": "b969c0b387054bc08e7bb2be9e8df667",
       "version_major": 2,
       "version_minor": 0
      },
      "text/plain": [
       "Output()"
      ]
     },
     "metadata": {},
     "output_type": "display_data"
    },
    {
     "data": {
      "text/html": [
       "<pre style=\"white-space:pre;overflow-x:auto;line-height:normal;font-family:Menlo,'DejaVu Sans Mono',consolas,'Courier New',monospace\">Event loop is already running. Applying nest_asyncio patch to allow async execution...\n",
       "</pre>\n"
      ],
      "text/plain": [
       "Event loop is already running. Applying nest_asyncio patch to allow async execution...\n"
      ]
     },
     "metadata": {},
     "output_type": "display_data"
    },
    {
     "data": {
      "text/html": [
       "<pre style=\"white-space:pre;overflow-x:auto;line-height:normal;font-family:Menlo,'DejaVu Sans Mono',consolas,'Courier New',monospace\"></pre>\n"
      ],
      "text/plain": []
     },
     "metadata": {},
     "output_type": "display_data"
    },
    {
     "data": {
      "application/vnd.jupyter.widget-view+json": {
       "model_id": "8783aafe1b2b4562846065663968294f",
       "version_major": 2,
       "version_minor": 0
      },
      "text/plain": [
       "Output()"
      ]
     },
     "metadata": {},
     "output_type": "display_data"
    },
    {
     "data": {
      "text/html": [
       "<pre style=\"white-space:pre;overflow-x:auto;line-height:normal;font-family:Menlo,'DejaVu Sans Mono',consolas,'Courier New',monospace\">Event loop is already running. Applying nest_asyncio patch to allow async execution...\n",
       "</pre>\n"
      ],
      "text/plain": [
       "Event loop is already running. Applying nest_asyncio patch to allow async execution...\n"
      ]
     },
     "metadata": {},
     "output_type": "display_data"
    },
    {
     "data": {
      "text/html": [
       "<pre style=\"white-space:pre;overflow-x:auto;line-height:normal;font-family:Menlo,'DejaVu Sans Mono',consolas,'Courier New',monospace\"></pre>\n"
      ],
      "text/plain": []
     },
     "metadata": {},
     "output_type": "display_data"
    },
    {
     "data": {
      "application/vnd.jupyter.widget-view+json": {
       "model_id": "302081033b554f0a89aaeaa584807d4f",
       "version_major": 2,
       "version_minor": 0
      },
      "text/plain": [
       "Output()"
      ]
     },
     "metadata": {},
     "output_type": "display_data"
    },
    {
     "data": {
      "text/html": [
       "<pre style=\"white-space:pre;overflow-x:auto;line-height:normal;font-family:Menlo,'DejaVu Sans Mono',consolas,'Courier New',monospace\">Event loop is already running. Applying nest_asyncio patch to allow async execution...\n",
       "</pre>\n"
      ],
      "text/plain": [
       "Event loop is already running. Applying nest_asyncio patch to allow async execution...\n"
      ]
     },
     "metadata": {},
     "output_type": "display_data"
    },
    {
     "data": {
      "text/html": [
       "<pre style=\"white-space:pre;overflow-x:auto;line-height:normal;font-family:Menlo,'DejaVu Sans Mono',consolas,'Courier New',monospace\"></pre>\n"
      ],
      "text/plain": []
     },
     "metadata": {},
     "output_type": "display_data"
    },
    {
     "data": {
      "application/vnd.jupyter.widget-view+json": {
       "model_id": "2beeecfad39f415cb8854c9fa09d8942",
       "version_major": 2,
       "version_minor": 0
      },
      "text/plain": [
       "Output()"
      ]
     },
     "metadata": {},
     "output_type": "display_data"
    },
    {
     "data": {
      "text/html": [
       "<pre style=\"white-space:pre;overflow-x:auto;line-height:normal;font-family:Menlo,'DejaVu Sans Mono',consolas,'Courier New',monospace\">Event loop is already running. Applying nest_asyncio patch to allow async execution...\n",
       "</pre>\n"
      ],
      "text/plain": [
       "Event loop is already running. Applying nest_asyncio patch to allow async execution...\n"
      ]
     },
     "metadata": {},
     "output_type": "display_data"
    },
    {
     "data": {
      "text/html": [
       "<pre style=\"white-space:pre;overflow-x:auto;line-height:normal;font-family:Menlo,'DejaVu Sans Mono',consolas,'Courier New',monospace\"></pre>\n"
      ],
      "text/plain": []
     },
     "metadata": {},
     "output_type": "display_data"
    },
    {
     "data": {
      "application/vnd.jupyter.widget-view+json": {
       "model_id": "b166289edf26425a8164373e8828e9c0",
       "version_major": 2,
       "version_minor": 0
      },
      "text/plain": [
       "Output()"
      ]
     },
     "metadata": {},
     "output_type": "display_data"
    },
    {
     "data": {
      "text/html": [
       "<pre style=\"white-space:pre;overflow-x:auto;line-height:normal;font-family:Menlo,'DejaVu Sans Mono',consolas,'Courier New',monospace\">Event loop is already running. Applying nest_asyncio patch to allow async execution...\n",
       "</pre>\n"
      ],
      "text/plain": [
       "Event loop is already running. Applying nest_asyncio patch to allow async execution...\n"
      ]
     },
     "metadata": {},
     "output_type": "display_data"
    },
    {
     "data": {
      "text/html": [
       "<pre style=\"white-space:pre;overflow-x:auto;line-height:normal;font-family:Menlo,'DejaVu Sans Mono',consolas,'Courier New',monospace\"></pre>\n"
      ],
      "text/plain": []
     },
     "metadata": {},
     "output_type": "display_data"
    },
    {
     "data": {
      "application/vnd.jupyter.widget-view+json": {
       "model_id": "1c4b9cd9433d4c46a153f6d9096e6806",
       "version_major": 2,
       "version_minor": 0
      },
      "text/plain": [
       "Output()"
      ]
     },
     "metadata": {},
     "output_type": "display_data"
    },
    {
     "data": {
      "text/html": [
       "<pre style=\"white-space:pre;overflow-x:auto;line-height:normal;font-family:Menlo,'DejaVu Sans Mono',consolas,'Courier New',monospace\">Event loop is already running. Applying nest_asyncio patch to allow async execution...\n",
       "</pre>\n"
      ],
      "text/plain": [
       "Event loop is already running. Applying nest_asyncio patch to allow async execution...\n"
      ]
     },
     "metadata": {},
     "output_type": "display_data"
    },
    {
     "data": {
      "text/html": [
       "<pre style=\"white-space:pre;overflow-x:auto;line-height:normal;font-family:Menlo,'DejaVu Sans Mono',consolas,'Courier New',monospace\"></pre>\n"
      ],
      "text/plain": []
     },
     "metadata": {},
     "output_type": "display_data"
    },
    {
     "data": {
      "application/vnd.jupyter.widget-view+json": {
       "model_id": "c426f0a1e1754170ae2624e8b63e53d7",
       "version_major": 2,
       "version_minor": 0
      },
      "text/plain": [
       "Output()"
      ]
     },
     "metadata": {},
     "output_type": "display_data"
    },
    {
     "data": {
      "text/html": [
       "<pre style=\"white-space:pre;overflow-x:auto;line-height:normal;font-family:Menlo,'DejaVu Sans Mono',consolas,'Courier New',monospace\">Event loop is already running. Applying nest_asyncio patch to allow async execution...\n",
       "</pre>\n"
      ],
      "text/plain": [
       "Event loop is already running. Applying nest_asyncio patch to allow async execution...\n"
      ]
     },
     "metadata": {},
     "output_type": "display_data"
    },
    {
     "data": {
      "text/html": [
       "<pre style=\"white-space:pre;overflow-x:auto;line-height:normal;font-family:Menlo,'DejaVu Sans Mono',consolas,'Courier New',monospace\"></pre>\n"
      ],
      "text/plain": []
     },
     "metadata": {},
     "output_type": "display_data"
    },
    {
     "data": {
      "application/vnd.jupyter.widget-view+json": {
       "model_id": "ba57dcb3704e479d8808924e13729404",
       "version_major": 2,
       "version_minor": 0
      },
      "text/plain": [
       "Output()"
      ]
     },
     "metadata": {},
     "output_type": "display_data"
    },
    {
     "data": {
      "text/html": [
       "<pre style=\"white-space:pre;overflow-x:auto;line-height:normal;font-family:Menlo,'DejaVu Sans Mono',consolas,'Courier New',monospace\">Event loop is already running. Applying nest_asyncio patch to allow async execution...\n",
       "</pre>\n"
      ],
      "text/plain": [
       "Event loop is already running. Applying nest_asyncio patch to allow async execution...\n"
      ]
     },
     "metadata": {},
     "output_type": "display_data"
    },
    {
     "data": {
      "text/html": [
       "<pre style=\"white-space:pre;overflow-x:auto;line-height:normal;font-family:Menlo,'DejaVu Sans Mono',consolas,'Courier New',monospace\"></pre>\n"
      ],
      "text/plain": []
     },
     "metadata": {},
     "output_type": "display_data"
    },
    {
     "data": {
      "application/vnd.jupyter.widget-view+json": {
       "model_id": "7942033ca490428d95decc02c3ddb380",
       "version_major": 2,
       "version_minor": 0
      },
      "text/plain": [
       "Output()"
      ]
     },
     "metadata": {},
     "output_type": "display_data"
    },
    {
     "data": {
      "text/html": [
       "<pre style=\"white-space:pre;overflow-x:auto;line-height:normal;font-family:Menlo,'DejaVu Sans Mono',consolas,'Courier New',monospace\">Event loop is already running. Applying nest_asyncio patch to allow async execution...\n",
       "</pre>\n"
      ],
      "text/plain": [
       "Event loop is already running. Applying nest_asyncio patch to allow async execution...\n"
      ]
     },
     "metadata": {},
     "output_type": "display_data"
    },
    {
     "data": {
      "text/html": [
       "<pre style=\"white-space:pre;overflow-x:auto;line-height:normal;font-family:Menlo,'DejaVu Sans Mono',consolas,'Courier New',monospace\"></pre>\n"
      ],
      "text/plain": []
     },
     "metadata": {},
     "output_type": "display_data"
    },
    {
     "data": {
      "application/vnd.jupyter.widget-view+json": {
       "model_id": "b9a0651e50f141e59295eb3b02d58712",
       "version_major": 2,
       "version_minor": 0
      },
      "text/plain": [
       "Output()"
      ]
     },
     "metadata": {},
     "output_type": "display_data"
    },
    {
     "data": {
      "text/html": [
       "<pre style=\"white-space:pre;overflow-x:auto;line-height:normal;font-family:Menlo,'DejaVu Sans Mono',consolas,'Courier New',monospace\">Event loop is already running. Applying nest_asyncio patch to allow async execution...\n",
       "</pre>\n"
      ],
      "text/plain": [
       "Event loop is already running. Applying nest_asyncio patch to allow async execution...\n"
      ]
     },
     "metadata": {},
     "output_type": "display_data"
    },
    {
     "data": {
      "text/html": [
       "<pre style=\"white-space:pre;overflow-x:auto;line-height:normal;font-family:Menlo,'DejaVu Sans Mono',consolas,'Courier New',monospace\"></pre>\n"
      ],
      "text/plain": []
     },
     "metadata": {},
     "output_type": "display_data"
    },
    {
     "ename": "APIConnectionError",
     "evalue": "Connection error.",
     "output_type": "error",
     "traceback": [
      "\u001b[1;31m---------------------------------------------------------------------------\u001b[0m",
      "\u001b[1;31mConnectError\u001b[0m                              Traceback (most recent call last)",
      "File \u001b[1;32mc:\\Users\\snake\\projects\\rutube_hackathon\\.venv\\Lib\\site-packages\\httpx\\_transports\\default.py:69\u001b[0m, in \u001b[0;36mmap_httpcore_exceptions\u001b[1;34m()\u001b[0m\n\u001b[0;32m     68\u001b[0m \u001b[38;5;28;01mtry\u001b[39;00m:\n\u001b[1;32m---> 69\u001b[0m     \u001b[38;5;28;01myield\u001b[39;00m\n\u001b[0;32m     70\u001b[0m \u001b[38;5;28;01mexcept\u001b[39;00m \u001b[38;5;167;01mException\u001b[39;00m \u001b[38;5;28;01mas\u001b[39;00m exc:\n",
      "File \u001b[1;32mc:\\Users\\snake\\projects\\rutube_hackathon\\.venv\\Lib\\site-packages\\httpx\\_transports\\default.py:373\u001b[0m, in \u001b[0;36mAsyncHTTPTransport.handle_async_request\u001b[1;34m(self, request)\u001b[0m\n\u001b[0;32m    372\u001b[0m \u001b[38;5;28;01mwith\u001b[39;00m map_httpcore_exceptions():\n\u001b[1;32m--> 373\u001b[0m     resp \u001b[38;5;241m=\u001b[39m \u001b[38;5;28;01mawait\u001b[39;00m \u001b[38;5;28mself\u001b[39m\u001b[38;5;241m.\u001b[39m_pool\u001b[38;5;241m.\u001b[39mhandle_async_request(req)\n\u001b[0;32m    375\u001b[0m \u001b[38;5;28;01massert\u001b[39;00m \u001b[38;5;28misinstance\u001b[39m(resp\u001b[38;5;241m.\u001b[39mstream, typing\u001b[38;5;241m.\u001b[39mAsyncIterable)\n",
      "File \u001b[1;32mc:\\Users\\snake\\projects\\rutube_hackathon\\.venv\\Lib\\site-packages\\httpcore\\_async\\connection_pool.py:216\u001b[0m, in \u001b[0;36mAsyncConnectionPool.handle_async_request\u001b[1;34m(self, request)\u001b[0m\n\u001b[0;32m    215\u001b[0m     \u001b[38;5;28;01mawait\u001b[39;00m \u001b[38;5;28mself\u001b[39m\u001b[38;5;241m.\u001b[39m_close_connections(closing)\n\u001b[1;32m--> 216\u001b[0m     \u001b[38;5;28;01mraise\u001b[39;00m exc \u001b[38;5;28;01mfrom\u001b[39;00m \u001b[38;5;28;01mNone\u001b[39;00m\n\u001b[0;32m    218\u001b[0m \u001b[38;5;66;03m# Return the response. Note that in this case we still have to manage\u001b[39;00m\n\u001b[0;32m    219\u001b[0m \u001b[38;5;66;03m# the point at which the response is closed.\u001b[39;00m\n",
      "File \u001b[1;32mc:\\Users\\snake\\projects\\rutube_hackathon\\.venv\\Lib\\site-packages\\httpcore\\_async\\connection_pool.py:196\u001b[0m, in \u001b[0;36mAsyncConnectionPool.handle_async_request\u001b[1;34m(self, request)\u001b[0m\n\u001b[0;32m    194\u001b[0m \u001b[38;5;28;01mtry\u001b[39;00m:\n\u001b[0;32m    195\u001b[0m     \u001b[38;5;66;03m# Send the request on the assigned connection.\u001b[39;00m\n\u001b[1;32m--> 196\u001b[0m     response \u001b[38;5;241m=\u001b[39m \u001b[38;5;28;01mawait\u001b[39;00m connection\u001b[38;5;241m.\u001b[39mhandle_async_request(\n\u001b[0;32m    197\u001b[0m         pool_request\u001b[38;5;241m.\u001b[39mrequest\n\u001b[0;32m    198\u001b[0m     )\n\u001b[0;32m    199\u001b[0m \u001b[38;5;28;01mexcept\u001b[39;00m ConnectionNotAvailable:\n\u001b[0;32m    200\u001b[0m     \u001b[38;5;66;03m# In some cases a connection may initially be available to\u001b[39;00m\n\u001b[0;32m    201\u001b[0m     \u001b[38;5;66;03m# handle a request, but then become unavailable.\u001b[39;00m\n\u001b[0;32m    202\u001b[0m     \u001b[38;5;66;03m#\u001b[39;00m\n\u001b[0;32m    203\u001b[0m     \u001b[38;5;66;03m# In this case we clear the connection and try again.\u001b[39;00m\n",
      "File \u001b[1;32mc:\\Users\\snake\\projects\\rutube_hackathon\\.venv\\Lib\\site-packages\\httpcore\\_async\\connection.py:99\u001b[0m, in \u001b[0;36mAsyncHTTPConnection.handle_async_request\u001b[1;34m(self, request)\u001b[0m\n\u001b[0;32m     98\u001b[0m     \u001b[38;5;28mself\u001b[39m\u001b[38;5;241m.\u001b[39m_connect_failed \u001b[38;5;241m=\u001b[39m \u001b[38;5;28;01mTrue\u001b[39;00m\n\u001b[1;32m---> 99\u001b[0m     \u001b[38;5;28;01mraise\u001b[39;00m exc\n\u001b[0;32m    101\u001b[0m \u001b[38;5;28;01mreturn\u001b[39;00m \u001b[38;5;28;01mawait\u001b[39;00m \u001b[38;5;28mself\u001b[39m\u001b[38;5;241m.\u001b[39m_connection\u001b[38;5;241m.\u001b[39mhandle_async_request(request)\n",
      "File \u001b[1;32mc:\\Users\\snake\\projects\\rutube_hackathon\\.venv\\Lib\\site-packages\\httpcore\\_async\\connection.py:76\u001b[0m, in \u001b[0;36mAsyncHTTPConnection.handle_async_request\u001b[1;34m(self, request)\u001b[0m\n\u001b[0;32m     75\u001b[0m \u001b[38;5;28;01mif\u001b[39;00m \u001b[38;5;28mself\u001b[39m\u001b[38;5;241m.\u001b[39m_connection \u001b[38;5;129;01mis\u001b[39;00m \u001b[38;5;28;01mNone\u001b[39;00m:\n\u001b[1;32m---> 76\u001b[0m     stream \u001b[38;5;241m=\u001b[39m \u001b[38;5;28;01mawait\u001b[39;00m \u001b[38;5;28mself\u001b[39m\u001b[38;5;241m.\u001b[39m_connect(request)\n\u001b[0;32m     78\u001b[0m     ssl_object \u001b[38;5;241m=\u001b[39m stream\u001b[38;5;241m.\u001b[39mget_extra_info(\u001b[38;5;124m\"\u001b[39m\u001b[38;5;124mssl_object\u001b[39m\u001b[38;5;124m\"\u001b[39m)\n",
      "File \u001b[1;32mc:\\Users\\snake\\projects\\rutube_hackathon\\.venv\\Lib\\site-packages\\httpcore\\_async\\connection.py:122\u001b[0m, in \u001b[0;36mAsyncHTTPConnection._connect\u001b[1;34m(self, request)\u001b[0m\n\u001b[0;32m    121\u001b[0m \u001b[38;5;28;01masync\u001b[39;00m \u001b[38;5;28;01mwith\u001b[39;00m Trace(\u001b[38;5;124m\"\u001b[39m\u001b[38;5;124mconnect_tcp\u001b[39m\u001b[38;5;124m\"\u001b[39m, logger, request, kwargs) \u001b[38;5;28;01mas\u001b[39;00m trace:\n\u001b[1;32m--> 122\u001b[0m     stream \u001b[38;5;241m=\u001b[39m \u001b[38;5;28;01mawait\u001b[39;00m \u001b[38;5;28mself\u001b[39m\u001b[38;5;241m.\u001b[39m_network_backend\u001b[38;5;241m.\u001b[39mconnect_tcp(\u001b[38;5;241m*\u001b[39m\u001b[38;5;241m*\u001b[39mkwargs)\n\u001b[0;32m    123\u001b[0m     trace\u001b[38;5;241m.\u001b[39mreturn_value \u001b[38;5;241m=\u001b[39m stream\n",
      "File \u001b[1;32mc:\\Users\\snake\\projects\\rutube_hackathon\\.venv\\Lib\\site-packages\\httpcore\\_backends\\auto.py:30\u001b[0m, in \u001b[0;36mAutoBackend.connect_tcp\u001b[1;34m(self, host, port, timeout, local_address, socket_options)\u001b[0m\n\u001b[0;32m     29\u001b[0m \u001b[38;5;28;01mawait\u001b[39;00m \u001b[38;5;28mself\u001b[39m\u001b[38;5;241m.\u001b[39m_init_backend()\n\u001b[1;32m---> 30\u001b[0m \u001b[38;5;28;01mreturn\u001b[39;00m \u001b[38;5;28;01mawait\u001b[39;00m \u001b[38;5;28mself\u001b[39m\u001b[38;5;241m.\u001b[39m_backend\u001b[38;5;241m.\u001b[39mconnect_tcp(\n\u001b[0;32m     31\u001b[0m     host,\n\u001b[0;32m     32\u001b[0m     port,\n\u001b[0;32m     33\u001b[0m     timeout\u001b[38;5;241m=\u001b[39mtimeout,\n\u001b[0;32m     34\u001b[0m     local_address\u001b[38;5;241m=\u001b[39mlocal_address,\n\u001b[0;32m     35\u001b[0m     socket_options\u001b[38;5;241m=\u001b[39msocket_options,\n\u001b[0;32m     36\u001b[0m )\n",
      "File \u001b[1;32mc:\\Users\\snake\\projects\\rutube_hackathon\\.venv\\Lib\\site-packages\\httpcore\\_backends\\anyio.py:114\u001b[0m, in \u001b[0;36mAnyIOBackend.connect_tcp\u001b[1;34m(self, host, port, timeout, local_address, socket_options)\u001b[0m\n\u001b[0;32m    109\u001b[0m exc_map \u001b[38;5;241m=\u001b[39m {\n\u001b[0;32m    110\u001b[0m     \u001b[38;5;167;01mTimeoutError\u001b[39;00m: ConnectTimeout,\n\u001b[0;32m    111\u001b[0m     \u001b[38;5;167;01mOSError\u001b[39;00m: ConnectError,\n\u001b[0;32m    112\u001b[0m     anyio\u001b[38;5;241m.\u001b[39mBrokenResourceError: ConnectError,\n\u001b[0;32m    113\u001b[0m }\n\u001b[1;32m--> 114\u001b[0m \u001b[43m\u001b[49m\u001b[38;5;28;43;01mwith\u001b[39;49;00m\u001b[43m \u001b[49m\u001b[43mmap_exceptions\u001b[49m\u001b[43m(\u001b[49m\u001b[43mexc_map\u001b[49m\u001b[43m)\u001b[49m\u001b[43m:\u001b[49m\n\u001b[0;32m    115\u001b[0m \u001b[43m    \u001b[49m\u001b[38;5;28;43;01mwith\u001b[39;49;00m\u001b[43m \u001b[49m\u001b[43manyio\u001b[49m\u001b[38;5;241;43m.\u001b[39;49m\u001b[43mfail_after\u001b[49m\u001b[43m(\u001b[49m\u001b[43mtimeout\u001b[49m\u001b[43m)\u001b[49m\u001b[43m:\u001b[49m\n",
      "File \u001b[1;32m~\\miniconda3\\Lib\\contextlib.py:155\u001b[0m, in \u001b[0;36m_GeneratorContextManager.__exit__\u001b[1;34m(self, typ, value, traceback)\u001b[0m\n\u001b[0;32m    154\u001b[0m \u001b[38;5;28;01mtry\u001b[39;00m:\n\u001b[1;32m--> 155\u001b[0m     \u001b[38;5;28mself\u001b[39m\u001b[38;5;241m.\u001b[39mgen\u001b[38;5;241m.\u001b[39mthrow(typ, value, traceback)\n\u001b[0;32m    156\u001b[0m \u001b[38;5;28;01mexcept\u001b[39;00m \u001b[38;5;167;01mStopIteration\u001b[39;00m \u001b[38;5;28;01mas\u001b[39;00m exc:\n\u001b[0;32m    157\u001b[0m     \u001b[38;5;66;03m# Suppress StopIteration *unless* it's the same exception that\u001b[39;00m\n\u001b[0;32m    158\u001b[0m     \u001b[38;5;66;03m# was passed to throw().  This prevents a StopIteration\u001b[39;00m\n\u001b[0;32m    159\u001b[0m     \u001b[38;5;66;03m# raised inside the \"with\" statement from being suppressed.\u001b[39;00m\n",
      "File \u001b[1;32mc:\\Users\\snake\\projects\\rutube_hackathon\\.venv\\Lib\\site-packages\\httpcore\\_exceptions.py:14\u001b[0m, in \u001b[0;36mmap_exceptions\u001b[1;34m(map)\u001b[0m\n\u001b[0;32m     13\u001b[0m     \u001b[38;5;28;01mif\u001b[39;00m \u001b[38;5;28misinstance\u001b[39m(exc, from_exc):\n\u001b[1;32m---> 14\u001b[0m         \u001b[38;5;28;01mraise\u001b[39;00m to_exc(exc) \u001b[38;5;28;01mfrom\u001b[39;00m \u001b[38;5;21;01mexc\u001b[39;00m\n\u001b[0;32m     15\u001b[0m \u001b[38;5;28;01mraise\u001b[39;00m\n",
      "\u001b[1;31mConnectError\u001b[0m: All connection attempts failed",
      "\nThe above exception was the direct cause of the following exception:\n",
      "\u001b[1;31mConnectError\u001b[0m                              Traceback (most recent call last)",
      "File \u001b[1;32mc:\\Users\\snake\\projects\\rutube_hackathon\\.venv\\Lib\\site-packages\\openai\\_base_client.py:1564\u001b[0m, in \u001b[0;36mAsyncAPIClient._request\u001b[1;34m(self, cast_to, options, stream, stream_cls, retries_taken)\u001b[0m\n\u001b[0;32m   1563\u001b[0m \u001b[38;5;28;01mtry\u001b[39;00m:\n\u001b[1;32m-> 1564\u001b[0m     response \u001b[38;5;241m=\u001b[39m \u001b[38;5;28;01mawait\u001b[39;00m \u001b[38;5;28mself\u001b[39m\u001b[38;5;241m.\u001b[39m_client\u001b[38;5;241m.\u001b[39msend(\n\u001b[0;32m   1565\u001b[0m         request,\n\u001b[0;32m   1566\u001b[0m         stream\u001b[38;5;241m=\u001b[39mstream \u001b[38;5;129;01mor\u001b[39;00m \u001b[38;5;28mself\u001b[39m\u001b[38;5;241m.\u001b[39m_should_stream_response_body(request\u001b[38;5;241m=\u001b[39mrequest),\n\u001b[0;32m   1567\u001b[0m         \u001b[38;5;241m*\u001b[39m\u001b[38;5;241m*\u001b[39mkwargs,\n\u001b[0;32m   1568\u001b[0m     )\n\u001b[0;32m   1569\u001b[0m \u001b[38;5;28;01mexcept\u001b[39;00m httpx\u001b[38;5;241m.\u001b[39mTimeoutException \u001b[38;5;28;01mas\u001b[39;00m err:\n",
      "File \u001b[1;32mc:\\Users\\snake\\projects\\rutube_hackathon\\.venv\\Lib\\site-packages\\httpx\\_client.py:1661\u001b[0m, in \u001b[0;36mAsyncClient.send\u001b[1;34m(self, request, stream, auth, follow_redirects)\u001b[0m\n\u001b[0;32m   1659\u001b[0m auth \u001b[38;5;241m=\u001b[39m \u001b[38;5;28mself\u001b[39m\u001b[38;5;241m.\u001b[39m_build_request_auth(request, auth)\n\u001b[1;32m-> 1661\u001b[0m response \u001b[38;5;241m=\u001b[39m \u001b[38;5;28;01mawait\u001b[39;00m \u001b[38;5;28mself\u001b[39m\u001b[38;5;241m.\u001b[39m_send_handling_auth(\n\u001b[0;32m   1662\u001b[0m     request,\n\u001b[0;32m   1663\u001b[0m     auth\u001b[38;5;241m=\u001b[39mauth,\n\u001b[0;32m   1664\u001b[0m     follow_redirects\u001b[38;5;241m=\u001b[39mfollow_redirects,\n\u001b[0;32m   1665\u001b[0m     history\u001b[38;5;241m=\u001b[39m[],\n\u001b[0;32m   1666\u001b[0m )\n\u001b[0;32m   1667\u001b[0m \u001b[38;5;28;01mtry\u001b[39;00m:\n",
      "File \u001b[1;32mc:\\Users\\snake\\projects\\rutube_hackathon\\.venv\\Lib\\site-packages\\httpx\\_client.py:1689\u001b[0m, in \u001b[0;36mAsyncClient._send_handling_auth\u001b[1;34m(self, request, auth, follow_redirects, history)\u001b[0m\n\u001b[0;32m   1688\u001b[0m \u001b[38;5;28;01mwhile\u001b[39;00m \u001b[38;5;28;01mTrue\u001b[39;00m:\n\u001b[1;32m-> 1689\u001b[0m     response \u001b[38;5;241m=\u001b[39m \u001b[38;5;28;01mawait\u001b[39;00m \u001b[38;5;28mself\u001b[39m\u001b[38;5;241m.\u001b[39m_send_handling_redirects(\n\u001b[0;32m   1690\u001b[0m         request,\n\u001b[0;32m   1691\u001b[0m         follow_redirects\u001b[38;5;241m=\u001b[39mfollow_redirects,\n\u001b[0;32m   1692\u001b[0m         history\u001b[38;5;241m=\u001b[39mhistory,\n\u001b[0;32m   1693\u001b[0m     )\n\u001b[0;32m   1694\u001b[0m     \u001b[38;5;28;01mtry\u001b[39;00m:\n",
      "File \u001b[1;32mc:\\Users\\snake\\projects\\rutube_hackathon\\.venv\\Lib\\site-packages\\httpx\\_client.py:1726\u001b[0m, in \u001b[0;36mAsyncClient._send_handling_redirects\u001b[1;34m(self, request, follow_redirects, history)\u001b[0m\n\u001b[0;32m   1724\u001b[0m     \u001b[38;5;28;01mawait\u001b[39;00m hook(request)\n\u001b[1;32m-> 1726\u001b[0m response \u001b[38;5;241m=\u001b[39m \u001b[38;5;28;01mawait\u001b[39;00m \u001b[38;5;28mself\u001b[39m\u001b[38;5;241m.\u001b[39m_send_single_request(request)\n\u001b[0;32m   1727\u001b[0m \u001b[38;5;28;01mtry\u001b[39;00m:\n",
      "File \u001b[1;32mc:\\Users\\snake\\projects\\rutube_hackathon\\.venv\\Lib\\site-packages\\httpx\\_client.py:1763\u001b[0m, in \u001b[0;36mAsyncClient._send_single_request\u001b[1;34m(self, request)\u001b[0m\n\u001b[0;32m   1762\u001b[0m \u001b[38;5;28;01mwith\u001b[39;00m request_context(request\u001b[38;5;241m=\u001b[39mrequest):\n\u001b[1;32m-> 1763\u001b[0m     response \u001b[38;5;241m=\u001b[39m \u001b[38;5;28;01mawait\u001b[39;00m transport\u001b[38;5;241m.\u001b[39mhandle_async_request(request)\n\u001b[0;32m   1765\u001b[0m \u001b[38;5;28;01massert\u001b[39;00m \u001b[38;5;28misinstance\u001b[39m(response\u001b[38;5;241m.\u001b[39mstream, AsyncByteStream)\n",
      "File \u001b[1;32mc:\\Users\\snake\\projects\\rutube_hackathon\\.venv\\Lib\\site-packages\\httpx\\_transports\\default.py:372\u001b[0m, in \u001b[0;36mAsyncHTTPTransport.handle_async_request\u001b[1;34m(self, request)\u001b[0m\n\u001b[0;32m    360\u001b[0m req \u001b[38;5;241m=\u001b[39m httpcore\u001b[38;5;241m.\u001b[39mRequest(\n\u001b[0;32m    361\u001b[0m     method\u001b[38;5;241m=\u001b[39mrequest\u001b[38;5;241m.\u001b[39mmethod,\n\u001b[0;32m    362\u001b[0m     url\u001b[38;5;241m=\u001b[39mhttpcore\u001b[38;5;241m.\u001b[39mURL(\n\u001b[1;32m   (...)\u001b[0m\n\u001b[0;32m    370\u001b[0m     extensions\u001b[38;5;241m=\u001b[39mrequest\u001b[38;5;241m.\u001b[39mextensions,\n\u001b[0;32m    371\u001b[0m )\n\u001b[1;32m--> 372\u001b[0m \u001b[43m\u001b[49m\u001b[38;5;28;43;01mwith\u001b[39;49;00m\u001b[43m \u001b[49m\u001b[43mmap_httpcore_exceptions\u001b[49m\u001b[43m(\u001b[49m\u001b[43m)\u001b[49m\u001b[43m:\u001b[49m\n\u001b[0;32m    373\u001b[0m \u001b[43m    \u001b[49m\u001b[43mresp\u001b[49m\u001b[43m \u001b[49m\u001b[38;5;241;43m=\u001b[39;49m\u001b[43m \u001b[49m\u001b[38;5;28;43;01mawait\u001b[39;49;00m\u001b[43m \u001b[49m\u001b[38;5;28;43mself\u001b[39;49m\u001b[38;5;241;43m.\u001b[39;49m\u001b[43m_pool\u001b[49m\u001b[38;5;241;43m.\u001b[39;49m\u001b[43mhandle_async_request\u001b[49m\u001b[43m(\u001b[49m\u001b[43mreq\u001b[49m\u001b[43m)\u001b[49m\n",
      "File \u001b[1;32m~\\miniconda3\\Lib\\contextlib.py:155\u001b[0m, in \u001b[0;36m_GeneratorContextManager.__exit__\u001b[1;34m(self, typ, value, traceback)\u001b[0m\n\u001b[0;32m    154\u001b[0m \u001b[38;5;28;01mtry\u001b[39;00m:\n\u001b[1;32m--> 155\u001b[0m     \u001b[38;5;28mself\u001b[39m\u001b[38;5;241m.\u001b[39mgen\u001b[38;5;241m.\u001b[39mthrow(typ, value, traceback)\n\u001b[0;32m    156\u001b[0m \u001b[38;5;28;01mexcept\u001b[39;00m \u001b[38;5;167;01mStopIteration\u001b[39;00m \u001b[38;5;28;01mas\u001b[39;00m exc:\n\u001b[0;32m    157\u001b[0m     \u001b[38;5;66;03m# Suppress StopIteration *unless* it's the same exception that\u001b[39;00m\n\u001b[0;32m    158\u001b[0m     \u001b[38;5;66;03m# was passed to throw().  This prevents a StopIteration\u001b[39;00m\n\u001b[0;32m    159\u001b[0m     \u001b[38;5;66;03m# raised inside the \"with\" statement from being suppressed.\u001b[39;00m\n",
      "File \u001b[1;32mc:\\Users\\snake\\projects\\rutube_hackathon\\.venv\\Lib\\site-packages\\httpx\\_transports\\default.py:86\u001b[0m, in \u001b[0;36mmap_httpcore_exceptions\u001b[1;34m()\u001b[0m\n\u001b[0;32m     85\u001b[0m message \u001b[38;5;241m=\u001b[39m \u001b[38;5;28mstr\u001b[39m(exc)\n\u001b[1;32m---> 86\u001b[0m \u001b[38;5;28;01mraise\u001b[39;00m mapped_exc(message) \u001b[38;5;28;01mfrom\u001b[39;00m \u001b[38;5;21;01mexc\u001b[39;00m\n",
      "\u001b[1;31mConnectError\u001b[0m: All connection attempts failed",
      "\nThe above exception was the direct cause of the following exception:\n",
      "\u001b[1;31mAPIConnectionError\u001b[0m                        Traceback (most recent call last)",
      "Cell \u001b[1;32mIn[42], line 16\u001b[0m\n\u001b[0;32m     13\u001b[0m relevance_score \u001b[38;5;241m=\u001b[39m relevance_metric\u001b[38;5;241m.\u001b[39mscore\n\u001b[0;32m     14\u001b[0m relevance_reason \u001b[38;5;241m=\u001b[39m relevance_metric\u001b[38;5;241m.\u001b[39mreason\n\u001b[1;32m---> 16\u001b[0m \u001b[43manswer_relevance_metric\u001b[49m\u001b[38;5;241;43m.\u001b[39;49m\u001b[43mmeasure\u001b[49m\u001b[43m(\u001b[49m\u001b[43mtest_case\u001b[49m\u001b[43m)\u001b[49m\n\u001b[0;32m     17\u001b[0m answer_relevance_score \u001b[38;5;241m=\u001b[39m answer_relevance_metric\u001b[38;5;241m.\u001b[39mscore\n\u001b[0;32m     18\u001b[0m answer_relevance_reason \u001b[38;5;241m=\u001b[39m answer_relevance_metric\u001b[38;5;241m.\u001b[39mreason\n",
      "File \u001b[1;32mc:\\Users\\snake\\projects\\rutube_hackathon\\.venv\\Lib\\site-packages\\deepeval\\metrics\\g_eval\\g_eval.py:112\u001b[0m, in \u001b[0;36mGEval.measure\u001b[1;34m(self, test_case, _show_indicator)\u001b[0m\n\u001b[0;32m    110\u001b[0m \u001b[38;5;28;01mif\u001b[39;00m \u001b[38;5;28mself\u001b[39m\u001b[38;5;241m.\u001b[39masync_mode:\n\u001b[0;32m    111\u001b[0m     loop \u001b[38;5;241m=\u001b[39m get_or_create_event_loop()\n\u001b[1;32m--> 112\u001b[0m     \u001b[43mloop\u001b[49m\u001b[38;5;241;43m.\u001b[39;49m\u001b[43mrun_until_complete\u001b[49m\u001b[43m(\u001b[49m\n\u001b[0;32m    113\u001b[0m \u001b[43m        \u001b[49m\u001b[38;5;28;43mself\u001b[39;49m\u001b[38;5;241;43m.\u001b[39;49m\u001b[43ma_measure\u001b[49m\u001b[43m(\u001b[49m\u001b[43mtest_case\u001b[49m\u001b[43m,\u001b[49m\u001b[43m \u001b[49m\u001b[43m_show_indicator\u001b[49m\u001b[38;5;241;43m=\u001b[39;49m\u001b[38;5;28;43;01mFalse\u001b[39;49;00m\u001b[43m)\u001b[49m\n\u001b[0;32m    114\u001b[0m \u001b[43m    \u001b[49m\u001b[43m)\u001b[49m\n\u001b[0;32m    115\u001b[0m \u001b[38;5;28;01melse\u001b[39;00m:\n\u001b[0;32m    116\u001b[0m     \u001b[38;5;28mself\u001b[39m\u001b[38;5;241m.\u001b[39mevaluation_steps: List[\u001b[38;5;28mstr\u001b[39m] \u001b[38;5;241m=\u001b[39m (\n\u001b[0;32m    117\u001b[0m         \u001b[38;5;28mself\u001b[39m\u001b[38;5;241m.\u001b[39m_generate_evaluation_steps()\n\u001b[0;32m    118\u001b[0m     )\n",
      "File \u001b[1;32mc:\\Users\\snake\\projects\\rutube_hackathon\\.venv\\Lib\\site-packages\\nest_asyncio.py:98\u001b[0m, in \u001b[0;36m_patch_loop.<locals>.run_until_complete\u001b[1;34m(self, future)\u001b[0m\n\u001b[0;32m     95\u001b[0m \u001b[38;5;28;01mif\u001b[39;00m \u001b[38;5;129;01mnot\u001b[39;00m f\u001b[38;5;241m.\u001b[39mdone():\n\u001b[0;32m     96\u001b[0m     \u001b[38;5;28;01mraise\u001b[39;00m \u001b[38;5;167;01mRuntimeError\u001b[39;00m(\n\u001b[0;32m     97\u001b[0m         \u001b[38;5;124m'\u001b[39m\u001b[38;5;124mEvent loop stopped before Future completed.\u001b[39m\u001b[38;5;124m'\u001b[39m)\n\u001b[1;32m---> 98\u001b[0m \u001b[38;5;28;01mreturn\u001b[39;00m \u001b[43mf\u001b[49m\u001b[38;5;241;43m.\u001b[39;49m\u001b[43mresult\u001b[49m\u001b[43m(\u001b[49m\u001b[43m)\u001b[49m\n",
      "File \u001b[1;32m~\\miniconda3\\Lib\\asyncio\\futures.py:203\u001b[0m, in \u001b[0;36mFuture.result\u001b[1;34m(self)\u001b[0m\n\u001b[0;32m    201\u001b[0m \u001b[38;5;28mself\u001b[39m\u001b[38;5;241m.\u001b[39m__log_traceback \u001b[38;5;241m=\u001b[39m \u001b[38;5;28;01mFalse\u001b[39;00m\n\u001b[0;32m    202\u001b[0m \u001b[38;5;28;01mif\u001b[39;00m \u001b[38;5;28mself\u001b[39m\u001b[38;5;241m.\u001b[39m_exception \u001b[38;5;129;01mis\u001b[39;00m \u001b[38;5;129;01mnot\u001b[39;00m \u001b[38;5;28;01mNone\u001b[39;00m:\n\u001b[1;32m--> 203\u001b[0m     \u001b[38;5;28;01mraise\u001b[39;00m \u001b[38;5;28mself\u001b[39m\u001b[38;5;241m.\u001b[39m_exception\u001b[38;5;241m.\u001b[39mwith_traceback(\u001b[38;5;28mself\u001b[39m\u001b[38;5;241m.\u001b[39m_exception_tb)\n\u001b[0;32m    204\u001b[0m \u001b[38;5;28;01mreturn\u001b[39;00m \u001b[38;5;28mself\u001b[39m\u001b[38;5;241m.\u001b[39m_result\n",
      "File \u001b[1;32m~\\miniconda3\\Lib\\asyncio\\tasks.py:267\u001b[0m, in \u001b[0;36mTask.__step\u001b[1;34m(***failed resolving arguments***)\u001b[0m\n\u001b[0;32m    263\u001b[0m \u001b[38;5;28;01mtry\u001b[39;00m:\n\u001b[0;32m    264\u001b[0m     \u001b[38;5;28;01mif\u001b[39;00m exc \u001b[38;5;129;01mis\u001b[39;00m \u001b[38;5;28;01mNone\u001b[39;00m:\n\u001b[0;32m    265\u001b[0m         \u001b[38;5;66;03m# We use the `send` method directly, because coroutines\u001b[39;00m\n\u001b[0;32m    266\u001b[0m         \u001b[38;5;66;03m# don't have `__iter__` and `__next__` methods.\u001b[39;00m\n\u001b[1;32m--> 267\u001b[0m         result \u001b[38;5;241m=\u001b[39m coro\u001b[38;5;241m.\u001b[39msend(\u001b[38;5;28;01mNone\u001b[39;00m)\n\u001b[0;32m    268\u001b[0m     \u001b[38;5;28;01melse\u001b[39;00m:\n\u001b[0;32m    269\u001b[0m         result \u001b[38;5;241m=\u001b[39m coro\u001b[38;5;241m.\u001b[39mthrow(exc)\n",
      "File \u001b[1;32mc:\\Users\\snake\\projects\\rutube_hackathon\\.venv\\Lib\\site-packages\\deepeval\\metrics\\g_eval\\g_eval.py:156\u001b[0m, in \u001b[0;36mGEval.a_measure\u001b[1;34m(self, test_case, _show_indicator)\u001b[0m\n\u001b[0;32m    148\u001b[0m \u001b[38;5;28;01mwith\u001b[39;00m metric_progress_indicator(\n\u001b[0;32m    149\u001b[0m     \u001b[38;5;28mself\u001b[39m,\n\u001b[0;32m    150\u001b[0m     async_mode\u001b[38;5;241m=\u001b[39m\u001b[38;5;28;01mTrue\u001b[39;00m,\n\u001b[0;32m    151\u001b[0m     _show_indicator\u001b[38;5;241m=\u001b[39m_show_indicator,\n\u001b[0;32m    152\u001b[0m ):\n\u001b[0;32m    153\u001b[0m     \u001b[38;5;28mself\u001b[39m\u001b[38;5;241m.\u001b[39mevaluation_steps: List[\u001b[38;5;28mstr\u001b[39m] \u001b[38;5;241m=\u001b[39m (\n\u001b[0;32m    154\u001b[0m         \u001b[38;5;28;01mawait\u001b[39;00m \u001b[38;5;28mself\u001b[39m\u001b[38;5;241m.\u001b[39m_a_generate_evaluation_steps()\n\u001b[0;32m    155\u001b[0m     )\n\u001b[1;32m--> 156\u001b[0m     g_score, reason \u001b[38;5;241m=\u001b[39m \u001b[38;5;28;01mawait\u001b[39;00m \u001b[38;5;28mself\u001b[39m\u001b[38;5;241m.\u001b[39m_a_evaluate(test_case)\n\u001b[0;32m    157\u001b[0m     \u001b[38;5;28mself\u001b[39m\u001b[38;5;241m.\u001b[39mreason \u001b[38;5;241m=\u001b[39m reason\n\u001b[0;32m    158\u001b[0m     \u001b[38;5;28mself\u001b[39m\u001b[38;5;241m.\u001b[39mscore \u001b[38;5;241m=\u001b[39m \u001b[38;5;28mfloat\u001b[39m(g_score) \u001b[38;5;241m/\u001b[39m \u001b[38;5;241m10\u001b[39m\n",
      "File \u001b[1;32mc:\\Users\\snake\\projects\\rutube_hackathon\\.venv\\Lib\\site-packages\\deepeval\\metrics\\g_eval\\g_eval.py:244\u001b[0m, in \u001b[0;36mGEval._a_evaluate\u001b[1;34m(self, test_case)\u001b[0m\n\u001b[0;32m    235\u001b[0m prompt \u001b[38;5;241m=\u001b[39m GEvalTemplate\u001b[38;5;241m.\u001b[39mgenerate_evaluation_results(\n\u001b[0;32m    236\u001b[0m     evaluation_steps\u001b[38;5;241m=\u001b[39m\u001b[38;5;28mself\u001b[39m\u001b[38;5;241m.\u001b[39mnumber_evaluation_steps(),\n\u001b[0;32m    237\u001b[0m     text\u001b[38;5;241m=\u001b[39mtext,\n\u001b[0;32m    238\u001b[0m     parameters\u001b[38;5;241m=\u001b[39mg_eval_params_str,\n\u001b[0;32m    239\u001b[0m )\n\u001b[0;32m    241\u001b[0m \u001b[38;5;28;01mtry\u001b[39;00m:\n\u001b[0;32m    242\u001b[0m     \u001b[38;5;66;03m# Don't have to check for using native model\u001b[39;00m\n\u001b[0;32m    243\u001b[0m     \u001b[38;5;66;03m# since generate raw response only exist for deepeval's native model\u001b[39;00m\n\u001b[1;32m--> 244\u001b[0m     res, cost \u001b[38;5;241m=\u001b[39m \u001b[38;5;28;01mawait\u001b[39;00m \u001b[38;5;28mself\u001b[39m\u001b[38;5;241m.\u001b[39mmodel\u001b[38;5;241m.\u001b[39ma_generate_raw_response(\n\u001b[0;32m    245\u001b[0m         prompt, logprobs\u001b[38;5;241m=\u001b[39m\u001b[38;5;28;01mTrue\u001b[39;00m, top_logprobs\u001b[38;5;241m=\u001b[39m\u001b[38;5;241m20\u001b[39m\n\u001b[0;32m    246\u001b[0m     )\n\u001b[0;32m    247\u001b[0m     \u001b[38;5;28mself\u001b[39m\u001b[38;5;241m.\u001b[39mevaluation_cost \u001b[38;5;241m+\u001b[39m\u001b[38;5;241m=\u001b[39m cost\n\u001b[0;32m    248\u001b[0m     data \u001b[38;5;241m=\u001b[39m trimAndLoadJson(res\u001b[38;5;241m.\u001b[39mcontent, \u001b[38;5;28mself\u001b[39m)\n",
      "File \u001b[1;32mc:\\Users\\snake\\projects\\rutube_hackathon\\.venv\\Lib\\site-packages\\tenacity\\asyncio\\__init__.py:189\u001b[0m, in \u001b[0;36mAsyncRetrying.wraps.<locals>.async_wrapped\u001b[1;34m(*args, **kwargs)\u001b[0m\n\u001b[0;32m    187\u001b[0m copy \u001b[38;5;241m=\u001b[39m \u001b[38;5;28mself\u001b[39m\u001b[38;5;241m.\u001b[39mcopy()\n\u001b[0;32m    188\u001b[0m async_wrapped\u001b[38;5;241m.\u001b[39mstatistics \u001b[38;5;241m=\u001b[39m copy\u001b[38;5;241m.\u001b[39mstatistics  \u001b[38;5;66;03m# type: ignore[attr-defined]\u001b[39;00m\n\u001b[1;32m--> 189\u001b[0m \u001b[38;5;28;01mreturn\u001b[39;00m \u001b[38;5;28;01mawait\u001b[39;00m copy(fn, \u001b[38;5;241m*\u001b[39margs, \u001b[38;5;241m*\u001b[39m\u001b[38;5;241m*\u001b[39mkwargs)\n",
      "File \u001b[1;32mc:\\Users\\snake\\projects\\rutube_hackathon\\.venv\\Lib\\site-packages\\tenacity\\asyncio\\__init__.py:111\u001b[0m, in \u001b[0;36mAsyncRetrying.__call__\u001b[1;34m(self, fn, *args, **kwargs)\u001b[0m\n\u001b[0;32m    109\u001b[0m retry_state \u001b[38;5;241m=\u001b[39m RetryCallState(retry_object\u001b[38;5;241m=\u001b[39m\u001b[38;5;28mself\u001b[39m, fn\u001b[38;5;241m=\u001b[39mfn, args\u001b[38;5;241m=\u001b[39margs, kwargs\u001b[38;5;241m=\u001b[39mkwargs)\n\u001b[0;32m    110\u001b[0m \u001b[38;5;28;01mwhile\u001b[39;00m \u001b[38;5;28;01mTrue\u001b[39;00m:\n\u001b[1;32m--> 111\u001b[0m     do \u001b[38;5;241m=\u001b[39m \u001b[38;5;28;01mawait\u001b[39;00m \u001b[38;5;28mself\u001b[39m\u001b[38;5;241m.\u001b[39miter(retry_state\u001b[38;5;241m=\u001b[39mretry_state)\n\u001b[0;32m    112\u001b[0m     \u001b[38;5;28;01mif\u001b[39;00m \u001b[38;5;28misinstance\u001b[39m(do, DoAttempt):\n\u001b[0;32m    113\u001b[0m         \u001b[38;5;28;01mtry\u001b[39;00m:\n",
      "File \u001b[1;32mc:\\Users\\snake\\projects\\rutube_hackathon\\.venv\\Lib\\site-packages\\tenacity\\asyncio\\__init__.py:153\u001b[0m, in \u001b[0;36mAsyncRetrying.iter\u001b[1;34m(self, retry_state)\u001b[0m\n\u001b[0;32m    151\u001b[0m result \u001b[38;5;241m=\u001b[39m \u001b[38;5;28;01mNone\u001b[39;00m\n\u001b[0;32m    152\u001b[0m \u001b[38;5;28;01mfor\u001b[39;00m action \u001b[38;5;129;01min\u001b[39;00m \u001b[38;5;28mself\u001b[39m\u001b[38;5;241m.\u001b[39miter_state\u001b[38;5;241m.\u001b[39mactions:\n\u001b[1;32m--> 153\u001b[0m     result \u001b[38;5;241m=\u001b[39m \u001b[38;5;28;01mawait\u001b[39;00m action(retry_state)\n\u001b[0;32m    154\u001b[0m \u001b[38;5;28;01mreturn\u001b[39;00m result\n",
      "File \u001b[1;32mc:\\Users\\snake\\projects\\rutube_hackathon\\.venv\\Lib\\site-packages\\tenacity\\_utils.py:99\u001b[0m, in \u001b[0;36mwrap_to_async_func.<locals>.inner\u001b[1;34m(*args, **kwargs)\u001b[0m\n\u001b[0;32m     98\u001b[0m \u001b[38;5;28;01masync\u001b[39;00m \u001b[38;5;28;01mdef\u001b[39;00m \u001b[38;5;21minner\u001b[39m(\u001b[38;5;241m*\u001b[39margs: typing\u001b[38;5;241m.\u001b[39mAny, \u001b[38;5;241m*\u001b[39m\u001b[38;5;241m*\u001b[39mkwargs: typing\u001b[38;5;241m.\u001b[39mAny) \u001b[38;5;241m-\u001b[39m\u001b[38;5;241m>\u001b[39m typing\u001b[38;5;241m.\u001b[39mAny:\n\u001b[1;32m---> 99\u001b[0m     \u001b[38;5;28;01mreturn\u001b[39;00m \u001b[43mcall\u001b[49m\u001b[43m(\u001b[49m\u001b[38;5;241;43m*\u001b[39;49m\u001b[43margs\u001b[49m\u001b[43m,\u001b[49m\u001b[43m \u001b[49m\u001b[38;5;241;43m*\u001b[39;49m\u001b[38;5;241;43m*\u001b[39;49m\u001b[43mkwargs\u001b[49m\u001b[43m)\u001b[49m\n",
      "File \u001b[1;32mc:\\Users\\snake\\projects\\rutube_hackathon\\.venv\\Lib\\site-packages\\tenacity\\__init__.py:398\u001b[0m, in \u001b[0;36mBaseRetrying._post_retry_check_actions.<locals>.<lambda>\u001b[1;34m(rs)\u001b[0m\n\u001b[0;32m    396\u001b[0m \u001b[38;5;28;01mdef\u001b[39;00m \u001b[38;5;21m_post_retry_check_actions\u001b[39m(\u001b[38;5;28mself\u001b[39m, retry_state: \u001b[38;5;124m\"\u001b[39m\u001b[38;5;124mRetryCallState\u001b[39m\u001b[38;5;124m\"\u001b[39m) \u001b[38;5;241m-\u001b[39m\u001b[38;5;241m>\u001b[39m \u001b[38;5;28;01mNone\u001b[39;00m:\n\u001b[0;32m    397\u001b[0m     \u001b[38;5;28;01mif\u001b[39;00m \u001b[38;5;129;01mnot\u001b[39;00m (\u001b[38;5;28mself\u001b[39m\u001b[38;5;241m.\u001b[39miter_state\u001b[38;5;241m.\u001b[39mis_explicit_retry \u001b[38;5;129;01mor\u001b[39;00m \u001b[38;5;28mself\u001b[39m\u001b[38;5;241m.\u001b[39miter_state\u001b[38;5;241m.\u001b[39mretry_run_result):\n\u001b[1;32m--> 398\u001b[0m         \u001b[38;5;28mself\u001b[39m\u001b[38;5;241m.\u001b[39m_add_action_func(\u001b[38;5;28;01mlambda\u001b[39;00m rs: \u001b[43mrs\u001b[49m\u001b[38;5;241;43m.\u001b[39;49m\u001b[43moutcome\u001b[49m\u001b[38;5;241;43m.\u001b[39;49m\u001b[43mresult\u001b[49m\u001b[43m(\u001b[49m\u001b[43m)\u001b[49m)\n\u001b[0;32m    399\u001b[0m         \u001b[38;5;28;01mreturn\u001b[39;00m\n\u001b[0;32m    401\u001b[0m     \u001b[38;5;28;01mif\u001b[39;00m \u001b[38;5;28mself\u001b[39m\u001b[38;5;241m.\u001b[39mafter \u001b[38;5;129;01mis\u001b[39;00m \u001b[38;5;129;01mnot\u001b[39;00m \u001b[38;5;28;01mNone\u001b[39;00m:\n",
      "File \u001b[1;32m~\\miniconda3\\Lib\\concurrent\\futures\\_base.py:449\u001b[0m, in \u001b[0;36mFuture.result\u001b[1;34m(self, timeout)\u001b[0m\n\u001b[0;32m    447\u001b[0m     \u001b[38;5;28;01mraise\u001b[39;00m CancelledError()\n\u001b[0;32m    448\u001b[0m \u001b[38;5;28;01melif\u001b[39;00m \u001b[38;5;28mself\u001b[39m\u001b[38;5;241m.\u001b[39m_state \u001b[38;5;241m==\u001b[39m FINISHED:\n\u001b[1;32m--> 449\u001b[0m     \u001b[38;5;28;01mreturn\u001b[39;00m \u001b[38;5;28;43mself\u001b[39;49m\u001b[38;5;241;43m.\u001b[39;49m\u001b[43m__get_result\u001b[49m\u001b[43m(\u001b[49m\u001b[43m)\u001b[49m\n\u001b[0;32m    451\u001b[0m \u001b[38;5;28mself\u001b[39m\u001b[38;5;241m.\u001b[39m_condition\u001b[38;5;241m.\u001b[39mwait(timeout)\n\u001b[0;32m    453\u001b[0m \u001b[38;5;28;01mif\u001b[39;00m \u001b[38;5;28mself\u001b[39m\u001b[38;5;241m.\u001b[39m_state \u001b[38;5;129;01min\u001b[39;00m [CANCELLED, CANCELLED_AND_NOTIFIED]:\n",
      "File \u001b[1;32m~\\miniconda3\\Lib\\concurrent\\futures\\_base.py:401\u001b[0m, in \u001b[0;36mFuture.__get_result\u001b[1;34m(self)\u001b[0m\n\u001b[0;32m    399\u001b[0m \u001b[38;5;28;01mif\u001b[39;00m \u001b[38;5;28mself\u001b[39m\u001b[38;5;241m.\u001b[39m_exception:\n\u001b[0;32m    400\u001b[0m     \u001b[38;5;28;01mtry\u001b[39;00m:\n\u001b[1;32m--> 401\u001b[0m         \u001b[38;5;28;01mraise\u001b[39;00m \u001b[38;5;28mself\u001b[39m\u001b[38;5;241m.\u001b[39m_exception\n\u001b[0;32m    402\u001b[0m     \u001b[38;5;28;01mfinally\u001b[39;00m:\n\u001b[0;32m    403\u001b[0m         \u001b[38;5;66;03m# Break a reference cycle with the exception in self._exception\u001b[39;00m\n\u001b[0;32m    404\u001b[0m         \u001b[38;5;28mself\u001b[39m \u001b[38;5;241m=\u001b[39m \u001b[38;5;28;01mNone\u001b[39;00m\n",
      "File \u001b[1;32mc:\\Users\\snake\\projects\\rutube_hackathon\\.venv\\Lib\\site-packages\\tenacity\\asyncio\\__init__.py:114\u001b[0m, in \u001b[0;36mAsyncRetrying.__call__\u001b[1;34m(self, fn, *args, **kwargs)\u001b[0m\n\u001b[0;32m    112\u001b[0m \u001b[38;5;28;01mif\u001b[39;00m \u001b[38;5;28misinstance\u001b[39m(do, DoAttempt):\n\u001b[0;32m    113\u001b[0m     \u001b[38;5;28;01mtry\u001b[39;00m:\n\u001b[1;32m--> 114\u001b[0m         result \u001b[38;5;241m=\u001b[39m \u001b[38;5;28;01mawait\u001b[39;00m fn(\u001b[38;5;241m*\u001b[39margs, \u001b[38;5;241m*\u001b[39m\u001b[38;5;241m*\u001b[39mkwargs)\n\u001b[0;32m    115\u001b[0m     \u001b[38;5;28;01mexcept\u001b[39;00m \u001b[38;5;167;01mBaseException\u001b[39;00m:  \u001b[38;5;66;03m# noqa: B902\u001b[39;00m\n\u001b[0;32m    116\u001b[0m         retry_state\u001b[38;5;241m.\u001b[39mset_exception(sys\u001b[38;5;241m.\u001b[39mexc_info())  \u001b[38;5;66;03m# type: ignore[arg-type]\u001b[39;00m\n",
      "File \u001b[1;32mc:\\Users\\snake\\projects\\rutube_hackathon\\.venv\\Lib\\site-packages\\deepeval\\models\\gpt_model.py:214\u001b[0m, in \u001b[0;36mGPTModel.a_generate_raw_response\u001b[1;34m(self, prompt, **kwargs)\u001b[0m\n\u001b[0;32m    212\u001b[0m chat_model \u001b[38;5;241m=\u001b[39m \u001b[38;5;28mself\u001b[39m\u001b[38;5;241m.\u001b[39mload_model()\u001b[38;5;241m.\u001b[39mbind(\u001b[38;5;241m*\u001b[39m\u001b[38;5;241m*\u001b[39mkwargs)\n\u001b[0;32m    213\u001b[0m \u001b[38;5;28;01mwith\u001b[39;00m get_openai_callback() \u001b[38;5;28;01mas\u001b[39;00m cb:\n\u001b[1;32m--> 214\u001b[0m     res \u001b[38;5;241m=\u001b[39m \u001b[38;5;28;01mawait\u001b[39;00m chat_model\u001b[38;5;241m.\u001b[39mainvoke(prompt)\n\u001b[0;32m    215\u001b[0m \u001b[38;5;28;01mreturn\u001b[39;00m res, cb\u001b[38;5;241m.\u001b[39mtotal_cost\n",
      "File \u001b[1;32mc:\\Users\\snake\\projects\\rutube_hackathon\\.venv\\Lib\\site-packages\\langchain_core\\runnables\\base.py:5355\u001b[0m, in \u001b[0;36mRunnableBindingBase.ainvoke\u001b[1;34m(self, input, config, **kwargs)\u001b[0m\n\u001b[0;32m   5349\u001b[0m \u001b[38;5;28;01masync\u001b[39;00m \u001b[38;5;28;01mdef\u001b[39;00m \u001b[38;5;21mainvoke\u001b[39m(\n\u001b[0;32m   5350\u001b[0m     \u001b[38;5;28mself\u001b[39m,\n\u001b[0;32m   5351\u001b[0m     \u001b[38;5;28minput\u001b[39m: Input,\n\u001b[0;32m   5352\u001b[0m     config: Optional[RunnableConfig] \u001b[38;5;241m=\u001b[39m \u001b[38;5;28;01mNone\u001b[39;00m,\n\u001b[0;32m   5353\u001b[0m     \u001b[38;5;241m*\u001b[39m\u001b[38;5;241m*\u001b[39mkwargs: Optional[Any],\n\u001b[0;32m   5354\u001b[0m ) \u001b[38;5;241m-\u001b[39m\u001b[38;5;241m>\u001b[39m Output:\n\u001b[1;32m-> 5355\u001b[0m     \u001b[38;5;28;01mreturn\u001b[39;00m \u001b[38;5;28;01mawait\u001b[39;00m \u001b[38;5;28mself\u001b[39m\u001b[38;5;241m.\u001b[39mbound\u001b[38;5;241m.\u001b[39mainvoke(\n\u001b[0;32m   5356\u001b[0m         \u001b[38;5;28minput\u001b[39m,\n\u001b[0;32m   5357\u001b[0m         \u001b[38;5;28mself\u001b[39m\u001b[38;5;241m.\u001b[39m_merge_configs(config),\n\u001b[0;32m   5358\u001b[0m         \u001b[38;5;241m*\u001b[39m\u001b[38;5;241m*\u001b[39m{\u001b[38;5;241m*\u001b[39m\u001b[38;5;241m*\u001b[39m\u001b[38;5;28mself\u001b[39m\u001b[38;5;241m.\u001b[39mkwargs, \u001b[38;5;241m*\u001b[39m\u001b[38;5;241m*\u001b[39mkwargs},\n\u001b[0;32m   5359\u001b[0m     )\n",
      "File \u001b[1;32mc:\\Users\\snake\\projects\\rutube_hackathon\\.venv\\Lib\\site-packages\\langchain_core\\language_models\\chat_models.py:305\u001b[0m, in \u001b[0;36mBaseChatModel.ainvoke\u001b[1;34m(self, input, config, stop, **kwargs)\u001b[0m\n\u001b[0;32m    296\u001b[0m \u001b[38;5;28;01masync\u001b[39;00m \u001b[38;5;28;01mdef\u001b[39;00m \u001b[38;5;21mainvoke\u001b[39m(\n\u001b[0;32m    297\u001b[0m     \u001b[38;5;28mself\u001b[39m,\n\u001b[0;32m    298\u001b[0m     \u001b[38;5;28minput\u001b[39m: LanguageModelInput,\n\u001b[1;32m   (...)\u001b[0m\n\u001b[0;32m    302\u001b[0m     \u001b[38;5;241m*\u001b[39m\u001b[38;5;241m*\u001b[39mkwargs: Any,\n\u001b[0;32m    303\u001b[0m ) \u001b[38;5;241m-\u001b[39m\u001b[38;5;241m>\u001b[39m BaseMessage:\n\u001b[0;32m    304\u001b[0m     config \u001b[38;5;241m=\u001b[39m ensure_config(config)\n\u001b[1;32m--> 305\u001b[0m     llm_result \u001b[38;5;241m=\u001b[39m \u001b[38;5;28;01mawait\u001b[39;00m \u001b[38;5;28mself\u001b[39m\u001b[38;5;241m.\u001b[39magenerate_prompt(\n\u001b[0;32m    306\u001b[0m         [\u001b[38;5;28mself\u001b[39m\u001b[38;5;241m.\u001b[39m_convert_input(\u001b[38;5;28minput\u001b[39m)],\n\u001b[0;32m    307\u001b[0m         stop\u001b[38;5;241m=\u001b[39mstop,\n\u001b[0;32m    308\u001b[0m         callbacks\u001b[38;5;241m=\u001b[39mconfig\u001b[38;5;241m.\u001b[39mget(\u001b[38;5;124m\"\u001b[39m\u001b[38;5;124mcallbacks\u001b[39m\u001b[38;5;124m\"\u001b[39m),\n\u001b[0;32m    309\u001b[0m         tags\u001b[38;5;241m=\u001b[39mconfig\u001b[38;5;241m.\u001b[39mget(\u001b[38;5;124m\"\u001b[39m\u001b[38;5;124mtags\u001b[39m\u001b[38;5;124m\"\u001b[39m),\n\u001b[0;32m    310\u001b[0m         metadata\u001b[38;5;241m=\u001b[39mconfig\u001b[38;5;241m.\u001b[39mget(\u001b[38;5;124m\"\u001b[39m\u001b[38;5;124mmetadata\u001b[39m\u001b[38;5;124m\"\u001b[39m),\n\u001b[0;32m    311\u001b[0m         run_name\u001b[38;5;241m=\u001b[39mconfig\u001b[38;5;241m.\u001b[39mget(\u001b[38;5;124m\"\u001b[39m\u001b[38;5;124mrun_name\u001b[39m\u001b[38;5;124m\"\u001b[39m),\n\u001b[0;32m    312\u001b[0m         run_id\u001b[38;5;241m=\u001b[39mconfig\u001b[38;5;241m.\u001b[39mpop(\u001b[38;5;124m\"\u001b[39m\u001b[38;5;124mrun_id\u001b[39m\u001b[38;5;124m\"\u001b[39m, \u001b[38;5;28;01mNone\u001b[39;00m),\n\u001b[0;32m    313\u001b[0m         \u001b[38;5;241m*\u001b[39m\u001b[38;5;241m*\u001b[39mkwargs,\n\u001b[0;32m    314\u001b[0m     )\n\u001b[0;32m    315\u001b[0m     \u001b[38;5;28;01mreturn\u001b[39;00m cast(ChatGeneration, llm_result\u001b[38;5;241m.\u001b[39mgenerations[\u001b[38;5;241m0\u001b[39m][\u001b[38;5;241m0\u001b[39m])\u001b[38;5;241m.\u001b[39mmessage\n",
      "File \u001b[1;32mc:\\Users\\snake\\projects\\rutube_hackathon\\.venv\\Lib\\site-packages\\langchain_core\\language_models\\chat_models.py:794\u001b[0m, in \u001b[0;36mBaseChatModel.agenerate_prompt\u001b[1;34m(self, prompts, stop, callbacks, **kwargs)\u001b[0m\n\u001b[0;32m    786\u001b[0m \u001b[38;5;28;01masync\u001b[39;00m \u001b[38;5;28;01mdef\u001b[39;00m \u001b[38;5;21magenerate_prompt\u001b[39m(\n\u001b[0;32m    787\u001b[0m     \u001b[38;5;28mself\u001b[39m,\n\u001b[0;32m    788\u001b[0m     prompts: \u001b[38;5;28mlist\u001b[39m[PromptValue],\n\u001b[1;32m   (...)\u001b[0m\n\u001b[0;32m    791\u001b[0m     \u001b[38;5;241m*\u001b[39m\u001b[38;5;241m*\u001b[39mkwargs: Any,\n\u001b[0;32m    792\u001b[0m ) \u001b[38;5;241m-\u001b[39m\u001b[38;5;241m>\u001b[39m LLMResult:\n\u001b[0;32m    793\u001b[0m     prompt_messages \u001b[38;5;241m=\u001b[39m [p\u001b[38;5;241m.\u001b[39mto_messages() \u001b[38;5;28;01mfor\u001b[39;00m p \u001b[38;5;129;01min\u001b[39;00m prompts]\n\u001b[1;32m--> 794\u001b[0m     \u001b[38;5;28;01mreturn\u001b[39;00m \u001b[38;5;28;01mawait\u001b[39;00m \u001b[38;5;28mself\u001b[39m\u001b[38;5;241m.\u001b[39magenerate(\n\u001b[0;32m    795\u001b[0m         prompt_messages, stop\u001b[38;5;241m=\u001b[39mstop, callbacks\u001b[38;5;241m=\u001b[39mcallbacks, \u001b[38;5;241m*\u001b[39m\u001b[38;5;241m*\u001b[39mkwargs\n\u001b[0;32m    796\u001b[0m     )\n",
      "File \u001b[1;32mc:\\Users\\snake\\projects\\rutube_hackathon\\.venv\\Lib\\site-packages\\langchain_core\\language_models\\chat_models.py:754\u001b[0m, in \u001b[0;36mBaseChatModel.agenerate\u001b[1;34m(self, messages, stop, callbacks, tags, metadata, run_name, run_id, **kwargs)\u001b[0m\n\u001b[0;32m    741\u001b[0m     \u001b[38;5;28;01mif\u001b[39;00m run_managers:\n\u001b[0;32m    742\u001b[0m         \u001b[38;5;28;01mawait\u001b[39;00m asyncio\u001b[38;5;241m.\u001b[39mgather(\n\u001b[0;32m    743\u001b[0m             \u001b[38;5;241m*\u001b[39m[\n\u001b[0;32m    744\u001b[0m                 run_manager\u001b[38;5;241m.\u001b[39mon_llm_end(\n\u001b[1;32m   (...)\u001b[0m\n\u001b[0;32m    752\u001b[0m             ]\n\u001b[0;32m    753\u001b[0m         )\n\u001b[1;32m--> 754\u001b[0m     \u001b[38;5;28;01mraise\u001b[39;00m exceptions[\u001b[38;5;241m0\u001b[39m]\n\u001b[0;32m    755\u001b[0m flattened_outputs \u001b[38;5;241m=\u001b[39m [\n\u001b[0;32m    756\u001b[0m     LLMResult(generations\u001b[38;5;241m=\u001b[39m[res\u001b[38;5;241m.\u001b[39mgenerations], llm_output\u001b[38;5;241m=\u001b[39mres\u001b[38;5;241m.\u001b[39mllm_output)  \u001b[38;5;66;03m# type: ignore[list-item, union-attr]\u001b[39;00m\n\u001b[0;32m    757\u001b[0m     \u001b[38;5;28;01mfor\u001b[39;00m res \u001b[38;5;129;01min\u001b[39;00m results\n\u001b[0;32m    758\u001b[0m ]\n\u001b[0;32m    759\u001b[0m llm_output \u001b[38;5;241m=\u001b[39m \u001b[38;5;28mself\u001b[39m\u001b[38;5;241m.\u001b[39m_combine_llm_outputs([res\u001b[38;5;241m.\u001b[39mllm_output \u001b[38;5;28;01mfor\u001b[39;00m res \u001b[38;5;129;01min\u001b[39;00m results])  \u001b[38;5;66;03m# type: ignore[union-attr]\u001b[39;00m\n",
      "File \u001b[1;32m~\\miniconda3\\Lib\\asyncio\\tasks.py:267\u001b[0m, in \u001b[0;36mTask.__step\u001b[1;34m(***failed resolving arguments***)\u001b[0m\n\u001b[0;32m    263\u001b[0m \u001b[38;5;28;01mtry\u001b[39;00m:\n\u001b[0;32m    264\u001b[0m     \u001b[38;5;28;01mif\u001b[39;00m exc \u001b[38;5;129;01mis\u001b[39;00m \u001b[38;5;28;01mNone\u001b[39;00m:\n\u001b[0;32m    265\u001b[0m         \u001b[38;5;66;03m# We use the `send` method directly, because coroutines\u001b[39;00m\n\u001b[0;32m    266\u001b[0m         \u001b[38;5;66;03m# don't have `__iter__` and `__next__` methods.\u001b[39;00m\n\u001b[1;32m--> 267\u001b[0m         result \u001b[38;5;241m=\u001b[39m coro\u001b[38;5;241m.\u001b[39msend(\u001b[38;5;28;01mNone\u001b[39;00m)\n\u001b[0;32m    268\u001b[0m     \u001b[38;5;28;01melse\u001b[39;00m:\n\u001b[0;32m    269\u001b[0m         result \u001b[38;5;241m=\u001b[39m coro\u001b[38;5;241m.\u001b[39mthrow(exc)\n",
      "File \u001b[1;32mc:\\Users\\snake\\projects\\rutube_hackathon\\.venv\\Lib\\site-packages\\langchain_core\\language_models\\chat_models.py:930\u001b[0m, in \u001b[0;36mBaseChatModel._agenerate_with_cache\u001b[1;34m(self, messages, stop, run_manager, **kwargs)\u001b[0m\n\u001b[0;32m    928\u001b[0m \u001b[38;5;28;01melse\u001b[39;00m:\n\u001b[0;32m    929\u001b[0m     \u001b[38;5;28;01mif\u001b[39;00m inspect\u001b[38;5;241m.\u001b[39msignature(\u001b[38;5;28mself\u001b[39m\u001b[38;5;241m.\u001b[39m_agenerate)\u001b[38;5;241m.\u001b[39mparameters\u001b[38;5;241m.\u001b[39mget(\u001b[38;5;124m\"\u001b[39m\u001b[38;5;124mrun_manager\u001b[39m\u001b[38;5;124m\"\u001b[39m):\n\u001b[1;32m--> 930\u001b[0m         result \u001b[38;5;241m=\u001b[39m \u001b[38;5;28;01mawait\u001b[39;00m \u001b[38;5;28mself\u001b[39m\u001b[38;5;241m.\u001b[39m_agenerate(\n\u001b[0;32m    931\u001b[0m             messages, stop\u001b[38;5;241m=\u001b[39mstop, run_manager\u001b[38;5;241m=\u001b[39mrun_manager, \u001b[38;5;241m*\u001b[39m\u001b[38;5;241m*\u001b[39mkwargs\n\u001b[0;32m    932\u001b[0m         )\n\u001b[0;32m    933\u001b[0m     \u001b[38;5;28;01melse\u001b[39;00m:\n\u001b[0;32m    934\u001b[0m         result \u001b[38;5;241m=\u001b[39m \u001b[38;5;28;01mawait\u001b[39;00m \u001b[38;5;28mself\u001b[39m\u001b[38;5;241m.\u001b[39m_agenerate(messages, stop\u001b[38;5;241m=\u001b[39mstop, \u001b[38;5;241m*\u001b[39m\u001b[38;5;241m*\u001b[39mkwargs)\n",
      "File \u001b[1;32mc:\\Users\\snake\\projects\\rutube_hackathon\\.venv\\Lib\\site-packages\\langchain_openai\\chat_models\\base.py:845\u001b[0m, in \u001b[0;36mBaseChatOpenAI._agenerate\u001b[1;34m(self, messages, stop, run_manager, **kwargs)\u001b[0m\n\u001b[0;32m    843\u001b[0m     generation_info \u001b[38;5;241m=\u001b[39m {\u001b[38;5;124m\"\u001b[39m\u001b[38;5;124mheaders\u001b[39m\u001b[38;5;124m\"\u001b[39m: \u001b[38;5;28mdict\u001b[39m(raw_response\u001b[38;5;241m.\u001b[39mheaders)}\n\u001b[0;32m    844\u001b[0m \u001b[38;5;28;01melse\u001b[39;00m:\n\u001b[1;32m--> 845\u001b[0m     response \u001b[38;5;241m=\u001b[39m \u001b[38;5;28;01mawait\u001b[39;00m \u001b[38;5;28mself\u001b[39m\u001b[38;5;241m.\u001b[39masync_client\u001b[38;5;241m.\u001b[39mcreate(\u001b[38;5;241m*\u001b[39m\u001b[38;5;241m*\u001b[39mpayload)\n\u001b[0;32m    846\u001b[0m \u001b[38;5;28;01mreturn\u001b[39;00m \u001b[38;5;28;01mawait\u001b[39;00m run_in_executor(\n\u001b[0;32m    847\u001b[0m     \u001b[38;5;28;01mNone\u001b[39;00m, \u001b[38;5;28mself\u001b[39m\u001b[38;5;241m.\u001b[39m_create_chat_result, response, generation_info\n\u001b[0;32m    848\u001b[0m )\n",
      "File \u001b[1;32mc:\\Users\\snake\\projects\\rutube_hackathon\\.venv\\Lib\\site-packages\\openai\\resources\\chat\\completions.py:1412\u001b[0m, in \u001b[0;36mAsyncCompletions.create\u001b[1;34m(self, messages, model, frequency_penalty, function_call, functions, logit_bias, logprobs, max_completion_tokens, max_tokens, n, parallel_tool_calls, presence_penalty, response_format, seed, service_tier, stop, stream, stream_options, temperature, tool_choice, tools, top_logprobs, top_p, user, extra_headers, extra_query, extra_body, timeout)\u001b[0m\n\u001b[0;32m   1376\u001b[0m \u001b[38;5;129m@required_args\u001b[39m([\u001b[38;5;124m\"\u001b[39m\u001b[38;5;124mmessages\u001b[39m\u001b[38;5;124m\"\u001b[39m, \u001b[38;5;124m\"\u001b[39m\u001b[38;5;124mmodel\u001b[39m\u001b[38;5;124m\"\u001b[39m], [\u001b[38;5;124m\"\u001b[39m\u001b[38;5;124mmessages\u001b[39m\u001b[38;5;124m\"\u001b[39m, \u001b[38;5;124m\"\u001b[39m\u001b[38;5;124mmodel\u001b[39m\u001b[38;5;124m\"\u001b[39m, \u001b[38;5;124m\"\u001b[39m\u001b[38;5;124mstream\u001b[39m\u001b[38;5;124m\"\u001b[39m])\n\u001b[0;32m   1377\u001b[0m \u001b[38;5;28;01masync\u001b[39;00m \u001b[38;5;28;01mdef\u001b[39;00m \u001b[38;5;21mcreate\u001b[39m(\n\u001b[0;32m   1378\u001b[0m     \u001b[38;5;28mself\u001b[39m,\n\u001b[1;32m   (...)\u001b[0m\n\u001b[0;32m   1409\u001b[0m     timeout: \u001b[38;5;28mfloat\u001b[39m \u001b[38;5;241m|\u001b[39m httpx\u001b[38;5;241m.\u001b[39mTimeout \u001b[38;5;241m|\u001b[39m \u001b[38;5;28;01mNone\u001b[39;00m \u001b[38;5;241m|\u001b[39m NotGiven \u001b[38;5;241m=\u001b[39m NOT_GIVEN,\n\u001b[0;32m   1410\u001b[0m ) \u001b[38;5;241m-\u001b[39m\u001b[38;5;241m>\u001b[39m ChatCompletion \u001b[38;5;241m|\u001b[39m AsyncStream[ChatCompletionChunk]:\n\u001b[0;32m   1411\u001b[0m     validate_response_format(response_format)\n\u001b[1;32m-> 1412\u001b[0m     \u001b[38;5;28;01mreturn\u001b[39;00m \u001b[38;5;28;01mawait\u001b[39;00m \u001b[38;5;28mself\u001b[39m\u001b[38;5;241m.\u001b[39m_post(\n\u001b[0;32m   1413\u001b[0m         \u001b[38;5;124m\"\u001b[39m\u001b[38;5;124m/chat/completions\u001b[39m\u001b[38;5;124m\"\u001b[39m,\n\u001b[0;32m   1414\u001b[0m         body\u001b[38;5;241m=\u001b[39m\u001b[38;5;28;01mawait\u001b[39;00m async_maybe_transform(\n\u001b[0;32m   1415\u001b[0m             {\n\u001b[0;32m   1416\u001b[0m                 \u001b[38;5;124m\"\u001b[39m\u001b[38;5;124mmessages\u001b[39m\u001b[38;5;124m\"\u001b[39m: messages,\n\u001b[0;32m   1417\u001b[0m                 \u001b[38;5;124m\"\u001b[39m\u001b[38;5;124mmodel\u001b[39m\u001b[38;5;124m\"\u001b[39m: model,\n\u001b[0;32m   1418\u001b[0m                 \u001b[38;5;124m\"\u001b[39m\u001b[38;5;124mfrequency_penalty\u001b[39m\u001b[38;5;124m\"\u001b[39m: frequency_penalty,\n\u001b[0;32m   1419\u001b[0m                 \u001b[38;5;124m\"\u001b[39m\u001b[38;5;124mfunction_call\u001b[39m\u001b[38;5;124m\"\u001b[39m: function_call,\n\u001b[0;32m   1420\u001b[0m                 \u001b[38;5;124m\"\u001b[39m\u001b[38;5;124mfunctions\u001b[39m\u001b[38;5;124m\"\u001b[39m: functions,\n\u001b[0;32m   1421\u001b[0m                 \u001b[38;5;124m\"\u001b[39m\u001b[38;5;124mlogit_bias\u001b[39m\u001b[38;5;124m\"\u001b[39m: logit_bias,\n\u001b[0;32m   1422\u001b[0m                 \u001b[38;5;124m\"\u001b[39m\u001b[38;5;124mlogprobs\u001b[39m\u001b[38;5;124m\"\u001b[39m: logprobs,\n\u001b[0;32m   1423\u001b[0m                 \u001b[38;5;124m\"\u001b[39m\u001b[38;5;124mmax_completion_tokens\u001b[39m\u001b[38;5;124m\"\u001b[39m: max_completion_tokens,\n\u001b[0;32m   1424\u001b[0m                 \u001b[38;5;124m\"\u001b[39m\u001b[38;5;124mmax_tokens\u001b[39m\u001b[38;5;124m\"\u001b[39m: max_tokens,\n\u001b[0;32m   1425\u001b[0m                 \u001b[38;5;124m\"\u001b[39m\u001b[38;5;124mn\u001b[39m\u001b[38;5;124m\"\u001b[39m: n,\n\u001b[0;32m   1426\u001b[0m                 \u001b[38;5;124m\"\u001b[39m\u001b[38;5;124mparallel_tool_calls\u001b[39m\u001b[38;5;124m\"\u001b[39m: parallel_tool_calls,\n\u001b[0;32m   1427\u001b[0m                 \u001b[38;5;124m\"\u001b[39m\u001b[38;5;124mpresence_penalty\u001b[39m\u001b[38;5;124m\"\u001b[39m: presence_penalty,\n\u001b[0;32m   1428\u001b[0m                 \u001b[38;5;124m\"\u001b[39m\u001b[38;5;124mresponse_format\u001b[39m\u001b[38;5;124m\"\u001b[39m: response_format,\n\u001b[0;32m   1429\u001b[0m                 \u001b[38;5;124m\"\u001b[39m\u001b[38;5;124mseed\u001b[39m\u001b[38;5;124m\"\u001b[39m: seed,\n\u001b[0;32m   1430\u001b[0m                 \u001b[38;5;124m\"\u001b[39m\u001b[38;5;124mservice_tier\u001b[39m\u001b[38;5;124m\"\u001b[39m: service_tier,\n\u001b[0;32m   1431\u001b[0m                 \u001b[38;5;124m\"\u001b[39m\u001b[38;5;124mstop\u001b[39m\u001b[38;5;124m\"\u001b[39m: stop,\n\u001b[0;32m   1432\u001b[0m                 \u001b[38;5;124m\"\u001b[39m\u001b[38;5;124mstream\u001b[39m\u001b[38;5;124m\"\u001b[39m: stream,\n\u001b[0;32m   1433\u001b[0m                 \u001b[38;5;124m\"\u001b[39m\u001b[38;5;124mstream_options\u001b[39m\u001b[38;5;124m\"\u001b[39m: stream_options,\n\u001b[0;32m   1434\u001b[0m                 \u001b[38;5;124m\"\u001b[39m\u001b[38;5;124mtemperature\u001b[39m\u001b[38;5;124m\"\u001b[39m: temperature,\n\u001b[0;32m   1435\u001b[0m                 \u001b[38;5;124m\"\u001b[39m\u001b[38;5;124mtool_choice\u001b[39m\u001b[38;5;124m\"\u001b[39m: tool_choice,\n\u001b[0;32m   1436\u001b[0m                 \u001b[38;5;124m\"\u001b[39m\u001b[38;5;124mtools\u001b[39m\u001b[38;5;124m\"\u001b[39m: tools,\n\u001b[0;32m   1437\u001b[0m                 \u001b[38;5;124m\"\u001b[39m\u001b[38;5;124mtop_logprobs\u001b[39m\u001b[38;5;124m\"\u001b[39m: top_logprobs,\n\u001b[0;32m   1438\u001b[0m                 \u001b[38;5;124m\"\u001b[39m\u001b[38;5;124mtop_p\u001b[39m\u001b[38;5;124m\"\u001b[39m: top_p,\n\u001b[0;32m   1439\u001b[0m                 \u001b[38;5;124m\"\u001b[39m\u001b[38;5;124muser\u001b[39m\u001b[38;5;124m\"\u001b[39m: user,\n\u001b[0;32m   1440\u001b[0m             },\n\u001b[0;32m   1441\u001b[0m             completion_create_params\u001b[38;5;241m.\u001b[39mCompletionCreateParams,\n\u001b[0;32m   1442\u001b[0m         ),\n\u001b[0;32m   1443\u001b[0m         options\u001b[38;5;241m=\u001b[39mmake_request_options(\n\u001b[0;32m   1444\u001b[0m             extra_headers\u001b[38;5;241m=\u001b[39mextra_headers, extra_query\u001b[38;5;241m=\u001b[39mextra_query, extra_body\u001b[38;5;241m=\u001b[39mextra_body, timeout\u001b[38;5;241m=\u001b[39mtimeout\n\u001b[0;32m   1445\u001b[0m         ),\n\u001b[0;32m   1446\u001b[0m         cast_to\u001b[38;5;241m=\u001b[39mChatCompletion,\n\u001b[0;32m   1447\u001b[0m         stream\u001b[38;5;241m=\u001b[39mstream \u001b[38;5;129;01mor\u001b[39;00m \u001b[38;5;28;01mFalse\u001b[39;00m,\n\u001b[0;32m   1448\u001b[0m         stream_cls\u001b[38;5;241m=\u001b[39mAsyncStream[ChatCompletionChunk],\n\u001b[0;32m   1449\u001b[0m     )\n",
      "File \u001b[1;32mc:\\Users\\snake\\projects\\rutube_hackathon\\.venv\\Lib\\site-packages\\openai\\_base_client.py:1831\u001b[0m, in \u001b[0;36mAsyncAPIClient.post\u001b[1;34m(self, path, cast_to, body, files, options, stream, stream_cls)\u001b[0m\n\u001b[0;32m   1817\u001b[0m \u001b[38;5;28;01masync\u001b[39;00m \u001b[38;5;28;01mdef\u001b[39;00m \u001b[38;5;21mpost\u001b[39m(\n\u001b[0;32m   1818\u001b[0m     \u001b[38;5;28mself\u001b[39m,\n\u001b[0;32m   1819\u001b[0m     path: \u001b[38;5;28mstr\u001b[39m,\n\u001b[1;32m   (...)\u001b[0m\n\u001b[0;32m   1826\u001b[0m     stream_cls: \u001b[38;5;28mtype\u001b[39m[_AsyncStreamT] \u001b[38;5;241m|\u001b[39m \u001b[38;5;28;01mNone\u001b[39;00m \u001b[38;5;241m=\u001b[39m \u001b[38;5;28;01mNone\u001b[39;00m,\n\u001b[0;32m   1827\u001b[0m ) \u001b[38;5;241m-\u001b[39m\u001b[38;5;241m>\u001b[39m ResponseT \u001b[38;5;241m|\u001b[39m _AsyncStreamT:\n\u001b[0;32m   1828\u001b[0m     opts \u001b[38;5;241m=\u001b[39m FinalRequestOptions\u001b[38;5;241m.\u001b[39mconstruct(\n\u001b[0;32m   1829\u001b[0m         method\u001b[38;5;241m=\u001b[39m\u001b[38;5;124m\"\u001b[39m\u001b[38;5;124mpost\u001b[39m\u001b[38;5;124m\"\u001b[39m, url\u001b[38;5;241m=\u001b[39mpath, json_data\u001b[38;5;241m=\u001b[39mbody, files\u001b[38;5;241m=\u001b[39m\u001b[38;5;28;01mawait\u001b[39;00m async_to_httpx_files(files), \u001b[38;5;241m*\u001b[39m\u001b[38;5;241m*\u001b[39moptions\n\u001b[0;32m   1830\u001b[0m     )\n\u001b[1;32m-> 1831\u001b[0m     \u001b[38;5;28;01mreturn\u001b[39;00m \u001b[38;5;28;01mawait\u001b[39;00m \u001b[38;5;28mself\u001b[39m\u001b[38;5;241m.\u001b[39mrequest(cast_to, opts, stream\u001b[38;5;241m=\u001b[39mstream, stream_cls\u001b[38;5;241m=\u001b[39mstream_cls)\n",
      "File \u001b[1;32mc:\\Users\\snake\\projects\\rutube_hackathon\\.venv\\Lib\\site-packages\\openai\\_base_client.py:1525\u001b[0m, in \u001b[0;36mAsyncAPIClient.request\u001b[1;34m(self, cast_to, options, stream, stream_cls, remaining_retries)\u001b[0m\n\u001b[0;32m   1522\u001b[0m \u001b[38;5;28;01melse\u001b[39;00m:\n\u001b[0;32m   1523\u001b[0m     retries_taken \u001b[38;5;241m=\u001b[39m \u001b[38;5;241m0\u001b[39m\n\u001b[1;32m-> 1525\u001b[0m \u001b[38;5;28;01mreturn\u001b[39;00m \u001b[38;5;28;01mawait\u001b[39;00m \u001b[38;5;28mself\u001b[39m\u001b[38;5;241m.\u001b[39m_request(\n\u001b[0;32m   1526\u001b[0m     cast_to\u001b[38;5;241m=\u001b[39mcast_to,\n\u001b[0;32m   1527\u001b[0m     options\u001b[38;5;241m=\u001b[39moptions,\n\u001b[0;32m   1528\u001b[0m     stream\u001b[38;5;241m=\u001b[39mstream,\n\u001b[0;32m   1529\u001b[0m     stream_cls\u001b[38;5;241m=\u001b[39mstream_cls,\n\u001b[0;32m   1530\u001b[0m     retries_taken\u001b[38;5;241m=\u001b[39mretries_taken,\n\u001b[0;32m   1531\u001b[0m )\n",
      "File \u001b[1;32mc:\\Users\\snake\\projects\\rutube_hackathon\\.venv\\Lib\\site-packages\\openai\\_base_client.py:1598\u001b[0m, in \u001b[0;36mAsyncAPIClient._request\u001b[1;34m(self, cast_to, options, stream, stream_cls, retries_taken)\u001b[0m\n\u001b[0;32m   1588\u001b[0m         \u001b[38;5;28;01mreturn\u001b[39;00m \u001b[38;5;28;01mawait\u001b[39;00m \u001b[38;5;28mself\u001b[39m\u001b[38;5;241m.\u001b[39m_retry_request(\n\u001b[0;32m   1589\u001b[0m             input_options,\n\u001b[0;32m   1590\u001b[0m             cast_to,\n\u001b[1;32m   (...)\u001b[0m\n\u001b[0;32m   1594\u001b[0m             response_headers\u001b[38;5;241m=\u001b[39m\u001b[38;5;28;01mNone\u001b[39;00m,\n\u001b[0;32m   1595\u001b[0m         )\n\u001b[0;32m   1597\u001b[0m     log\u001b[38;5;241m.\u001b[39mdebug(\u001b[38;5;124m\"\u001b[39m\u001b[38;5;124mRaising connection error\u001b[39m\u001b[38;5;124m\"\u001b[39m)\n\u001b[1;32m-> 1598\u001b[0m     \u001b[38;5;28;01mraise\u001b[39;00m APIConnectionError(request\u001b[38;5;241m=\u001b[39mrequest) \u001b[38;5;28;01mfrom\u001b[39;00m \u001b[38;5;21;01merr\u001b[39;00m\n\u001b[0;32m   1600\u001b[0m log\u001b[38;5;241m.\u001b[39mdebug(\n\u001b[0;32m   1601\u001b[0m     \u001b[38;5;124m'\u001b[39m\u001b[38;5;124mHTTP Request: \u001b[39m\u001b[38;5;132;01m%s\u001b[39;00m\u001b[38;5;124m \u001b[39m\u001b[38;5;132;01m%s\u001b[39;00m\u001b[38;5;124m \u001b[39m\u001b[38;5;124m\"\u001b[39m\u001b[38;5;132;01m%i\u001b[39;00m\u001b[38;5;124m \u001b[39m\u001b[38;5;132;01m%s\u001b[39;00m\u001b[38;5;124m\"\u001b[39m\u001b[38;5;124m'\u001b[39m, request\u001b[38;5;241m.\u001b[39mmethod, request\u001b[38;5;241m.\u001b[39murl, response\u001b[38;5;241m.\u001b[39mstatus_code, response\u001b[38;5;241m.\u001b[39mreason_phrase\n\u001b[0;32m   1602\u001b[0m )\n\u001b[0;32m   1604\u001b[0m \u001b[38;5;28;01mtry\u001b[39;00m:\n",
      "\u001b[1;31mAPIConnectionError\u001b[0m: Connection error."
     ]
    }
   ],
   "source": [
    "for idx, row in stratified_df.iterrows():\n",
    "    # display(row)\n",
    "    # display(row['actual_context'])\n",
    "    # break\n",
    "\n",
    "\n",
    "\n",
    "    test_case = LLMTestCase(input=row['input'], \n",
    "                            actual_output=row['actual_response'],\n",
    "                            retrieval_context=clean_and_split_context(row['actual_context']))\n",
    "    \n",
    "    relevance_metric.measure(test_case)\n",
    "    relevance_score = relevance_metric.score\n",
    "    relevance_reason = relevance_metric.reason\n",
    "    \n",
    "    answer_relevance_metric.measure(test_case)\n",
    "    answer_relevance_score = answer_relevance_metric.score\n",
    "    answer_relevance_reason = answer_relevance_metric.reason\n",
    "    \n",
    "    hallucination_detection_metric.measure(test_case)\n",
    "    hallucination_detection_score = hallucination_detection_metric.score\n",
    "    hallucination_detection_reason = hallucination_detection_metric.reason\n",
    "\n",
    "    stratified_df.at[idx, 'relevance_score'] = relevance_score\n",
    "    stratified_df.at[idx, 'relevance_reason'] = relevance_reason\n",
    "    \n",
    "    stratified_df.at[idx, 'answer_relevance_score'] = answer_relevance_score\n",
    "    stratified_df.at[idx, 'answer_relevance_reason'] = answer_relevance_reason\n",
    "    \n",
    "    stratified_df.at[idx, 'hallucination_detection_score'] = hallucination_detection_score\n",
    "    stratified_df.at[idx, 'hallucination_detection_reason'] = hallucination_detection_reason\n"
   ]
  },
  {
   "cell_type": "code",
   "execution_count": 43,
   "metadata": {},
   "outputs": [
    {
     "data": {
      "text/plain": [
       "0.288"
      ]
     },
     "execution_count": 43,
     "metadata": {},
     "output_type": "execute_result"
    }
   ],
   "source": [
    "stratified_df['hallucination_detection_score'].mean()"
   ]
  },
  {
   "cell_type": "markdown",
   "metadata": {},
   "source": [
    "0.736"
   ]
  },
  {
   "cell_type": "markdown",
   "metadata": {},
   "source": [
    "0.384"
   ]
  },
  {
   "cell_type": "markdown",
   "metadata": {},
   "source": [
    "0.288"
   ]
  },
  {
   "cell_type": "code",
   "execution_count": 44,
   "metadata": {},
   "outputs": [
    {
     "data": {
      "text/plain": [
       "0.24"
      ]
     },
     "execution_count": 44,
     "metadata": {},
     "output_type": "execute_result"
    }
   ],
   "source": [
    "stratified_df['relevance_score'].mean()"
   ]
  },
  {
   "cell_type": "markdown",
   "metadata": {},
   "source": [
    "????"
   ]
  },
  {
   "cell_type": "markdown",
   "metadata": {},
   "source": [
    "0.128"
   ]
  },
  {
   "cell_type": "markdown",
   "metadata": {},
   "source": [
    "0.24"
   ]
  },
  {
   "cell_type": "code",
   "execution_count": 89,
   "metadata": {},
   "outputs": [
    {
     "data": {
      "text/plain": [
       "0.16"
      ]
     },
     "execution_count": 89,
     "metadata": {},
     "output_type": "execute_result"
    },
    {
     "name": "stderr",
     "output_type": "stream",
     "text": [
      "No such comm: 849272150227456db0150953ed811f47\n"
     ]
    }
   ],
   "source": [
    "stratified_df['answer_relevance_score'].mean()"
   ]
  },
  {
   "cell_type": "markdown",
   "metadata": {},
   "source": [
    "0.16"
   ]
  },
  {
   "cell_type": "markdown",
   "metadata": {},
   "source": [
    "0.16"
   ]
  },
  {
   "cell_type": "markdown",
   "metadata": {},
   "source": [
    "0.16"
   ]
  },
  {
   "cell_type": "code",
   "execution_count": 46,
   "metadata": {},
   "outputs": [
    {
     "data": {
      "text/html": [
       "<div>\n",
       "<style scoped>\n",
       "    .dataframe tbody tr th:only-of-type {\n",
       "        vertical-align: middle;\n",
       "    }\n",
       "\n",
       "    .dataframe tbody tr th {\n",
       "        vertical-align: top;\n",
       "    }\n",
       "\n",
       "    .dataframe thead th {\n",
       "        text-align: right;\n",
       "    }\n",
       "</style>\n",
       "<table border=\"1\" class=\"dataframe\">\n",
       "  <thead>\n",
       "    <tr style=\"text-align: right;\">\n",
       "      <th></th>\n",
       "      <th>input</th>\n",
       "      <th>expected_output</th>\n",
       "      <th>kb_query</th>\n",
       "      <th>index</th>\n",
       "      <th>kb_query_orig</th>\n",
       "      <th>actual_response</th>\n",
       "      <th>actual_context_ids</th>\n",
       "      <th>actual_context</th>\n",
       "      <th>class_1</th>\n",
       "      <th>class_2</th>\n",
       "      <th>hit_list</th>\n",
       "      <th>recall</th>\n",
       "      <th>ndcg</th>\n",
       "      <th>relevance_score</th>\n",
       "      <th>relevance_reason</th>\n",
       "      <th>answer_relevance_score</th>\n",
       "      <th>answer_relevance_reason</th>\n",
       "      <th>hallucination_detection_score</th>\n",
       "      <th>hallucination_detection_reason</th>\n",
       "    </tr>\n",
       "  </thead>\n",
       "  <tbody>\n",
       "    <tr>\n",
       "      <th>2</th>\n",
       "      <td>Все пишут, что монетизация на рутубе отключает...</td>\n",
       "      <td>Добрый день! \\nМонетизация может отключиться, ...</td>\n",
       "      <td>Почему могут отключить монетизацию из-за автор...</td>\n",
       "      <td>1.0</td>\n",
       "      <td>Почему могут отключить монетизацию из-за автор...</td>\n",
       "      <td>Монетизация на Rutube может быть отключена в н...</td>\n",
       "      <td>[410, 1, 408, 345, 426, 170, 421, 182, 325, 485]</td>\n",
       "      <td>Вопрос: Как проходит процесс интеграции моего ...</td>\n",
       "      <td>[МОНЕТИЗАЦИЯ, МОНЕТИЗАЦИЯ, МОНЕТИЗАЦИЯ, УПРАВЛ...</td>\n",
       "      <td>[Монетизация, Отключение/подключение монетизац...</td>\n",
       "      <td>[0, 1, 0, 0, 0, 0, 0, 0, 0, 0]</td>\n",
       "      <td>1.0</td>\n",
       "      <td>0.63093</td>\n",
       "      <td>0.0</td>\n",
       "      <td>The retrieval context contains relevant inform...</td>\n",
       "      <td>0.0</td>\n",
       "      <td>The response addresses the main concern about ...</td>\n",
       "      <td>0.0</td>\n",
       "      <td>The actual output accurately reflects the retr...</td>\n",
       "    </tr>\n",
       "  </tbody>\n",
       "</table>\n",
       "</div>"
      ],
      "text/plain": [
       "                                               input  \\\n",
       "2  Все пишут, что монетизация на рутубе отключает...   \n",
       "\n",
       "                                     expected_output  \\\n",
       "2  Добрый день! \\nМонетизация может отключиться, ...   \n",
       "\n",
       "                                            kb_query  index  \\\n",
       "2  Почему могут отключить монетизацию из-за автор...    1.0   \n",
       "\n",
       "                                       kb_query_orig  \\\n",
       "2  Почему могут отключить монетизацию из-за автор...   \n",
       "\n",
       "                                     actual_response  \\\n",
       "2  Монетизация на Rutube может быть отключена в н...   \n",
       "\n",
       "                                 actual_context_ids  \\\n",
       "2  [410, 1, 408, 345, 426, 170, 421, 182, 325, 485]   \n",
       "\n",
       "                                      actual_context  \\\n",
       "2  Вопрос: Как проходит процесс интеграции моего ...   \n",
       "\n",
       "                                             class_1  \\\n",
       "2  [МОНЕТИЗАЦИЯ, МОНЕТИЗАЦИЯ, МОНЕТИЗАЦИЯ, УПРАВЛ...   \n",
       "\n",
       "                                             class_2  \\\n",
       "2  [Монетизация, Отключение/подключение монетизац...   \n",
       "\n",
       "                         hit_list  recall     ndcg  relevance_score  \\\n",
       "2  [0, 1, 0, 0, 0, 0, 0, 0, 0, 0]     1.0  0.63093              0.0   \n",
       "\n",
       "                                    relevance_reason  answer_relevance_score  \\\n",
       "2  The retrieval context contains relevant inform...                     0.0   \n",
       "\n",
       "                             answer_relevance_reason  \\\n",
       "2  The response addresses the main concern about ...   \n",
       "\n",
       "   hallucination_detection_score  \\\n",
       "2                            0.0   \n",
       "\n",
       "                      hallucination_detection_reason  \n",
       "2  The actual output accurately reflects the retr...  "
      ]
     },
     "execution_count": 46,
     "metadata": {},
     "output_type": "execute_result"
    }
   ],
   "source": [
    "stratified_df.head(1)"
   ]
  },
  {
   "cell_type": "code",
   "execution_count": 50,
   "metadata": {},
   "outputs": [
    {
     "name": "stdout",
     "output_type": "stream",
     "text": [
      "ЗАПРОС\n",
      "Все пишут, что монетизация на рутубе отключается сама собой, у меня тоже так будет?\n",
      "ОТВЕТ\n",
      "Монетизация на Rutube может быть отключена в нескольких случаях, например, если канал нарушает правила сервиса или не соответствует требованиям партнерской программы. Если ваш канал будет соответствовать всем требованиям и правилам, то монетизация не должна отключаться самостоятельно. Однако, мы рекомендуем следить за актуальными условиями монетизации на официальном сайте Rutube, чтобы быть в курсе возможных изменений.\n",
      "ЭТАЛОН\n",
      "Добрый день! \n",
      "Монетизация может отключиться, если на вашем канале есть музыка, видео или изображения из общего доступа, книги и учебники, цитаты молитв, права на которые вам не принадлежат. \n",
      "Авторским правом охраняются все произведения искусства, литературы и науки — то есть любая музыка, видео и изображения. При этом неважно, насколько они популярны или ценны для общества. У них у всех есть автор или правообладатель. \n",
      "Помните: то, что материал гуляет по интернету, не означает, что его можно использовать без ограничений.  \n",
      "Для монетизации можно использовать: То, что вы создали сами: видео, которое вы сняли, музыку, которую вы написали, изображения, которые вы создали.\n",
      "Видео, музыку, изображения со стоков, которые предоставляют лицензию на коммерческое использование. Рекомендуем внимательно читать условия лицензии и соблюдать их — например, размещать ссылки на источники и имя автора, как это предусмотрено лицензией. \n",
      "Видео, музыку, изображения из библиотек платных видеоредакторов, лицензия которых предусматривает право на их коммерческое использование.\n",
      "Иногда можно использовать короткие фрагменты и цитаты чужих произведений, указывая автора и источник, но размер этого фрагмента должен быть оправдан целью вашего видео. Например, строчка из новостей в глобальной аналитике прессы, часть песни в разборе вокальных приёмов и подобное. \n",
      "Если на вашем канале есть потенциально чужой контент и вы хотите его монетизировать, предоставьте документы от его правообладателя — например:  Лицензионный договор, договор об отчуждении исключительного права, разрешительное или гарантийное письмо от правообладателя и т. п.\n",
      "Подробнее об авторском праве: https://rutube.ru/info/authors/\n",
      "----------\n",
      "КУСКИ\n",
      "Вопрос: Как проходит процесс интеграции моего канала с Монетизационными сервисами в RUTUBE?\n",
      "Ответ: 4.3.             Также, по единоличному усмотрению Администрации, интерфейс Личного кабинета Пользователя и/или Канала Пользователя, обладающего статусом «Партнер» в RUTUBE, может быть интегрирован с функционалом Монетизационных сервисов, именуемых в дальнейшем Монетизационные Интеграторы. Подробное описание процедуры интеграции приведено в Приложении «Г» к Соглашению, размещенном в сети Интернет по адресу: https://rutube.ru/info/donate_agreement/.\n",
      "\n",
      "Вопрос: Почему могут отключить монетизацию из-за авторского права на видео и как этого избежать?\n",
      "Ответ: Монетизация может отключиться, если на вашем канале есть музыка, видео или изображения из общего доступа, книги и учебники, цитаты молитв, права на которые вам не принадлежат. \n",
      "Авторским правом охраняются все произведения искусства, литературы и науки — то есть любая музыка, видео и изображения. При этом неважно, насколько они популярны или ценны для общества. У них у всех есть автор или правообладатель. \n",
      "Помните: то, что материал гуляет по интернету, не означает, что его можно использовать без ограничений.  \n",
      "Для монетизации можно использовать: То, что вы создали сами: видео, которое вы сняли, музыку, которую вы написали, изображения, которые вы создали.\n",
      "Видео, музыку, изображения со стоков, которые предоставляют лицензию на коммерческое использование. Рекомендуем внимательно читать условия лицензии и соблюдать их — например, размещать ссылки (URL) на источники и имя автора, как это предусмотрено лицензией. \n",
      "Видео, музыку, изображения из библиотек платных видеоредакторов, лицензия которых предусматривает право на их коммерческое использование.\n",
      "Иногда можно использовать короткие фрагменты и цитаты чужих произведений, указывая автора и источник, но размер этого фрагмента должен быть оправдан целью вашего видео. Например, строчка из новостей в глобальной аналитике прессы, часть песни в разборе вокальных приёмов и подобное. \n",
      "Если на вашем канале есть потенциально чужой контент и вы хотите его монетизировать, предоставьте документы от его правообладателя — например:  Лицензионный договор.  Договор об отчуждении исключительного права. Разрешительное или гарантийное письмо от правообладателя и т. п.\n",
      "Подробнее об авторском праве: https://rutube.ru/info/authors/\n",
      "\n",
      "Вопрос: Как я могу подключить свой авторский канал к программе монетизации RUTUBE?\n",
      "Ответ: 4.2.1.       Пользователь/ Автор, вправе подключить свой авторский Канал к программе монетизации RUTUBE при условии наступления оснований для подачи заявки на присвоение ему статуса Партнера. Для этого Пользователь/ Автор должен осуществления действия, необходимые для Акцепта Оферты. Подробное описание процедуры, описанной в настоящем пункте размещено в сети Интернет по адресу: https://rutube.ru/info/adv_oferta_summary/).\n",
      "\n",
      "Вопрос: Мой браузер автоматически сохраняет учетные данные RUTUBE, но теперь меня запрашивают повторную авторизацию. Почему это происходит?\n",
      "Ответ: 3.1.3.       После авторизации Пользователя в RUTUBE в порядке пп.a п. 3.1.1 Соглашения, учетные данные Пользователя могут быть автоматически сохранены в браузере Устройства до выхода Пользователя из своей учетной записи в RUTUBE и не требовать дополнительного ввода Лоина и Пароля при каждом использовании RUTUBE. Также, Администрация доводит до сведения Пользователя, что для получения доступа к Контенту, Пользователю в отдельных случаях может потребоваться повторная авторизация в RUTUBE через\n",
      "\n",
      "Вопрос: Как я могу узнать, удален ли мой контент с RUTUBE, и какие действия предпринимает администрация в этом случае?\n",
      "Ответ: либо заблокировать/ удалить с RUTUBE соответствующие Информацию и Контент, либо осуществить с данными Информацией и Контентом действия, согласованные с Правообладателем, в том числе, исходя из функциональности Системы (если установлено, что право использования Контента принадлежит Правообладателю, но не Автору, Партнеру). При этом, в случае удаления Контента, Администрация не обязана уведомлять Пользователя/ Автора/ Партнера об указанных выше действиях или причинах осуществления указанных выше\n",
      "\n",
      "Вопрос: Что такое Монетизация на RUTUBE (рутуб)?\n",
      "Ответ: Монетизацию можно подключить после того, как вы загрузите в публичный доступ на свой канал минимум 2 ролика и наберёте 5000 просмотров. Мы считаем совокупное количество просмотров, начиная с 1 января 2021 года.\n",
      "\n",
      "По порядку о том, как это работает: \n",
      "\n",
      "В разделе «Монетизация» в Студии RUTUBE (студии рутуб) у вас появится анкета партнёра:https://studio.rutube.ru/monetization. Заполните её и подайте заявку на монетизацию. \n",
      "Мы убедимся, что ваш канал не нарушает правил RUTUBE (рутуб), и пришлём подтверждение вам на почту. \n",
      "RUTUBE начнёт начислять вам вознаграждение в порядке, определенном Офертой (https://rutube.ru/info/adv_oferta/). Всю аналитику и размер дохода по месяцам вы сможете смотреть в личном кабинете Студии RUTUBE (студии рутуб). \n",
      "Творите, загружайте и выводите свой канал в топ!\n",
      "\n",
      "Вопрос: Как я могу узнать, какие выплаты я должен делать в связи с авторскими правами на мой канал в RUTUBE?\n",
      "Ответ: авторских прав, которые размещаются Пользователем на Канале Пользователя в RUTUBE, включая выплаты в пользу какой-либо организации по управлению правами на коллективной основе (по коллективному управлению авторскими или смежными правами, если действующим законодательством Территории, предусмотрены или будут предусмотрены такие выплаты); Пользователь обязуется самостоятельно (без привлечения Администрации) и за свой счет разрешать все вопросы (и связанные с этим возможные споры) по выплате любых\n",
      "\n",
      "Вопрос: Могу ли я монетизировать видеоролики, которые ранее загружались на RUTUBE (рутуб) другими пользователями?\n",
      "Ответ: Если видео с вашего канала ранее были загружены на другие каналы, подключенные к партнерской программе, вы не сможете монетизировать подобный контент. Для участия в монетизации видеоряд ролика должен быть уникальным.\n",
      "\n",
      "При выявлении такой ситуации администрация RUTUBE (рутуб) уведомит вас о необходимости самостоятельно удалить дублирующее видео, и до его удаления монетизация канала/конкретного видео приостанавливается. Если нарушение не устраняется, Компания вправе расторгнуть Договор в одностороннем порядке согласно п. 9.3.2 Оферты/Договора (https://rutube.ru/info/adv_oferta)\n",
      "\n",
      "Вопрос: Почему я не могу комментировать контент на RUTUBE, если не зарегистрирован?\n",
      "Ответ: Пользователи, не прошедшие Процедуру регистрации в RUTUBE (а также, в предусмотренных Администрацией случаях, авторизацию через MULTIPASS) и пытающиеся получить доступ к RUTUBE, могут иметь ограниченный доступ. Ограниченный доступ дает Пользователям исключительно возможность ознакомления с перечнем Контента (и/ или просмотра некоторых Единиц Контента), размещенного в RUTUBE, но без возможности комментирования Контента (если такой функционал доступен в RUTUBE), загрузки Контента, пользования\n",
      "\n",
      "Вопрос: Почему я не могу получить доступ к RUTUBE, и что мне делать в этом случае?\n",
      "Ответ: RUTUBE в целом или в части могут быть недоступны Пользователям в соответствии с условиями документов, регламентирующих их использование, в том числе документов, регламентирующих использование RUTUBE, и сервисов партнеров Администрации, в рамках которых предоставляются услуги. Указанные обстоятельства, также не являются основанием для отмены регистрации в RUTUBE и/ или в MULTIPASS.\n",
      "==============================\n",
      "==============================\n",
      "==============================\n",
      "==============================\n",
      "ЗАПРОС\n",
      "Подскажите, пожалуйста, что не запрещено выкладывать в монетизации?\n",
      "ОТВЕТ\n",
      "Не запрещено выкладывать в монетизации контент, который:\n",
      "\n",
      "* Создан вами лично или получен с разрешения правообладателя.\n",
      "* Не нарушает авторские права, моральные права и другие исключительные права третьих лиц.\n",
      "* Не содержит нелегальную информацию, например, материалы порнографического характера, сцены насилия, жестокого обращения с животными, разжигания ненависти или дискриминации по расовым, национальным, половым, религиозным признакам и т.д.\n",
      "* Не нарушает законодательство Российской Федерации и международные нормы.\n",
      "\n",
      "Помните, что монетизация контента на платформах типа Rutube подчиняется правилам и условиям этих платформ, а также действующему законодательству. Поэтому важно внимательно изучить и соблюдать все требования перед началом монетизации своего контента.\n",
      "ЭТАЛОН\n",
      "Добрый день! Не запрешено публиковать то, что вы создали сами: видео, которое вы сняли, музыку, которую вы написали, изображения, которые вы создали. А также видео, музыку, изображения со стоков, которые предоставляют лицензию на коммерческое использование. Рекомендуем внимательно читать условия лицензии и соблюдать их — например, размещать ссылки на источники и имя автора, как это предусмотрено лицензией. Видео, музыку, изображения из библиотек платных видеоредакторов, лицензия которых предусматривает право на их коммерческое использование.\n",
      "----------\n",
      "КУСКИ\n",
      "Вопрос: Для каких статусов доступна монетизация, и почему могут отключить монетизацию из-за изменения юридического статуса на видео, как этого избежать?\n",
      "Ответ: Монетизацию на RUTUBE (рутуб) можно подключить, если вы самозанятый, ИП (индивидуальный предприниматель) или юрлицо. \n",
      "Лимит дохода самозанятых — 2,4 млн ₽ (2,4 миллиона рублей) в год. Если его превысить, статус автоматически теряется, а монетизация отключится. Чтобы вернуть монетизацию, перейдите в другой юридический статус с новым налоговым режимом и подайте новую заявку. \n",
      "\n",
      "Вопрос: Какой контент можно использовать для монетизации, то есть в коммерческих целях?\n",
      "Ответ: То, что вы создали сами: видео, которое вы сняли, музыку, которую вы написали, изображения, которые вы создали. Видео, музыку, изображения со стоков, которые предоставляют лицензию на коммерческое использование. Рекомендуем внимательно читать условия лицензии и соблюдать их — например, размещать ссылки (URL) на источники и имя автора, как это предусмотрено лицензией. Видео, музыку, изображения из библиотек платных видеоредакторов, лицензия которых предусматривает право на их коммерческое использование.\n",
      "\n",
      "Вопрос: Почему могут отключить монетизацию из-за авторского права на видео и как этого избежать?\n",
      "Ответ: Монетизация может отключиться, если на вашем канале есть музыка, видео или изображения из общего доступа, книги и учебники, цитаты молитв, права на которые вам не принадлежат. \n",
      "Авторским правом охраняются все произведения искусства, литературы и науки — то есть любая музыка, видео и изображения. При этом неважно, насколько они популярны или ценны для общества. У них у всех есть автор или правообладатель. \n",
      "Помните: то, что материал гуляет по интернету, не означает, что его можно использовать без ограничений.  \n",
      "Для монетизации можно использовать: То, что вы создали сами: видео, которое вы сняли, музыку, которую вы написали, изображения, которые вы создали.\n",
      "Видео, музыку, изображения со стоков, которые предоставляют лицензию на коммерческое использование. Рекомендуем внимательно читать условия лицензии и соблюдать их — например, размещать ссылки (URL) на источники и имя автора, как это предусмотрено лицензией. \n",
      "Видео, музыку, изображения из библиотек платных видеоредакторов, лицензия которых предусматривает право на их коммерческое использование.\n",
      "Иногда можно использовать короткие фрагменты и цитаты чужих произведений, указывая автора и источник, но размер этого фрагмента должен быть оправдан целью вашего видео. Например, строчка из новостей в глобальной аналитике прессы, часть песни в разборе вокальных приёмов и подобное. \n",
      "Если на вашем канале есть потенциально чужой контент и вы хотите его монетизировать, предоставьте документы от его правообладателя — например:  Лицензионный договор.  Договор об отчуждении исключительного права. Разрешительное или гарантийное письмо от правообладателя и т. п.\n",
      "Подробнее об авторском праве: https://rutube.ru/info/authors/\n",
      "\n",
      "Вопрос: Что нельзя публиковать на RUTUBE (рутуб)?\n",
      "Ответ: Чужой контент без разрешения автора или правообладателя. Например, музыку, видео и изображения из общего доступа, записи концертов, фильмов, аудиокниги, фрагменты новостных сюжетов из ТВ-эфиров, видео популярных блогеров, трансляции спортивных событий.\n",
      "Рекламу трансцендентных услуг. Например, рекламу гаданий, услуг ясновидящих, экстрасенсов и т. д.\n",
      "Откровенно сексуальный контент. Например, танцы в откровенных костюмах, рекламу интим-товаров или сексуальных услуг. \n",
      "Рекламу букмекеров, проведение ставок и пропаганду любых азартных игр. \n",
      "Рекламу или продвижение финансовых пирамид и сетевого маркетинга (MLM), преподнесение их в качестве надёжного источника заработка.  \n",
      "Нецензурную брань, оскорбления, подстрекательства к незаконным действиям. \n",
      "Контент, который нацелен только на перенаправление зрителей на другие сайты. \n",
      "Контент иностранных агентов или о них без специальной маркировки.\n",
      "Больше информации есть по ссылкам: \n",
      "\n",
      "https://rutube.ru/info/taboo_agreement/\n",
      "https://rutube.ru/info/socially_important/\n",
      "https://rutube.ru/info/adverguide/\n",
      "https://rutube.ru/info/content/\n",
      "\n",
      "Вопрос: Как подтвердить права на использование контента для монетизации?\n",
      "Ответ: Если на вашем канале есть потенциально чужой контент и вы хотите его монетизировать, нужно предоставить документы от его правообладателя — например: Лицензионный договор; Договор об отчуждении исключительного права; Разрешительное или гарантийное письмо от правообладателя и т. п.\n",
      "\n",
      "Вопрос: Почему могут отключить монетизацию из-за искусственного завышения показателей на видео и как этого избежать? \n",
      "Ответ: Монетизация на RUTUBE (рутуб) зависит в том числе от количества просмотров и приостановок видеопотока. Алгоритмы платформы очень внимательно следят за статистикой и понимают, когда показатели завышены искусственно. Это нарушает п. 2.3.17 оферты: https://rutube.ru/info/adv_oferta/ и п. 1.33 приложения № 1 к оферте: https://rutube.ru/info/adv_oferta_glossary/ и может быть причиной отключения монетизации.  Не завышайте показатели искусственно, соблюдайте правила и зарабатывайте на RUTUBE (рутуб) честным способом. Подробнее о правилах Пользовательского соглашения: https://rutube.ru/info/agreement/\n",
      "\n",
      "Вопрос: Каковы причины, по которым моя информация может быть отклонена для публикации на RUTUBE?\n",
      "Ответ: возложены действующим законодательством исключительно на компетентные государственные органы, или уполномоченные профильные организации), то Администрация оставляет за собой единоличное право, при наличии любых сомнений или предположений в отношении соотвествия той или иной информации публикуемой пользователями на RUTUBE требованиям действующего законодательства (и/или правилам RUTUBE), отказать в публикации такой информации на RUTUBE, без объяснения причин.\n",
      "\n",
      "Вопрос: Почему я не могу размещать контент, нарушающий правила RUTUBE, даже если я использую Эмбед на своем сайте?\n",
      "Ответ: способствующие разжиганию религиозной, расовой или межнациональной розни, либо содержащие порнографию, сцены насилия, жестокого обращения с животными и др. Пользователь осуществляет использование RUTUBE путем размещения Эмбеда за пределами RUTUBE на свой страх и риск, самостоятельно несет ответственность перед посетителями Интернет-сайта на котором Пользователь размещает Эмбед, самостоятельно отвечает перед третьими лицами за все свои действия, связанные с подобным использованием функционала\n",
      "\n",
      "Вопрос: Каковы последствия за размещение материалов, на которые у меня нет прав в RUTUBE?\n",
      "Ответ: на Канал Пользователя в RUTUBE). В случае если Пользователь не вправе разрешать использование каких-либо пользовательских материалов указанными способами, он обязан воздержаться от размещения таких материалов на RUTUBE.\n",
      "\n",
      "Вопрос: Отправил заявку на монетизацию, но в личном кабинете висит надпись: «Требуется дополнительная информация». Что делать?\n",
      "Ответ: Удостоверьтесь, что вы приложили к заявке все необходимые документы – это паспорт, ИНН, СНИЛС, справка о постановке на учёт в налоговой или справка из приложения «Мой налог», а также дополнительно для ИП и юрлица документы о регистрации и выписка из ЕГРИП/ЕГРЮЛ.\n",
      "\n",
      "Если каких-либо документов не хватает, вы можете направить их на partners@rutube.ru.\n",
      "==============================\n",
      "==============================\n",
      "==============================\n",
      "==============================\n",
      "ЗАПРОС\n",
      "Кому принадлежат авторские права на данный контент?\n",
      "ОТВЕТ\n",
      "Нет ответа.\n",
      "ЭТАЛОН\n",
      "По умолчанию считается, что авторские права на размещённый на RUTUBE контент принадлежат тому пользователю, который его разместил. Некоторые права передаются в рамках открытой лицензии третьим лицам, получившим доступ к этому контенту. Подробнее в разделе 4 Генерального пользовательского соглашения https://rutube.ru/info/agreement/ и в Приложении «Е» https://rutube.ru/info/ccl_agreement/. \n",
      "----------\n",
      "КУСКИ\n",
      "Вопрос: Кому принадлежат авторские права на контент, который я размещаю на платформе?\n",
      "Ответ: По умолчанию считается, что авторские права на размещённый на RUTUBE (рутуб) контент принадлежат тому пользователю, который его разместил. Некоторые права передаются в рамках открытой лицензии третьим лицам, получившим доступ к этому контенту. Подробнее в разделе 4 Генерального пользовательского соглашения https://rutube.ru/info/agreement/ и в Приложении «Е» https://rutube.ru/info/ccl_agreement/. \n",
      "\n",
      "Вопрос: Какие материалы защищены авторским правом?\n",
      "Ответ: Авторским правом охраняются произведения искусства, литературы и науки — то есть любая музыка, видео и изображения. При этом неважно, насколько они популярны или ценны для общества. У них у всех есть автор или правообладатель. \n",
      "\n",
      "Вопрос: Как я могу узнать, кто является правообладателем конкретного контента на RUTUBE?\n",
      "Ответ: действия, согласованные с Правообладателем, в том числе, исходя из функциональности Системы (если установлено, что право использования Контента принадлежит Правообладателю, но не Автору, Партнеру). При этом, в случае удаления контента, Администрация не обязана уведомлять Пользователя, Автора, Партнера об указанных выше действиях или причинах осуществления указанных выше действий. Настоящий пункт Соглашения не означает и не может толковаться, как возлагающий на Администрацию обязанность по\n",
      "\n",
      "Вопрос: Как подтвердить права на использование контента для монетизации?\n",
      "Ответ: Если на вашем канале есть потенциально чужой контент и вы хотите его монетизировать, нужно предоставить документы от его правообладателя — например: Лицензионный договор; Договор об отчуждении исключительного права; Разрешительное или гарантийное письмо от правообладателя и т. п.\n",
      "\n",
      "Вопрос: Как можно получить информацию о том, какие права на контент мне принадлежат как пользователю RUTUBE?\n",
      "Ответ: 12.4.         Права на все объекты, составляющие технологию RUTUBE (программный код RUTUBE, Сайта RUTUBE, Мобильного приложения, их дизайна в целом и в части отдельных элементов, права на Базу данных за исключением Пользовательского контента и Единиц контента/ материалов, размещаемых Автором, Пользователем, Партнером, Правообладателем) принадлежат Администрации или управляются ею на законных основаниях. Указанные объекты являются результатом интеллектуальной деятельности Администрации или\n",
      "\n",
      "Вопрос: Какие права я получаю на пользовательский контент, загружаемый на платформу RUTUBE?\n",
      "Ответ: 25. ОТКРЫТАЯ ЛИЦЕНЗИЯ В ОТНОШЕНИИ ПОЛЬЗОВАТЕЛЬСКОГО КОНТЕНТА И/ИЛИ ЛИЦЕНЗИРОВАНИЕ Creative Commons Attribution 4.0 International: Если Пользователем (Лицензиаром) не определено иное (в интерфейсе Личного кабинета (при условии такой технической возможности) или в описании Контента на Канале Пользователя, в т.ч. им не ограничено каким-то явным, информированным и доступным для других пользователей способом, действие настоящей ОТКРЫТОЙ ЛИЦЕНЗИИ), то Пользователь (Лицензиар) предоставляет любому\n",
      "\n",
      "Вопрос: Какие обязанности у пользователей RUTUBE в отношении авторских прав на контент, размещаемый на своем канале?\n",
      "Ответ: лицам в связи с использованием таких Контента), а также с рекламодателями, если их рекламные материалы отображаются по инициативе Пользователя (и если на такое размещение, Пользователь получил соответствующее согласие Администрации) в Плеере, на Канале Пользователя. Пользователь самостоятельно производит все расчеты с авторами и обладателями смежных прав касательно объектов авторских прав, которые размещаются Пользователем на своем Канале в RUTUBE, включая выплаты в пользу какой-либо\n",
      "\n",
      "Вопрос: Какой контент можно использовать для монетизации, то есть в коммерческих целях?\n",
      "Ответ: То, что вы создали сами: видео, которое вы сняли, музыку, которую вы написали, изображения, которые вы создали. Видео, музыку, изображения со стоков, которые предоставляют лицензию на коммерческое использование. Рекомендуем внимательно читать условия лицензии и соблюдать их — например, размещать ссылки (URL) на источники и имя автора, как это предусмотрено лицензией. Видео, музыку, изображения из библиотек платных видеоредакторов, лицензия которых предусматривает право на их коммерческое использование.\n",
      "\n",
      "Вопрос: Каковы последствия, если загруженный контент нарушает права третьих лиц или законодательство?\n",
      "Ответ: полагать, что в любой момент времени (как в момент их загрузки, так и в любой момент после загрузки, независимо от времени нахождения Контента на RUTUBE) Информация и Контент нарушают какие-либо права или законные интересы третьих лиц, либо в случае, если их содержание противоречит требованиям Соглашения и/или Обязательных документов и/или действующему законодательству Российской Федерации, Администрация вправе по своему усмотрению, либо затребовать у Пользователя, Автора, Партнера\n",
      "\n",
      "Вопрос: Как я могу узнать, есть ли у меня права на размещение определенных пользовательских материалов на RUTUBE?\n",
      "Ответ: или ссылка на Канал Пользователя в RUTUBE). В случае если Пользователь не вправе разрешать использование каких-либо пользовательских материалов указанными способами, он обязан воздержаться от размещения таких материалов на RUTUBE.\n",
      "==============================\n",
      "==============================\n",
      "==============================\n",
      "==============================\n",
      "ЗАПРОС\n",
      "пройдет видео модерация, если цитировать чужие материалы?\n",
      "ОТВЕТ\n",
      "Нет ответа.\n",
      "ЭТАЛОН\n",
      "Для прохождения модерации нужно соблюдать несколько условий: Цитируемое произведение обнародовано правомерно; Указаны автор этого произведения и источник заимствования; Заимствована только небольшая часть произведения, и это оправдано целью видео.\n",
      "----------\n",
      "КУСКИ\n",
      "Вопрос: Можно ли цитировать чужие произведения?\n",
      "Ответ: Да, но нужно соблюдать несколько условий: Цитируемое произведение обнародовано правомерно; Указаны автор этого произведения и источник заимствования; Заимствована только небольшая часть произведения, и это оправдано целью видео.\n",
      "\n",
      "Вопрос: Можно ли публиковать видео с чтением чужих книг и их переводов?\n",
      "Ответ: Да, можно, но только если: У вас есть разрешение от автора или правообладателя; Это произведение или его перевод перешло в общественное достояние. Произведение переходит в общественное достояние через 70 лет после смерти автора, считая с 1 января года, следующего за годом смерти.\n",
      "\n",
      "Вопрос: Можно ли использовать в видео материалы, которые распространяются по свободной лицензии?\n",
      "Ответ: Да, можно, но только если вы предоставите ссылку (URL) на страницу, где указаны однозначные условия такой лицензии на использование его материала.\n",
      "\n",
      "Вопрос: Как пожаловаться на видео, если оно нарушает авторские права?\n",
      "Ответ: Чтобы отправить жалобу, заполните форму: Для юридических лиц: https://rutube.ru/forms/form/2/ . Для физических лиц: https://rutube.ru/forms/form/12/. Или нажмите «Пожаловаться» в меню действий видео, комментария, плейлиста или канала.\n",
      "\n",
      "Вопрос: Как я могу узнать, разрешено ли использовать контент с вашего сайта в форме перепостов на других площадках?\n",
      "Ответ: титульного правообладателя на изначальном сайте где были опубликованы такие материалы о возможности использования такого контента любым лицом (в т.ч. в форме «перепостов») на других площадках (в том числе на основании свободной лицензии формата Creative Commons и пр.), либо указаны условия и ограничения использования такого контента,\n",
      "\n",
      "Вопрос: Каковы последствия, если загруженный контент нарушает права третьих лиц или законодательство?\n",
      "Ответ: полагать, что в любой момент времени (как в момент их загрузки, так и в любой момент после загрузки, независимо от времени нахождения Контента на RUTUBE) Информация и Контент нарушают какие-либо права или законные интересы третьих лиц, либо в случае, если их содержание противоречит требованиям Соглашения и/или Обязательных документов и/или действующему законодательству Российской Федерации, Администрация вправе по своему усмотрению, либо затребовать у Пользователя, Автора, Партнера\n",
      "\n",
      "Вопрос: Как я могу узнать, нарушаю ли я права третьих лиц при размещении материалов на RUTUBE?\n",
      "Ответ: 15.     В случае возникновения ситуаций, при которых у Администрации возникнут сомнения в том, что Пользователь, Автор, Партнер является обладателем прав на какие-либо размещенные им Материалы, Информацию, Контент (в том числе данный факт выявлен посредством Системы), либо основания полагать, что Материалы, Информация, Контент нарушают какие-либо права или законные интересы третьих лиц, либо в случае, если их содержание противоречит требованиям настоящего Соглашения, и/или Обязательных\n",
      "\n",
      "Вопрос: Можно ли эмбедировать (встраивать) приватные трансляции на сторонние сайты?\n",
      "Ответ: Да, эмбедирование приватных трансляций также возможно. Подробнее в FAQ: Embеd: https://rutube.ru/info/embed/\n",
      "\n",
      "Вопрос: Можно ли эмбедировать (встраивать) трансляции на сторонние сайты?\n",
      "Ответ: Да, эмбедирование возможно аналогично эмбедированию видео. Подробнее в FAQ: Embеd: https://rutube.ru/info/embed/\n",
      "\n",
      "Вопрос: Почему могут отключить монетизацию из-за авторского права на видео и как этого избежать?\n",
      "Ответ: Монетизация может отключиться, если на вашем канале есть музыка, видео или изображения из общего доступа, книги и учебники, цитаты молитв, права на которые вам не принадлежат. \n",
      "Авторским правом охраняются все произведения искусства, литературы и науки — то есть любая музыка, видео и изображения. При этом неважно, насколько они популярны или ценны для общества. У них у всех есть автор или правообладатель. \n",
      "Помните: то, что материал гуляет по интернету, не означает, что его можно использовать без ограничений.  \n",
      "Для монетизации можно использовать: То, что вы создали сами: видео, которое вы сняли, музыку, которую вы написали, изображения, которые вы создали.\n",
      "Видео, музыку, изображения со стоков, которые предоставляют лицензию на коммерческое использование. Рекомендуем внимательно читать условия лицензии и соблюдать их — например, размещать ссылки (URL) на источники и имя автора, как это предусмотрено лицензией. \n",
      "Видео, музыку, изображения из библиотек платных видеоредакторов, лицензия которых предусматривает право на их коммерческое использование.\n",
      "Иногда можно использовать короткие фрагменты и цитаты чужих произведений, указывая автора и источник, но размер этого фрагмента должен быть оправдан целью вашего видео. Например, строчка из новостей в глобальной аналитике прессы, часть песни в разборе вокальных приёмов и подобное. \n",
      "Если на вашем канале есть потенциально чужой контент и вы хотите его монетизировать, предоставьте документы от его правообладателя — например:  Лицензионный договор.  Договор об отчуждении исключительного права. Разрешительное или гарантийное письмо от правообладателя и т. п.\n",
      "Подробнее об авторском праве: https://rutube.ru/info/authors/\n",
      "==============================\n",
      "==============================\n",
      "==============================\n",
      "==============================\n",
      "ЗАПРОС\n",
      "произведние в общественном достоянии? О чем это?\n",
      "ОТВЕТ\n",
      "Материалы, которые находятся в общественном достоянии, могут свободно использоваться любыми лицами без получения разрешения правообладателя или выплаты вознаграждения. Это происходит тогда, когда авторское право на произведение истекло, например, через 70 лет после смерти автора. Однако, важно помнить, что не все материалы из интернета или общего доступа находятся в общественном достоянии, поэтому перед использованием стоит убедиться в этом.\n",
      "ЭТАЛОН\n",
      "Это значит, что произведение или его перевод перешло в общественное достояние. Произведение переходит в общественное достояние через 70 лет после смерти автора, считая с 1 января года, следующего за годом смерти.\n",
      "----------\n",
      "КУСКИ\n",
      "Вопрос: Кому принадлежат авторские права на контент, который я размещаю на платформе?\n",
      "Ответ: По умолчанию считается, что авторские права на размещённый на RUTUBE (рутуб) контент принадлежат тому пользователю, который его разместил. Некоторые права передаются в рамках открытой лицензии третьим лицам, получившим доступ к этому контенту. Подробнее в разделе 4 Генерального пользовательского соглашения https://rutube.ru/info/agreement/ и в Приложении «Е» https://rutube.ru/info/ccl_agreement/. \n",
      "\n",
      "Вопрос: Каковы условия использования произведений под открытой лицензией в рамках вашего сервиса?\n",
      "Ответ: Лицензиаром (автором или иным правообладателем) предоставляется Лицензиату простая (неисключительная) лицензия на использование произведения науки, литературы или искусства, который в свою очередь, заключается в упрощенном порядке (открытая лицензия, статья 1286.1 Гражданского кодекса РФ), и такой формат договора не будет считаться противоречащим статье 1235 Гражданского кодекса РФ/ подробные условия изложены в Приложении «Е», являющегося неотъемлемой частью настоящего Соглашения, и\n",
      "\n",
      "Вопрос: Каковы последствия, если загруженный контент нарушает права третьих лиц или законодательство?\n",
      "Ответ: полагать, что в любой момент времени (как в момент их загрузки, так и в любой момент после загрузки, независимо от времени нахождения Контента на RUTUBE) Информация и Контент нарушают какие-либо права или законные интересы третьих лиц, либо в случае, если их содержание противоречит требованиям Соглашения и/или Обязательных документов и/или действующему законодательству Российской Федерации, Администрация вправе по своему усмотрению, либо затребовать у Пользователя, Автора, Партнера\n",
      "\n",
      "Вопрос: Какие материалы защищены авторским правом?\n",
      "Ответ: Авторским правом охраняются произведения искусства, литературы и науки — то есть любая музыка, видео и изображения. При этом неважно, насколько они популярны или ценны для общества. У них у всех есть автор или правообладатель. \n",
      "\n",
      "Вопрос: Сохранится ли приватная трансляция?\n",
      "Ответ: Да, запись приватной трансляции сохраняется и доступна только по ссылке.\n",
      "\n",
      "Вопрос: Почему вы не разглашаете, чьи авторские права я нарушаю?\n",
      "Ответ: Мы строго следуем правилам платформы, а именно п. 4.18, 4.27, 4.30 Генерального пользовательского соглашения RUTUBE (рутуб).\n",
      "\n",
      "Вопрос: Кто такой правообладатель и как им стать?\n",
      "Ответ: Правообладателем контента может стать как его автор, так и любой другой человек или организация. Если вы хотите зарегистрироваться в качестве правообладателя и у вас есть документы, которые подтверждают ваши права на контент, напишите письмо на partners@rutube.ru. Правообладатель имеет право стать партнером и получать доход посредством монетизации.\n",
      "\n",
      "Вопрос: Каковы последствия за размещение материалов, на которые у меня нет прав в RUTUBE?\n",
      "Ответ: на Канал Пользователя в RUTUBE). В случае если Пользователь не вправе разрешать использование каких-либо пользовательских материалов указанными способами, он обязан воздержаться от размещения таких материалов на RUTUBE.\n",
      "\n",
      "Вопрос: Сохраняется ли приватная трансляция?\n",
      "Ответ: Да, сохраняется. Как и видео с доступом по ссылке, записи таких трансляций не отображаются в списке роликов канала всем пользователям и доступны только по ссылке.\n",
      "\n",
      "Вопрос: Можно ли свободно использовать материалы из интернета или из общего доступа?\n",
      "Ответ: У любых материалов есть автор или правообладатель. Вам нужно его официальное разрешение для использования материалов в своём контенте. Факт того, что материал гуляет по интернету, не означает, что его можно использовать без ограничений.\n",
      "==============================\n",
      "==============================\n",
      "==============================\n",
      "==============================\n",
      "ЗАПРОС\n",
      "Помимо студии на сайте есть какое-то приложение для автора, оно ваше? Там почти также как в веб версии?\n",
      "ОТВЕТ\n",
      "Нет ответа.\n",
      "ЭТАЛОН\n",
      "Да, приложение Студия RUTUBE — это приложение для смартфонов, работающих под управлением Аndroid, HarmonyOS и iOS, которое помогает блогерам общаться со своей аудиторией, анализировать статистику по своему каналу и работать с контентом. \n",
      "----------\n",
      "КУСКИ\n",
      "Вопрос: Можно ли работать с комментариями в приложении Студия RUTUBE (студия рутуб)?\n",
      "Ответ: На данный момент такой возможности нет, но мы ее обязательно добавим в следующих обновлениях. Рекомендуем воспользоваться разделом \"Комментарии\" в веб-версии Студии: https://studio.rutube.ru/comments\n",
      "\n",
      "Вопрос: Доступно ли приложение Студия RUTUBE (студия рутуб) на планшетах?\n",
      "Ответ: Вы можете скачать приложение на планшет, но верстка будет для мобильного приложения. Замечания и пожелания по версии Студии RUTUBE (студии рутуб) для планшетов, пожалуйста, отправляйте на help@rutube.ru\n",
      "\n",
      "Вопрос: Где можно скачать приложение Студия RUTUBE (студия рутуб)?\n",
      "Ответ: Скачать приложение Студия RUTUBE (студия рутуб) можно в: 1. Google Play: https://play.google.com/store/apps/details?id=ru.rutube.studio 2. AppGallery: https://appgallery.huawei.com/#/app/C111062405 3. RuStore: https://www.rustore.ru/catalog/app/ru.rutube.studio\n",
      "\n",
      "Вопрос: Можно ли выдать доступы к студии канала через приложение Студия RUTUBE (студия рутуб)?\n",
      "Ответ: Нет. На данный момент в приложении такой возможности нет. Рекомендуем воспользоваться веб-версией Студии для управления доступами к своему каналу. Перейдите в настройки канала и в разделе \"Доступы к студии канала\" нажмите на \"Добавить пользователя\": ссылка Подробнее про управление доступами: https://rutube.ru/info/studio\n",
      "\n",
      "Вопрос: Что такое мобильное приложение Студия RUTUBE (студия рутуб)?\n",
      "Ответ: Приложение Студия RUTUBE (студия рутуб) — это приложение для смартфонов работающих под управлением iOS (айос) и Аndroid (андроид), HarmonyOS (хармони ос), которое помогает блогерам общаться со своей аудиторией, анализировать статистику по своему каналу и работать с контентом.\n",
      "\n",
      "Вопрос: Можно ли авторизоваться в приложении Студия RUTUBE (студия рутуб) под уже существующим аккаунтом?\n",
      "Ответ: Да, если у вас есть ранее созданный аккаунт в RUTUBE (рутуб).\n",
      "\n",
      "Вопрос: Как авторизоваться в приложении Студия RUTUBE (студия рутуб)?\n",
      "Ответ: Авторизоваться в приложении можно по номеру телефона или электронной почте.\n",
      "\n",
      "Вопрос: Какие возможности взаимодействия со Студией доступны пользователю в роли Редактора с ограниченными правами?\n",
      "Ответ: Пользователь с доступом Редактора с ограниченными правами имеет те же полномочия, что и Редактор, кроме доступа к разделу \"Монетизация\": https://studio.rutube.ru/monetization.\n",
      "\n",
      "Вопрос: Можно ли в приложении Студия RUTUBE (студия рутуб) создавать и вести трансляции?\n",
      "Ответ: Пока в приложении такой возможности нет. Возможность запускать трансляции добавим в следующих обновлениях приложения. Рекомендуем воспользоваться разделом \"Создание трансляции\" в веб-версии Студии: https://studio.rutube.ru/create-stream\n",
      "\n",
      "Вопрос: Какие функции доступны в приложении Студия RUTUBE (студия рутуб)?\n",
      "Ответ: В приложении Студия RUTUBE (студия рутуб) доступны: 1. Страница управления настройками канала 2. Аналитика канала 3. Загрузка видео 4. Статистика по видео 5. Редактирование видео 6. Просмотр всех видео на канале 7. Обзор показателей канала (статистика по каналу, последнее опубликованное видео с аналитикой по нему и последний опубликованный комментарий под видео на вашем канале)\n",
      "==============================\n",
      "==============================\n",
      "==============================\n",
      "==============================\n"
     ]
    },
    {
     "ename": "KeyboardInterrupt",
     "evalue": "Interrupted by user",
     "output_type": "error",
     "traceback": [
      "\u001b[1;31m---------------------------------------------------------------------------\u001b[0m",
      "\u001b[1;31mKeyboardInterrupt\u001b[0m                         Traceback (most recent call last)",
      "Cell \u001b[1;32mIn[50], line 15\u001b[0m\n\u001b[0;32m     13\u001b[0m \u001b[38;5;28mprint\u001b[39m(\u001b[38;5;124m'\u001b[39m\u001b[38;5;124m=\u001b[39m\u001b[38;5;124m'\u001b[39m\u001b[38;5;241m*\u001b[39m\u001b[38;5;241m30\u001b[39m)\n\u001b[0;32m     14\u001b[0m \u001b[38;5;28mprint\u001b[39m(\u001b[38;5;124m'\u001b[39m\u001b[38;5;124m=\u001b[39m\u001b[38;5;124m'\u001b[39m\u001b[38;5;241m*\u001b[39m\u001b[38;5;241m30\u001b[39m)\n\u001b[1;32m---> 15\u001b[0m \u001b[38;5;28;43minput\u001b[39;49m\u001b[43m(\u001b[49m\u001b[43m)\u001b[49m\n",
      "File \u001b[1;32mc:\\Users\\snake\\projects\\rutube_hackathon\\.venv\\Lib\\site-packages\\ipykernel\\kernelbase.py:1282\u001b[0m, in \u001b[0;36mKernel.raw_input\u001b[1;34m(self, prompt)\u001b[0m\n\u001b[0;32m   1280\u001b[0m     msg \u001b[38;5;241m=\u001b[39m \u001b[38;5;124m\"\u001b[39m\u001b[38;5;124mraw_input was called, but this frontend does not support input requests.\u001b[39m\u001b[38;5;124m\"\u001b[39m\n\u001b[0;32m   1281\u001b[0m     \u001b[38;5;28;01mraise\u001b[39;00m StdinNotImplementedError(msg)\n\u001b[1;32m-> 1282\u001b[0m \u001b[38;5;28;01mreturn\u001b[39;00m \u001b[38;5;28;43mself\u001b[39;49m\u001b[38;5;241;43m.\u001b[39;49m\u001b[43m_input_request\u001b[49m\u001b[43m(\u001b[49m\n\u001b[0;32m   1283\u001b[0m \u001b[43m    \u001b[49m\u001b[38;5;28;43mstr\u001b[39;49m\u001b[43m(\u001b[49m\u001b[43mprompt\u001b[49m\u001b[43m)\u001b[49m\u001b[43m,\u001b[49m\n\u001b[0;32m   1284\u001b[0m \u001b[43m    \u001b[49m\u001b[38;5;28;43mself\u001b[39;49m\u001b[38;5;241;43m.\u001b[39;49m\u001b[43m_parent_ident\u001b[49m\u001b[43m[\u001b[49m\u001b[38;5;124;43m\"\u001b[39;49m\u001b[38;5;124;43mshell\u001b[39;49m\u001b[38;5;124;43m\"\u001b[39;49m\u001b[43m]\u001b[49m\u001b[43m,\u001b[49m\n\u001b[0;32m   1285\u001b[0m \u001b[43m    \u001b[49m\u001b[38;5;28;43mself\u001b[39;49m\u001b[38;5;241;43m.\u001b[39;49m\u001b[43mget_parent\u001b[49m\u001b[43m(\u001b[49m\u001b[38;5;124;43m\"\u001b[39;49m\u001b[38;5;124;43mshell\u001b[39;49m\u001b[38;5;124;43m\"\u001b[39;49m\u001b[43m)\u001b[49m\u001b[43m,\u001b[49m\n\u001b[0;32m   1286\u001b[0m \u001b[43m    \u001b[49m\u001b[43mpassword\u001b[49m\u001b[38;5;241;43m=\u001b[39;49m\u001b[38;5;28;43;01mFalse\u001b[39;49;00m\u001b[43m,\u001b[49m\n\u001b[0;32m   1287\u001b[0m \u001b[43m\u001b[49m\u001b[43m)\u001b[49m\n",
      "File \u001b[1;32mc:\\Users\\snake\\projects\\rutube_hackathon\\.venv\\Lib\\site-packages\\ipykernel\\kernelbase.py:1325\u001b[0m, in \u001b[0;36mKernel._input_request\u001b[1;34m(self, prompt, ident, parent, password)\u001b[0m\n\u001b[0;32m   1322\u001b[0m \u001b[38;5;28;01mexcept\u001b[39;00m \u001b[38;5;167;01mKeyboardInterrupt\u001b[39;00m:\n\u001b[0;32m   1323\u001b[0m     \u001b[38;5;66;03m# re-raise KeyboardInterrupt, to truncate traceback\u001b[39;00m\n\u001b[0;32m   1324\u001b[0m     msg \u001b[38;5;241m=\u001b[39m \u001b[38;5;124m\"\u001b[39m\u001b[38;5;124mInterrupted by user\u001b[39m\u001b[38;5;124m\"\u001b[39m\n\u001b[1;32m-> 1325\u001b[0m     \u001b[38;5;28;01mraise\u001b[39;00m \u001b[38;5;167;01mKeyboardInterrupt\u001b[39;00m(msg) \u001b[38;5;28;01mfrom\u001b[39;00m \u001b[38;5;28;01mNone\u001b[39;00m\n\u001b[0;32m   1326\u001b[0m \u001b[38;5;28;01mexcept\u001b[39;00m \u001b[38;5;167;01mException\u001b[39;00m:\n\u001b[0;32m   1327\u001b[0m     \u001b[38;5;28mself\u001b[39m\u001b[38;5;241m.\u001b[39mlog\u001b[38;5;241m.\u001b[39mwarning(\u001b[38;5;124m\"\u001b[39m\u001b[38;5;124mInvalid Message:\u001b[39m\u001b[38;5;124m\"\u001b[39m, exc_info\u001b[38;5;241m=\u001b[39m\u001b[38;5;28;01mTrue\u001b[39;00m)\n",
      "\u001b[1;31mKeyboardInterrupt\u001b[0m: Interrupted by user"
     ]
    }
   ],
   "source": [
    "for _,row in stratified_df.iterrows():\n",
    "    print('ЗАПРОС')\n",
    "    print(row['input'])\n",
    "    print('ОТВЕТ')\n",
    "    print(row['actual_response'])\n",
    "    print('ЭТАЛОН')\n",
    "    print(row['expected_output'])\n",
    "    print('-'*10)\n",
    "    print('КУСКИ')\n",
    "    print(row['actual_context'])\n",
    "    print('='*30)\n",
    "    print('='*30)\n",
    "    print('='*30)\n",
    "    print('='*30)\n",
    "    input()"
   ]
  }
 ],
 "metadata": {
  "kernelspec": {
   "display_name": ".venv",
   "language": "python",
   "name": "python3"
  },
  "language_info": {
   "codemirror_mode": {
    "name": "ipython",
    "version": 3
   },
   "file_extension": ".py",
   "mimetype": "text/x-python",
   "name": "python",
   "nbconvert_exporter": "python",
   "pygments_lexer": "ipython3",
   "version": "3.11.4"
  }
 },
 "nbformat": 4,
 "nbformat_minor": 2
}
